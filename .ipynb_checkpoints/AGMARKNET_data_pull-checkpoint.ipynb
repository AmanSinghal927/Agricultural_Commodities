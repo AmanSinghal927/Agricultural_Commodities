{
 "cells": [
  {
   "cell_type": "markdown",
   "metadata": {
    "colab_type": "text",
    "id": "FNXFMipb2YMb"
   },
   "source": [
    "## Selenium needed for web crawling"
   ]
  },
  {
   "cell_type": "code",
   "execution_count": 1,
   "metadata": {
    "colab": {},
    "colab_type": "code",
    "id": "SsJ0mF_r2Wmo"
   },
   "outputs": [
    {
     "name": "stdout",
     "output_type": "stream",
     "text": [
      "Collecting selenium\n",
      "  Downloading selenium-3.141.0-py2.py3-none-any.whl (904 kB)\n",
      "\u001b[K     |████████████████████████████████| 904 kB 4.2 MB/s eta 0:00:01\n",
      "\u001b[?25hRequirement already satisfied: urllib3 in /home/mathuryash5/toolkits/anaconda3/envs/tf_gpu/lib/python3.7/site-packages (from selenium) (1.25.8)\n",
      "Installing collected packages: selenium\n",
      "Successfully installed selenium-3.141.0\n",
      "Note: you may need to restart the kernel to use updated packages.\n"
     ]
    }
   ],
   "source": [
    "pip install selenium"
   ]
  },
  {
   "cell_type": "markdown",
   "metadata": {
    "colab_type": "text",
    "id": "i0g93n6o2iqC"
   },
   "source": [
    "### Installing drivers for using Selenium"
   ]
  },
  {
   "cell_type": "code",
   "execution_count": 2,
   "metadata": {
    "colab": {
     "base_uri": "https://localhost:8080/",
     "height": 1000
    },
    "colab_type": "code",
    "id": "qxH-14jQDCXT",
    "outputId": "9098f46f-1098-4237-c228-c1e32b00a15f",
    "scrolled": true
   },
   "outputs": [
    {
     "name": "stdout",
     "output_type": "stream",
     "text": [
      "Reading package lists... Done\n",
      "E: Could not open lock file /var/lib/apt/lists/lock - open (13: Permission denied)\n",
      "E: Unable to lock directory /var/lib/apt/lists/\n",
      "W: Problem unlinking the file /var/cache/apt/pkgcache.bin - RemoveCaches (13: Permission denied)\n",
      "W: Problem unlinking the file /var/cache/apt/srcpkgcache.bin - RemoveCaches (13: Permission denied)\n",
      "\u001b[1;31mE: \u001b[0mCould not open lock file /var/lib/dpkg/lock-frontend - open (13: Permission denied)\u001b[0m\n",
      "\u001b[1;31mE: \u001b[0mUnable to acquire the dpkg frontend lock (/var/lib/dpkg/lock-frontend), are you root?\u001b[0m\n"
     ]
    }
   ],
   "source": [
    "!apt-get update \n",
    "!apt install chromium-chromedriver"
   ]
  },
  {
   "cell_type": "markdown",
   "metadata": {
    "colab_type": "text",
    "id": "-CV0NF6T2qD0"
   },
   "source": [
    "## Exception handling classes "
   ]
  },
  {
   "cell_type": "code",
   "execution_count": 3,
   "metadata": {
    "colab": {},
    "colab_type": "code",
    "id": "ZrkxKU3B2aIe"
   },
   "outputs": [],
   "source": [
    "from selenium import webdriver\n",
    "from selenium.common.exceptions import NoSuchElementException\n",
    "from selenium.common.exceptions import StaleElementReferenceException\n",
    "import os\n",
    "# from state_map import state_map\n",
    "from os import path\n",
    "from selenium.common.exceptions import TimeoutException"
   ]
  },
  {
   "cell_type": "markdown",
   "metadata": {
    "colab_type": "text",
    "id": "q1kVUTbJ20Ys"
   },
   "source": [
    "### Mandatory for pulling data on server"
   ]
  },
  {
   "cell_type": "code",
   "execution_count": 4,
   "metadata": {
    "colab": {},
    "colab_type": "code",
    "id": "WPZdkcnL3pCq"
   },
   "outputs": [],
   "source": [
    "chrome_options = webdriver.ChromeOptions()\n",
    "chrome_options.add_argument('--no-sandbox')\n",
    "chrome_options.add_argument('--window-size=1420,1080')\n",
    "chrome_options.add_argument('--headless')\n",
    "chrome_options.add_argument('--disable-gpu')"
   ]
  },
  {
   "cell_type": "markdown",
   "metadata": {
    "colab_type": "text",
    "id": "Gf9G5cZE3BWJ"
   },
   "source": [
    "### Master Function for pulling data from AGMARKNET website and saving it to a location folder/Var(Commodity)/Var(State)/mynewdata_Var(year)_Var(month).csv"
   ]
  },
  {
   "cell_type": "markdown",
   "metadata": {
    "colab_type": "text",
    "id": "Md1RVvTi4foN"
   },
   "source": [
    "#### If a file already exists, it will not be downloaded again to all dynamic stopping"
   ]
  },
  {
   "cell_type": "code",
   "execution_count": null,
   "metadata": {
    "colab": {},
    "colab_type": "code",
    "id": "rHqDHN3D2AHp"
   },
   "outputs": [],
   "source": [
    "chrome_location = '/content/chromedriver'\n",
    "\n",
    "def downloadWholesaleData(commodity,centres,start_year,end_year,months):\n",
    "        rootfolder = 'folders/'+str(commodity)\n",
    "        if not os.path.exists(rootfolder):\n",
    "                print(rootfolder,' does not exist')\n",
    "                os.makedirs(rootfolder)\n",
    "        else:\n",
    "                print(rootfolder,' exists')\n",
    "        for centre in centres:\n",
    "                folderPath = rootfolder+'/'+str(centre)\n",
    "                if not os.path.exists(folderPath):\n",
    "                        print(folderPath,' not exists')\n",
    "                        os.makedirs(folderPath)\n",
    "                else:\n",
    "                        print(folderPath,' exists')\n",
    "                print(centre, commodity)\n",
    "                for year in range(start_year,end_year+1):\n",
    "                        for month in months:\n",
    "                                print(year,month,centre,commodity)\n",
    "                                fileName = \"mynewdata\"+\"_\"+str(year)+\"_\"+str(month)+\".csv\"\n",
    "                                filePath = folderPath + \"/\" + fileName\n",
    "                                print('file to open',filePath)\n",
    "                                print(path.exists(filePath))\n",
    "                                if path.exists(filePath):\n",
    "                                    print(filePath, \" Exist\")\n",
    "                                    continue\n",
    "                                print(\"After\")\n",
    "                                #print(\"TRYING TO DOWNLOAD THIS FILE\",fileName, end =\" \")                                \n",
    "                                driver = webdriver.Chrome(chrome_options=chrome_options)\n",
    "  \n",
    "                                for t in range(3):\n",
    "                                        try:\n",
    "                                                print(\"inside try, t=\", t)\n",
    "                                                try_left = 3\n",
    "                                                driver.set_page_load_timeout(10)\n",
    "                                                while True:\n",
    "                                                        try:\n",
    "                                                            print(\"driver.get\")\n",
    "                                                            driver.get(\"https://agmarknet.gov.in/PriceAndArrivals/DatewiseCommodityReport.aspx\")\n",
    "                                                            break\n",
    "                                                        except TimeoutException:\n",
    "                                                            print(\"Timeout exveption\")\n",
    "                                                            try_left-=1\n",
    "                                                            driver.execute_script(\"window.stop();\")\n",
    "                                                            if try_left<=0:\n",
    "                                                                print(\"Timeout loading url\")\n",
    "                                                                break\n",
    "\n",
    "                                                driver.set_page_load_timeout(600)\n",
    "                                                #driver.get('http://agmarknet.gov.in/PriceAndArrivals/DatewiseCommodityReport.aspx')\n",
    "                                                print('YEAR', end=\" \")\n",
    "                                                driver.find_element_by_xpath(\"//*[@id=\\\"cphBody_cboYear\\\"]/option[contains(text(),\\\"\"+str(year)+\"\\\")]\").click()\n",
    "                                                driver.implicitly_wait(400)\n",
    "                                                print('MONTH', end=\" \")\n",
    "                                                flag = False\n",
    "                                                for k in range(5):\n",
    "                                                        try:\n",
    "                                                            driver.find_element_by_xpath(\"//*[@id=\\\"cphBody_cboMonth\\\"]/option[contains(text(),\\\"\"+str(month)+\"\\\")]\").click()\n",
    "                                                            driver.implicitly_wait(400)\n",
    "                                                            flag = True\n",
    "                                                            break\n",
    "                                                        except (StaleElementReferenceException) as x:\n",
    "                                                            k+=1\n",
    "                                                if(not flag):\n",
    "                                                        continue\n",
    "                                                print('STATE', end=\" \")\n",
    "                                                flag = False\n",
    "                                                for k in range(5):\n",
    "                                                        try:\n",
    "                                                                driver.find_element_by_xpath(\"//*[@id=\\\"cphBody_cboState\\\"]/option[contains(text(),\\\"\"+str(centre)+\"\\\")]\").click()\n",
    "                                                                driver.implicitly_wait(400)\n",
    "                                                                flag = True\n",
    "                                                                break\n",
    "                                                        except (StaleElementReferenceException) as x:\n",
    "                                                                k+=1\n",
    "                                                if(not flag):\n",
    "                                                        continue\n",
    "                                                print('COMMODITY', end=\" \")\n",
    "                                                flag = False\n",
    "                                                for k in range(5):\n",
    "                                                        try:\n",
    "                                                            driver.find_element_by_xpath(\"//*[@id=\\\"cphBody_cboCommodity\\\"]/option[contains(text(),\\\"\"+str(commodity)+\"\\\")]\").click()\n",
    "                                                            driver.implicitly_wait(400)\n",
    "                                                            flag = True\n",
    "                                                            break\n",
    "                                                        except (StaleElementReferenceException) as x:\n",
    "                                                            k+=1\n",
    "                                                if(not flag):\n",
    "                                                        continue\n",
    "                                                print('downloading data', end =' ')\n",
    "                                                driver.find_element_by_xpath(\"//*[@id=\\\"cphBody_btnSubmit\\\"]\").click()\n",
    "                                                table = driver.find_element_by_xpath(\"//*[@id=\\\"cphBody_gridRecords\\\"]\")\n",
    "                                                rows = table.find_elements_by_tag_name(\"tr\")\n",
    "                                                st = ''\n",
    "                                                count=0\n",
    "                                                for row in rows:\n",
    "                                                        cells = row.find_elements_by_xpath(\".//*[local-name(.)='th' or local-name(.)='td']\")\n",
    "                                                        for cell in cells:\n",
    "                                                            st += cell.text+','\n",
    "                                                        st+='\\n'\n",
    "                                                myfile= open(filePath,'a')\n",
    "                                                myfile.write(st)\n",
    "                                                myfile.close()\n",
    "                                                print(\"saved\")\n",
    "                                                print(month+ \"completed\", end=\" \")\n",
    "                                                driver.close()\n",
    "                                                break\n",
    "                                        except(NoSuchElementException,StaleElementReferenceException) as e:\n",
    "                                                print(\"Exception\")\n",
    "                                                continue\n",
    "                                try:\n",
    "                                        driver.close()\n",
    "                                except:\n",
    "                                        print('BROWSER ALREADY CLOSED')"
   ]
  },
  {
   "cell_type": "markdown",
   "metadata": {
    "colab_type": "text",
    "id": "UKMBrFTw32BC"
   },
   "source": [
    "## Function call, all variable instances picked from AGMARKNET website e.g. Gujarat, January, etc."
   ]
  },
  {
   "cell_type": "code",
   "execution_count": null,
   "metadata": {
    "colab": {},
    "colab_type": "code",
    "id": "YKd4AvWm2Uhm"
   },
   "outputs": [],
   "source": [
    "commodity = \"Cotton\"\n",
    "start_year = 1960\n",
    "end_year = 2015\n",
    "# centres = state_map[commodity]\n",
    "centres = ['Madhya Pradesh']\n",
    "months = ['January','February','March','April','May','June','July','August','September','October','November','December']"
   ]
  },
  {
   "cell_type": "code",
   "execution_count": null,
   "metadata": {
    "colab": {
     "base_uri": "https://localhost:8080/",
     "height": 1000
    },
    "colab_type": "code",
    "id": "cWnz6VXyA21W",
    "outputId": "d4d3bea6-79b6-4e3f-b546-936e6e1ded4a"
   },
   "outputs": [
    {
     "name": "stdout",
     "output_type": "stream",
     "text": [
      "folders/Cotton  does not exist\n",
      "folders/Cotton/Gujarat  not exists\n",
      "Gujarat Cotton\n",
      "1960 January Gujarat Cotton\n",
      "file to open folders/Cotton/Gujarat/mynewdata_1960_January.csv\n",
      "False\n",
      "After\n"
     ]
    },
    {
     "name": "stderr",
     "output_type": "stream",
     "text": [
      "/usr/local/lib/python3.6/dist-packages/ipykernel_launcher.py:33: DeprecationWarning: use options instead of chrome_options\n"
     ]
    },
    {
     "name": "stdout",
     "output_type": "stream",
     "text": [
      "inside try, t= 0\n",
      "driver.get\n",
      "YEAR Exception\n",
      "inside try, t= 1\n",
      "driver.get\n",
      "YEAR Exception\n",
      "inside try, t= 2\n",
      "driver.get\n",
      "YEAR Exception\n",
      "1960 February Gujarat Cotton\n",
      "file to open folders/Cotton/Gujarat/mynewdata_1960_February.csv\n",
      "False\n",
      "After\n"
     ]
    },
    {
     "name": "stderr",
     "output_type": "stream",
     "text": [
      "/usr/local/lib/python3.6/dist-packages/ipykernel_launcher.py:33: DeprecationWarning: use options instead of chrome_options\n"
     ]
    },
    {
     "name": "stdout",
     "output_type": "stream",
     "text": [
      "inside try, t= 0\n",
      "driver.get\n",
      "YEAR Exception\n",
      "inside try, t= 1\n",
      "driver.get\n",
      "YEAR Exception\n",
      "inside try, t= 2\n",
      "driver.get\n",
      "YEAR Exception\n",
      "1960 March Gujarat Cotton\n",
      "file to open folders/Cotton/Gujarat/mynewdata_1960_March.csv\n",
      "False\n",
      "After\n"
     ]
    },
    {
     "name": "stderr",
     "output_type": "stream",
     "text": [
      "/usr/local/lib/python3.6/dist-packages/ipykernel_launcher.py:33: DeprecationWarning: use options instead of chrome_options\n"
     ]
    },
    {
     "name": "stdout",
     "output_type": "stream",
     "text": [
      "inside try, t= 0\n",
      "driver.get\n",
      "YEAR Exception\n",
      "inside try, t= 1\n",
      "driver.get\n",
      "YEAR Exception\n",
      "inside try, t= 2\n",
      "driver.get\n",
      "YEAR Exception\n",
      "1960 April Gujarat Cotton\n",
      "file to open folders/Cotton/Gujarat/mynewdata_1960_April.csv\n",
      "False\n",
      "After\n"
     ]
    },
    {
     "name": "stderr",
     "output_type": "stream",
     "text": [
      "/usr/local/lib/python3.6/dist-packages/ipykernel_launcher.py:33: DeprecationWarning: use options instead of chrome_options\n"
     ]
    },
    {
     "name": "stdout",
     "output_type": "stream",
     "text": [
      "inside try, t= 0\n",
      "driver.get\n",
      "YEAR Exception\n",
      "inside try, t= 1\n",
      "driver.get\n",
      "YEAR Exception\n",
      "inside try, t= 2\n",
      "driver.get\n",
      "YEAR Exception\n",
      "1960 May Gujarat Cotton\n",
      "file to open folders/Cotton/Gujarat/mynewdata_1960_May.csv\n",
      "False\n",
      "After\n"
     ]
    },
    {
     "name": "stderr",
     "output_type": "stream",
     "text": [
      "/usr/local/lib/python3.6/dist-packages/ipykernel_launcher.py:33: DeprecationWarning: use options instead of chrome_options\n"
     ]
    },
    {
     "name": "stdout",
     "output_type": "stream",
     "text": [
      "inside try, t= 0\n",
      "driver.get\n",
      "YEAR Exception\n",
      "inside try, t= 1\n",
      "driver.get\n",
      "YEAR Exception\n",
      "inside try, t= 2\n",
      "driver.get\n",
      "YEAR Exception\n",
      "1960 June Gujarat Cotton\n",
      "file to open folders/Cotton/Gujarat/mynewdata_1960_June.csv\n",
      "False\n",
      "After\n"
     ]
    },
    {
     "name": "stderr",
     "output_type": "stream",
     "text": [
      "/usr/local/lib/python3.6/dist-packages/ipykernel_launcher.py:33: DeprecationWarning: use options instead of chrome_options\n"
     ]
    },
    {
     "name": "stdout",
     "output_type": "stream",
     "text": [
      "inside try, t= 0\n",
      "driver.get\n",
      "YEAR Exception\n",
      "inside try, t= 1\n",
      "driver.get\n",
      "YEAR Exception\n",
      "inside try, t= 2\n",
      "driver.get\n",
      "YEAR Exception\n",
      "1960 July Gujarat Cotton\n",
      "file to open folders/Cotton/Gujarat/mynewdata_1960_July.csv\n",
      "False\n",
      "After\n"
     ]
    },
    {
     "name": "stderr",
     "output_type": "stream",
     "text": [
      "/usr/local/lib/python3.6/dist-packages/ipykernel_launcher.py:33: DeprecationWarning: use options instead of chrome_options\n"
     ]
    },
    {
     "name": "stdout",
     "output_type": "stream",
     "text": [
      "inside try, t= 0\n",
      "driver.get\n",
      "YEAR Exception\n",
      "inside try, t= 1\n",
      "driver.get\n",
      "YEAR Exception\n",
      "inside try, t= 2\n",
      "driver.get\n",
      "YEAR Exception\n",
      "1960 August Gujarat Cotton\n",
      "file to open folders/Cotton/Gujarat/mynewdata_1960_August.csv\n",
      "False\n",
      "After\n"
     ]
    },
    {
     "name": "stderr",
     "output_type": "stream",
     "text": [
      "/usr/local/lib/python3.6/dist-packages/ipykernel_launcher.py:33: DeprecationWarning: use options instead of chrome_options\n"
     ]
    },
    {
     "name": "stdout",
     "output_type": "stream",
     "text": [
      "inside try, t= 0\n",
      "driver.get\n",
      "YEAR Exception\n",
      "inside try, t= 1\n",
      "driver.get\n",
      "YEAR Exception\n",
      "inside try, t= 2\n",
      "driver.get\n",
      "YEAR Exception\n",
      "1960 September Gujarat Cotton\n",
      "file to open folders/Cotton/Gujarat/mynewdata_1960_September.csv\n",
      "False\n",
      "After\n"
     ]
    },
    {
     "name": "stderr",
     "output_type": "stream",
     "text": [
      "/usr/local/lib/python3.6/dist-packages/ipykernel_launcher.py:33: DeprecationWarning: use options instead of chrome_options\n"
     ]
    },
    {
     "name": "stdout",
     "output_type": "stream",
     "text": [
      "inside try, t= 0\n",
      "driver.get\n",
      "YEAR Exception\n",
      "inside try, t= 1\n",
      "driver.get\n",
      "YEAR Exception\n",
      "inside try, t= 2\n",
      "driver.get\n",
      "YEAR Exception\n",
      "1960 October Gujarat Cotton\n",
      "file to open folders/Cotton/Gujarat/mynewdata_1960_October.csv\n",
      "False\n",
      "After\n"
     ]
    },
    {
     "name": "stderr",
     "output_type": "stream",
     "text": [
      "/usr/local/lib/python3.6/dist-packages/ipykernel_launcher.py:33: DeprecationWarning: use options instead of chrome_options\n"
     ]
    },
    {
     "name": "stdout",
     "output_type": "stream",
     "text": [
      "inside try, t= 0\n",
      "driver.get\n",
      "YEAR Exception\n",
      "inside try, t= 1\n",
      "driver.get\n",
      "YEAR Exception\n",
      "inside try, t= 2\n",
      "driver.get\n",
      "YEAR Exception\n",
      "1960 November Gujarat Cotton\n",
      "file to open folders/Cotton/Gujarat/mynewdata_1960_November.csv\n",
      "False\n",
      "After\n"
     ]
    },
    {
     "name": "stderr",
     "output_type": "stream",
     "text": [
      "/usr/local/lib/python3.6/dist-packages/ipykernel_launcher.py:33: DeprecationWarning: use options instead of chrome_options\n"
     ]
    },
    {
     "name": "stdout",
     "output_type": "stream",
     "text": [
      "inside try, t= 0\n",
      "driver.get\n",
      "YEAR Exception\n",
      "inside try, t= 1\n",
      "driver.get\n",
      "YEAR Exception\n",
      "inside try, t= 2\n",
      "driver.get\n",
      "YEAR Exception\n",
      "1960 December Gujarat Cotton\n",
      "file to open folders/Cotton/Gujarat/mynewdata_1960_December.csv\n",
      "False\n",
      "After\n"
     ]
    },
    {
     "name": "stderr",
     "output_type": "stream",
     "text": [
      "/usr/local/lib/python3.6/dist-packages/ipykernel_launcher.py:33: DeprecationWarning: use options instead of chrome_options\n"
     ]
    },
    {
     "name": "stdout",
     "output_type": "stream",
     "text": [
      "inside try, t= 0\n",
      "driver.get\n",
      "YEAR Exception\n",
      "inside try, t= 1\n",
      "driver.get\n",
      "YEAR Exception\n",
      "inside try, t= 2\n",
      "driver.get\n",
      "YEAR Exception\n",
      "1961 January Gujarat Cotton\n",
      "file to open folders/Cotton/Gujarat/mynewdata_1961_January.csv\n",
      "False\n",
      "After\n"
     ]
    },
    {
     "name": "stderr",
     "output_type": "stream",
     "text": [
      "/usr/local/lib/python3.6/dist-packages/ipykernel_launcher.py:33: DeprecationWarning: use options instead of chrome_options\n"
     ]
    },
    {
     "name": "stdout",
     "output_type": "stream",
     "text": [
      "inside try, t= 0\n",
      "driver.get\n",
      "YEAR Exception\n",
      "inside try, t= 1\n",
      "driver.get\n",
      "YEAR Exception\n",
      "inside try, t= 2\n",
      "driver.get\n",
      "YEAR Exception\n",
      "1961 February Gujarat Cotton\n",
      "file to open folders/Cotton/Gujarat/mynewdata_1961_February.csv\n",
      "False\n",
      "After\n"
     ]
    },
    {
     "name": "stderr",
     "output_type": "stream",
     "text": [
      "/usr/local/lib/python3.6/dist-packages/ipykernel_launcher.py:33: DeprecationWarning: use options instead of chrome_options\n"
     ]
    },
    {
     "name": "stdout",
     "output_type": "stream",
     "text": [
      "inside try, t= 0\n",
      "driver.get\n",
      "YEAR Exception\n",
      "inside try, t= 1\n",
      "driver.get\n",
      "YEAR Exception\n",
      "inside try, t= 2\n",
      "driver.get\n",
      "YEAR Exception\n",
      "1961 March Gujarat Cotton\n",
      "file to open folders/Cotton/Gujarat/mynewdata_1961_March.csv\n",
      "False\n",
      "After\n"
     ]
    },
    {
     "name": "stderr",
     "output_type": "stream",
     "text": [
      "/usr/local/lib/python3.6/dist-packages/ipykernel_launcher.py:33: DeprecationWarning: use options instead of chrome_options\n"
     ]
    },
    {
     "name": "stdout",
     "output_type": "stream",
     "text": [
      "inside try, t= 0\n",
      "driver.get\n",
      "YEAR Exception\n",
      "inside try, t= 1\n",
      "driver.get\n",
      "YEAR Exception\n",
      "inside try, t= 2\n",
      "driver.get\n",
      "YEAR Exception\n",
      "1961 April Gujarat Cotton\n",
      "file to open folders/Cotton/Gujarat/mynewdata_1961_April.csv\n",
      "False\n",
      "After\n"
     ]
    },
    {
     "name": "stderr",
     "output_type": "stream",
     "text": [
      "/usr/local/lib/python3.6/dist-packages/ipykernel_launcher.py:33: DeprecationWarning: use options instead of chrome_options\n"
     ]
    },
    {
     "name": "stdout",
     "output_type": "stream",
     "text": [
      "inside try, t= 0\n",
      "driver.get\n",
      "YEAR Exception\n",
      "inside try, t= 1\n",
      "driver.get\n",
      "YEAR Exception\n",
      "inside try, t= 2\n",
      "driver.get\n",
      "YEAR Exception\n",
      "1961 May Gujarat Cotton\n",
      "file to open folders/Cotton/Gujarat/mynewdata_1961_May.csv\n",
      "False\n",
      "After\n"
     ]
    },
    {
     "name": "stderr",
     "output_type": "stream",
     "text": [
      "/usr/local/lib/python3.6/dist-packages/ipykernel_launcher.py:33: DeprecationWarning: use options instead of chrome_options\n"
     ]
    },
    {
     "name": "stdout",
     "output_type": "stream",
     "text": [
      "inside try, t= 0\n",
      "driver.get\n",
      "YEAR Exception\n",
      "inside try, t= 1\n",
      "driver.get\n",
      "YEAR Exception\n",
      "inside try, t= 2\n",
      "driver.get\n",
      "YEAR Exception\n",
      "1961 June Gujarat Cotton\n",
      "file to open folders/Cotton/Gujarat/mynewdata_1961_June.csv\n",
      "False\n",
      "After\n"
     ]
    },
    {
     "name": "stderr",
     "output_type": "stream",
     "text": [
      "/usr/local/lib/python3.6/dist-packages/ipykernel_launcher.py:33: DeprecationWarning: use options instead of chrome_options\n"
     ]
    },
    {
     "name": "stdout",
     "output_type": "stream",
     "text": [
      "inside try, t= 0\n",
      "driver.get\n",
      "YEAR Exception\n",
      "inside try, t= 1\n",
      "driver.get\n",
      "YEAR Exception\n",
      "inside try, t= 2\n",
      "driver.get\n",
      "YEAR Exception\n",
      "1961 July Gujarat Cotton\n",
      "file to open folders/Cotton/Gujarat/mynewdata_1961_July.csv\n",
      "False\n",
      "After\n"
     ]
    },
    {
     "name": "stderr",
     "output_type": "stream",
     "text": [
      "/usr/local/lib/python3.6/dist-packages/ipykernel_launcher.py:33: DeprecationWarning: use options instead of chrome_options\n"
     ]
    },
    {
     "name": "stdout",
     "output_type": "stream",
     "text": [
      "inside try, t= 0\n",
      "driver.get\n",
      "YEAR Exception\n",
      "inside try, t= 1\n",
      "driver.get\n",
      "YEAR Exception\n",
      "inside try, t= 2\n",
      "driver.get\n",
      "YEAR Exception\n",
      "1961 August Gujarat Cotton\n",
      "file to open folders/Cotton/Gujarat/mynewdata_1961_August.csv\n",
      "False\n",
      "After\n"
     ]
    },
    {
     "name": "stderr",
     "output_type": "stream",
     "text": [
      "/usr/local/lib/python3.6/dist-packages/ipykernel_launcher.py:33: DeprecationWarning: use options instead of chrome_options\n"
     ]
    },
    {
     "name": "stdout",
     "output_type": "stream",
     "text": [
      "inside try, t= 0\n",
      "driver.get\n",
      "YEAR Exception\n",
      "inside try, t= 1\n",
      "driver.get\n",
      "YEAR Exception\n",
      "inside try, t= 2\n",
      "driver.get\n",
      "YEAR Exception\n",
      "1961 September Gujarat Cotton\n",
      "file to open folders/Cotton/Gujarat/mynewdata_1961_September.csv\n",
      "False\n",
      "After\n"
     ]
    },
    {
     "name": "stderr",
     "output_type": "stream",
     "text": [
      "/usr/local/lib/python3.6/dist-packages/ipykernel_launcher.py:33: DeprecationWarning: use options instead of chrome_options\n"
     ]
    },
    {
     "name": "stdout",
     "output_type": "stream",
     "text": [
      "inside try, t= 0\n",
      "driver.get\n",
      "YEAR Exception\n",
      "inside try, t= 1\n",
      "driver.get\n",
      "YEAR Exception\n",
      "inside try, t= 2\n",
      "driver.get\n",
      "YEAR Exception\n",
      "1961 October Gujarat Cotton\n",
      "file to open folders/Cotton/Gujarat/mynewdata_1961_October.csv\n",
      "False\n",
      "After\n"
     ]
    },
    {
     "name": "stderr",
     "output_type": "stream",
     "text": [
      "/usr/local/lib/python3.6/dist-packages/ipykernel_launcher.py:33: DeprecationWarning: use options instead of chrome_options\n"
     ]
    },
    {
     "name": "stdout",
     "output_type": "stream",
     "text": [
      "inside try, t= 0\n",
      "driver.get\n",
      "YEAR Exception\n",
      "inside try, t= 1\n",
      "driver.get\n",
      "YEAR Exception\n",
      "inside try, t= 2\n",
      "driver.get\n",
      "YEAR Exception\n",
      "1961 November Gujarat Cotton\n",
      "file to open folders/Cotton/Gujarat/mynewdata_1961_November.csv\n",
      "False\n",
      "After\n"
     ]
    },
    {
     "name": "stderr",
     "output_type": "stream",
     "text": [
      "/usr/local/lib/python3.6/dist-packages/ipykernel_launcher.py:33: DeprecationWarning: use options instead of chrome_options\n"
     ]
    },
    {
     "name": "stdout",
     "output_type": "stream",
     "text": [
      "inside try, t= 0\n",
      "driver.get\n",
      "YEAR Exception\n",
      "inside try, t= 1\n",
      "driver.get\n",
      "YEAR Exception\n",
      "inside try, t= 2\n",
      "driver.get\n",
      "YEAR Exception\n",
      "1961 December Gujarat Cotton\n",
      "file to open folders/Cotton/Gujarat/mynewdata_1961_December.csv\n",
      "False\n",
      "After\n"
     ]
    },
    {
     "name": "stderr",
     "output_type": "stream",
     "text": [
      "/usr/local/lib/python3.6/dist-packages/ipykernel_launcher.py:33: DeprecationWarning: use options instead of chrome_options\n"
     ]
    },
    {
     "name": "stdout",
     "output_type": "stream",
     "text": [
      "inside try, t= 0\n",
      "driver.get\n",
      "YEAR Exception\n",
      "inside try, t= 1\n",
      "driver.get\n",
      "YEAR Exception\n",
      "inside try, t= 2\n",
      "driver.get\n",
      "YEAR Exception\n",
      "1962 January Gujarat Cotton\n",
      "file to open folders/Cotton/Gujarat/mynewdata_1962_January.csv\n",
      "False\n",
      "After\n"
     ]
    },
    {
     "name": "stderr",
     "output_type": "stream",
     "text": [
      "/usr/local/lib/python3.6/dist-packages/ipykernel_launcher.py:33: DeprecationWarning: use options instead of chrome_options\n"
     ]
    },
    {
     "name": "stdout",
     "output_type": "stream",
     "text": [
      "inside try, t= 0\n",
      "driver.get\n",
      "YEAR Exception\n",
      "inside try, t= 1\n",
      "driver.get\n",
      "YEAR Exception\n",
      "inside try, t= 2\n",
      "driver.get\n",
      "YEAR Exception\n",
      "1962 February Gujarat Cotton\n",
      "file to open folders/Cotton/Gujarat/mynewdata_1962_February.csv\n",
      "False\n",
      "After\n"
     ]
    },
    {
     "name": "stderr",
     "output_type": "stream",
     "text": [
      "/usr/local/lib/python3.6/dist-packages/ipykernel_launcher.py:33: DeprecationWarning: use options instead of chrome_options\n"
     ]
    },
    {
     "name": "stdout",
     "output_type": "stream",
     "text": [
      "inside try, t= 0\n",
      "driver.get\n",
      "YEAR Exception\n",
      "inside try, t= 1\n",
      "driver.get\n",
      "YEAR Exception\n",
      "inside try, t= 2\n",
      "driver.get\n",
      "YEAR Exception\n",
      "1962 March Gujarat Cotton\n",
      "file to open folders/Cotton/Gujarat/mynewdata_1962_March.csv\n",
      "False\n",
      "After\n"
     ]
    },
    {
     "name": "stderr",
     "output_type": "stream",
     "text": [
      "/usr/local/lib/python3.6/dist-packages/ipykernel_launcher.py:33: DeprecationWarning: use options instead of chrome_options\n"
     ]
    },
    {
     "name": "stdout",
     "output_type": "stream",
     "text": [
      "inside try, t= 0\n",
      "driver.get\n",
      "YEAR Exception\n",
      "inside try, t= 1\n",
      "driver.get\n",
      "YEAR Exception\n",
      "inside try, t= 2\n",
      "driver.get\n",
      "YEAR Exception\n",
      "1962 April Gujarat Cotton\n",
      "file to open folders/Cotton/Gujarat/mynewdata_1962_April.csv\n",
      "False\n",
      "After\n"
     ]
    },
    {
     "name": "stderr",
     "output_type": "stream",
     "text": [
      "/usr/local/lib/python3.6/dist-packages/ipykernel_launcher.py:33: DeprecationWarning: use options instead of chrome_options\n"
     ]
    },
    {
     "name": "stdout",
     "output_type": "stream",
     "text": [
      "inside try, t= 0\n",
      "driver.get\n",
      "YEAR Exception\n",
      "inside try, t= 1\n",
      "driver.get\n",
      "YEAR Exception\n",
      "inside try, t= 2\n",
      "driver.get\n",
      "YEAR Exception\n",
      "1962 May Gujarat Cotton\n",
      "file to open folders/Cotton/Gujarat/mynewdata_1962_May.csv\n",
      "False\n",
      "After\n"
     ]
    },
    {
     "name": "stderr",
     "output_type": "stream",
     "text": [
      "/usr/local/lib/python3.6/dist-packages/ipykernel_launcher.py:33: DeprecationWarning: use options instead of chrome_options\n"
     ]
    },
    {
     "name": "stdout",
     "output_type": "stream",
     "text": [
      "inside try, t= 0\n",
      "driver.get\n",
      "YEAR Exception\n",
      "inside try, t= 1\n",
      "driver.get\n",
      "YEAR Exception\n",
      "inside try, t= 2\n",
      "driver.get\n",
      "YEAR Exception\n",
      "1962 June Gujarat Cotton\n",
      "file to open folders/Cotton/Gujarat/mynewdata_1962_June.csv\n",
      "False\n",
      "After\n"
     ]
    },
    {
     "name": "stderr",
     "output_type": "stream",
     "text": [
      "/usr/local/lib/python3.6/dist-packages/ipykernel_launcher.py:33: DeprecationWarning: use options instead of chrome_options\n"
     ]
    },
    {
     "name": "stdout",
     "output_type": "stream",
     "text": [
      "inside try, t= 0\n",
      "driver.get\n",
      "YEAR Exception\n",
      "inside try, t= 1\n",
      "driver.get\n",
      "YEAR Exception\n",
      "inside try, t= 2\n",
      "driver.get\n",
      "YEAR Exception\n",
      "1962 July Gujarat Cotton\n",
      "file to open folders/Cotton/Gujarat/mynewdata_1962_July.csv\n",
      "False\n",
      "After\n"
     ]
    },
    {
     "name": "stderr",
     "output_type": "stream",
     "text": [
      "/usr/local/lib/python3.6/dist-packages/ipykernel_launcher.py:33: DeprecationWarning: use options instead of chrome_options\n"
     ]
    },
    {
     "name": "stdout",
     "output_type": "stream",
     "text": [
      "inside try, t= 0\n",
      "driver.get\n",
      "YEAR Exception\n",
      "inside try, t= 1\n",
      "driver.get\n",
      "YEAR Exception\n",
      "inside try, t= 2\n",
      "driver.get\n",
      "YEAR Exception\n",
      "1962 August Gujarat Cotton\n",
      "file to open folders/Cotton/Gujarat/mynewdata_1962_August.csv\n",
      "False\n",
      "After\n"
     ]
    },
    {
     "name": "stderr",
     "output_type": "stream",
     "text": [
      "/usr/local/lib/python3.6/dist-packages/ipykernel_launcher.py:33: DeprecationWarning: use options instead of chrome_options\n"
     ]
    },
    {
     "name": "stdout",
     "output_type": "stream",
     "text": [
      "inside try, t= 0\n",
      "driver.get\n",
      "YEAR Exception\n",
      "inside try, t= 1\n",
      "driver.get\n",
      "YEAR Exception\n",
      "inside try, t= 2\n",
      "driver.get\n",
      "YEAR Exception\n",
      "1962 September Gujarat Cotton\n",
      "file to open folders/Cotton/Gujarat/mynewdata_1962_September.csv\n",
      "False\n",
      "After\n"
     ]
    },
    {
     "name": "stderr",
     "output_type": "stream",
     "text": [
      "/usr/local/lib/python3.6/dist-packages/ipykernel_launcher.py:33: DeprecationWarning: use options instead of chrome_options\n"
     ]
    },
    {
     "name": "stdout",
     "output_type": "stream",
     "text": [
      "inside try, t= 0\n",
      "driver.get\n",
      "YEAR Exception\n",
      "inside try, t= 1\n",
      "driver.get\n",
      "YEAR Exception\n",
      "inside try, t= 2\n",
      "driver.get\n",
      "YEAR Exception\n",
      "1962 October Gujarat Cotton\n",
      "file to open folders/Cotton/Gujarat/mynewdata_1962_October.csv\n",
      "False\n",
      "After\n"
     ]
    },
    {
     "name": "stderr",
     "output_type": "stream",
     "text": [
      "/usr/local/lib/python3.6/dist-packages/ipykernel_launcher.py:33: DeprecationWarning: use options instead of chrome_options\n"
     ]
    },
    {
     "name": "stdout",
     "output_type": "stream",
     "text": [
      "inside try, t= 0\n",
      "driver.get\n",
      "YEAR Exception\n",
      "inside try, t= 1\n",
      "driver.get\n",
      "YEAR Exception\n",
      "inside try, t= 2\n",
      "driver.get\n",
      "YEAR Exception\n",
      "1962 November Gujarat Cotton\n",
      "file to open folders/Cotton/Gujarat/mynewdata_1962_November.csv\n",
      "False\n",
      "After\n"
     ]
    },
    {
     "name": "stderr",
     "output_type": "stream",
     "text": [
      "/usr/local/lib/python3.6/dist-packages/ipykernel_launcher.py:33: DeprecationWarning: use options instead of chrome_options\n"
     ]
    },
    {
     "name": "stdout",
     "output_type": "stream",
     "text": [
      "inside try, t= 0\n",
      "driver.get\n",
      "YEAR Exception\n",
      "inside try, t= 1\n",
      "driver.get\n",
      "YEAR Exception\n",
      "inside try, t= 2\n",
      "driver.get\n",
      "YEAR Exception\n",
      "1962 December Gujarat Cotton\n",
      "file to open folders/Cotton/Gujarat/mynewdata_1962_December.csv\n",
      "False\n",
      "After\n"
     ]
    },
    {
     "name": "stderr",
     "output_type": "stream",
     "text": [
      "/usr/local/lib/python3.6/dist-packages/ipykernel_launcher.py:33: DeprecationWarning: use options instead of chrome_options\n"
     ]
    },
    {
     "name": "stdout",
     "output_type": "stream",
     "text": [
      "inside try, t= 0\n",
      "driver.get\n",
      "YEAR Exception\n",
      "inside try, t= 1\n",
      "driver.get\n",
      "YEAR Exception\n",
      "inside try, t= 2\n",
      "driver.get\n",
      "YEAR Exception\n",
      "1963 January Gujarat Cotton\n",
      "file to open folders/Cotton/Gujarat/mynewdata_1963_January.csv\n",
      "False\n",
      "After\n"
     ]
    },
    {
     "name": "stderr",
     "output_type": "stream",
     "text": [
      "/usr/local/lib/python3.6/dist-packages/ipykernel_launcher.py:33: DeprecationWarning: use options instead of chrome_options\n"
     ]
    },
    {
     "name": "stdout",
     "output_type": "stream",
     "text": [
      "inside try, t= 0\n",
      "driver.get\n",
      "YEAR Exception\n",
      "inside try, t= 1\n",
      "driver.get\n",
      "YEAR Exception\n",
      "inside try, t= 2\n",
      "driver.get\n",
      "YEAR Exception\n",
      "1963 February Gujarat Cotton\n",
      "file to open folders/Cotton/Gujarat/mynewdata_1963_February.csv\n",
      "False\n",
      "After\n"
     ]
    },
    {
     "name": "stderr",
     "output_type": "stream",
     "text": [
      "/usr/local/lib/python3.6/dist-packages/ipykernel_launcher.py:33: DeprecationWarning: use options instead of chrome_options\n"
     ]
    },
    {
     "name": "stdout",
     "output_type": "stream",
     "text": [
      "inside try, t= 0\n",
      "driver.get\n",
      "YEAR Exception\n",
      "inside try, t= 1\n",
      "driver.get\n",
      "YEAR Exception\n",
      "inside try, t= 2\n",
      "driver.get\n",
      "YEAR Exception\n",
      "1963 March Gujarat Cotton\n",
      "file to open folders/Cotton/Gujarat/mynewdata_1963_March.csv\n",
      "False\n",
      "After\n"
     ]
    },
    {
     "name": "stderr",
     "output_type": "stream",
     "text": [
      "/usr/local/lib/python3.6/dist-packages/ipykernel_launcher.py:33: DeprecationWarning: use options instead of chrome_options\n"
     ]
    },
    {
     "name": "stdout",
     "output_type": "stream",
     "text": [
      "inside try, t= 0\n",
      "driver.get\n",
      "YEAR Exception\n",
      "inside try, t= 1\n",
      "driver.get\n",
      "YEAR Exception\n",
      "inside try, t= 2\n",
      "driver.get\n",
      "YEAR Exception\n",
      "1963 April Gujarat Cotton\n",
      "file to open folders/Cotton/Gujarat/mynewdata_1963_April.csv\n",
      "False\n",
      "After\n"
     ]
    },
    {
     "name": "stderr",
     "output_type": "stream",
     "text": [
      "/usr/local/lib/python3.6/dist-packages/ipykernel_launcher.py:33: DeprecationWarning: use options instead of chrome_options\n"
     ]
    },
    {
     "name": "stdout",
     "output_type": "stream",
     "text": [
      "inside try, t= 0\n",
      "driver.get\n",
      "YEAR Exception\n",
      "inside try, t= 1\n",
      "driver.get\n",
      "YEAR Exception\n",
      "inside try, t= 2\n",
      "driver.get\n",
      "YEAR Exception\n",
      "1963 May Gujarat Cotton\n",
      "file to open folders/Cotton/Gujarat/mynewdata_1963_May.csv\n",
      "False\n",
      "After\n"
     ]
    },
    {
     "name": "stderr",
     "output_type": "stream",
     "text": [
      "/usr/local/lib/python3.6/dist-packages/ipykernel_launcher.py:33: DeprecationWarning: use options instead of chrome_options\n"
     ]
    },
    {
     "name": "stdout",
     "output_type": "stream",
     "text": [
      "inside try, t= 0\n",
      "driver.get\n",
      "YEAR Exception\n",
      "inside try, t= 1\n",
      "driver.get\n",
      "YEAR Exception\n",
      "inside try, t= 2\n",
      "driver.get\n",
      "YEAR Exception\n",
      "1963 June Gujarat Cotton\n",
      "file to open folders/Cotton/Gujarat/mynewdata_1963_June.csv\n",
      "False\n",
      "After\n"
     ]
    },
    {
     "name": "stderr",
     "output_type": "stream",
     "text": [
      "/usr/local/lib/python3.6/dist-packages/ipykernel_launcher.py:33: DeprecationWarning: use options instead of chrome_options\n"
     ]
    },
    {
     "name": "stdout",
     "output_type": "stream",
     "text": [
      "inside try, t= 0\n",
      "driver.get\n",
      "YEAR Exception\n",
      "inside try, t= 1\n",
      "driver.get\n",
      "YEAR Exception\n",
      "inside try, t= 2\n",
      "driver.get\n",
      "YEAR Exception\n",
      "1963 July Gujarat Cotton\n",
      "file to open folders/Cotton/Gujarat/mynewdata_1963_July.csv\n",
      "False\n",
      "After\n"
     ]
    },
    {
     "name": "stderr",
     "output_type": "stream",
     "text": [
      "/usr/local/lib/python3.6/dist-packages/ipykernel_launcher.py:33: DeprecationWarning: use options instead of chrome_options\n"
     ]
    },
    {
     "name": "stdout",
     "output_type": "stream",
     "text": [
      "inside try, t= 0\n",
      "driver.get\n",
      "YEAR Exception\n",
      "inside try, t= 1\n",
      "driver.get\n",
      "YEAR Exception\n",
      "inside try, t= 2\n",
      "driver.get\n",
      "YEAR Exception\n",
      "1963 August Gujarat Cotton\n",
      "file to open folders/Cotton/Gujarat/mynewdata_1963_August.csv\n",
      "False\n",
      "After\n"
     ]
    },
    {
     "name": "stderr",
     "output_type": "stream",
     "text": [
      "/usr/local/lib/python3.6/dist-packages/ipykernel_launcher.py:33: DeprecationWarning: use options instead of chrome_options\n"
     ]
    },
    {
     "name": "stdout",
     "output_type": "stream",
     "text": [
      "inside try, t= 0\n",
      "driver.get\n",
      "YEAR Exception\n",
      "inside try, t= 1\n",
      "driver.get\n",
      "YEAR Exception\n",
      "inside try, t= 2\n",
      "driver.get\n",
      "YEAR Exception\n",
      "1963 September Gujarat Cotton\n",
      "file to open folders/Cotton/Gujarat/mynewdata_1963_September.csv\n",
      "False\n",
      "After\n"
     ]
    },
    {
     "name": "stderr",
     "output_type": "stream",
     "text": [
      "/usr/local/lib/python3.6/dist-packages/ipykernel_launcher.py:33: DeprecationWarning: use options instead of chrome_options\n"
     ]
    },
    {
     "name": "stdout",
     "output_type": "stream",
     "text": [
      "inside try, t= 0\n",
      "driver.get\n",
      "YEAR Exception\n",
      "inside try, t= 1\n",
      "driver.get\n",
      "YEAR Exception\n",
      "inside try, t= 2\n",
      "driver.get\n",
      "YEAR Exception\n",
      "1963 October Gujarat Cotton\n",
      "file to open folders/Cotton/Gujarat/mynewdata_1963_October.csv\n",
      "False\n",
      "After\n"
     ]
    },
    {
     "name": "stderr",
     "output_type": "stream",
     "text": [
      "/usr/local/lib/python3.6/dist-packages/ipykernel_launcher.py:33: DeprecationWarning: use options instead of chrome_options\n"
     ]
    },
    {
     "name": "stdout",
     "output_type": "stream",
     "text": [
      "inside try, t= 0\n",
      "driver.get\n",
      "YEAR Exception\n",
      "inside try, t= 1\n",
      "driver.get\n",
      "YEAR Exception\n",
      "inside try, t= 2\n",
      "driver.get\n",
      "YEAR Exception\n",
      "1963 November Gujarat Cotton\n",
      "file to open folders/Cotton/Gujarat/mynewdata_1963_November.csv\n",
      "False\n",
      "After\n"
     ]
    },
    {
     "name": "stderr",
     "output_type": "stream",
     "text": [
      "/usr/local/lib/python3.6/dist-packages/ipykernel_launcher.py:33: DeprecationWarning: use options instead of chrome_options\n"
     ]
    },
    {
     "name": "stdout",
     "output_type": "stream",
     "text": [
      "inside try, t= 0\n",
      "driver.get\n",
      "YEAR Exception\n",
      "inside try, t= 1\n",
      "driver.get\n",
      "YEAR Exception\n",
      "inside try, t= 2\n",
      "driver.get\n",
      "YEAR Exception\n",
      "1963 December Gujarat Cotton\n",
      "file to open folders/Cotton/Gujarat/mynewdata_1963_December.csv\n",
      "False\n",
      "After\n"
     ]
    },
    {
     "name": "stderr",
     "output_type": "stream",
     "text": [
      "/usr/local/lib/python3.6/dist-packages/ipykernel_launcher.py:33: DeprecationWarning: use options instead of chrome_options\n"
     ]
    },
    {
     "name": "stdout",
     "output_type": "stream",
     "text": [
      "inside try, t= 0\n",
      "driver.get\n",
      "YEAR Exception\n",
      "inside try, t= 1\n",
      "driver.get\n",
      "YEAR Exception\n",
      "inside try, t= 2\n",
      "driver.get\n",
      "YEAR Exception\n",
      "1964 January Gujarat Cotton\n",
      "file to open folders/Cotton/Gujarat/mynewdata_1964_January.csv\n",
      "False\n",
      "After\n"
     ]
    },
    {
     "name": "stderr",
     "output_type": "stream",
     "text": [
      "/usr/local/lib/python3.6/dist-packages/ipykernel_launcher.py:33: DeprecationWarning: use options instead of chrome_options\n"
     ]
    },
    {
     "name": "stdout",
     "output_type": "stream",
     "text": [
      "inside try, t= 0\n",
      "driver.get\n",
      "YEAR Exception\n",
      "inside try, t= 1\n",
      "driver.get\n",
      "YEAR Exception\n",
      "inside try, t= 2\n",
      "driver.get\n",
      "YEAR Exception\n",
      "1964 February Gujarat Cotton\n",
      "file to open folders/Cotton/Gujarat/mynewdata_1964_February.csv\n",
      "False\n",
      "After\n"
     ]
    },
    {
     "name": "stderr",
     "output_type": "stream",
     "text": [
      "/usr/local/lib/python3.6/dist-packages/ipykernel_launcher.py:33: DeprecationWarning: use options instead of chrome_options\n"
     ]
    },
    {
     "name": "stdout",
     "output_type": "stream",
     "text": [
      "inside try, t= 0\n",
      "driver.get\n",
      "YEAR Exception\n",
      "inside try, t= 1\n",
      "driver.get\n",
      "YEAR Exception\n",
      "inside try, t= 2\n",
      "driver.get\n",
      "YEAR Exception\n",
      "1964 March Gujarat Cotton\n",
      "file to open folders/Cotton/Gujarat/mynewdata_1964_March.csv\n",
      "False\n",
      "After\n"
     ]
    },
    {
     "name": "stderr",
     "output_type": "stream",
     "text": [
      "/usr/local/lib/python3.6/dist-packages/ipykernel_launcher.py:33: DeprecationWarning: use options instead of chrome_options\n"
     ]
    },
    {
     "name": "stdout",
     "output_type": "stream",
     "text": [
      "inside try, t= 0\n",
      "driver.get\n",
      "YEAR Exception\n",
      "inside try, t= 1\n",
      "driver.get\n",
      "YEAR Exception\n",
      "inside try, t= 2\n",
      "driver.get\n",
      "YEAR Exception\n",
      "1964 April Gujarat Cotton\n",
      "file to open folders/Cotton/Gujarat/mynewdata_1964_April.csv\n",
      "False\n",
      "After\n"
     ]
    },
    {
     "name": "stderr",
     "output_type": "stream",
     "text": [
      "/usr/local/lib/python3.6/dist-packages/ipykernel_launcher.py:33: DeprecationWarning: use options instead of chrome_options\n"
     ]
    },
    {
     "name": "stdout",
     "output_type": "stream",
     "text": [
      "inside try, t= 0\n",
      "driver.get\n",
      "YEAR Exception\n",
      "inside try, t= 1\n",
      "driver.get\n",
      "YEAR Exception\n",
      "inside try, t= 2\n",
      "driver.get\n",
      "YEAR Exception\n",
      "1964 May Gujarat Cotton\n",
      "file to open folders/Cotton/Gujarat/mynewdata_1964_May.csv\n",
      "False\n",
      "After\n"
     ]
    },
    {
     "name": "stderr",
     "output_type": "stream",
     "text": [
      "/usr/local/lib/python3.6/dist-packages/ipykernel_launcher.py:33: DeprecationWarning: use options instead of chrome_options\n"
     ]
    },
    {
     "name": "stdout",
     "output_type": "stream",
     "text": [
      "inside try, t= 0\n",
      "driver.get\n",
      "YEAR Exception\n",
      "inside try, t= 1\n",
      "driver.get\n",
      "YEAR Exception\n",
      "inside try, t= 2\n",
      "driver.get\n",
      "YEAR Exception\n",
      "1964 June Gujarat Cotton\n",
      "file to open folders/Cotton/Gujarat/mynewdata_1964_June.csv\n",
      "False\n",
      "After\n"
     ]
    },
    {
     "name": "stderr",
     "output_type": "stream",
     "text": [
      "/usr/local/lib/python3.6/dist-packages/ipykernel_launcher.py:33: DeprecationWarning: use options instead of chrome_options\n"
     ]
    },
    {
     "name": "stdout",
     "output_type": "stream",
     "text": [
      "inside try, t= 0\n",
      "driver.get\n",
      "YEAR Exception\n",
      "inside try, t= 1\n",
      "driver.get\n",
      "YEAR Exception\n",
      "inside try, t= 2\n",
      "driver.get\n",
      "YEAR Exception\n",
      "1964 July Gujarat Cotton\n",
      "file to open folders/Cotton/Gujarat/mynewdata_1964_July.csv\n",
      "False\n",
      "After\n"
     ]
    },
    {
     "name": "stderr",
     "output_type": "stream",
     "text": [
      "/usr/local/lib/python3.6/dist-packages/ipykernel_launcher.py:33: DeprecationWarning: use options instead of chrome_options\n"
     ]
    },
    {
     "name": "stdout",
     "output_type": "stream",
     "text": [
      "inside try, t= 0\n",
      "driver.get\n",
      "YEAR Exception\n",
      "inside try, t= 1\n",
      "driver.get\n",
      "YEAR Exception\n",
      "inside try, t= 2\n",
      "driver.get\n",
      "YEAR Exception\n",
      "1964 August Gujarat Cotton\n",
      "file to open folders/Cotton/Gujarat/mynewdata_1964_August.csv\n",
      "False\n",
      "After\n"
     ]
    },
    {
     "name": "stderr",
     "output_type": "stream",
     "text": [
      "/usr/local/lib/python3.6/dist-packages/ipykernel_launcher.py:33: DeprecationWarning: use options instead of chrome_options\n"
     ]
    },
    {
     "name": "stdout",
     "output_type": "stream",
     "text": [
      "inside try, t= 0\n",
      "driver.get\n",
      "YEAR Exception\n",
      "inside try, t= 1\n",
      "driver.get\n",
      "YEAR Exception\n",
      "inside try, t= 2\n",
      "driver.get\n",
      "YEAR Exception\n",
      "1964 September Gujarat Cotton\n",
      "file to open folders/Cotton/Gujarat/mynewdata_1964_September.csv\n",
      "False\n",
      "After\n"
     ]
    },
    {
     "name": "stderr",
     "output_type": "stream",
     "text": [
      "/usr/local/lib/python3.6/dist-packages/ipykernel_launcher.py:33: DeprecationWarning: use options instead of chrome_options\n"
     ]
    },
    {
     "name": "stdout",
     "output_type": "stream",
     "text": [
      "inside try, t= 0\n",
      "driver.get\n",
      "YEAR Exception\n",
      "inside try, t= 1\n",
      "driver.get\n",
      "YEAR Exception\n",
      "inside try, t= 2\n",
      "driver.get\n",
      "YEAR Exception\n",
      "1964 October Gujarat Cotton\n",
      "file to open folders/Cotton/Gujarat/mynewdata_1964_October.csv\n",
      "False\n",
      "After\n"
     ]
    },
    {
     "name": "stderr",
     "output_type": "stream",
     "text": [
      "/usr/local/lib/python3.6/dist-packages/ipykernel_launcher.py:33: DeprecationWarning: use options instead of chrome_options\n"
     ]
    },
    {
     "name": "stdout",
     "output_type": "stream",
     "text": [
      "inside try, t= 0\n",
      "driver.get\n",
      "YEAR Exception\n",
      "inside try, t= 1\n",
      "driver.get\n",
      "YEAR Exception\n",
      "inside try, t= 2\n",
      "driver.get\n",
      "YEAR Exception\n",
      "1964 November Gujarat Cotton\n",
      "file to open folders/Cotton/Gujarat/mynewdata_1964_November.csv\n",
      "False\n",
      "After\n"
     ]
    },
    {
     "name": "stderr",
     "output_type": "stream",
     "text": [
      "/usr/local/lib/python3.6/dist-packages/ipykernel_launcher.py:33: DeprecationWarning: use options instead of chrome_options\n"
     ]
    },
    {
     "name": "stdout",
     "output_type": "stream",
     "text": [
      "inside try, t= 0\n",
      "driver.get\n",
      "YEAR Exception\n",
      "inside try, t= 1\n",
      "driver.get\n",
      "YEAR Exception\n",
      "inside try, t= 2\n",
      "driver.get\n",
      "YEAR Exception\n",
      "1964 December Gujarat Cotton\n",
      "file to open folders/Cotton/Gujarat/mynewdata_1964_December.csv\n",
      "False\n",
      "After\n"
     ]
    },
    {
     "name": "stderr",
     "output_type": "stream",
     "text": [
      "/usr/local/lib/python3.6/dist-packages/ipykernel_launcher.py:33: DeprecationWarning: use options instead of chrome_options\n"
     ]
    },
    {
     "name": "stdout",
     "output_type": "stream",
     "text": [
      "inside try, t= 0\n",
      "driver.get\n",
      "YEAR Exception\n",
      "inside try, t= 1\n",
      "driver.get\n",
      "YEAR Exception\n",
      "inside try, t= 2\n",
      "driver.get\n",
      "YEAR Exception\n",
      "1965 January Gujarat Cotton\n",
      "file to open folders/Cotton/Gujarat/mynewdata_1965_January.csv\n",
      "False\n",
      "After\n"
     ]
    },
    {
     "name": "stderr",
     "output_type": "stream",
     "text": [
      "/usr/local/lib/python3.6/dist-packages/ipykernel_launcher.py:33: DeprecationWarning: use options instead of chrome_options\n"
     ]
    },
    {
     "name": "stdout",
     "output_type": "stream",
     "text": [
      "inside try, t= 0\n",
      "driver.get\n",
      "YEAR Exception\n",
      "inside try, t= 1\n",
      "driver.get\n",
      "YEAR Exception\n",
      "inside try, t= 2\n",
      "driver.get\n",
      "YEAR Exception\n",
      "1965 February Gujarat Cotton\n",
      "file to open folders/Cotton/Gujarat/mynewdata_1965_February.csv\n",
      "False\n",
      "After\n"
     ]
    },
    {
     "name": "stderr",
     "output_type": "stream",
     "text": [
      "/usr/local/lib/python3.6/dist-packages/ipykernel_launcher.py:33: DeprecationWarning: use options instead of chrome_options\n"
     ]
    },
    {
     "name": "stdout",
     "output_type": "stream",
     "text": [
      "inside try, t= 0\n",
      "driver.get\n",
      "YEAR Exception\n",
      "inside try, t= 1\n",
      "driver.get\n",
      "YEAR Exception\n",
      "inside try, t= 2\n",
      "driver.get\n",
      "YEAR Exception\n",
      "1965 March Gujarat Cotton\n",
      "file to open folders/Cotton/Gujarat/mynewdata_1965_March.csv\n",
      "False\n",
      "After\n"
     ]
    },
    {
     "name": "stderr",
     "output_type": "stream",
     "text": [
      "/usr/local/lib/python3.6/dist-packages/ipykernel_launcher.py:33: DeprecationWarning: use options instead of chrome_options\n"
     ]
    },
    {
     "name": "stdout",
     "output_type": "stream",
     "text": [
      "inside try, t= 0\n",
      "driver.get\n",
      "YEAR Exception\n",
      "inside try, t= 1\n",
      "driver.get\n",
      "YEAR Exception\n",
      "inside try, t= 2\n",
      "driver.get\n",
      "YEAR Exception\n",
      "1965 April Gujarat Cotton\n",
      "file to open folders/Cotton/Gujarat/mynewdata_1965_April.csv\n",
      "False\n",
      "After\n"
     ]
    },
    {
     "name": "stderr",
     "output_type": "stream",
     "text": [
      "/usr/local/lib/python3.6/dist-packages/ipykernel_launcher.py:33: DeprecationWarning: use options instead of chrome_options\n"
     ]
    },
    {
     "name": "stdout",
     "output_type": "stream",
     "text": [
      "inside try, t= 0\n",
      "driver.get\n",
      "YEAR Exception\n",
      "inside try, t= 1\n",
      "driver.get\n",
      "YEAR Exception\n",
      "inside try, t= 2\n",
      "driver.get\n",
      "YEAR Exception\n",
      "1965 May Gujarat Cotton\n",
      "file to open folders/Cotton/Gujarat/mynewdata_1965_May.csv\n",
      "False\n",
      "After\n"
     ]
    },
    {
     "name": "stderr",
     "output_type": "stream",
     "text": [
      "/usr/local/lib/python3.6/dist-packages/ipykernel_launcher.py:33: DeprecationWarning: use options instead of chrome_options\n"
     ]
    },
    {
     "name": "stdout",
     "output_type": "stream",
     "text": [
      "inside try, t= 0\n",
      "driver.get\n",
      "YEAR Exception\n",
      "inside try, t= 1\n",
      "driver.get\n",
      "YEAR Exception\n",
      "inside try, t= 2\n",
      "driver.get\n",
      "YEAR Exception\n",
      "1965 June Gujarat Cotton\n",
      "file to open folders/Cotton/Gujarat/mynewdata_1965_June.csv\n",
      "False\n",
      "After\n"
     ]
    },
    {
     "name": "stderr",
     "output_type": "stream",
     "text": [
      "/usr/local/lib/python3.6/dist-packages/ipykernel_launcher.py:33: DeprecationWarning: use options instead of chrome_options\n"
     ]
    },
    {
     "name": "stdout",
     "output_type": "stream",
     "text": [
      "inside try, t= 0\n",
      "driver.get\n",
      "YEAR Exception\n",
      "inside try, t= 1\n",
      "driver.get\n",
      "YEAR Exception\n",
      "inside try, t= 2\n",
      "driver.get\n",
      "YEAR Exception\n",
      "1965 July Gujarat Cotton\n",
      "file to open folders/Cotton/Gujarat/mynewdata_1965_July.csv\n",
      "False\n",
      "After\n"
     ]
    },
    {
     "name": "stderr",
     "output_type": "stream",
     "text": [
      "/usr/local/lib/python3.6/dist-packages/ipykernel_launcher.py:33: DeprecationWarning: use options instead of chrome_options\n"
     ]
    },
    {
     "name": "stdout",
     "output_type": "stream",
     "text": [
      "inside try, t= 0\n",
      "driver.get\n",
      "YEAR Exception\n",
      "inside try, t= 1\n",
      "driver.get\n",
      "YEAR Exception\n",
      "inside try, t= 2\n",
      "driver.get\n",
      "YEAR Exception\n",
      "1965 August Gujarat Cotton\n",
      "file to open folders/Cotton/Gujarat/mynewdata_1965_August.csv\n",
      "False\n",
      "After\n"
     ]
    },
    {
     "name": "stderr",
     "output_type": "stream",
     "text": [
      "/usr/local/lib/python3.6/dist-packages/ipykernel_launcher.py:33: DeprecationWarning: use options instead of chrome_options\n"
     ]
    },
    {
     "name": "stdout",
     "output_type": "stream",
     "text": [
      "inside try, t= 0\n",
      "driver.get\n",
      "YEAR Exception\n",
      "inside try, t= 1\n",
      "driver.get\n",
      "YEAR Exception\n",
      "inside try, t= 2\n",
      "driver.get\n",
      "YEAR Exception\n",
      "1965 September Gujarat Cotton\n",
      "file to open folders/Cotton/Gujarat/mynewdata_1965_September.csv\n",
      "False\n",
      "After\n"
     ]
    },
    {
     "name": "stderr",
     "output_type": "stream",
     "text": [
      "/usr/local/lib/python3.6/dist-packages/ipykernel_launcher.py:33: DeprecationWarning: use options instead of chrome_options\n"
     ]
    },
    {
     "name": "stdout",
     "output_type": "stream",
     "text": [
      "inside try, t= 0\n",
      "driver.get\n",
      "YEAR Exception\n",
      "inside try, t= 1\n",
      "driver.get\n",
      "YEAR Exception\n",
      "inside try, t= 2\n",
      "driver.get\n",
      "YEAR Exception\n",
      "1965 October Gujarat Cotton\n",
      "file to open folders/Cotton/Gujarat/mynewdata_1965_October.csv\n",
      "False\n",
      "After\n"
     ]
    },
    {
     "name": "stderr",
     "output_type": "stream",
     "text": [
      "/usr/local/lib/python3.6/dist-packages/ipykernel_launcher.py:33: DeprecationWarning: use options instead of chrome_options\n"
     ]
    },
    {
     "name": "stdout",
     "output_type": "stream",
     "text": [
      "inside try, t= 0\n",
      "driver.get\n",
      "YEAR Exception\n",
      "inside try, t= 1\n",
      "driver.get\n",
      "YEAR Exception\n",
      "inside try, t= 2\n",
      "driver.get\n",
      "YEAR Exception\n",
      "1965 November Gujarat Cotton\n",
      "file to open folders/Cotton/Gujarat/mynewdata_1965_November.csv\n",
      "False\n",
      "After\n"
     ]
    },
    {
     "name": "stderr",
     "output_type": "stream",
     "text": [
      "/usr/local/lib/python3.6/dist-packages/ipykernel_launcher.py:33: DeprecationWarning: use options instead of chrome_options\n"
     ]
    },
    {
     "name": "stdout",
     "output_type": "stream",
     "text": [
      "inside try, t= 0\n",
      "driver.get\n",
      "YEAR Exception\n",
      "inside try, t= 1\n",
      "driver.get\n",
      "YEAR Exception\n",
      "inside try, t= 2\n",
      "driver.get\n",
      "YEAR Exception\n",
      "1965 December Gujarat Cotton\n",
      "file to open folders/Cotton/Gujarat/mynewdata_1965_December.csv\n",
      "False\n",
      "After\n"
     ]
    },
    {
     "name": "stderr",
     "output_type": "stream",
     "text": [
      "/usr/local/lib/python3.6/dist-packages/ipykernel_launcher.py:33: DeprecationWarning: use options instead of chrome_options\n"
     ]
    },
    {
     "name": "stdout",
     "output_type": "stream",
     "text": [
      "inside try, t= 0\n",
      "driver.get\n",
      "Timeout exveption\n",
      "driver.get\n",
      "YEAR Exception\n",
      "inside try, t= 1\n",
      "driver.get\n",
      "YEAR Exception\n",
      "inside try, t= 2\n",
      "driver.get\n",
      "YEAR Exception\n",
      "1966 January Gujarat Cotton\n",
      "file to open folders/Cotton/Gujarat/mynewdata_1966_January.csv\n",
      "False\n",
      "After\n"
     ]
    },
    {
     "name": "stderr",
     "output_type": "stream",
     "text": [
      "/usr/local/lib/python3.6/dist-packages/ipykernel_launcher.py:33: DeprecationWarning: use options instead of chrome_options\n"
     ]
    },
    {
     "name": "stdout",
     "output_type": "stream",
     "text": [
      "inside try, t= 0\n",
      "driver.get\n",
      "YEAR Exception\n",
      "inside try, t= 1\n",
      "driver.get\n",
      "YEAR Exception\n",
      "inside try, t= 2\n",
      "driver.get\n",
      "YEAR Exception\n",
      "1966 February Gujarat Cotton\n",
      "file to open folders/Cotton/Gujarat/mynewdata_1966_February.csv\n",
      "False\n",
      "After\n"
     ]
    },
    {
     "name": "stderr",
     "output_type": "stream",
     "text": [
      "/usr/local/lib/python3.6/dist-packages/ipykernel_launcher.py:33: DeprecationWarning: use options instead of chrome_options\n"
     ]
    },
    {
     "name": "stdout",
     "output_type": "stream",
     "text": [
      "inside try, t= 0\n",
      "driver.get\n",
      "YEAR Exception\n",
      "inside try, t= 1\n",
      "driver.get\n",
      "YEAR Exception\n",
      "inside try, t= 2\n",
      "driver.get\n",
      "YEAR Exception\n",
      "1966 March Gujarat Cotton\n",
      "file to open folders/Cotton/Gujarat/mynewdata_1966_March.csv\n",
      "False\n",
      "After\n"
     ]
    },
    {
     "name": "stderr",
     "output_type": "stream",
     "text": [
      "/usr/local/lib/python3.6/dist-packages/ipykernel_launcher.py:33: DeprecationWarning: use options instead of chrome_options\n"
     ]
    },
    {
     "name": "stdout",
     "output_type": "stream",
     "text": [
      "inside try, t= 0\n",
      "driver.get\n",
      "YEAR Exception\n",
      "inside try, t= 1\n",
      "driver.get\n",
      "YEAR Exception\n",
      "inside try, t= 2\n",
      "driver.get\n",
      "YEAR Exception\n",
      "1966 April Gujarat Cotton\n",
      "file to open folders/Cotton/Gujarat/mynewdata_1966_April.csv\n",
      "False\n",
      "After\n"
     ]
    },
    {
     "name": "stderr",
     "output_type": "stream",
     "text": [
      "/usr/local/lib/python3.6/dist-packages/ipykernel_launcher.py:33: DeprecationWarning: use options instead of chrome_options\n"
     ]
    },
    {
     "name": "stdout",
     "output_type": "stream",
     "text": [
      "inside try, t= 0\n",
      "driver.get\n",
      "YEAR Exception\n",
      "inside try, t= 1\n",
      "driver.get\n",
      "YEAR Exception\n",
      "inside try, t= 2\n",
      "driver.get\n",
      "YEAR Exception\n",
      "1966 May Gujarat Cotton\n",
      "file to open folders/Cotton/Gujarat/mynewdata_1966_May.csv\n",
      "False\n",
      "After\n"
     ]
    },
    {
     "name": "stderr",
     "output_type": "stream",
     "text": [
      "/usr/local/lib/python3.6/dist-packages/ipykernel_launcher.py:33: DeprecationWarning: use options instead of chrome_options\n"
     ]
    },
    {
     "name": "stdout",
     "output_type": "stream",
     "text": [
      "inside try, t= 0\n",
      "driver.get\n",
      "YEAR Exception\n",
      "inside try, t= 1\n",
      "driver.get\n",
      "YEAR Exception\n",
      "inside try, t= 2\n",
      "driver.get\n",
      "YEAR Exception\n",
      "1966 June Gujarat Cotton\n",
      "file to open folders/Cotton/Gujarat/mynewdata_1966_June.csv\n",
      "False\n",
      "After\n"
     ]
    },
    {
     "name": "stderr",
     "output_type": "stream",
     "text": [
      "/usr/local/lib/python3.6/dist-packages/ipykernel_launcher.py:33: DeprecationWarning: use options instead of chrome_options\n"
     ]
    },
    {
     "name": "stdout",
     "output_type": "stream",
     "text": [
      "inside try, t= 0\n",
      "driver.get\n",
      "YEAR Exception\n",
      "inside try, t= 1\n",
      "driver.get\n",
      "YEAR Exception\n",
      "inside try, t= 2\n",
      "driver.get\n",
      "Timeout exveption\n",
      "driver.get\n",
      "Timeout exveption\n",
      "driver.get\n",
      "YEAR Exception\n",
      "1966 July Gujarat Cotton\n",
      "file to open folders/Cotton/Gujarat/mynewdata_1966_July.csv\n",
      "False\n",
      "After\n"
     ]
    },
    {
     "name": "stderr",
     "output_type": "stream",
     "text": [
      "/usr/local/lib/python3.6/dist-packages/ipykernel_launcher.py:33: DeprecationWarning: use options instead of chrome_options\n"
     ]
    },
    {
     "name": "stdout",
     "output_type": "stream",
     "text": [
      "inside try, t= 0\n",
      "driver.get\n",
      "YEAR Exception\n",
      "inside try, t= 1\n",
      "driver.get\n",
      "YEAR Exception\n",
      "inside try, t= 2\n",
      "driver.get\n",
      "YEAR Exception\n",
      "1966 August Gujarat Cotton\n",
      "file to open folders/Cotton/Gujarat/mynewdata_1966_August.csv\n",
      "False\n",
      "After\n"
     ]
    },
    {
     "name": "stderr",
     "output_type": "stream",
     "text": [
      "/usr/local/lib/python3.6/dist-packages/ipykernel_launcher.py:33: DeprecationWarning: use options instead of chrome_options\n"
     ]
    },
    {
     "name": "stdout",
     "output_type": "stream",
     "text": [
      "inside try, t= 0\n",
      "driver.get\n",
      "YEAR Exception\n",
      "inside try, t= 1\n",
      "driver.get\n",
      "YEAR Exception\n",
      "inside try, t= 2\n",
      "driver.get\n",
      "YEAR Exception\n",
      "1966 September Gujarat Cotton\n",
      "file to open folders/Cotton/Gujarat/mynewdata_1966_September.csv\n",
      "False\n",
      "After\n"
     ]
    },
    {
     "name": "stderr",
     "output_type": "stream",
     "text": [
      "/usr/local/lib/python3.6/dist-packages/ipykernel_launcher.py:33: DeprecationWarning: use options instead of chrome_options\n"
     ]
    },
    {
     "name": "stdout",
     "output_type": "stream",
     "text": [
      "inside try, t= 0\n",
      "driver.get\n",
      "YEAR Exception\n",
      "inside try, t= 1\n",
      "driver.get\n",
      "YEAR Exception\n",
      "inside try, t= 2\n",
      "driver.get\n",
      "YEAR Exception\n",
      "1966 October Gujarat Cotton\n",
      "file to open folders/Cotton/Gujarat/mynewdata_1966_October.csv\n",
      "False\n",
      "After\n"
     ]
    },
    {
     "name": "stderr",
     "output_type": "stream",
     "text": [
      "/usr/local/lib/python3.6/dist-packages/ipykernel_launcher.py:33: DeprecationWarning: use options instead of chrome_options\n"
     ]
    },
    {
     "name": "stdout",
     "output_type": "stream",
     "text": [
      "inside try, t= 0\n",
      "driver.get\n",
      "YEAR Exception\n",
      "inside try, t= 1\n",
      "driver.get\n",
      "YEAR Exception\n",
      "inside try, t= 2\n",
      "driver.get\n",
      "YEAR Exception\n",
      "1966 November Gujarat Cotton\n",
      "file to open folders/Cotton/Gujarat/mynewdata_1966_November.csv\n",
      "False\n",
      "After\n"
     ]
    },
    {
     "name": "stderr",
     "output_type": "stream",
     "text": [
      "/usr/local/lib/python3.6/dist-packages/ipykernel_launcher.py:33: DeprecationWarning: use options instead of chrome_options\n"
     ]
    },
    {
     "name": "stdout",
     "output_type": "stream",
     "text": [
      "inside try, t= 0\n",
      "driver.get\n",
      "YEAR Exception\n",
      "inside try, t= 1\n",
      "driver.get\n",
      "YEAR Exception\n",
      "inside try, t= 2\n",
      "driver.get\n",
      "YEAR Exception\n",
      "1966 December Gujarat Cotton\n",
      "file to open folders/Cotton/Gujarat/mynewdata_1966_December.csv\n",
      "False\n",
      "After\n"
     ]
    },
    {
     "name": "stderr",
     "output_type": "stream",
     "text": [
      "/usr/local/lib/python3.6/dist-packages/ipykernel_launcher.py:33: DeprecationWarning: use options instead of chrome_options\n"
     ]
    },
    {
     "name": "stdout",
     "output_type": "stream",
     "text": [
      "inside try, t= 0\n",
      "driver.get\n",
      "YEAR Exception\n",
      "inside try, t= 1\n",
      "driver.get\n",
      "YEAR Exception\n",
      "inside try, t= 2\n",
      "driver.get\n",
      "YEAR Exception\n",
      "1967 January Gujarat Cotton\n",
      "file to open folders/Cotton/Gujarat/mynewdata_1967_January.csv\n",
      "False\n",
      "After\n"
     ]
    },
    {
     "name": "stderr",
     "output_type": "stream",
     "text": [
      "/usr/local/lib/python3.6/dist-packages/ipykernel_launcher.py:33: DeprecationWarning: use options instead of chrome_options\n"
     ]
    },
    {
     "name": "stdout",
     "output_type": "stream",
     "text": [
      "inside try, t= 0\n",
      "driver.get\n",
      "Timeout exveption\n",
      "driver.get\n",
      "YEAR Exception\n",
      "inside try, t= 1\n",
      "driver.get\n",
      "YEAR Exception\n",
      "inside try, t= 2\n",
      "driver.get\n",
      "YEAR Exception\n",
      "1967 February Gujarat Cotton\n",
      "file to open folders/Cotton/Gujarat/mynewdata_1967_February.csv\n",
      "False\n",
      "After\n"
     ]
    },
    {
     "name": "stderr",
     "output_type": "stream",
     "text": [
      "/usr/local/lib/python3.6/dist-packages/ipykernel_launcher.py:33: DeprecationWarning: use options instead of chrome_options\n"
     ]
    },
    {
     "name": "stdout",
     "output_type": "stream",
     "text": [
      "inside try, t= 0\n",
      "driver.get\n",
      "YEAR Exception\n",
      "inside try, t= 1\n",
      "driver.get\n",
      "YEAR Exception\n",
      "inside try, t= 2\n",
      "driver.get\n",
      "YEAR Exception\n",
      "1967 March Gujarat Cotton\n",
      "file to open folders/Cotton/Gujarat/mynewdata_1967_March.csv\n",
      "False\n",
      "After\n"
     ]
    },
    {
     "name": "stderr",
     "output_type": "stream",
     "text": [
      "/usr/local/lib/python3.6/dist-packages/ipykernel_launcher.py:33: DeprecationWarning: use options instead of chrome_options\n"
     ]
    },
    {
     "name": "stdout",
     "output_type": "stream",
     "text": [
      "inside try, t= 0\n",
      "driver.get\n",
      "YEAR Exception\n",
      "inside try, t= 1\n",
      "driver.get\n",
      "YEAR Exception\n",
      "inside try, t= 2\n",
      "driver.get\n",
      "YEAR Exception\n",
      "1967 April Gujarat Cotton\n",
      "file to open folders/Cotton/Gujarat/mynewdata_1967_April.csv\n",
      "False\n",
      "After\n"
     ]
    },
    {
     "name": "stderr",
     "output_type": "stream",
     "text": [
      "/usr/local/lib/python3.6/dist-packages/ipykernel_launcher.py:33: DeprecationWarning: use options instead of chrome_options\n"
     ]
    },
    {
     "name": "stdout",
     "output_type": "stream",
     "text": [
      "inside try, t= 0\n",
      "driver.get\n",
      "YEAR Exception\n",
      "inside try, t= 1\n",
      "driver.get\n",
      "Timeout exveption\n",
      "driver.get\n",
      "YEAR Exception\n",
      "inside try, t= 2\n",
      "driver.get\n",
      "YEAR Exception\n",
      "1967 May Gujarat Cotton\n",
      "file to open folders/Cotton/Gujarat/mynewdata_1967_May.csv\n",
      "False\n",
      "After\n"
     ]
    },
    {
     "name": "stderr",
     "output_type": "stream",
     "text": [
      "/usr/local/lib/python3.6/dist-packages/ipykernel_launcher.py:33: DeprecationWarning: use options instead of chrome_options\n"
     ]
    },
    {
     "name": "stdout",
     "output_type": "stream",
     "text": [
      "inside try, t= 0\n",
      "driver.get\n",
      "YEAR Exception\n",
      "inside try, t= 1\n",
      "driver.get\n",
      "YEAR Exception\n",
      "inside try, t= 2\n",
      "driver.get\n",
      "YEAR Exception\n",
      "1967 June Gujarat Cotton\n",
      "file to open folders/Cotton/Gujarat/mynewdata_1967_June.csv\n",
      "False\n",
      "After\n"
     ]
    },
    {
     "name": "stderr",
     "output_type": "stream",
     "text": [
      "/usr/local/lib/python3.6/dist-packages/ipykernel_launcher.py:33: DeprecationWarning: use options instead of chrome_options\n"
     ]
    },
    {
     "name": "stdout",
     "output_type": "stream",
     "text": [
      "inside try, t= 0\n",
      "driver.get\n",
      "YEAR Exception\n",
      "inside try, t= 1\n",
      "driver.get\n",
      "YEAR Exception\n",
      "inside try, t= 2\n",
      "driver.get\n",
      "YEAR Exception\n",
      "1967 July Gujarat Cotton\n",
      "file to open folders/Cotton/Gujarat/mynewdata_1967_July.csv\n",
      "False\n",
      "After\n"
     ]
    },
    {
     "name": "stderr",
     "output_type": "stream",
     "text": [
      "/usr/local/lib/python3.6/dist-packages/ipykernel_launcher.py:33: DeprecationWarning: use options instead of chrome_options\n"
     ]
    },
    {
     "name": "stdout",
     "output_type": "stream",
     "text": [
      "inside try, t= 0\n",
      "driver.get\n",
      "YEAR Exception\n",
      "inside try, t= 1\n",
      "driver.get\n",
      "YEAR Exception\n",
      "inside try, t= 2\n",
      "driver.get\n",
      "YEAR Exception\n",
      "1967 August Gujarat Cotton\n",
      "file to open folders/Cotton/Gujarat/mynewdata_1967_August.csv\n",
      "False\n",
      "After\n"
     ]
    },
    {
     "name": "stderr",
     "output_type": "stream",
     "text": [
      "/usr/local/lib/python3.6/dist-packages/ipykernel_launcher.py:33: DeprecationWarning: use options instead of chrome_options\n"
     ]
    },
    {
     "name": "stdout",
     "output_type": "stream",
     "text": [
      "inside try, t= 0\n",
      "driver.get\n",
      "YEAR Exception\n",
      "inside try, t= 1\n",
      "driver.get\n",
      "YEAR Exception\n",
      "inside try, t= 2\n",
      "driver.get\n",
      "YEAR Exception\n",
      "1967 September Gujarat Cotton\n",
      "file to open folders/Cotton/Gujarat/mynewdata_1967_September.csv\n",
      "False\n",
      "After\n"
     ]
    },
    {
     "name": "stderr",
     "output_type": "stream",
     "text": [
      "/usr/local/lib/python3.6/dist-packages/ipykernel_launcher.py:33: DeprecationWarning: use options instead of chrome_options\n"
     ]
    },
    {
     "name": "stdout",
     "output_type": "stream",
     "text": [
      "inside try, t= 0\n",
      "driver.get\n",
      "YEAR Exception\n",
      "inside try, t= 1\n",
      "driver.get\n",
      "YEAR Exception\n",
      "inside try, t= 2\n",
      "driver.get\n",
      "YEAR Exception\n",
      "1967 October Gujarat Cotton\n",
      "file to open folders/Cotton/Gujarat/mynewdata_1967_October.csv\n",
      "False\n",
      "After\n"
     ]
    },
    {
     "name": "stderr",
     "output_type": "stream",
     "text": [
      "/usr/local/lib/python3.6/dist-packages/ipykernel_launcher.py:33: DeprecationWarning: use options instead of chrome_options\n"
     ]
    },
    {
     "name": "stdout",
     "output_type": "stream",
     "text": [
      "inside try, t= 0\n",
      "driver.get\n",
      "YEAR Exception\n",
      "inside try, t= 1\n",
      "driver.get\n",
      "YEAR Exception\n",
      "inside try, t= 2\n",
      "driver.get\n",
      "YEAR Exception\n",
      "1967 November Gujarat Cotton\n",
      "file to open folders/Cotton/Gujarat/mynewdata_1967_November.csv\n",
      "False\n",
      "After\n"
     ]
    },
    {
     "name": "stderr",
     "output_type": "stream",
     "text": [
      "/usr/local/lib/python3.6/dist-packages/ipykernel_launcher.py:33: DeprecationWarning: use options instead of chrome_options\n"
     ]
    },
    {
     "name": "stdout",
     "output_type": "stream",
     "text": [
      "inside try, t= 0\n",
      "driver.get\n",
      "YEAR Exception\n",
      "inside try, t= 1\n",
      "driver.get\n",
      "YEAR Exception\n",
      "inside try, t= 2\n",
      "driver.get\n",
      "YEAR Exception\n",
      "1967 December Gujarat Cotton\n",
      "file to open folders/Cotton/Gujarat/mynewdata_1967_December.csv\n",
      "False\n",
      "After\n"
     ]
    },
    {
     "name": "stderr",
     "output_type": "stream",
     "text": [
      "/usr/local/lib/python3.6/dist-packages/ipykernel_launcher.py:33: DeprecationWarning: use options instead of chrome_options\n"
     ]
    },
    {
     "name": "stdout",
     "output_type": "stream",
     "text": [
      "inside try, t= 0\n",
      "driver.get\n",
      "YEAR Exception\n",
      "inside try, t= 1\n",
      "driver.get\n",
      "YEAR Exception\n",
      "inside try, t= 2\n",
      "driver.get\n",
      "YEAR Exception\n",
      "1968 January Gujarat Cotton\n",
      "file to open folders/Cotton/Gujarat/mynewdata_1968_January.csv\n",
      "False\n",
      "After\n"
     ]
    },
    {
     "name": "stderr",
     "output_type": "stream",
     "text": [
      "/usr/local/lib/python3.6/dist-packages/ipykernel_launcher.py:33: DeprecationWarning: use options instead of chrome_options\n"
     ]
    },
    {
     "name": "stdout",
     "output_type": "stream",
     "text": [
      "inside try, t= 0\n",
      "driver.get\n",
      "YEAR Exception\n",
      "inside try, t= 1\n",
      "driver.get\n",
      "YEAR Exception\n",
      "inside try, t= 2\n",
      "driver.get\n",
      "YEAR Exception\n",
      "1968 February Gujarat Cotton\n",
      "file to open folders/Cotton/Gujarat/mynewdata_1968_February.csv\n",
      "False\n",
      "After\n"
     ]
    },
    {
     "name": "stderr",
     "output_type": "stream",
     "text": [
      "/usr/local/lib/python3.6/dist-packages/ipykernel_launcher.py:33: DeprecationWarning: use options instead of chrome_options\n"
     ]
    },
    {
     "name": "stdout",
     "output_type": "stream",
     "text": [
      "inside try, t= 0\n",
      "driver.get\n",
      "YEAR Exception\n",
      "inside try, t= 1\n",
      "driver.get\n",
      "YEAR Exception\n",
      "inside try, t= 2\n",
      "driver.get\n",
      "YEAR Exception\n",
      "1968 March Gujarat Cotton\n",
      "file to open folders/Cotton/Gujarat/mynewdata_1968_March.csv\n",
      "False\n",
      "After\n"
     ]
    },
    {
     "name": "stderr",
     "output_type": "stream",
     "text": [
      "/usr/local/lib/python3.6/dist-packages/ipykernel_launcher.py:33: DeprecationWarning: use options instead of chrome_options\n"
     ]
    },
    {
     "name": "stdout",
     "output_type": "stream",
     "text": [
      "inside try, t= 0\n",
      "driver.get\n",
      "YEAR Exception\n",
      "inside try, t= 1\n",
      "driver.get\n",
      "YEAR Exception\n",
      "inside try, t= 2\n",
      "driver.get\n",
      "YEAR Exception\n",
      "1968 April Gujarat Cotton\n",
      "file to open folders/Cotton/Gujarat/mynewdata_1968_April.csv\n",
      "False\n",
      "After\n"
     ]
    },
    {
     "name": "stderr",
     "output_type": "stream",
     "text": [
      "/usr/local/lib/python3.6/dist-packages/ipykernel_launcher.py:33: DeprecationWarning: use options instead of chrome_options\n"
     ]
    },
    {
     "name": "stdout",
     "output_type": "stream",
     "text": [
      "inside try, t= 0\n",
      "driver.get\n",
      "YEAR Exception\n",
      "inside try, t= 1\n",
      "driver.get\n",
      "YEAR Exception\n",
      "inside try, t= 2\n",
      "driver.get\n",
      "YEAR Exception\n",
      "1968 May Gujarat Cotton\n",
      "file to open folders/Cotton/Gujarat/mynewdata_1968_May.csv\n",
      "False\n",
      "After\n"
     ]
    },
    {
     "name": "stderr",
     "output_type": "stream",
     "text": [
      "/usr/local/lib/python3.6/dist-packages/ipykernel_launcher.py:33: DeprecationWarning: use options instead of chrome_options\n"
     ]
    },
    {
     "name": "stdout",
     "output_type": "stream",
     "text": [
      "inside try, t= 0\n",
      "driver.get\n",
      "YEAR Exception\n",
      "inside try, t= 1\n",
      "driver.get\n",
      "YEAR Exception\n",
      "inside try, t= 2\n",
      "driver.get\n",
      "YEAR Exception\n",
      "1968 June Gujarat Cotton\n",
      "file to open folders/Cotton/Gujarat/mynewdata_1968_June.csv\n",
      "False\n",
      "After\n"
     ]
    },
    {
     "name": "stderr",
     "output_type": "stream",
     "text": [
      "/usr/local/lib/python3.6/dist-packages/ipykernel_launcher.py:33: DeprecationWarning: use options instead of chrome_options\n"
     ]
    },
    {
     "name": "stdout",
     "output_type": "stream",
     "text": [
      "inside try, t= 0\n",
      "driver.get\n",
      "Timeout exveption\n",
      "driver.get\n",
      "YEAR Exception\n",
      "inside try, t= 1\n",
      "driver.get\n",
      "YEAR Exception\n",
      "inside try, t= 2\n",
      "driver.get\n",
      "YEAR Exception\n",
      "1968 July Gujarat Cotton\n",
      "file to open folders/Cotton/Gujarat/mynewdata_1968_July.csv\n",
      "False\n",
      "After\n"
     ]
    },
    {
     "name": "stderr",
     "output_type": "stream",
     "text": [
      "/usr/local/lib/python3.6/dist-packages/ipykernel_launcher.py:33: DeprecationWarning: use options instead of chrome_options\n"
     ]
    },
    {
     "name": "stdout",
     "output_type": "stream",
     "text": [
      "inside try, t= 0\n",
      "driver.get\n",
      "YEAR Exception\n",
      "inside try, t= 1\n",
      "driver.get\n",
      "YEAR Exception\n",
      "inside try, t= 2\n",
      "driver.get\n",
      "YEAR Exception\n",
      "1968 August Gujarat Cotton\n",
      "file to open folders/Cotton/Gujarat/mynewdata_1968_August.csv\n",
      "False\n",
      "After\n"
     ]
    },
    {
     "name": "stderr",
     "output_type": "stream",
     "text": [
      "/usr/local/lib/python3.6/dist-packages/ipykernel_launcher.py:33: DeprecationWarning: use options instead of chrome_options\n"
     ]
    },
    {
     "name": "stdout",
     "output_type": "stream",
     "text": [
      "inside try, t= 0\n",
      "driver.get\n",
      "YEAR Exception\n",
      "inside try, t= 1\n",
      "driver.get\n",
      "YEAR Exception\n",
      "inside try, t= 2\n",
      "driver.get\n",
      "YEAR Exception\n",
      "1968 September Gujarat Cotton\n",
      "file to open folders/Cotton/Gujarat/mynewdata_1968_September.csv\n",
      "False\n",
      "After\n"
     ]
    },
    {
     "name": "stderr",
     "output_type": "stream",
     "text": [
      "/usr/local/lib/python3.6/dist-packages/ipykernel_launcher.py:33: DeprecationWarning: use options instead of chrome_options\n"
     ]
    },
    {
     "name": "stdout",
     "output_type": "stream",
     "text": [
      "inside try, t= 0\n",
      "driver.get\n",
      "YEAR Exception\n",
      "inside try, t= 1\n",
      "driver.get\n",
      "YEAR Exception\n",
      "inside try, t= 2\n",
      "driver.get\n",
      "YEAR Exception\n",
      "1968 October Gujarat Cotton\n",
      "file to open folders/Cotton/Gujarat/mynewdata_1968_October.csv\n",
      "False\n",
      "After\n"
     ]
    },
    {
     "name": "stderr",
     "output_type": "stream",
     "text": [
      "/usr/local/lib/python3.6/dist-packages/ipykernel_launcher.py:33: DeprecationWarning: use options instead of chrome_options\n"
     ]
    },
    {
     "name": "stdout",
     "output_type": "stream",
     "text": [
      "inside try, t= 0\n",
      "driver.get\n",
      "YEAR Exception\n",
      "inside try, t= 1\n",
      "driver.get\n",
      "YEAR Exception\n",
      "inside try, t= 2\n",
      "driver.get\n",
      "YEAR Exception\n",
      "1968 November Gujarat Cotton\n",
      "file to open folders/Cotton/Gujarat/mynewdata_1968_November.csv\n",
      "False\n",
      "After\n"
     ]
    },
    {
     "name": "stderr",
     "output_type": "stream",
     "text": [
      "/usr/local/lib/python3.6/dist-packages/ipykernel_launcher.py:33: DeprecationWarning: use options instead of chrome_options\n"
     ]
    },
    {
     "name": "stdout",
     "output_type": "stream",
     "text": [
      "inside try, t= 0\n",
      "driver.get\n",
      "YEAR Exception\n",
      "inside try, t= 1\n",
      "driver.get\n",
      "YEAR Exception\n",
      "inside try, t= 2\n",
      "driver.get\n",
      "YEAR Exception\n",
      "1968 December Gujarat Cotton\n",
      "file to open folders/Cotton/Gujarat/mynewdata_1968_December.csv\n",
      "False\n",
      "After\n"
     ]
    },
    {
     "name": "stderr",
     "output_type": "stream",
     "text": [
      "/usr/local/lib/python3.6/dist-packages/ipykernel_launcher.py:33: DeprecationWarning: use options instead of chrome_options\n"
     ]
    },
    {
     "name": "stdout",
     "output_type": "stream",
     "text": [
      "inside try, t= 0\n",
      "driver.get\n",
      "YEAR Exception\n",
      "inside try, t= 1\n",
      "driver.get\n",
      "YEAR Exception\n",
      "inside try, t= 2\n",
      "driver.get\n",
      "YEAR Exception\n",
      "1969 January Gujarat Cotton\n",
      "file to open folders/Cotton/Gujarat/mynewdata_1969_January.csv\n",
      "False\n",
      "After\n"
     ]
    },
    {
     "name": "stderr",
     "output_type": "stream",
     "text": [
      "/usr/local/lib/python3.6/dist-packages/ipykernel_launcher.py:33: DeprecationWarning: use options instead of chrome_options\n"
     ]
    },
    {
     "name": "stdout",
     "output_type": "stream",
     "text": [
      "inside try, t= 0\n",
      "driver.get\n",
      "YEAR Exception\n",
      "inside try, t= 1\n",
      "driver.get\n",
      "YEAR Exception\n",
      "inside try, t= 2\n",
      "driver.get\n",
      "YEAR Exception\n",
      "1969 February Gujarat Cotton\n",
      "file to open folders/Cotton/Gujarat/mynewdata_1969_February.csv\n",
      "False\n",
      "After\n"
     ]
    },
    {
     "name": "stderr",
     "output_type": "stream",
     "text": [
      "/usr/local/lib/python3.6/dist-packages/ipykernel_launcher.py:33: DeprecationWarning: use options instead of chrome_options\n"
     ]
    },
    {
     "name": "stdout",
     "output_type": "stream",
     "text": [
      "inside try, t= 0\n",
      "driver.get\n",
      "YEAR Exception\n",
      "inside try, t= 1\n",
      "driver.get\n",
      "YEAR Exception\n",
      "inside try, t= 2\n",
      "driver.get\n",
      "YEAR Exception\n",
      "1969 March Gujarat Cotton\n",
      "file to open folders/Cotton/Gujarat/mynewdata_1969_March.csv\n",
      "False\n",
      "After\n"
     ]
    },
    {
     "name": "stderr",
     "output_type": "stream",
     "text": [
      "/usr/local/lib/python3.6/dist-packages/ipykernel_launcher.py:33: DeprecationWarning: use options instead of chrome_options\n"
     ]
    },
    {
     "name": "stdout",
     "output_type": "stream",
     "text": [
      "inside try, t= 0\n",
      "driver.get\n",
      "YEAR Exception\n",
      "inside try, t= 1\n",
      "driver.get\n",
      "YEAR Exception\n",
      "inside try, t= 2\n",
      "driver.get\n",
      "YEAR Exception\n",
      "1969 April Gujarat Cotton\n",
      "file to open folders/Cotton/Gujarat/mynewdata_1969_April.csv\n",
      "False\n",
      "After\n"
     ]
    },
    {
     "name": "stderr",
     "output_type": "stream",
     "text": [
      "/usr/local/lib/python3.6/dist-packages/ipykernel_launcher.py:33: DeprecationWarning: use options instead of chrome_options\n"
     ]
    },
    {
     "name": "stdout",
     "output_type": "stream",
     "text": [
      "inside try, t= 0\n",
      "driver.get\n",
      "YEAR Exception\n",
      "inside try, t= 1\n",
      "driver.get\n",
      "YEAR Exception\n",
      "inside try, t= 2\n",
      "driver.get\n",
      "YEAR Exception\n",
      "1969 May Gujarat Cotton\n",
      "file to open folders/Cotton/Gujarat/mynewdata_1969_May.csv\n",
      "False\n",
      "After\n"
     ]
    },
    {
     "name": "stderr",
     "output_type": "stream",
     "text": [
      "/usr/local/lib/python3.6/dist-packages/ipykernel_launcher.py:33: DeprecationWarning: use options instead of chrome_options\n"
     ]
    },
    {
     "name": "stdout",
     "output_type": "stream",
     "text": [
      "inside try, t= 0\n",
      "driver.get\n",
      "YEAR Exception\n",
      "inside try, t= 1\n",
      "driver.get\n",
      "YEAR Exception\n",
      "inside try, t= 2\n",
      "driver.get\n",
      "YEAR Exception\n",
      "1969 June Gujarat Cotton\n",
      "file to open folders/Cotton/Gujarat/mynewdata_1969_June.csv\n",
      "False\n",
      "After\n"
     ]
    },
    {
     "name": "stderr",
     "output_type": "stream",
     "text": [
      "/usr/local/lib/python3.6/dist-packages/ipykernel_launcher.py:33: DeprecationWarning: use options instead of chrome_options\n"
     ]
    },
    {
     "name": "stdout",
     "output_type": "stream",
     "text": [
      "inside try, t= 0\n",
      "driver.get\n",
      "YEAR Exception\n",
      "inside try, t= 1\n",
      "driver.get\n",
      "YEAR Exception\n",
      "inside try, t= 2\n",
      "driver.get\n",
      "YEAR Exception\n",
      "1969 July Gujarat Cotton\n",
      "file to open folders/Cotton/Gujarat/mynewdata_1969_July.csv\n",
      "False\n",
      "After\n"
     ]
    },
    {
     "name": "stderr",
     "output_type": "stream",
     "text": [
      "/usr/local/lib/python3.6/dist-packages/ipykernel_launcher.py:33: DeprecationWarning: use options instead of chrome_options\n"
     ]
    },
    {
     "name": "stdout",
     "output_type": "stream",
     "text": [
      "inside try, t= 0\n",
      "driver.get\n",
      "YEAR Exception\n",
      "inside try, t= 1\n",
      "driver.get\n",
      "YEAR Exception\n",
      "inside try, t= 2\n",
      "driver.get\n",
      "YEAR Exception\n",
      "1969 August Gujarat Cotton\n",
      "file to open folders/Cotton/Gujarat/mynewdata_1969_August.csv\n",
      "False\n",
      "After\n"
     ]
    },
    {
     "name": "stderr",
     "output_type": "stream",
     "text": [
      "/usr/local/lib/python3.6/dist-packages/ipykernel_launcher.py:33: DeprecationWarning: use options instead of chrome_options\n"
     ]
    },
    {
     "name": "stdout",
     "output_type": "stream",
     "text": [
      "inside try, t= 0\n",
      "driver.get\n",
      "YEAR Exception\n",
      "inside try, t= 1\n",
      "driver.get\n",
      "YEAR Exception\n",
      "inside try, t= 2\n",
      "driver.get\n",
      "YEAR Exception\n",
      "1969 September Gujarat Cotton\n",
      "file to open folders/Cotton/Gujarat/mynewdata_1969_September.csv\n",
      "False\n",
      "After\n"
     ]
    },
    {
     "name": "stderr",
     "output_type": "stream",
     "text": [
      "/usr/local/lib/python3.6/dist-packages/ipykernel_launcher.py:33: DeprecationWarning: use options instead of chrome_options\n"
     ]
    },
    {
     "name": "stdout",
     "output_type": "stream",
     "text": [
      "inside try, t= 0\n",
      "driver.get\n",
      "YEAR Exception\n",
      "inside try, t= 1\n",
      "driver.get\n",
      "YEAR Exception\n",
      "inside try, t= 2\n",
      "driver.get\n",
      "YEAR Exception\n",
      "1969 October Gujarat Cotton\n",
      "file to open folders/Cotton/Gujarat/mynewdata_1969_October.csv\n",
      "False\n",
      "After\n"
     ]
    },
    {
     "name": "stderr",
     "output_type": "stream",
     "text": [
      "/usr/local/lib/python3.6/dist-packages/ipykernel_launcher.py:33: DeprecationWarning: use options instead of chrome_options\n"
     ]
    },
    {
     "name": "stdout",
     "output_type": "stream",
     "text": [
      "inside try, t= 0\n",
      "driver.get\n",
      "YEAR Exception\n",
      "inside try, t= 1\n",
      "driver.get\n",
      "YEAR Exception\n",
      "inside try, t= 2\n",
      "driver.get\n",
      "YEAR Exception\n",
      "1969 November Gujarat Cotton\n",
      "file to open folders/Cotton/Gujarat/mynewdata_1969_November.csv\n",
      "False\n",
      "After\n"
     ]
    },
    {
     "name": "stderr",
     "output_type": "stream",
     "text": [
      "/usr/local/lib/python3.6/dist-packages/ipykernel_launcher.py:33: DeprecationWarning: use options instead of chrome_options\n"
     ]
    },
    {
     "name": "stdout",
     "output_type": "stream",
     "text": [
      "inside try, t= 0\n",
      "driver.get\n",
      "YEAR Exception\n",
      "inside try, t= 1\n",
      "driver.get\n",
      "YEAR Exception\n",
      "inside try, t= 2\n",
      "driver.get\n",
      "YEAR Exception\n",
      "1969 December Gujarat Cotton\n",
      "file to open folders/Cotton/Gujarat/mynewdata_1969_December.csv\n",
      "False\n",
      "After\n"
     ]
    },
    {
     "name": "stderr",
     "output_type": "stream",
     "text": [
      "/usr/local/lib/python3.6/dist-packages/ipykernel_launcher.py:33: DeprecationWarning: use options instead of chrome_options\n"
     ]
    },
    {
     "name": "stdout",
     "output_type": "stream",
     "text": [
      "inside try, t= 0\n",
      "driver.get\n",
      "YEAR Exception\n",
      "inside try, t= 1\n",
      "driver.get\n",
      "YEAR Exception\n",
      "inside try, t= 2\n",
      "driver.get\n",
      "YEAR Exception\n",
      "1970 January Gujarat Cotton\n",
      "file to open folders/Cotton/Gujarat/mynewdata_1970_January.csv\n",
      "False\n",
      "After\n"
     ]
    },
    {
     "name": "stderr",
     "output_type": "stream",
     "text": [
      "/usr/local/lib/python3.6/dist-packages/ipykernel_launcher.py:33: DeprecationWarning: use options instead of chrome_options\n"
     ]
    },
    {
     "name": "stdout",
     "output_type": "stream",
     "text": [
      "inside try, t= 0\n",
      "driver.get\n",
      "YEAR Exception\n",
      "inside try, t= 1\n",
      "driver.get\n",
      "YEAR Exception\n",
      "inside try, t= 2\n",
      "driver.get\n",
      "YEAR Exception\n",
      "1970 February Gujarat Cotton\n",
      "file to open folders/Cotton/Gujarat/mynewdata_1970_February.csv\n",
      "False\n",
      "After\n"
     ]
    },
    {
     "name": "stderr",
     "output_type": "stream",
     "text": [
      "/usr/local/lib/python3.6/dist-packages/ipykernel_launcher.py:33: DeprecationWarning: use options instead of chrome_options\n"
     ]
    },
    {
     "name": "stdout",
     "output_type": "stream",
     "text": [
      "inside try, t= 0\n",
      "driver.get\n",
      "YEAR Exception\n",
      "inside try, t= 1\n",
      "driver.get\n",
      "YEAR Exception\n",
      "inside try, t= 2\n",
      "driver.get\n",
      "YEAR Exception\n",
      "1970 March Gujarat Cotton\n",
      "file to open folders/Cotton/Gujarat/mynewdata_1970_March.csv\n",
      "False\n",
      "After\n"
     ]
    },
    {
     "name": "stderr",
     "output_type": "stream",
     "text": [
      "/usr/local/lib/python3.6/dist-packages/ipykernel_launcher.py:33: DeprecationWarning: use options instead of chrome_options\n"
     ]
    },
    {
     "name": "stdout",
     "output_type": "stream",
     "text": [
      "inside try, t= 0\n",
      "driver.get\n",
      "YEAR Exception\n",
      "inside try, t= 1\n",
      "driver.get\n",
      "YEAR Exception\n",
      "inside try, t= 2\n",
      "driver.get\n",
      "YEAR Exception\n",
      "1970 April Gujarat Cotton\n",
      "file to open folders/Cotton/Gujarat/mynewdata_1970_April.csv\n",
      "False\n",
      "After\n"
     ]
    },
    {
     "name": "stderr",
     "output_type": "stream",
     "text": [
      "/usr/local/lib/python3.6/dist-packages/ipykernel_launcher.py:33: DeprecationWarning: use options instead of chrome_options\n"
     ]
    },
    {
     "name": "stdout",
     "output_type": "stream",
     "text": [
      "inside try, t= 0\n",
      "driver.get\n",
      "YEAR Exception\n",
      "inside try, t= 1\n",
      "driver.get\n",
      "YEAR Exception\n",
      "inside try, t= 2\n",
      "driver.get\n",
      "YEAR Exception\n",
      "1970 May Gujarat Cotton\n",
      "file to open folders/Cotton/Gujarat/mynewdata_1970_May.csv\n",
      "False\n",
      "After\n"
     ]
    },
    {
     "name": "stderr",
     "output_type": "stream",
     "text": [
      "/usr/local/lib/python3.6/dist-packages/ipykernel_launcher.py:33: DeprecationWarning: use options instead of chrome_options\n"
     ]
    },
    {
     "name": "stdout",
     "output_type": "stream",
     "text": [
      "inside try, t= 0\n",
      "driver.get\n",
      "YEAR Exception\n",
      "inside try, t= 1\n",
      "driver.get\n",
      "YEAR Exception\n",
      "inside try, t= 2\n",
      "driver.get\n",
      "YEAR Exception\n",
      "1970 June Gujarat Cotton\n",
      "file to open folders/Cotton/Gujarat/mynewdata_1970_June.csv\n",
      "False\n",
      "After\n"
     ]
    },
    {
     "name": "stderr",
     "output_type": "stream",
     "text": [
      "/usr/local/lib/python3.6/dist-packages/ipykernel_launcher.py:33: DeprecationWarning: use options instead of chrome_options\n"
     ]
    },
    {
     "name": "stdout",
     "output_type": "stream",
     "text": [
      "inside try, t= 0\n",
      "driver.get\n",
      "YEAR Exception\n",
      "inside try, t= 1\n",
      "driver.get\n",
      "YEAR Exception\n",
      "inside try, t= 2\n",
      "driver.get\n",
      "YEAR Exception\n",
      "1970 July Gujarat Cotton\n",
      "file to open folders/Cotton/Gujarat/mynewdata_1970_July.csv\n",
      "False\n",
      "After\n"
     ]
    },
    {
     "name": "stderr",
     "output_type": "stream",
     "text": [
      "/usr/local/lib/python3.6/dist-packages/ipykernel_launcher.py:33: DeprecationWarning: use options instead of chrome_options\n"
     ]
    },
    {
     "name": "stdout",
     "output_type": "stream",
     "text": [
      "inside try, t= 0\n",
      "driver.get\n",
      "YEAR Exception\n",
      "inside try, t= 1\n",
      "driver.get\n",
      "YEAR Exception\n",
      "inside try, t= 2\n",
      "driver.get\n",
      "YEAR Exception\n",
      "1970 August Gujarat Cotton\n",
      "file to open folders/Cotton/Gujarat/mynewdata_1970_August.csv\n",
      "False\n",
      "After\n"
     ]
    },
    {
     "name": "stderr",
     "output_type": "stream",
     "text": [
      "/usr/local/lib/python3.6/dist-packages/ipykernel_launcher.py:33: DeprecationWarning: use options instead of chrome_options\n"
     ]
    },
    {
     "name": "stdout",
     "output_type": "stream",
     "text": [
      "inside try, t= 0\n",
      "driver.get\n",
      "YEAR Exception\n",
      "inside try, t= 1\n",
      "driver.get\n",
      "YEAR Exception\n",
      "inside try, t= 2\n",
      "driver.get\n",
      "YEAR Exception\n",
      "1970 September Gujarat Cotton\n",
      "file to open folders/Cotton/Gujarat/mynewdata_1970_September.csv\n",
      "False\n",
      "After\n"
     ]
    },
    {
     "name": "stderr",
     "output_type": "stream",
     "text": [
      "/usr/local/lib/python3.6/dist-packages/ipykernel_launcher.py:33: DeprecationWarning: use options instead of chrome_options\n"
     ]
    },
    {
     "name": "stdout",
     "output_type": "stream",
     "text": [
      "inside try, t= 0\n",
      "driver.get\n",
      "YEAR Exception\n",
      "inside try, t= 1\n",
      "driver.get\n",
      "YEAR Exception\n",
      "inside try, t= 2\n",
      "driver.get\n",
      "YEAR Exception\n",
      "1970 October Gujarat Cotton\n",
      "file to open folders/Cotton/Gujarat/mynewdata_1970_October.csv\n",
      "False\n",
      "After\n"
     ]
    },
    {
     "name": "stderr",
     "output_type": "stream",
     "text": [
      "/usr/local/lib/python3.6/dist-packages/ipykernel_launcher.py:33: DeprecationWarning: use options instead of chrome_options\n"
     ]
    },
    {
     "name": "stdout",
     "output_type": "stream",
     "text": [
      "inside try, t= 0\n",
      "driver.get\n",
      "YEAR Exception\n",
      "inside try, t= 1\n",
      "driver.get\n",
      "YEAR Exception\n",
      "inside try, t= 2\n",
      "driver.get\n",
      "YEAR Exception\n",
      "1970 November Gujarat Cotton\n",
      "file to open folders/Cotton/Gujarat/mynewdata_1970_November.csv\n",
      "False\n",
      "After\n"
     ]
    },
    {
     "name": "stderr",
     "output_type": "stream",
     "text": [
      "/usr/local/lib/python3.6/dist-packages/ipykernel_launcher.py:33: DeprecationWarning: use options instead of chrome_options\n"
     ]
    },
    {
     "name": "stdout",
     "output_type": "stream",
     "text": [
      "inside try, t= 0\n",
      "driver.get\n",
      "YEAR Exception\n",
      "inside try, t= 1\n",
      "driver.get\n",
      "YEAR Exception\n",
      "inside try, t= 2\n",
      "driver.get\n",
      "YEAR Exception\n",
      "1970 December Gujarat Cotton\n",
      "file to open folders/Cotton/Gujarat/mynewdata_1970_December.csv\n",
      "False\n",
      "After\n"
     ]
    },
    {
     "name": "stderr",
     "output_type": "stream",
     "text": [
      "/usr/local/lib/python3.6/dist-packages/ipykernel_launcher.py:33: DeprecationWarning: use options instead of chrome_options\n"
     ]
    },
    {
     "name": "stdout",
     "output_type": "stream",
     "text": [
      "inside try, t= 0\n",
      "driver.get\n",
      "YEAR Exception\n",
      "inside try, t= 1\n",
      "driver.get\n",
      "YEAR Exception\n",
      "inside try, t= 2\n",
      "driver.get\n",
      "YEAR Exception\n",
      "1971 January Gujarat Cotton\n",
      "file to open folders/Cotton/Gujarat/mynewdata_1971_January.csv\n",
      "False\n",
      "After\n"
     ]
    },
    {
     "name": "stderr",
     "output_type": "stream",
     "text": [
      "/usr/local/lib/python3.6/dist-packages/ipykernel_launcher.py:33: DeprecationWarning: use options instead of chrome_options\n"
     ]
    },
    {
     "name": "stdout",
     "output_type": "stream",
     "text": [
      "inside try, t= 0\n",
      "driver.get\n",
      "YEAR Exception\n",
      "inside try, t= 1\n",
      "driver.get\n",
      "YEAR Exception\n",
      "inside try, t= 2\n",
      "driver.get\n",
      "YEAR Exception\n",
      "1971 February Gujarat Cotton\n",
      "file to open folders/Cotton/Gujarat/mynewdata_1971_February.csv\n",
      "False\n",
      "After\n"
     ]
    },
    {
     "name": "stderr",
     "output_type": "stream",
     "text": [
      "/usr/local/lib/python3.6/dist-packages/ipykernel_launcher.py:33: DeprecationWarning: use options instead of chrome_options\n"
     ]
    },
    {
     "name": "stdout",
     "output_type": "stream",
     "text": [
      "inside try, t= 0\n",
      "driver.get\n",
      "YEAR Exception\n",
      "inside try, t= 1\n",
      "driver.get\n",
      "YEAR Exception\n",
      "inside try, t= 2\n",
      "driver.get\n",
      "YEAR Exception\n",
      "1971 March Gujarat Cotton\n",
      "file to open folders/Cotton/Gujarat/mynewdata_1971_March.csv\n",
      "False\n",
      "After\n"
     ]
    },
    {
     "name": "stderr",
     "output_type": "stream",
     "text": [
      "/usr/local/lib/python3.6/dist-packages/ipykernel_launcher.py:33: DeprecationWarning: use options instead of chrome_options\n"
     ]
    },
    {
     "name": "stdout",
     "output_type": "stream",
     "text": [
      "inside try, t= 0\n",
      "driver.get\n",
      "YEAR Exception\n",
      "inside try, t= 1\n",
      "driver.get\n",
      "YEAR Exception\n",
      "inside try, t= 2\n",
      "driver.get\n",
      "YEAR Exception\n",
      "1971 April Gujarat Cotton\n",
      "file to open folders/Cotton/Gujarat/mynewdata_1971_April.csv\n",
      "False\n",
      "After\n"
     ]
    },
    {
     "name": "stderr",
     "output_type": "stream",
     "text": [
      "/usr/local/lib/python3.6/dist-packages/ipykernel_launcher.py:33: DeprecationWarning: use options instead of chrome_options\n"
     ]
    },
    {
     "name": "stdout",
     "output_type": "stream",
     "text": [
      "inside try, t= 0\n",
      "driver.get\n",
      "YEAR Exception\n",
      "inside try, t= 1\n",
      "driver.get\n",
      "YEAR Exception\n",
      "inside try, t= 2\n",
      "driver.get\n",
      "YEAR Exception\n",
      "1971 May Gujarat Cotton\n",
      "file to open folders/Cotton/Gujarat/mynewdata_1971_May.csv\n",
      "False\n",
      "After\n"
     ]
    },
    {
     "name": "stderr",
     "output_type": "stream",
     "text": [
      "/usr/local/lib/python3.6/dist-packages/ipykernel_launcher.py:33: DeprecationWarning: use options instead of chrome_options\n"
     ]
    },
    {
     "name": "stdout",
     "output_type": "stream",
     "text": [
      "inside try, t= 0\n",
      "driver.get\n",
      "YEAR Exception\n",
      "inside try, t= 1\n",
      "driver.get\n",
      "YEAR Exception\n",
      "inside try, t= 2\n",
      "driver.get\n",
      "YEAR Exception\n",
      "1971 June Gujarat Cotton\n",
      "file to open folders/Cotton/Gujarat/mynewdata_1971_June.csv\n",
      "False\n",
      "After\n"
     ]
    },
    {
     "name": "stderr",
     "output_type": "stream",
     "text": [
      "/usr/local/lib/python3.6/dist-packages/ipykernel_launcher.py:33: DeprecationWarning: use options instead of chrome_options\n"
     ]
    },
    {
     "name": "stdout",
     "output_type": "stream",
     "text": [
      "inside try, t= 0\n",
      "driver.get\n",
      "YEAR Exception\n",
      "inside try, t= 1\n",
      "driver.get\n",
      "YEAR Exception\n",
      "inside try, t= 2\n",
      "driver.get\n",
      "YEAR Exception\n",
      "1971 July Gujarat Cotton\n",
      "file to open folders/Cotton/Gujarat/mynewdata_1971_July.csv\n",
      "False\n",
      "After\n"
     ]
    },
    {
     "name": "stderr",
     "output_type": "stream",
     "text": [
      "/usr/local/lib/python3.6/dist-packages/ipykernel_launcher.py:33: DeprecationWarning: use options instead of chrome_options\n"
     ]
    },
    {
     "name": "stdout",
     "output_type": "stream",
     "text": [
      "inside try, t= 0\n",
      "driver.get\n",
      "YEAR Exception\n",
      "inside try, t= 1\n",
      "driver.get\n",
      "YEAR Exception\n",
      "inside try, t= 2\n",
      "driver.get\n",
      "YEAR Exception\n",
      "1971 August Gujarat Cotton\n",
      "file to open folders/Cotton/Gujarat/mynewdata_1971_August.csv\n",
      "False\n",
      "After\n"
     ]
    },
    {
     "name": "stderr",
     "output_type": "stream",
     "text": [
      "/usr/local/lib/python3.6/dist-packages/ipykernel_launcher.py:33: DeprecationWarning: use options instead of chrome_options\n"
     ]
    },
    {
     "name": "stdout",
     "output_type": "stream",
     "text": [
      "inside try, t= 0\n",
      "driver.get\n",
      "YEAR Exception\n",
      "inside try, t= 1\n",
      "driver.get\n",
      "YEAR Exception\n",
      "inside try, t= 2\n",
      "driver.get\n",
      "YEAR Exception\n",
      "1971 September Gujarat Cotton\n",
      "file to open folders/Cotton/Gujarat/mynewdata_1971_September.csv\n",
      "False\n",
      "After\n"
     ]
    },
    {
     "name": "stderr",
     "output_type": "stream",
     "text": [
      "/usr/local/lib/python3.6/dist-packages/ipykernel_launcher.py:33: DeprecationWarning: use options instead of chrome_options\n"
     ]
    },
    {
     "name": "stdout",
     "output_type": "stream",
     "text": [
      "inside try, t= 0\n",
      "driver.get\n",
      "YEAR Exception\n",
      "inside try, t= 1\n",
      "driver.get\n",
      "YEAR Exception\n",
      "inside try, t= 2\n",
      "driver.get\n",
      "YEAR Exception\n",
      "1971 October Gujarat Cotton\n",
      "file to open folders/Cotton/Gujarat/mynewdata_1971_October.csv\n",
      "False\n",
      "After\n"
     ]
    },
    {
     "name": "stderr",
     "output_type": "stream",
     "text": [
      "/usr/local/lib/python3.6/dist-packages/ipykernel_launcher.py:33: DeprecationWarning: use options instead of chrome_options\n"
     ]
    },
    {
     "name": "stdout",
     "output_type": "stream",
     "text": [
      "inside try, t= 0\n",
      "driver.get\n",
      "YEAR Exception\n",
      "inside try, t= 1\n",
      "driver.get\n",
      "YEAR Exception\n",
      "inside try, t= 2\n",
      "driver.get\n",
      "YEAR Exception\n",
      "1971 November Gujarat Cotton\n",
      "file to open folders/Cotton/Gujarat/mynewdata_1971_November.csv\n",
      "False\n",
      "After\n"
     ]
    },
    {
     "name": "stderr",
     "output_type": "stream",
     "text": [
      "/usr/local/lib/python3.6/dist-packages/ipykernel_launcher.py:33: DeprecationWarning: use options instead of chrome_options\n"
     ]
    },
    {
     "name": "stdout",
     "output_type": "stream",
     "text": [
      "inside try, t= 0\n",
      "driver.get\n",
      "YEAR Exception\n",
      "inside try, t= 1\n",
      "driver.get\n",
      "YEAR Exception\n",
      "inside try, t= 2\n",
      "driver.get\n",
      "YEAR Exception\n",
      "1971 December Gujarat Cotton\n",
      "file to open folders/Cotton/Gujarat/mynewdata_1971_December.csv\n",
      "False\n",
      "After\n"
     ]
    },
    {
     "name": "stderr",
     "output_type": "stream",
     "text": [
      "/usr/local/lib/python3.6/dist-packages/ipykernel_launcher.py:33: DeprecationWarning: use options instead of chrome_options\n"
     ]
    },
    {
     "name": "stdout",
     "output_type": "stream",
     "text": [
      "inside try, t= 0\n",
      "driver.get\n",
      "YEAR Exception\n",
      "inside try, t= 1\n",
      "driver.get\n",
      "YEAR Exception\n",
      "inside try, t= 2\n",
      "driver.get\n",
      "YEAR Exception\n",
      "1972 January Gujarat Cotton\n",
      "file to open folders/Cotton/Gujarat/mynewdata_1972_January.csv\n",
      "False\n",
      "After\n"
     ]
    },
    {
     "name": "stderr",
     "output_type": "stream",
     "text": [
      "/usr/local/lib/python3.6/dist-packages/ipykernel_launcher.py:33: DeprecationWarning: use options instead of chrome_options\n"
     ]
    },
    {
     "name": "stdout",
     "output_type": "stream",
     "text": [
      "inside try, t= 0\n",
      "driver.get\n",
      "YEAR Exception\n",
      "inside try, t= 1\n",
      "driver.get\n",
      "YEAR Exception\n",
      "inside try, t= 2\n",
      "driver.get\n",
      "YEAR Exception\n",
      "1972 February Gujarat Cotton\n",
      "file to open folders/Cotton/Gujarat/mynewdata_1972_February.csv\n",
      "False\n",
      "After\n"
     ]
    },
    {
     "name": "stderr",
     "output_type": "stream",
     "text": [
      "/usr/local/lib/python3.6/dist-packages/ipykernel_launcher.py:33: DeprecationWarning: use options instead of chrome_options\n"
     ]
    },
    {
     "name": "stdout",
     "output_type": "stream",
     "text": [
      "inside try, t= 0\n",
      "driver.get\n",
      "YEAR Exception\n",
      "inside try, t= 1\n",
      "driver.get\n",
      "YEAR Exception\n",
      "inside try, t= 2\n",
      "driver.get\n",
      "YEAR Exception\n",
      "1972 March Gujarat Cotton\n",
      "file to open folders/Cotton/Gujarat/mynewdata_1972_March.csv\n",
      "False\n",
      "After\n"
     ]
    },
    {
     "name": "stderr",
     "output_type": "stream",
     "text": [
      "/usr/local/lib/python3.6/dist-packages/ipykernel_launcher.py:33: DeprecationWarning: use options instead of chrome_options\n"
     ]
    },
    {
     "name": "stdout",
     "output_type": "stream",
     "text": [
      "inside try, t= 0\n",
      "driver.get\n",
      "YEAR Exception\n",
      "inside try, t= 1\n",
      "driver.get\n",
      "YEAR Exception\n",
      "inside try, t= 2\n",
      "driver.get\n",
      "YEAR Exception\n",
      "1972 April Gujarat Cotton\n",
      "file to open folders/Cotton/Gujarat/mynewdata_1972_April.csv\n",
      "False\n",
      "After\n"
     ]
    },
    {
     "name": "stderr",
     "output_type": "stream",
     "text": [
      "/usr/local/lib/python3.6/dist-packages/ipykernel_launcher.py:33: DeprecationWarning: use options instead of chrome_options\n"
     ]
    },
    {
     "name": "stdout",
     "output_type": "stream",
     "text": [
      "inside try, t= 0\n",
      "driver.get\n",
      "YEAR Exception\n",
      "inside try, t= 1\n",
      "driver.get\n",
      "YEAR Exception\n",
      "inside try, t= 2\n",
      "driver.get\n",
      "YEAR Exception\n",
      "1972 May Gujarat Cotton\n",
      "file to open folders/Cotton/Gujarat/mynewdata_1972_May.csv\n",
      "False\n",
      "After\n"
     ]
    },
    {
     "name": "stderr",
     "output_type": "stream",
     "text": [
      "/usr/local/lib/python3.6/dist-packages/ipykernel_launcher.py:33: DeprecationWarning: use options instead of chrome_options\n"
     ]
    },
    {
     "name": "stdout",
     "output_type": "stream",
     "text": [
      "inside try, t= 0\n",
      "driver.get\n",
      "YEAR Exception\n",
      "inside try, t= 1\n",
      "driver.get\n",
      "YEAR Exception\n",
      "inside try, t= 2\n",
      "driver.get\n",
      "YEAR Exception\n",
      "1972 June Gujarat Cotton\n",
      "file to open folders/Cotton/Gujarat/mynewdata_1972_June.csv\n",
      "False\n",
      "After\n"
     ]
    },
    {
     "name": "stderr",
     "output_type": "stream",
     "text": [
      "/usr/local/lib/python3.6/dist-packages/ipykernel_launcher.py:33: DeprecationWarning: use options instead of chrome_options\n"
     ]
    },
    {
     "name": "stdout",
     "output_type": "stream",
     "text": [
      "inside try, t= 0\n",
      "driver.get\n",
      "YEAR Exception\n",
      "inside try, t= 1\n",
      "driver.get\n",
      "YEAR Exception\n",
      "inside try, t= 2\n",
      "driver.get\n",
      "YEAR Exception\n",
      "1972 July Gujarat Cotton\n",
      "file to open folders/Cotton/Gujarat/mynewdata_1972_July.csv\n",
      "False\n",
      "After\n"
     ]
    },
    {
     "name": "stderr",
     "output_type": "stream",
     "text": [
      "/usr/local/lib/python3.6/dist-packages/ipykernel_launcher.py:33: DeprecationWarning: use options instead of chrome_options\n"
     ]
    },
    {
     "name": "stdout",
     "output_type": "stream",
     "text": [
      "inside try, t= 0\n",
      "driver.get\n",
      "YEAR Exception\n",
      "inside try, t= 1\n",
      "driver.get\n",
      "YEAR Exception\n",
      "inside try, t= 2\n",
      "driver.get\n",
      "YEAR Exception\n",
      "1972 August Gujarat Cotton\n",
      "file to open folders/Cotton/Gujarat/mynewdata_1972_August.csv\n",
      "False\n",
      "After\n"
     ]
    },
    {
     "name": "stderr",
     "output_type": "stream",
     "text": [
      "/usr/local/lib/python3.6/dist-packages/ipykernel_launcher.py:33: DeprecationWarning: use options instead of chrome_options\n"
     ]
    },
    {
     "name": "stdout",
     "output_type": "stream",
     "text": [
      "inside try, t= 0\n",
      "driver.get\n",
      "YEAR Exception\n",
      "inside try, t= 1\n",
      "driver.get\n",
      "YEAR Exception\n",
      "inside try, t= 2\n",
      "driver.get\n",
      "YEAR Exception\n",
      "1972 September Gujarat Cotton\n",
      "file to open folders/Cotton/Gujarat/mynewdata_1972_September.csv\n",
      "False\n",
      "After\n"
     ]
    },
    {
     "name": "stderr",
     "output_type": "stream",
     "text": [
      "/usr/local/lib/python3.6/dist-packages/ipykernel_launcher.py:33: DeprecationWarning: use options instead of chrome_options\n"
     ]
    },
    {
     "name": "stdout",
     "output_type": "stream",
     "text": [
      "inside try, t= 0\n",
      "driver.get\n",
      "YEAR Exception\n",
      "inside try, t= 1\n",
      "driver.get\n",
      "YEAR Exception\n",
      "inside try, t= 2\n",
      "driver.get\n",
      "YEAR Exception\n",
      "1972 October Gujarat Cotton\n",
      "file to open folders/Cotton/Gujarat/mynewdata_1972_October.csv\n",
      "False\n",
      "After\n"
     ]
    },
    {
     "name": "stderr",
     "output_type": "stream",
     "text": [
      "/usr/local/lib/python3.6/dist-packages/ipykernel_launcher.py:33: DeprecationWarning: use options instead of chrome_options\n"
     ]
    },
    {
     "name": "stdout",
     "output_type": "stream",
     "text": [
      "inside try, t= 0\n",
      "driver.get\n",
      "YEAR Exception\n",
      "inside try, t= 1\n",
      "driver.get\n",
      "YEAR Exception\n",
      "inside try, t= 2\n",
      "driver.get\n",
      "YEAR Exception\n",
      "1972 November Gujarat Cotton\n",
      "file to open folders/Cotton/Gujarat/mynewdata_1972_November.csv\n",
      "False\n",
      "After\n"
     ]
    },
    {
     "name": "stderr",
     "output_type": "stream",
     "text": [
      "/usr/local/lib/python3.6/dist-packages/ipykernel_launcher.py:33: DeprecationWarning: use options instead of chrome_options\n"
     ]
    },
    {
     "name": "stdout",
     "output_type": "stream",
     "text": [
      "inside try, t= 0\n",
      "driver.get\n",
      "YEAR Exception\n",
      "inside try, t= 1\n",
      "driver.get\n",
      "YEAR Exception\n",
      "inside try, t= 2\n",
      "driver.get\n",
      "YEAR Exception\n",
      "1972 December Gujarat Cotton\n",
      "file to open folders/Cotton/Gujarat/mynewdata_1972_December.csv\n",
      "False\n",
      "After\n"
     ]
    },
    {
     "name": "stderr",
     "output_type": "stream",
     "text": [
      "/usr/local/lib/python3.6/dist-packages/ipykernel_launcher.py:33: DeprecationWarning: use options instead of chrome_options\n"
     ]
    },
    {
     "name": "stdout",
     "output_type": "stream",
     "text": [
      "inside try, t= 0\n",
      "driver.get\n",
      "YEAR Exception\n",
      "inside try, t= 1\n",
      "driver.get\n",
      "YEAR Exception\n",
      "inside try, t= 2\n",
      "driver.get\n",
      "YEAR Exception\n",
      "1973 January Gujarat Cotton\n",
      "file to open folders/Cotton/Gujarat/mynewdata_1973_January.csv\n",
      "False\n",
      "After\n"
     ]
    },
    {
     "name": "stderr",
     "output_type": "stream",
     "text": [
      "/usr/local/lib/python3.6/dist-packages/ipykernel_launcher.py:33: DeprecationWarning: use options instead of chrome_options\n"
     ]
    },
    {
     "name": "stdout",
     "output_type": "stream",
     "text": [
      "inside try, t= 0\n",
      "driver.get\n",
      "YEAR Exception\n",
      "inside try, t= 1\n",
      "driver.get\n",
      "YEAR Exception\n",
      "inside try, t= 2\n",
      "driver.get\n",
      "YEAR Exception\n",
      "1973 February Gujarat Cotton\n",
      "file to open folders/Cotton/Gujarat/mynewdata_1973_February.csv\n",
      "False\n",
      "After\n"
     ]
    },
    {
     "name": "stderr",
     "output_type": "stream",
     "text": [
      "/usr/local/lib/python3.6/dist-packages/ipykernel_launcher.py:33: DeprecationWarning: use options instead of chrome_options\n"
     ]
    },
    {
     "name": "stdout",
     "output_type": "stream",
     "text": [
      "inside try, t= 0\n",
      "driver.get\n",
      "YEAR Exception\n",
      "inside try, t= 1\n",
      "driver.get\n",
      "YEAR Exception\n",
      "inside try, t= 2\n",
      "driver.get\n",
      "YEAR Exception\n",
      "1973 March Gujarat Cotton\n",
      "file to open folders/Cotton/Gujarat/mynewdata_1973_March.csv\n",
      "False\n",
      "After\n"
     ]
    },
    {
     "name": "stderr",
     "output_type": "stream",
     "text": [
      "/usr/local/lib/python3.6/dist-packages/ipykernel_launcher.py:33: DeprecationWarning: use options instead of chrome_options\n"
     ]
    },
    {
     "name": "stdout",
     "output_type": "stream",
     "text": [
      "inside try, t= 0\n",
      "driver.get\n",
      "YEAR Exception\n",
      "inside try, t= 1\n",
      "driver.get\n",
      "YEAR Exception\n",
      "inside try, t= 2\n",
      "driver.get\n",
      "YEAR Exception\n",
      "1973 April Gujarat Cotton\n",
      "file to open folders/Cotton/Gujarat/mynewdata_1973_April.csv\n",
      "False\n",
      "After\n"
     ]
    },
    {
     "name": "stderr",
     "output_type": "stream",
     "text": [
      "/usr/local/lib/python3.6/dist-packages/ipykernel_launcher.py:33: DeprecationWarning: use options instead of chrome_options\n"
     ]
    },
    {
     "name": "stdout",
     "output_type": "stream",
     "text": [
      "inside try, t= 0\n",
      "driver.get\n",
      "YEAR Exception\n",
      "inside try, t= 1\n",
      "driver.get\n",
      "YEAR Exception\n",
      "inside try, t= 2\n",
      "driver.get\n",
      "YEAR Exception\n",
      "1973 May Gujarat Cotton\n",
      "file to open folders/Cotton/Gujarat/mynewdata_1973_May.csv\n",
      "False\n",
      "After\n"
     ]
    },
    {
     "name": "stderr",
     "output_type": "stream",
     "text": [
      "/usr/local/lib/python3.6/dist-packages/ipykernel_launcher.py:33: DeprecationWarning: use options instead of chrome_options\n"
     ]
    },
    {
     "name": "stdout",
     "output_type": "stream",
     "text": [
      "inside try, t= 0\n",
      "driver.get\n",
      "YEAR Exception\n",
      "inside try, t= 1\n",
      "driver.get\n",
      "YEAR Exception\n",
      "inside try, t= 2\n",
      "driver.get\n",
      "YEAR Exception\n",
      "1973 June Gujarat Cotton\n",
      "file to open folders/Cotton/Gujarat/mynewdata_1973_June.csv\n",
      "False\n",
      "After\n"
     ]
    },
    {
     "name": "stderr",
     "output_type": "stream",
     "text": [
      "/usr/local/lib/python3.6/dist-packages/ipykernel_launcher.py:33: DeprecationWarning: use options instead of chrome_options\n"
     ]
    },
    {
     "name": "stdout",
     "output_type": "stream",
     "text": [
      "inside try, t= 0\n",
      "driver.get\n",
      "YEAR Exception\n",
      "inside try, t= 1\n",
      "driver.get\n",
      "YEAR Exception\n",
      "inside try, t= 2\n",
      "driver.get\n",
      "YEAR Exception\n",
      "1973 July Gujarat Cotton\n",
      "file to open folders/Cotton/Gujarat/mynewdata_1973_July.csv\n",
      "False\n",
      "After\n"
     ]
    },
    {
     "name": "stderr",
     "output_type": "stream",
     "text": [
      "/usr/local/lib/python3.6/dist-packages/ipykernel_launcher.py:33: DeprecationWarning: use options instead of chrome_options\n"
     ]
    },
    {
     "name": "stdout",
     "output_type": "stream",
     "text": [
      "inside try, t= 0\n",
      "driver.get\n",
      "YEAR Exception\n",
      "inside try, t= 1\n",
      "driver.get\n",
      "YEAR Exception\n",
      "inside try, t= 2\n",
      "driver.get\n",
      "YEAR Exception\n",
      "1973 August Gujarat Cotton\n",
      "file to open folders/Cotton/Gujarat/mynewdata_1973_August.csv\n",
      "False\n",
      "After\n"
     ]
    },
    {
     "name": "stderr",
     "output_type": "stream",
     "text": [
      "/usr/local/lib/python3.6/dist-packages/ipykernel_launcher.py:33: DeprecationWarning: use options instead of chrome_options\n"
     ]
    },
    {
     "name": "stdout",
     "output_type": "stream",
     "text": [
      "inside try, t= 0\n",
      "driver.get\n",
      "YEAR Exception\n",
      "inside try, t= 1\n",
      "driver.get\n",
      "YEAR Exception\n",
      "inside try, t= 2\n",
      "driver.get\n",
      "YEAR Exception\n",
      "1973 September Gujarat Cotton\n",
      "file to open folders/Cotton/Gujarat/mynewdata_1973_September.csv\n",
      "False\n",
      "After\n"
     ]
    },
    {
     "name": "stderr",
     "output_type": "stream",
     "text": [
      "/usr/local/lib/python3.6/dist-packages/ipykernel_launcher.py:33: DeprecationWarning: use options instead of chrome_options\n"
     ]
    },
    {
     "name": "stdout",
     "output_type": "stream",
     "text": [
      "inside try, t= 0\n",
      "driver.get\n",
      "Timeout exveption\n",
      "driver.get\n",
      "YEAR Exception\n",
      "inside try, t= 1\n",
      "driver.get\n",
      "YEAR Exception\n",
      "inside try, t= 2\n",
      "driver.get\n",
      "YEAR Exception\n",
      "1973 October Gujarat Cotton\n",
      "file to open folders/Cotton/Gujarat/mynewdata_1973_October.csv\n",
      "False\n",
      "After\n"
     ]
    },
    {
     "name": "stderr",
     "output_type": "stream",
     "text": [
      "/usr/local/lib/python3.6/dist-packages/ipykernel_launcher.py:33: DeprecationWarning: use options instead of chrome_options\n"
     ]
    },
    {
     "name": "stdout",
     "output_type": "stream",
     "text": [
      "inside try, t= 0\n",
      "driver.get\n",
      "YEAR Exception\n",
      "inside try, t= 1\n",
      "driver.get\n",
      "YEAR Exception\n",
      "inside try, t= 2\n",
      "driver.get\n",
      "YEAR Exception\n",
      "1973 November Gujarat Cotton\n",
      "file to open folders/Cotton/Gujarat/mynewdata_1973_November.csv\n",
      "False\n",
      "After\n"
     ]
    },
    {
     "name": "stderr",
     "output_type": "stream",
     "text": [
      "/usr/local/lib/python3.6/dist-packages/ipykernel_launcher.py:33: DeprecationWarning: use options instead of chrome_options\n"
     ]
    },
    {
     "name": "stdout",
     "output_type": "stream",
     "text": [
      "inside try, t= 0\n",
      "driver.get\n",
      "YEAR Exception\n",
      "inside try, t= 1\n",
      "driver.get\n",
      "YEAR Exception\n",
      "inside try, t= 2\n",
      "driver.get\n",
      "YEAR Exception\n",
      "1973 December Gujarat Cotton\n",
      "file to open folders/Cotton/Gujarat/mynewdata_1973_December.csv\n",
      "False\n",
      "After\n"
     ]
    },
    {
     "name": "stderr",
     "output_type": "stream",
     "text": [
      "/usr/local/lib/python3.6/dist-packages/ipykernel_launcher.py:33: DeprecationWarning: use options instead of chrome_options\n"
     ]
    },
    {
     "name": "stdout",
     "output_type": "stream",
     "text": [
      "inside try, t= 0\n",
      "driver.get\n",
      "YEAR Exception\n",
      "inside try, t= 1\n",
      "driver.get\n",
      "YEAR Exception\n",
      "inside try, t= 2\n",
      "driver.get\n",
      "YEAR Exception\n",
      "1974 January Gujarat Cotton\n",
      "file to open folders/Cotton/Gujarat/mynewdata_1974_January.csv\n",
      "False\n",
      "After\n"
     ]
    },
    {
     "name": "stderr",
     "output_type": "stream",
     "text": [
      "/usr/local/lib/python3.6/dist-packages/ipykernel_launcher.py:33: DeprecationWarning: use options instead of chrome_options\n"
     ]
    },
    {
     "name": "stdout",
     "output_type": "stream",
     "text": [
      "inside try, t= 0\n",
      "driver.get\n",
      "YEAR Exception\n",
      "inside try, t= 1\n",
      "driver.get\n",
      "YEAR Exception\n",
      "inside try, t= 2\n",
      "driver.get\n",
      "YEAR Exception\n",
      "1974 February Gujarat Cotton\n",
      "file to open folders/Cotton/Gujarat/mynewdata_1974_February.csv\n",
      "False\n",
      "After\n"
     ]
    },
    {
     "name": "stderr",
     "output_type": "stream",
     "text": [
      "/usr/local/lib/python3.6/dist-packages/ipykernel_launcher.py:33: DeprecationWarning: use options instead of chrome_options\n"
     ]
    },
    {
     "name": "stdout",
     "output_type": "stream",
     "text": [
      "inside try, t= 0\n",
      "driver.get\n",
      "YEAR Exception\n",
      "inside try, t= 1\n",
      "driver.get\n",
      "YEAR Exception\n",
      "inside try, t= 2\n",
      "driver.get\n",
      "YEAR Exception\n",
      "1974 March Gujarat Cotton\n",
      "file to open folders/Cotton/Gujarat/mynewdata_1974_March.csv\n",
      "False\n",
      "After\n"
     ]
    },
    {
     "name": "stderr",
     "output_type": "stream",
     "text": [
      "/usr/local/lib/python3.6/dist-packages/ipykernel_launcher.py:33: DeprecationWarning: use options instead of chrome_options\n"
     ]
    },
    {
     "name": "stdout",
     "output_type": "stream",
     "text": [
      "inside try, t= 0\n",
      "driver.get\n",
      "YEAR Exception\n",
      "inside try, t= 1\n",
      "driver.get\n",
      "YEAR Exception\n",
      "inside try, t= 2\n",
      "driver.get\n",
      "YEAR Exception\n",
      "1974 April Gujarat Cotton\n",
      "file to open folders/Cotton/Gujarat/mynewdata_1974_April.csv\n",
      "False\n",
      "After\n"
     ]
    },
    {
     "name": "stderr",
     "output_type": "stream",
     "text": [
      "/usr/local/lib/python3.6/dist-packages/ipykernel_launcher.py:33: DeprecationWarning: use options instead of chrome_options\n"
     ]
    },
    {
     "name": "stdout",
     "output_type": "stream",
     "text": [
      "inside try, t= 0\n",
      "driver.get\n",
      "YEAR Exception\n",
      "inside try, t= 1\n",
      "driver.get\n",
      "YEAR Exception\n",
      "inside try, t= 2\n",
      "driver.get\n",
      "YEAR Exception\n",
      "1974 May Gujarat Cotton\n",
      "file to open folders/Cotton/Gujarat/mynewdata_1974_May.csv\n",
      "False\n",
      "After\n"
     ]
    },
    {
     "name": "stderr",
     "output_type": "stream",
     "text": [
      "/usr/local/lib/python3.6/dist-packages/ipykernel_launcher.py:33: DeprecationWarning: use options instead of chrome_options\n"
     ]
    },
    {
     "name": "stdout",
     "output_type": "stream",
     "text": [
      "inside try, t= 0\n",
      "driver.get\n",
      "YEAR Exception\n",
      "inside try, t= 1\n",
      "driver.get\n",
      "YEAR Exception\n",
      "inside try, t= 2\n",
      "driver.get\n",
      "YEAR Exception\n",
      "1974 June Gujarat Cotton\n",
      "file to open folders/Cotton/Gujarat/mynewdata_1974_June.csv\n",
      "False\n",
      "After\n"
     ]
    },
    {
     "name": "stderr",
     "output_type": "stream",
     "text": [
      "/usr/local/lib/python3.6/dist-packages/ipykernel_launcher.py:33: DeprecationWarning: use options instead of chrome_options\n"
     ]
    },
    {
     "name": "stdout",
     "output_type": "stream",
     "text": [
      "inside try, t= 0\n",
      "driver.get\n",
      "YEAR Exception\n",
      "inside try, t= 1\n",
      "driver.get\n",
      "YEAR Exception\n",
      "inside try, t= 2\n",
      "driver.get\n",
      "YEAR Exception\n",
      "1974 July Gujarat Cotton\n",
      "file to open folders/Cotton/Gujarat/mynewdata_1974_July.csv\n",
      "False\n",
      "After\n"
     ]
    },
    {
     "name": "stderr",
     "output_type": "stream",
     "text": [
      "/usr/local/lib/python3.6/dist-packages/ipykernel_launcher.py:33: DeprecationWarning: use options instead of chrome_options\n"
     ]
    },
    {
     "name": "stdout",
     "output_type": "stream",
     "text": [
      "inside try, t= 0\n",
      "driver.get\n",
      "YEAR Exception\n",
      "inside try, t= 1\n",
      "driver.get\n",
      "YEAR Exception\n",
      "inside try, t= 2\n",
      "driver.get\n",
      "YEAR Exception\n",
      "1974 August Gujarat Cotton\n",
      "file to open folders/Cotton/Gujarat/mynewdata_1974_August.csv\n",
      "False\n",
      "After\n"
     ]
    },
    {
     "name": "stderr",
     "output_type": "stream",
     "text": [
      "/usr/local/lib/python3.6/dist-packages/ipykernel_launcher.py:33: DeprecationWarning: use options instead of chrome_options\n"
     ]
    },
    {
     "name": "stdout",
     "output_type": "stream",
     "text": [
      "inside try, t= 0\n",
      "driver.get\n",
      "YEAR Exception\n",
      "inside try, t= 1\n",
      "driver.get\n",
      "YEAR Exception\n",
      "inside try, t= 2\n",
      "driver.get\n",
      "YEAR Exception\n",
      "1974 September Gujarat Cotton\n",
      "file to open folders/Cotton/Gujarat/mynewdata_1974_September.csv\n",
      "False\n",
      "After\n"
     ]
    },
    {
     "name": "stderr",
     "output_type": "stream",
     "text": [
      "/usr/local/lib/python3.6/dist-packages/ipykernel_launcher.py:33: DeprecationWarning: use options instead of chrome_options\n"
     ]
    },
    {
     "name": "stdout",
     "output_type": "stream",
     "text": [
      "inside try, t= 0\n",
      "driver.get\n",
      "YEAR Exception\n",
      "inside try, t= 1\n",
      "driver.get\n",
      "YEAR Exception\n",
      "inside try, t= 2\n",
      "driver.get\n",
      "YEAR Exception\n",
      "1974 October Gujarat Cotton\n",
      "file to open folders/Cotton/Gujarat/mynewdata_1974_October.csv\n",
      "False\n",
      "After\n"
     ]
    },
    {
     "name": "stderr",
     "output_type": "stream",
     "text": [
      "/usr/local/lib/python3.6/dist-packages/ipykernel_launcher.py:33: DeprecationWarning: use options instead of chrome_options\n"
     ]
    },
    {
     "name": "stdout",
     "output_type": "stream",
     "text": [
      "inside try, t= 0\n",
      "driver.get\n",
      "YEAR Exception\n",
      "inside try, t= 1\n",
      "driver.get\n",
      "YEAR Exception\n",
      "inside try, t= 2\n",
      "driver.get\n",
      "YEAR Exception\n",
      "1974 November Gujarat Cotton\n",
      "file to open folders/Cotton/Gujarat/mynewdata_1974_November.csv\n",
      "False\n",
      "After\n"
     ]
    },
    {
     "name": "stderr",
     "output_type": "stream",
     "text": [
      "/usr/local/lib/python3.6/dist-packages/ipykernel_launcher.py:33: DeprecationWarning: use options instead of chrome_options\n"
     ]
    },
    {
     "name": "stdout",
     "output_type": "stream",
     "text": [
      "inside try, t= 0\n",
      "driver.get\n",
      "YEAR Exception\n",
      "inside try, t= 1\n",
      "driver.get\n",
      "YEAR Exception\n",
      "inside try, t= 2\n",
      "driver.get\n",
      "YEAR Exception\n",
      "1974 December Gujarat Cotton\n",
      "file to open folders/Cotton/Gujarat/mynewdata_1974_December.csv\n",
      "False\n",
      "After\n"
     ]
    },
    {
     "name": "stderr",
     "output_type": "stream",
     "text": [
      "/usr/local/lib/python3.6/dist-packages/ipykernel_launcher.py:33: DeprecationWarning: use options instead of chrome_options\n"
     ]
    },
    {
     "name": "stdout",
     "output_type": "stream",
     "text": [
      "inside try, t= 0\n",
      "driver.get\n",
      "YEAR Exception\n",
      "inside try, t= 1\n",
      "driver.get\n",
      "YEAR Exception\n",
      "inside try, t= 2\n",
      "driver.get\n",
      "YEAR Exception\n",
      "1975 January Gujarat Cotton\n",
      "file to open folders/Cotton/Gujarat/mynewdata_1975_January.csv\n",
      "False\n",
      "After\n"
     ]
    },
    {
     "name": "stderr",
     "output_type": "stream",
     "text": [
      "/usr/local/lib/python3.6/dist-packages/ipykernel_launcher.py:33: DeprecationWarning: use options instead of chrome_options\n"
     ]
    },
    {
     "name": "stdout",
     "output_type": "stream",
     "text": [
      "inside try, t= 0\n",
      "driver.get\n",
      "YEAR Exception\n",
      "inside try, t= 1\n",
      "driver.get\n",
      "YEAR Exception\n",
      "inside try, t= 2\n",
      "driver.get\n",
      "YEAR Exception\n",
      "1975 February Gujarat Cotton\n",
      "file to open folders/Cotton/Gujarat/mynewdata_1975_February.csv\n",
      "False\n",
      "After\n"
     ]
    },
    {
     "name": "stderr",
     "output_type": "stream",
     "text": [
      "/usr/local/lib/python3.6/dist-packages/ipykernel_launcher.py:33: DeprecationWarning: use options instead of chrome_options\n"
     ]
    },
    {
     "name": "stdout",
     "output_type": "stream",
     "text": [
      "inside try, t= 0\n",
      "driver.get\n",
      "YEAR Exception\n",
      "inside try, t= 1\n",
      "driver.get\n",
      "YEAR Exception\n",
      "inside try, t= 2\n",
      "driver.get\n",
      "YEAR Exception\n",
      "1975 March Gujarat Cotton\n",
      "file to open folders/Cotton/Gujarat/mynewdata_1975_March.csv\n",
      "False\n",
      "After\n"
     ]
    },
    {
     "name": "stderr",
     "output_type": "stream",
     "text": [
      "/usr/local/lib/python3.6/dist-packages/ipykernel_launcher.py:33: DeprecationWarning: use options instead of chrome_options\n"
     ]
    },
    {
     "name": "stdout",
     "output_type": "stream",
     "text": [
      "inside try, t= 0\n",
      "driver.get\n",
      "YEAR Exception\n",
      "inside try, t= 1\n",
      "driver.get\n",
      "YEAR Exception\n",
      "inside try, t= 2\n",
      "driver.get\n",
      "YEAR Exception\n",
      "1975 April Gujarat Cotton\n",
      "file to open folders/Cotton/Gujarat/mynewdata_1975_April.csv\n",
      "False\n",
      "After\n"
     ]
    },
    {
     "name": "stderr",
     "output_type": "stream",
     "text": [
      "/usr/local/lib/python3.6/dist-packages/ipykernel_launcher.py:33: DeprecationWarning: use options instead of chrome_options\n"
     ]
    },
    {
     "name": "stdout",
     "output_type": "stream",
     "text": [
      "inside try, t= 0\n",
      "driver.get\n",
      "YEAR Exception\n",
      "inside try, t= 1\n",
      "driver.get\n",
      "YEAR Exception\n",
      "inside try, t= 2\n",
      "driver.get\n",
      "YEAR Exception\n",
      "1975 May Gujarat Cotton\n",
      "file to open folders/Cotton/Gujarat/mynewdata_1975_May.csv\n",
      "False\n",
      "After\n"
     ]
    },
    {
     "name": "stderr",
     "output_type": "stream",
     "text": [
      "/usr/local/lib/python3.6/dist-packages/ipykernel_launcher.py:33: DeprecationWarning: use options instead of chrome_options\n"
     ]
    },
    {
     "name": "stdout",
     "output_type": "stream",
     "text": [
      "inside try, t= 0\n",
      "driver.get\n",
      "YEAR Exception\n",
      "inside try, t= 1\n",
      "driver.get\n",
      "YEAR Exception\n",
      "inside try, t= 2\n",
      "driver.get\n",
      "YEAR Exception\n",
      "1975 June Gujarat Cotton\n",
      "file to open folders/Cotton/Gujarat/mynewdata_1975_June.csv\n",
      "False\n",
      "After\n"
     ]
    },
    {
     "name": "stderr",
     "output_type": "stream",
     "text": [
      "/usr/local/lib/python3.6/dist-packages/ipykernel_launcher.py:33: DeprecationWarning: use options instead of chrome_options\n"
     ]
    },
    {
     "name": "stdout",
     "output_type": "stream",
     "text": [
      "inside try, t= 0\n",
      "driver.get\n",
      "YEAR Exception\n",
      "inside try, t= 1\n",
      "driver.get\n",
      "YEAR Exception\n",
      "inside try, t= 2\n",
      "driver.get\n",
      "YEAR Exception\n",
      "1975 July Gujarat Cotton\n",
      "file to open folders/Cotton/Gujarat/mynewdata_1975_July.csv\n",
      "False\n",
      "After\n"
     ]
    },
    {
     "name": "stderr",
     "output_type": "stream",
     "text": [
      "/usr/local/lib/python3.6/dist-packages/ipykernel_launcher.py:33: DeprecationWarning: use options instead of chrome_options\n"
     ]
    },
    {
     "name": "stdout",
     "output_type": "stream",
     "text": [
      "inside try, t= 0\n",
      "driver.get\n",
      "YEAR Exception\n",
      "inside try, t= 1\n",
      "driver.get\n",
      "YEAR Exception\n",
      "inside try, t= 2\n",
      "driver.get\n",
      "YEAR Exception\n",
      "1975 August Gujarat Cotton\n",
      "file to open folders/Cotton/Gujarat/mynewdata_1975_August.csv\n",
      "False\n",
      "After\n"
     ]
    },
    {
     "name": "stderr",
     "output_type": "stream",
     "text": [
      "/usr/local/lib/python3.6/dist-packages/ipykernel_launcher.py:33: DeprecationWarning: use options instead of chrome_options\n"
     ]
    },
    {
     "name": "stdout",
     "output_type": "stream",
     "text": [
      "inside try, t= 0\n",
      "driver.get\n",
      "YEAR Exception\n",
      "inside try, t= 1\n",
      "driver.get\n",
      "YEAR Exception\n",
      "inside try, t= 2\n",
      "driver.get\n",
      "YEAR Exception\n",
      "1975 September Gujarat Cotton\n",
      "file to open folders/Cotton/Gujarat/mynewdata_1975_September.csv\n",
      "False\n",
      "After\n"
     ]
    },
    {
     "name": "stderr",
     "output_type": "stream",
     "text": [
      "/usr/local/lib/python3.6/dist-packages/ipykernel_launcher.py:33: DeprecationWarning: use options instead of chrome_options\n"
     ]
    },
    {
     "name": "stdout",
     "output_type": "stream",
     "text": [
      "inside try, t= 0\n",
      "driver.get\n",
      "YEAR Exception\n",
      "inside try, t= 1\n",
      "driver.get\n",
      "YEAR Exception\n",
      "inside try, t= 2\n",
      "driver.get\n",
      "YEAR Exception\n",
      "1975 October Gujarat Cotton\n",
      "file to open folders/Cotton/Gujarat/mynewdata_1975_October.csv\n",
      "False\n",
      "After\n"
     ]
    },
    {
     "name": "stderr",
     "output_type": "stream",
     "text": [
      "/usr/local/lib/python3.6/dist-packages/ipykernel_launcher.py:33: DeprecationWarning: use options instead of chrome_options\n"
     ]
    },
    {
     "name": "stdout",
     "output_type": "stream",
     "text": [
      "inside try, t= 0\n",
      "driver.get\n",
      "YEAR Exception\n",
      "inside try, t= 1\n",
      "driver.get\n",
      "YEAR Exception\n",
      "inside try, t= 2\n",
      "driver.get\n",
      "YEAR Exception\n",
      "1975 November Gujarat Cotton\n",
      "file to open folders/Cotton/Gujarat/mynewdata_1975_November.csv\n",
      "False\n",
      "After\n"
     ]
    },
    {
     "name": "stderr",
     "output_type": "stream",
     "text": [
      "/usr/local/lib/python3.6/dist-packages/ipykernel_launcher.py:33: DeprecationWarning: use options instead of chrome_options\n"
     ]
    },
    {
     "name": "stdout",
     "output_type": "stream",
     "text": [
      "inside try, t= 0\n",
      "driver.get\n",
      "YEAR Exception\n",
      "inside try, t= 1\n",
      "driver.get\n",
      "YEAR Exception\n",
      "inside try, t= 2\n",
      "driver.get\n",
      "YEAR Exception\n",
      "1975 December Gujarat Cotton\n",
      "file to open folders/Cotton/Gujarat/mynewdata_1975_December.csv\n",
      "False\n",
      "After\n"
     ]
    },
    {
     "name": "stderr",
     "output_type": "stream",
     "text": [
      "/usr/local/lib/python3.6/dist-packages/ipykernel_launcher.py:33: DeprecationWarning: use options instead of chrome_options\n"
     ]
    },
    {
     "name": "stdout",
     "output_type": "stream",
     "text": [
      "inside try, t= 0\n",
      "driver.get\n",
      "YEAR Exception\n",
      "inside try, t= 1\n",
      "driver.get\n",
      "YEAR Exception\n",
      "inside try, t= 2\n",
      "driver.get\n",
      "YEAR Exception\n",
      "1976 January Gujarat Cotton\n",
      "file to open folders/Cotton/Gujarat/mynewdata_1976_January.csv\n",
      "False\n",
      "After\n"
     ]
    },
    {
     "name": "stderr",
     "output_type": "stream",
     "text": [
      "/usr/local/lib/python3.6/dist-packages/ipykernel_launcher.py:33: DeprecationWarning: use options instead of chrome_options\n"
     ]
    },
    {
     "name": "stdout",
     "output_type": "stream",
     "text": [
      "inside try, t= 0\n",
      "driver.get\n",
      "YEAR Exception\n",
      "inside try, t= 1\n",
      "driver.get\n",
      "YEAR Exception\n",
      "inside try, t= 2\n",
      "driver.get\n",
      "YEAR Exception\n",
      "1976 February Gujarat Cotton\n",
      "file to open folders/Cotton/Gujarat/mynewdata_1976_February.csv\n",
      "False\n",
      "After\n"
     ]
    },
    {
     "name": "stderr",
     "output_type": "stream",
     "text": [
      "/usr/local/lib/python3.6/dist-packages/ipykernel_launcher.py:33: DeprecationWarning: use options instead of chrome_options\n"
     ]
    },
    {
     "name": "stdout",
     "output_type": "stream",
     "text": [
      "inside try, t= 0\n",
      "driver.get\n",
      "YEAR Exception\n",
      "inside try, t= 1\n",
      "driver.get\n",
      "YEAR Exception\n",
      "inside try, t= 2\n",
      "driver.get\n",
      "YEAR Exception\n",
      "1976 March Gujarat Cotton\n",
      "file to open folders/Cotton/Gujarat/mynewdata_1976_March.csv\n",
      "False\n",
      "After\n"
     ]
    },
    {
     "name": "stderr",
     "output_type": "stream",
     "text": [
      "/usr/local/lib/python3.6/dist-packages/ipykernel_launcher.py:33: DeprecationWarning: use options instead of chrome_options\n"
     ]
    },
    {
     "name": "stdout",
     "output_type": "stream",
     "text": [
      "inside try, t= 0\n",
      "driver.get\n",
      "YEAR Exception\n",
      "inside try, t= 1\n",
      "driver.get\n",
      "YEAR Exception\n",
      "inside try, t= 2\n",
      "driver.get\n",
      "YEAR Exception\n",
      "1976 April Gujarat Cotton\n",
      "file to open folders/Cotton/Gujarat/mynewdata_1976_April.csv\n",
      "False\n",
      "After\n"
     ]
    },
    {
     "name": "stderr",
     "output_type": "stream",
     "text": [
      "/usr/local/lib/python3.6/dist-packages/ipykernel_launcher.py:33: DeprecationWarning: use options instead of chrome_options\n"
     ]
    },
    {
     "name": "stdout",
     "output_type": "stream",
     "text": [
      "inside try, t= 0\n",
      "driver.get\n",
      "YEAR Exception\n",
      "inside try, t= 1\n",
      "driver.get\n",
      "YEAR Exception\n",
      "inside try, t= 2\n",
      "driver.get\n",
      "YEAR Exception\n",
      "1976 May Gujarat Cotton\n",
      "file to open folders/Cotton/Gujarat/mynewdata_1976_May.csv\n",
      "False\n",
      "After\n"
     ]
    },
    {
     "name": "stderr",
     "output_type": "stream",
     "text": [
      "/usr/local/lib/python3.6/dist-packages/ipykernel_launcher.py:33: DeprecationWarning: use options instead of chrome_options\n"
     ]
    },
    {
     "name": "stdout",
     "output_type": "stream",
     "text": [
      "inside try, t= 0\n",
      "driver.get\n",
      "YEAR Exception\n",
      "inside try, t= 1\n",
      "driver.get\n",
      "YEAR Exception\n",
      "inside try, t= 2\n",
      "driver.get\n",
      "YEAR Exception\n",
      "1976 June Gujarat Cotton\n",
      "file to open folders/Cotton/Gujarat/mynewdata_1976_June.csv\n",
      "False\n",
      "After\n"
     ]
    },
    {
     "name": "stderr",
     "output_type": "stream",
     "text": [
      "/usr/local/lib/python3.6/dist-packages/ipykernel_launcher.py:33: DeprecationWarning: use options instead of chrome_options\n"
     ]
    },
    {
     "name": "stdout",
     "output_type": "stream",
     "text": [
      "inside try, t= 0\n",
      "driver.get\n",
      "YEAR Exception\n",
      "inside try, t= 1\n",
      "driver.get\n",
      "YEAR Exception\n",
      "inside try, t= 2\n",
      "driver.get\n",
      "YEAR Exception\n",
      "1976 July Gujarat Cotton\n",
      "file to open folders/Cotton/Gujarat/mynewdata_1976_July.csv\n",
      "False\n",
      "After\n"
     ]
    },
    {
     "name": "stderr",
     "output_type": "stream",
     "text": [
      "/usr/local/lib/python3.6/dist-packages/ipykernel_launcher.py:33: DeprecationWarning: use options instead of chrome_options\n"
     ]
    },
    {
     "name": "stdout",
     "output_type": "stream",
     "text": [
      "inside try, t= 0\n",
      "driver.get\n",
      "YEAR Exception\n",
      "inside try, t= 1\n",
      "driver.get\n",
      "YEAR Exception\n",
      "inside try, t= 2\n",
      "driver.get\n",
      "YEAR Exception\n",
      "1976 August Gujarat Cotton\n",
      "file to open folders/Cotton/Gujarat/mynewdata_1976_August.csv\n",
      "False\n",
      "After\n"
     ]
    },
    {
     "name": "stderr",
     "output_type": "stream",
     "text": [
      "/usr/local/lib/python3.6/dist-packages/ipykernel_launcher.py:33: DeprecationWarning: use options instead of chrome_options\n"
     ]
    },
    {
     "name": "stdout",
     "output_type": "stream",
     "text": [
      "inside try, t= 0\n",
      "driver.get\n",
      "YEAR Exception\n",
      "inside try, t= 1\n",
      "driver.get\n",
      "YEAR Exception\n",
      "inside try, t= 2\n",
      "driver.get\n",
      "YEAR Exception\n",
      "1976 September Gujarat Cotton\n",
      "file to open folders/Cotton/Gujarat/mynewdata_1976_September.csv\n",
      "False\n",
      "After\n"
     ]
    },
    {
     "name": "stderr",
     "output_type": "stream",
     "text": [
      "/usr/local/lib/python3.6/dist-packages/ipykernel_launcher.py:33: DeprecationWarning: use options instead of chrome_options\n"
     ]
    },
    {
     "name": "stdout",
     "output_type": "stream",
     "text": [
      "inside try, t= 0\n",
      "driver.get\n",
      "YEAR Exception\n",
      "inside try, t= 1\n",
      "driver.get\n",
      "YEAR Exception\n",
      "inside try, t= 2\n",
      "driver.get\n",
      "YEAR Exception\n",
      "1976 October Gujarat Cotton\n",
      "file to open folders/Cotton/Gujarat/mynewdata_1976_October.csv\n",
      "False\n",
      "After\n"
     ]
    },
    {
     "name": "stderr",
     "output_type": "stream",
     "text": [
      "/usr/local/lib/python3.6/dist-packages/ipykernel_launcher.py:33: DeprecationWarning: use options instead of chrome_options\n"
     ]
    },
    {
     "name": "stdout",
     "output_type": "stream",
     "text": [
      "inside try, t= 0\n",
      "driver.get\n",
      "YEAR Exception\n",
      "inside try, t= 1\n",
      "driver.get\n",
      "YEAR Exception\n",
      "inside try, t= 2\n",
      "driver.get\n",
      "YEAR Exception\n",
      "1976 November Gujarat Cotton\n",
      "file to open folders/Cotton/Gujarat/mynewdata_1976_November.csv\n",
      "False\n",
      "After\n"
     ]
    },
    {
     "name": "stderr",
     "output_type": "stream",
     "text": [
      "/usr/local/lib/python3.6/dist-packages/ipykernel_launcher.py:33: DeprecationWarning: use options instead of chrome_options\n"
     ]
    },
    {
     "name": "stdout",
     "output_type": "stream",
     "text": [
      "inside try, t= 0\n",
      "driver.get\n",
      "YEAR Exception\n",
      "inside try, t= 1\n",
      "driver.get\n",
      "YEAR Exception\n",
      "inside try, t= 2\n",
      "driver.get\n",
      "YEAR Exception\n",
      "1976 December Gujarat Cotton\n",
      "file to open folders/Cotton/Gujarat/mynewdata_1976_December.csv\n",
      "False\n",
      "After\n"
     ]
    },
    {
     "name": "stderr",
     "output_type": "stream",
     "text": [
      "/usr/local/lib/python3.6/dist-packages/ipykernel_launcher.py:33: DeprecationWarning: use options instead of chrome_options\n"
     ]
    },
    {
     "name": "stdout",
     "output_type": "stream",
     "text": [
      "inside try, t= 0\n",
      "driver.get\n",
      "YEAR Exception\n",
      "inside try, t= 1\n",
      "driver.get\n",
      "YEAR Exception\n",
      "inside try, t= 2\n",
      "driver.get\n",
      "YEAR Exception\n",
      "1977 January Gujarat Cotton\n",
      "file to open folders/Cotton/Gujarat/mynewdata_1977_January.csv\n",
      "False\n",
      "After\n"
     ]
    },
    {
     "name": "stderr",
     "output_type": "stream",
     "text": [
      "/usr/local/lib/python3.6/dist-packages/ipykernel_launcher.py:33: DeprecationWarning: use options instead of chrome_options\n"
     ]
    },
    {
     "name": "stdout",
     "output_type": "stream",
     "text": [
      "inside try, t= 0\n",
      "driver.get\n",
      "YEAR Exception\n",
      "inside try, t= 1\n",
      "driver.get\n",
      "YEAR Exception\n",
      "inside try, t= 2\n",
      "driver.get\n",
      "YEAR Exception\n",
      "1977 February Gujarat Cotton\n",
      "file to open folders/Cotton/Gujarat/mynewdata_1977_February.csv\n",
      "False\n",
      "After\n"
     ]
    },
    {
     "name": "stderr",
     "output_type": "stream",
     "text": [
      "/usr/local/lib/python3.6/dist-packages/ipykernel_launcher.py:33: DeprecationWarning: use options instead of chrome_options\n"
     ]
    },
    {
     "name": "stdout",
     "output_type": "stream",
     "text": [
      "inside try, t= 0\n",
      "driver.get\n",
      "YEAR Exception\n",
      "inside try, t= 1\n",
      "driver.get\n",
      "YEAR Exception\n",
      "inside try, t= 2\n",
      "driver.get\n",
      "YEAR Exception\n",
      "1977 March Gujarat Cotton\n",
      "file to open folders/Cotton/Gujarat/mynewdata_1977_March.csv\n",
      "False\n",
      "After\n"
     ]
    },
    {
     "name": "stderr",
     "output_type": "stream",
     "text": [
      "/usr/local/lib/python3.6/dist-packages/ipykernel_launcher.py:33: DeprecationWarning: use options instead of chrome_options\n"
     ]
    },
    {
     "name": "stdout",
     "output_type": "stream",
     "text": [
      "inside try, t= 0\n",
      "driver.get\n",
      "YEAR Exception\n",
      "inside try, t= 1\n",
      "driver.get\n",
      "YEAR Exception\n",
      "inside try, t= 2\n",
      "driver.get\n",
      "YEAR Exception\n",
      "1977 April Gujarat Cotton\n",
      "file to open folders/Cotton/Gujarat/mynewdata_1977_April.csv\n",
      "False\n",
      "After\n"
     ]
    },
    {
     "name": "stderr",
     "output_type": "stream",
     "text": [
      "/usr/local/lib/python3.6/dist-packages/ipykernel_launcher.py:33: DeprecationWarning: use options instead of chrome_options\n"
     ]
    },
    {
     "name": "stdout",
     "output_type": "stream",
     "text": [
      "inside try, t= 0\n",
      "driver.get\n",
      "YEAR Exception\n",
      "inside try, t= 1\n",
      "driver.get\n",
      "YEAR Exception\n",
      "inside try, t= 2\n",
      "driver.get\n",
      "YEAR Exception\n",
      "1977 May Gujarat Cotton\n",
      "file to open folders/Cotton/Gujarat/mynewdata_1977_May.csv\n",
      "False\n",
      "After\n"
     ]
    },
    {
     "name": "stderr",
     "output_type": "stream",
     "text": [
      "/usr/local/lib/python3.6/dist-packages/ipykernel_launcher.py:33: DeprecationWarning: use options instead of chrome_options\n"
     ]
    },
    {
     "name": "stdout",
     "output_type": "stream",
     "text": [
      "inside try, t= 0\n",
      "driver.get\n",
      "YEAR Exception\n",
      "inside try, t= 1\n",
      "driver.get\n",
      "YEAR Exception\n",
      "inside try, t= 2\n",
      "driver.get\n",
      "YEAR Exception\n",
      "1977 June Gujarat Cotton\n",
      "file to open folders/Cotton/Gujarat/mynewdata_1977_June.csv\n",
      "False\n",
      "After\n"
     ]
    },
    {
     "name": "stderr",
     "output_type": "stream",
     "text": [
      "/usr/local/lib/python3.6/dist-packages/ipykernel_launcher.py:33: DeprecationWarning: use options instead of chrome_options\n"
     ]
    },
    {
     "name": "stdout",
     "output_type": "stream",
     "text": [
      "inside try, t= 0\n",
      "driver.get\n",
      "YEAR Exception\n",
      "inside try, t= 1\n",
      "driver.get\n",
      "YEAR Exception\n",
      "inside try, t= 2\n",
      "driver.get\n",
      "YEAR Exception\n",
      "1977 July Gujarat Cotton\n",
      "file to open folders/Cotton/Gujarat/mynewdata_1977_July.csv\n",
      "False\n",
      "After\n"
     ]
    },
    {
     "name": "stderr",
     "output_type": "stream",
     "text": [
      "/usr/local/lib/python3.6/dist-packages/ipykernel_launcher.py:33: DeprecationWarning: use options instead of chrome_options\n"
     ]
    },
    {
     "name": "stdout",
     "output_type": "stream",
     "text": [
      "inside try, t= 0\n",
      "driver.get\n",
      "YEAR Exception\n",
      "inside try, t= 1\n",
      "driver.get\n",
      "YEAR Exception\n",
      "inside try, t= 2\n",
      "driver.get\n",
      "YEAR Exception\n",
      "1977 August Gujarat Cotton\n",
      "file to open folders/Cotton/Gujarat/mynewdata_1977_August.csv\n",
      "False\n",
      "After\n"
     ]
    },
    {
     "name": "stderr",
     "output_type": "stream",
     "text": [
      "/usr/local/lib/python3.6/dist-packages/ipykernel_launcher.py:33: DeprecationWarning: use options instead of chrome_options\n"
     ]
    },
    {
     "name": "stdout",
     "output_type": "stream",
     "text": [
      "inside try, t= 0\n",
      "driver.get\n",
      "YEAR Exception\n",
      "inside try, t= 1\n",
      "driver.get\n",
      "YEAR Exception\n",
      "inside try, t= 2\n",
      "driver.get\n",
      "YEAR Exception\n",
      "1977 September Gujarat Cotton\n",
      "file to open folders/Cotton/Gujarat/mynewdata_1977_September.csv\n",
      "False\n",
      "After\n"
     ]
    },
    {
     "name": "stderr",
     "output_type": "stream",
     "text": [
      "/usr/local/lib/python3.6/dist-packages/ipykernel_launcher.py:33: DeprecationWarning: use options instead of chrome_options\n"
     ]
    },
    {
     "name": "stdout",
     "output_type": "stream",
     "text": [
      "inside try, t= 0\n",
      "driver.get\n",
      "YEAR Exception\n",
      "inside try, t= 1\n",
      "driver.get\n",
      "YEAR Exception\n",
      "inside try, t= 2\n",
      "driver.get\n",
      "YEAR Exception\n",
      "1977 October Gujarat Cotton\n",
      "file to open folders/Cotton/Gujarat/mynewdata_1977_October.csv\n",
      "False\n",
      "After\n"
     ]
    },
    {
     "name": "stderr",
     "output_type": "stream",
     "text": [
      "/usr/local/lib/python3.6/dist-packages/ipykernel_launcher.py:33: DeprecationWarning: use options instead of chrome_options\n"
     ]
    },
    {
     "name": "stdout",
     "output_type": "stream",
     "text": [
      "inside try, t= 0\n",
      "driver.get\n",
      "YEAR Exception\n",
      "inside try, t= 1\n",
      "driver.get\n",
      "YEAR Exception\n",
      "inside try, t= 2\n",
      "driver.get\n",
      "YEAR Exception\n",
      "1977 November Gujarat Cotton\n",
      "file to open folders/Cotton/Gujarat/mynewdata_1977_November.csv\n",
      "False\n",
      "After\n"
     ]
    },
    {
     "name": "stderr",
     "output_type": "stream",
     "text": [
      "/usr/local/lib/python3.6/dist-packages/ipykernel_launcher.py:33: DeprecationWarning: use options instead of chrome_options\n"
     ]
    },
    {
     "name": "stdout",
     "output_type": "stream",
     "text": [
      "inside try, t= 0\n",
      "driver.get\n",
      "YEAR Exception\n",
      "inside try, t= 1\n",
      "driver.get\n",
      "YEAR Exception\n",
      "inside try, t= 2\n",
      "driver.get\n",
      "YEAR Exception\n",
      "1977 December Gujarat Cotton\n",
      "file to open folders/Cotton/Gujarat/mynewdata_1977_December.csv\n",
      "False\n",
      "After\n"
     ]
    },
    {
     "name": "stderr",
     "output_type": "stream",
     "text": [
      "/usr/local/lib/python3.6/dist-packages/ipykernel_launcher.py:33: DeprecationWarning: use options instead of chrome_options\n"
     ]
    },
    {
     "name": "stdout",
     "output_type": "stream",
     "text": [
      "inside try, t= 0\n",
      "driver.get\n",
      "YEAR Exception\n",
      "inside try, t= 1\n",
      "driver.get\n",
      "YEAR Exception\n",
      "inside try, t= 2\n",
      "driver.get\n",
      "YEAR Exception\n",
      "1978 January Gujarat Cotton\n",
      "file to open folders/Cotton/Gujarat/mynewdata_1978_January.csv\n",
      "False\n",
      "After\n"
     ]
    },
    {
     "name": "stderr",
     "output_type": "stream",
     "text": [
      "/usr/local/lib/python3.6/dist-packages/ipykernel_launcher.py:33: DeprecationWarning: use options instead of chrome_options\n"
     ]
    },
    {
     "name": "stdout",
     "output_type": "stream",
     "text": [
      "inside try, t= 0\n",
      "driver.get\n",
      "YEAR Exception\n",
      "inside try, t= 1\n",
      "driver.get\n",
      "YEAR Exception\n",
      "inside try, t= 2\n",
      "driver.get\n",
      "YEAR Exception\n",
      "1978 February Gujarat Cotton\n",
      "file to open folders/Cotton/Gujarat/mynewdata_1978_February.csv\n",
      "False\n",
      "After\n"
     ]
    },
    {
     "name": "stderr",
     "output_type": "stream",
     "text": [
      "/usr/local/lib/python3.6/dist-packages/ipykernel_launcher.py:33: DeprecationWarning: use options instead of chrome_options\n"
     ]
    },
    {
     "name": "stdout",
     "output_type": "stream",
     "text": [
      "inside try, t= 0\n",
      "driver.get\n",
      "YEAR Exception\n",
      "inside try, t= 1\n",
      "driver.get\n",
      "YEAR Exception\n",
      "inside try, t= 2\n",
      "driver.get\n",
      "YEAR Exception\n",
      "1978 March Gujarat Cotton\n",
      "file to open folders/Cotton/Gujarat/mynewdata_1978_March.csv\n",
      "False\n",
      "After\n"
     ]
    },
    {
     "name": "stderr",
     "output_type": "stream",
     "text": [
      "/usr/local/lib/python3.6/dist-packages/ipykernel_launcher.py:33: DeprecationWarning: use options instead of chrome_options\n"
     ]
    },
    {
     "name": "stdout",
     "output_type": "stream",
     "text": [
      "inside try, t= 0\n",
      "driver.get\n",
      "YEAR Exception\n",
      "inside try, t= 1\n",
      "driver.get\n",
      "YEAR Exception\n",
      "inside try, t= 2\n",
      "driver.get\n",
      "YEAR Exception\n",
      "1978 April Gujarat Cotton\n",
      "file to open folders/Cotton/Gujarat/mynewdata_1978_April.csv\n",
      "False\n",
      "After\n"
     ]
    },
    {
     "name": "stderr",
     "output_type": "stream",
     "text": [
      "/usr/local/lib/python3.6/dist-packages/ipykernel_launcher.py:33: DeprecationWarning: use options instead of chrome_options\n"
     ]
    },
    {
     "name": "stdout",
     "output_type": "stream",
     "text": [
      "inside try, t= 0\n",
      "driver.get\n",
      "YEAR Exception\n",
      "inside try, t= 1\n",
      "driver.get\n",
      "YEAR Exception\n",
      "inside try, t= 2\n",
      "driver.get\n",
      "YEAR Exception\n",
      "1978 May Gujarat Cotton\n",
      "file to open folders/Cotton/Gujarat/mynewdata_1978_May.csv\n",
      "False\n",
      "After\n"
     ]
    },
    {
     "name": "stderr",
     "output_type": "stream",
     "text": [
      "/usr/local/lib/python3.6/dist-packages/ipykernel_launcher.py:33: DeprecationWarning: use options instead of chrome_options\n"
     ]
    },
    {
     "name": "stdout",
     "output_type": "stream",
     "text": [
      "inside try, t= 0\n",
      "driver.get\n",
      "YEAR Exception\n",
      "inside try, t= 1\n",
      "driver.get\n",
      "YEAR Exception\n",
      "inside try, t= 2\n",
      "driver.get\n",
      "YEAR Exception\n",
      "1978 June Gujarat Cotton\n",
      "file to open folders/Cotton/Gujarat/mynewdata_1978_June.csv\n",
      "False\n",
      "After\n"
     ]
    },
    {
     "name": "stderr",
     "output_type": "stream",
     "text": [
      "/usr/local/lib/python3.6/dist-packages/ipykernel_launcher.py:33: DeprecationWarning: use options instead of chrome_options\n"
     ]
    },
    {
     "name": "stdout",
     "output_type": "stream",
     "text": [
      "inside try, t= 0\n",
      "driver.get\n",
      "YEAR Exception\n",
      "inside try, t= 1\n",
      "driver.get\n",
      "YEAR Exception\n",
      "inside try, t= 2\n",
      "driver.get\n",
      "YEAR Exception\n",
      "1978 July Gujarat Cotton\n",
      "file to open folders/Cotton/Gujarat/mynewdata_1978_July.csv\n",
      "False\n",
      "After\n"
     ]
    },
    {
     "name": "stderr",
     "output_type": "stream",
     "text": [
      "/usr/local/lib/python3.6/dist-packages/ipykernel_launcher.py:33: DeprecationWarning: use options instead of chrome_options\n"
     ]
    },
    {
     "name": "stdout",
     "output_type": "stream",
     "text": [
      "inside try, t= 0\n",
      "driver.get\n",
      "YEAR Exception\n",
      "inside try, t= 1\n",
      "driver.get\n",
      "YEAR Exception\n",
      "inside try, t= 2\n",
      "driver.get\n",
      "YEAR Exception\n",
      "1978 August Gujarat Cotton\n",
      "file to open folders/Cotton/Gujarat/mynewdata_1978_August.csv\n",
      "False\n",
      "After\n"
     ]
    },
    {
     "name": "stderr",
     "output_type": "stream",
     "text": [
      "/usr/local/lib/python3.6/dist-packages/ipykernel_launcher.py:33: DeprecationWarning: use options instead of chrome_options\n"
     ]
    },
    {
     "name": "stdout",
     "output_type": "stream",
     "text": [
      "inside try, t= 0\n",
      "driver.get\n",
      "YEAR Exception\n",
      "inside try, t= 1\n",
      "driver.get\n",
      "YEAR Exception\n",
      "inside try, t= 2\n",
      "driver.get\n",
      "YEAR Exception\n",
      "1978 September Gujarat Cotton\n",
      "file to open folders/Cotton/Gujarat/mynewdata_1978_September.csv\n",
      "False\n",
      "After\n"
     ]
    },
    {
     "name": "stderr",
     "output_type": "stream",
     "text": [
      "/usr/local/lib/python3.6/dist-packages/ipykernel_launcher.py:33: DeprecationWarning: use options instead of chrome_options\n"
     ]
    },
    {
     "name": "stdout",
     "output_type": "stream",
     "text": [
      "inside try, t= 0\n",
      "driver.get\n",
      "YEAR Exception\n",
      "inside try, t= 1\n",
      "driver.get\n",
      "YEAR Exception\n",
      "inside try, t= 2\n",
      "driver.get\n",
      "YEAR Exception\n",
      "1978 October Gujarat Cotton\n",
      "file to open folders/Cotton/Gujarat/mynewdata_1978_October.csv\n",
      "False\n",
      "After\n"
     ]
    },
    {
     "name": "stderr",
     "output_type": "stream",
     "text": [
      "/usr/local/lib/python3.6/dist-packages/ipykernel_launcher.py:33: DeprecationWarning: use options instead of chrome_options\n"
     ]
    },
    {
     "name": "stdout",
     "output_type": "stream",
     "text": [
      "inside try, t= 0\n",
      "driver.get\n",
      "YEAR Exception\n",
      "inside try, t= 1\n",
      "driver.get\n",
      "YEAR Exception\n",
      "inside try, t= 2\n",
      "driver.get\n",
      "YEAR Exception\n",
      "1978 November Gujarat Cotton\n",
      "file to open folders/Cotton/Gujarat/mynewdata_1978_November.csv\n",
      "False\n",
      "After\n"
     ]
    },
    {
     "name": "stderr",
     "output_type": "stream",
     "text": [
      "/usr/local/lib/python3.6/dist-packages/ipykernel_launcher.py:33: DeprecationWarning: use options instead of chrome_options\n"
     ]
    },
    {
     "name": "stdout",
     "output_type": "stream",
     "text": [
      "inside try, t= 0\n",
      "driver.get\n",
      "YEAR Exception\n",
      "inside try, t= 1\n",
      "driver.get\n",
      "YEAR Exception\n",
      "inside try, t= 2\n",
      "driver.get\n",
      "YEAR Exception\n",
      "1978 December Gujarat Cotton\n",
      "file to open folders/Cotton/Gujarat/mynewdata_1978_December.csv\n",
      "False\n",
      "After\n"
     ]
    },
    {
     "name": "stderr",
     "output_type": "stream",
     "text": [
      "/usr/local/lib/python3.6/dist-packages/ipykernel_launcher.py:33: DeprecationWarning: use options instead of chrome_options\n"
     ]
    },
    {
     "name": "stdout",
     "output_type": "stream",
     "text": [
      "inside try, t= 0\n",
      "driver.get\n",
      "YEAR Exception\n",
      "inside try, t= 1\n",
      "driver.get\n",
      "YEAR Exception\n",
      "inside try, t= 2\n",
      "driver.get\n",
      "YEAR Exception\n",
      "1979 January Gujarat Cotton\n",
      "file to open folders/Cotton/Gujarat/mynewdata_1979_January.csv\n",
      "False\n",
      "After\n"
     ]
    },
    {
     "name": "stderr",
     "output_type": "stream",
     "text": [
      "/usr/local/lib/python3.6/dist-packages/ipykernel_launcher.py:33: DeprecationWarning: use options instead of chrome_options\n"
     ]
    },
    {
     "name": "stdout",
     "output_type": "stream",
     "text": [
      "inside try, t= 0\n",
      "driver.get\n",
      "YEAR Exception\n",
      "inside try, t= 1\n",
      "driver.get\n",
      "YEAR Exception\n",
      "inside try, t= 2\n",
      "driver.get\n",
      "YEAR Exception\n",
      "1979 February Gujarat Cotton\n",
      "file to open folders/Cotton/Gujarat/mynewdata_1979_February.csv\n",
      "False\n",
      "After\n"
     ]
    },
    {
     "name": "stderr",
     "output_type": "stream",
     "text": [
      "/usr/local/lib/python3.6/dist-packages/ipykernel_launcher.py:33: DeprecationWarning: use options instead of chrome_options\n"
     ]
    },
    {
     "name": "stdout",
     "output_type": "stream",
     "text": [
      "inside try, t= 0\n",
      "driver.get\n",
      "YEAR Exception\n",
      "inside try, t= 1\n",
      "driver.get\n",
      "YEAR Exception\n",
      "inside try, t= 2\n",
      "driver.get\n",
      "YEAR Exception\n",
      "1979 March Gujarat Cotton\n",
      "file to open folders/Cotton/Gujarat/mynewdata_1979_March.csv\n",
      "False\n",
      "After\n"
     ]
    },
    {
     "name": "stderr",
     "output_type": "stream",
     "text": [
      "/usr/local/lib/python3.6/dist-packages/ipykernel_launcher.py:33: DeprecationWarning: use options instead of chrome_options\n"
     ]
    },
    {
     "name": "stdout",
     "output_type": "stream",
     "text": [
      "inside try, t= 0\n",
      "driver.get\n",
      "Timeout exveption\n",
      "driver.get\n",
      "YEAR Exception\n",
      "inside try, t= 1\n",
      "driver.get\n",
      "YEAR Exception\n",
      "inside try, t= 2\n",
      "driver.get\n",
      "YEAR Exception\n",
      "1979 April Gujarat Cotton\n",
      "file to open folders/Cotton/Gujarat/mynewdata_1979_April.csv\n",
      "False\n",
      "After\n"
     ]
    },
    {
     "name": "stderr",
     "output_type": "stream",
     "text": [
      "/usr/local/lib/python3.6/dist-packages/ipykernel_launcher.py:33: DeprecationWarning: use options instead of chrome_options\n"
     ]
    },
    {
     "name": "stdout",
     "output_type": "stream",
     "text": [
      "inside try, t= 0\n",
      "driver.get\n",
      "YEAR Exception\n",
      "inside try, t= 1\n",
      "driver.get\n",
      "YEAR Exception\n",
      "inside try, t= 2\n",
      "driver.get\n",
      "YEAR Exception\n",
      "1979 May Gujarat Cotton\n",
      "file to open folders/Cotton/Gujarat/mynewdata_1979_May.csv\n",
      "False\n",
      "After\n"
     ]
    },
    {
     "name": "stderr",
     "output_type": "stream",
     "text": [
      "/usr/local/lib/python3.6/dist-packages/ipykernel_launcher.py:33: DeprecationWarning: use options instead of chrome_options\n"
     ]
    },
    {
     "name": "stdout",
     "output_type": "stream",
     "text": [
      "inside try, t= 0\n",
      "driver.get\n",
      "YEAR Exception\n",
      "inside try, t= 1\n",
      "driver.get\n",
      "YEAR Exception\n",
      "inside try, t= 2\n",
      "driver.get\n",
      "YEAR Exception\n",
      "1979 June Gujarat Cotton\n",
      "file to open folders/Cotton/Gujarat/mynewdata_1979_June.csv\n",
      "False\n",
      "After\n"
     ]
    },
    {
     "name": "stderr",
     "output_type": "stream",
     "text": [
      "/usr/local/lib/python3.6/dist-packages/ipykernel_launcher.py:33: DeprecationWarning: use options instead of chrome_options\n"
     ]
    },
    {
     "name": "stdout",
     "output_type": "stream",
     "text": [
      "inside try, t= 0\n",
      "driver.get\n",
      "YEAR Exception\n",
      "inside try, t= 1\n",
      "driver.get\n",
      "YEAR Exception\n",
      "inside try, t= 2\n",
      "driver.get\n",
      "YEAR Exception\n",
      "1979 July Gujarat Cotton\n",
      "file to open folders/Cotton/Gujarat/mynewdata_1979_July.csv\n",
      "False\n",
      "After\n"
     ]
    },
    {
     "name": "stderr",
     "output_type": "stream",
     "text": [
      "/usr/local/lib/python3.6/dist-packages/ipykernel_launcher.py:33: DeprecationWarning: use options instead of chrome_options\n"
     ]
    },
    {
     "name": "stdout",
     "output_type": "stream",
     "text": [
      "inside try, t= 0\n",
      "driver.get\n",
      "YEAR Exception\n",
      "inside try, t= 1\n",
      "driver.get\n",
      "YEAR Exception\n",
      "inside try, t= 2\n",
      "driver.get\n",
      "YEAR Exception\n",
      "1979 August Gujarat Cotton\n",
      "file to open folders/Cotton/Gujarat/mynewdata_1979_August.csv\n",
      "False\n",
      "After\n"
     ]
    },
    {
     "name": "stderr",
     "output_type": "stream",
     "text": [
      "/usr/local/lib/python3.6/dist-packages/ipykernel_launcher.py:33: DeprecationWarning: use options instead of chrome_options\n"
     ]
    },
    {
     "name": "stdout",
     "output_type": "stream",
     "text": [
      "inside try, t= 0\n",
      "driver.get\n",
      "YEAR Exception\n",
      "inside try, t= 1\n",
      "driver.get\n",
      "YEAR Exception\n",
      "inside try, t= 2\n",
      "driver.get\n",
      "YEAR Exception\n",
      "1979 September Gujarat Cotton\n",
      "file to open folders/Cotton/Gujarat/mynewdata_1979_September.csv\n",
      "False\n",
      "After\n"
     ]
    },
    {
     "name": "stderr",
     "output_type": "stream",
     "text": [
      "/usr/local/lib/python3.6/dist-packages/ipykernel_launcher.py:33: DeprecationWarning: use options instead of chrome_options\n"
     ]
    },
    {
     "name": "stdout",
     "output_type": "stream",
     "text": [
      "inside try, t= 0\n",
      "driver.get\n",
      "YEAR Exception\n",
      "inside try, t= 1\n",
      "driver.get\n",
      "YEAR Exception\n",
      "inside try, t= 2\n",
      "driver.get\n",
      "YEAR Exception\n",
      "1979 October Gujarat Cotton\n",
      "file to open folders/Cotton/Gujarat/mynewdata_1979_October.csv\n",
      "False\n",
      "After\n"
     ]
    },
    {
     "name": "stderr",
     "output_type": "stream",
     "text": [
      "/usr/local/lib/python3.6/dist-packages/ipykernel_launcher.py:33: DeprecationWarning: use options instead of chrome_options\n"
     ]
    },
    {
     "name": "stdout",
     "output_type": "stream",
     "text": [
      "inside try, t= 0\n",
      "driver.get\n",
      "YEAR Exception\n",
      "inside try, t= 1\n",
      "driver.get\n",
      "YEAR Exception\n",
      "inside try, t= 2\n",
      "driver.get\n",
      "YEAR Exception\n",
      "1979 November Gujarat Cotton\n",
      "file to open folders/Cotton/Gujarat/mynewdata_1979_November.csv\n",
      "False\n",
      "After\n"
     ]
    },
    {
     "name": "stderr",
     "output_type": "stream",
     "text": [
      "/usr/local/lib/python3.6/dist-packages/ipykernel_launcher.py:33: DeprecationWarning: use options instead of chrome_options\n"
     ]
    },
    {
     "name": "stdout",
     "output_type": "stream",
     "text": [
      "inside try, t= 0\n",
      "driver.get\n",
      "YEAR Exception\n",
      "inside try, t= 1\n",
      "driver.get\n",
      "YEAR Exception\n",
      "inside try, t= 2\n",
      "driver.get\n",
      "YEAR Exception\n",
      "1979 December Gujarat Cotton\n",
      "file to open folders/Cotton/Gujarat/mynewdata_1979_December.csv\n",
      "False\n",
      "After\n"
     ]
    },
    {
     "name": "stderr",
     "output_type": "stream",
     "text": [
      "/usr/local/lib/python3.6/dist-packages/ipykernel_launcher.py:33: DeprecationWarning: use options instead of chrome_options\n"
     ]
    },
    {
     "name": "stdout",
     "output_type": "stream",
     "text": [
      "inside try, t= 0\n",
      "driver.get\n",
      "YEAR Exception\n",
      "inside try, t= 1\n",
      "driver.get\n",
      "YEAR Exception\n",
      "inside try, t= 2\n",
      "driver.get\n",
      "YEAR Exception\n",
      "1980 January Gujarat Cotton\n",
      "file to open folders/Cotton/Gujarat/mynewdata_1980_January.csv\n",
      "False\n",
      "After\n"
     ]
    },
    {
     "name": "stderr",
     "output_type": "stream",
     "text": [
      "/usr/local/lib/python3.6/dist-packages/ipykernel_launcher.py:33: DeprecationWarning: use options instead of chrome_options\n"
     ]
    },
    {
     "name": "stdout",
     "output_type": "stream",
     "text": [
      "inside try, t= 0\n",
      "driver.get\n",
      "YEAR Exception\n",
      "inside try, t= 1\n",
      "driver.get\n",
      "YEAR Exception\n",
      "inside try, t= 2\n",
      "driver.get\n",
      "YEAR Exception\n",
      "1980 February Gujarat Cotton\n",
      "file to open folders/Cotton/Gujarat/mynewdata_1980_February.csv\n",
      "False\n",
      "After\n"
     ]
    },
    {
     "name": "stderr",
     "output_type": "stream",
     "text": [
      "/usr/local/lib/python3.6/dist-packages/ipykernel_launcher.py:33: DeprecationWarning: use options instead of chrome_options\n"
     ]
    },
    {
     "name": "stdout",
     "output_type": "stream",
     "text": [
      "inside try, t= 0\n",
      "driver.get\n",
      "YEAR Exception\n",
      "inside try, t= 1\n",
      "driver.get\n",
      "YEAR Exception\n",
      "inside try, t= 2\n",
      "driver.get\n",
      "YEAR Exception\n",
      "1980 March Gujarat Cotton\n",
      "file to open folders/Cotton/Gujarat/mynewdata_1980_March.csv\n",
      "False\n",
      "After\n"
     ]
    },
    {
     "name": "stderr",
     "output_type": "stream",
     "text": [
      "/usr/local/lib/python3.6/dist-packages/ipykernel_launcher.py:33: DeprecationWarning: use options instead of chrome_options\n"
     ]
    },
    {
     "name": "stdout",
     "output_type": "stream",
     "text": [
      "inside try, t= 0\n",
      "driver.get\n",
      "YEAR Exception\n",
      "inside try, t= 1\n",
      "driver.get\n",
      "YEAR Exception\n",
      "inside try, t= 2\n",
      "driver.get\n",
      "YEAR Exception\n",
      "1980 April Gujarat Cotton\n",
      "file to open folders/Cotton/Gujarat/mynewdata_1980_April.csv\n",
      "False\n",
      "After\n"
     ]
    },
    {
     "name": "stderr",
     "output_type": "stream",
     "text": [
      "/usr/local/lib/python3.6/dist-packages/ipykernel_launcher.py:33: DeprecationWarning: use options instead of chrome_options\n"
     ]
    },
    {
     "name": "stdout",
     "output_type": "stream",
     "text": [
      "inside try, t= 0\n",
      "driver.get\n",
      "YEAR Exception\n",
      "inside try, t= 1\n",
      "driver.get\n",
      "YEAR Exception\n",
      "inside try, t= 2\n",
      "driver.get\n",
      "YEAR Exception\n",
      "1980 May Gujarat Cotton\n",
      "file to open folders/Cotton/Gujarat/mynewdata_1980_May.csv\n",
      "False\n",
      "After\n"
     ]
    },
    {
     "name": "stderr",
     "output_type": "stream",
     "text": [
      "/usr/local/lib/python3.6/dist-packages/ipykernel_launcher.py:33: DeprecationWarning: use options instead of chrome_options\n"
     ]
    },
    {
     "name": "stdout",
     "output_type": "stream",
     "text": [
      "inside try, t= 0\n",
      "driver.get\n",
      "Timeout exveption\n",
      "driver.get\n",
      "YEAR Exception\n",
      "inside try, t= 1\n",
      "driver.get\n",
      "YEAR Exception\n",
      "inside try, t= 2\n",
      "driver.get\n",
      "YEAR Exception\n",
      "1980 June Gujarat Cotton\n",
      "file to open folders/Cotton/Gujarat/mynewdata_1980_June.csv\n",
      "False\n",
      "After\n"
     ]
    },
    {
     "name": "stderr",
     "output_type": "stream",
     "text": [
      "/usr/local/lib/python3.6/dist-packages/ipykernel_launcher.py:33: DeprecationWarning: use options instead of chrome_options\n"
     ]
    },
    {
     "name": "stdout",
     "output_type": "stream",
     "text": [
      "inside try, t= 0\n",
      "driver.get\n",
      "YEAR Exception\n",
      "inside try, t= 1\n",
      "driver.get\n",
      "YEAR Exception\n",
      "inside try, t= 2\n",
      "driver.get\n",
      "YEAR Exception\n",
      "1980 July Gujarat Cotton\n",
      "file to open folders/Cotton/Gujarat/mynewdata_1980_July.csv\n",
      "False\n",
      "After\n"
     ]
    },
    {
     "name": "stderr",
     "output_type": "stream",
     "text": [
      "/usr/local/lib/python3.6/dist-packages/ipykernel_launcher.py:33: DeprecationWarning: use options instead of chrome_options\n"
     ]
    },
    {
     "name": "stdout",
     "output_type": "stream",
     "text": [
      "inside try, t= 0\n",
      "driver.get\n",
      "YEAR Exception\n",
      "inside try, t= 1\n",
      "driver.get\n",
      "YEAR Exception\n",
      "inside try, t= 2\n",
      "driver.get\n",
      "YEAR Exception\n",
      "1980 August Gujarat Cotton\n",
      "file to open folders/Cotton/Gujarat/mynewdata_1980_August.csv\n",
      "False\n",
      "After\n"
     ]
    },
    {
     "name": "stderr",
     "output_type": "stream",
     "text": [
      "/usr/local/lib/python3.6/dist-packages/ipykernel_launcher.py:33: DeprecationWarning: use options instead of chrome_options\n"
     ]
    },
    {
     "name": "stdout",
     "output_type": "stream",
     "text": [
      "inside try, t= 0\n",
      "driver.get\n",
      "YEAR Exception\n",
      "inside try, t= 1\n",
      "driver.get\n",
      "YEAR Exception\n",
      "inside try, t= 2\n",
      "driver.get\n",
      "YEAR Exception\n",
      "1980 September Gujarat Cotton\n",
      "file to open folders/Cotton/Gujarat/mynewdata_1980_September.csv\n",
      "False\n",
      "After\n"
     ]
    },
    {
     "name": "stderr",
     "output_type": "stream",
     "text": [
      "/usr/local/lib/python3.6/dist-packages/ipykernel_launcher.py:33: DeprecationWarning: use options instead of chrome_options\n"
     ]
    },
    {
     "name": "stdout",
     "output_type": "stream",
     "text": [
      "inside try, t= 0\n",
      "driver.get\n",
      "YEAR Exception\n",
      "inside try, t= 1\n",
      "driver.get\n",
      "YEAR Exception\n",
      "inside try, t= 2\n",
      "driver.get\n",
      "YEAR Exception\n",
      "1980 October Gujarat Cotton\n",
      "file to open folders/Cotton/Gujarat/mynewdata_1980_October.csv\n",
      "False\n",
      "After\n"
     ]
    },
    {
     "name": "stderr",
     "output_type": "stream",
     "text": [
      "/usr/local/lib/python3.6/dist-packages/ipykernel_launcher.py:33: DeprecationWarning: use options instead of chrome_options\n"
     ]
    },
    {
     "name": "stdout",
     "output_type": "stream",
     "text": [
      "inside try, t= 0\n",
      "driver.get\n",
      "YEAR Exception\n",
      "inside try, t= 1\n",
      "driver.get\n",
      "YEAR Exception\n",
      "inside try, t= 2\n",
      "driver.get\n",
      "YEAR Exception\n",
      "1980 November Gujarat Cotton\n",
      "file to open folders/Cotton/Gujarat/mynewdata_1980_November.csv\n",
      "False\n",
      "After\n"
     ]
    },
    {
     "name": "stderr",
     "output_type": "stream",
     "text": [
      "/usr/local/lib/python3.6/dist-packages/ipykernel_launcher.py:33: DeprecationWarning: use options instead of chrome_options\n"
     ]
    },
    {
     "name": "stdout",
     "output_type": "stream",
     "text": [
      "inside try, t= 0\n",
      "driver.get\n",
      "YEAR Exception\n",
      "inside try, t= 1\n",
      "driver.get\n",
      "YEAR Exception\n",
      "inside try, t= 2\n",
      "driver.get\n",
      "YEAR Exception\n",
      "1980 December Gujarat Cotton\n",
      "file to open folders/Cotton/Gujarat/mynewdata_1980_December.csv\n",
      "False\n",
      "After\n"
     ]
    },
    {
     "name": "stderr",
     "output_type": "stream",
     "text": [
      "/usr/local/lib/python3.6/dist-packages/ipykernel_launcher.py:33: DeprecationWarning: use options instead of chrome_options\n"
     ]
    },
    {
     "name": "stdout",
     "output_type": "stream",
     "text": [
      "inside try, t= 0\n",
      "driver.get\n",
      "YEAR Exception\n",
      "inside try, t= 1\n",
      "driver.get\n",
      "YEAR Exception\n",
      "inside try, t= 2\n",
      "driver.get\n",
      "YEAR Exception\n",
      "1981 January Gujarat Cotton\n",
      "file to open folders/Cotton/Gujarat/mynewdata_1981_January.csv\n",
      "False\n",
      "After\n"
     ]
    },
    {
     "name": "stderr",
     "output_type": "stream",
     "text": [
      "/usr/local/lib/python3.6/dist-packages/ipykernel_launcher.py:33: DeprecationWarning: use options instead of chrome_options\n"
     ]
    },
    {
     "name": "stdout",
     "output_type": "stream",
     "text": [
      "inside try, t= 0\n",
      "driver.get\n",
      "YEAR Exception\n",
      "inside try, t= 1\n",
      "driver.get\n",
      "YEAR Exception\n",
      "inside try, t= 2\n",
      "driver.get\n",
      "YEAR Exception\n",
      "1981 February Gujarat Cotton\n",
      "file to open folders/Cotton/Gujarat/mynewdata_1981_February.csv\n",
      "False\n",
      "After\n"
     ]
    },
    {
     "name": "stderr",
     "output_type": "stream",
     "text": [
      "/usr/local/lib/python3.6/dist-packages/ipykernel_launcher.py:33: DeprecationWarning: use options instead of chrome_options\n"
     ]
    },
    {
     "name": "stdout",
     "output_type": "stream",
     "text": [
      "inside try, t= 0\n",
      "driver.get\n",
      "YEAR Exception\n",
      "inside try, t= 1\n",
      "driver.get\n",
      "YEAR Exception\n",
      "inside try, t= 2\n",
      "driver.get\n",
      "YEAR Exception\n",
      "1981 March Gujarat Cotton\n",
      "file to open folders/Cotton/Gujarat/mynewdata_1981_March.csv\n",
      "False\n",
      "After\n"
     ]
    },
    {
     "name": "stderr",
     "output_type": "stream",
     "text": [
      "/usr/local/lib/python3.6/dist-packages/ipykernel_launcher.py:33: DeprecationWarning: use options instead of chrome_options\n"
     ]
    },
    {
     "name": "stdout",
     "output_type": "stream",
     "text": [
      "inside try, t= 0\n",
      "driver.get\n",
      "YEAR Exception\n",
      "inside try, t= 1\n",
      "driver.get\n",
      "YEAR Exception\n",
      "inside try, t= 2\n",
      "driver.get\n",
      "YEAR Exception\n",
      "1981 April Gujarat Cotton\n",
      "file to open folders/Cotton/Gujarat/mynewdata_1981_April.csv\n",
      "False\n",
      "After\n"
     ]
    },
    {
     "name": "stderr",
     "output_type": "stream",
     "text": [
      "/usr/local/lib/python3.6/dist-packages/ipykernel_launcher.py:33: DeprecationWarning: use options instead of chrome_options\n"
     ]
    },
    {
     "name": "stdout",
     "output_type": "stream",
     "text": [
      "inside try, t= 0\n",
      "driver.get\n",
      "YEAR Exception\n",
      "inside try, t= 1\n",
      "driver.get\n",
      "YEAR Exception\n",
      "inside try, t= 2\n",
      "driver.get\n",
      "YEAR Exception\n",
      "1981 May Gujarat Cotton\n",
      "file to open folders/Cotton/Gujarat/mynewdata_1981_May.csv\n",
      "False\n",
      "After\n"
     ]
    },
    {
     "name": "stderr",
     "output_type": "stream",
     "text": [
      "/usr/local/lib/python3.6/dist-packages/ipykernel_launcher.py:33: DeprecationWarning: use options instead of chrome_options\n"
     ]
    },
    {
     "name": "stdout",
     "output_type": "stream",
     "text": [
      "inside try, t= 0\n",
      "driver.get\n",
      "YEAR Exception\n",
      "inside try, t= 1\n",
      "driver.get\n",
      "YEAR Exception\n",
      "inside try, t= 2\n",
      "driver.get\n",
      "YEAR Exception\n",
      "1981 June Gujarat Cotton\n",
      "file to open folders/Cotton/Gujarat/mynewdata_1981_June.csv\n",
      "False\n",
      "After\n"
     ]
    },
    {
     "name": "stderr",
     "output_type": "stream",
     "text": [
      "/usr/local/lib/python3.6/dist-packages/ipykernel_launcher.py:33: DeprecationWarning: use options instead of chrome_options\n"
     ]
    },
    {
     "name": "stdout",
     "output_type": "stream",
     "text": [
      "inside try, t= 0\n",
      "driver.get\n",
      "YEAR Exception\n",
      "inside try, t= 1\n",
      "driver.get\n",
      "YEAR Exception\n",
      "inside try, t= 2\n",
      "driver.get\n",
      "YEAR Exception\n",
      "1981 July Gujarat Cotton\n",
      "file to open folders/Cotton/Gujarat/mynewdata_1981_July.csv\n",
      "False\n",
      "After\n"
     ]
    },
    {
     "name": "stderr",
     "output_type": "stream",
     "text": [
      "/usr/local/lib/python3.6/dist-packages/ipykernel_launcher.py:33: DeprecationWarning: use options instead of chrome_options\n"
     ]
    },
    {
     "name": "stdout",
     "output_type": "stream",
     "text": [
      "inside try, t= 0\n",
      "driver.get\n",
      "YEAR Exception\n",
      "inside try, t= 1\n",
      "driver.get\n",
      "YEAR Exception\n",
      "inside try, t= 2\n",
      "driver.get\n",
      "YEAR Exception\n",
      "1981 August Gujarat Cotton\n",
      "file to open folders/Cotton/Gujarat/mynewdata_1981_August.csv\n",
      "False\n",
      "After\n"
     ]
    },
    {
     "name": "stderr",
     "output_type": "stream",
     "text": [
      "/usr/local/lib/python3.6/dist-packages/ipykernel_launcher.py:33: DeprecationWarning: use options instead of chrome_options\n"
     ]
    },
    {
     "name": "stdout",
     "output_type": "stream",
     "text": [
      "inside try, t= 0\n",
      "driver.get\n",
      "YEAR Exception\n",
      "inside try, t= 1\n",
      "driver.get\n",
      "YEAR Exception\n",
      "inside try, t= 2\n",
      "driver.get\n",
      "YEAR Exception\n",
      "1981 September Gujarat Cotton\n",
      "file to open folders/Cotton/Gujarat/mynewdata_1981_September.csv\n",
      "False\n",
      "After\n"
     ]
    },
    {
     "name": "stderr",
     "output_type": "stream",
     "text": [
      "/usr/local/lib/python3.6/dist-packages/ipykernel_launcher.py:33: DeprecationWarning: use options instead of chrome_options\n"
     ]
    },
    {
     "name": "stdout",
     "output_type": "stream",
     "text": [
      "inside try, t= 0\n",
      "driver.get\n",
      "YEAR Exception\n",
      "inside try, t= 1\n",
      "driver.get\n",
      "YEAR Exception\n",
      "inside try, t= 2\n",
      "driver.get\n",
      "YEAR Exception\n",
      "1981 October Gujarat Cotton\n",
      "file to open folders/Cotton/Gujarat/mynewdata_1981_October.csv\n",
      "False\n",
      "After\n"
     ]
    },
    {
     "name": "stderr",
     "output_type": "stream",
     "text": [
      "/usr/local/lib/python3.6/dist-packages/ipykernel_launcher.py:33: DeprecationWarning: use options instead of chrome_options\n"
     ]
    },
    {
     "name": "stdout",
     "output_type": "stream",
     "text": [
      "inside try, t= 0\n",
      "driver.get\n",
      "YEAR Exception\n",
      "inside try, t= 1\n",
      "driver.get\n",
      "YEAR Exception\n",
      "inside try, t= 2\n",
      "driver.get\n",
      "YEAR Exception\n",
      "1981 November Gujarat Cotton\n",
      "file to open folders/Cotton/Gujarat/mynewdata_1981_November.csv\n",
      "False\n",
      "After\n"
     ]
    },
    {
     "name": "stderr",
     "output_type": "stream",
     "text": [
      "/usr/local/lib/python3.6/dist-packages/ipykernel_launcher.py:33: DeprecationWarning: use options instead of chrome_options\n"
     ]
    },
    {
     "name": "stdout",
     "output_type": "stream",
     "text": [
      "inside try, t= 0\n",
      "driver.get\n",
      "YEAR Exception\n",
      "inside try, t= 1\n",
      "driver.get\n",
      "YEAR Exception\n",
      "inside try, t= 2\n",
      "driver.get\n",
      "YEAR Exception\n",
      "1981 December Gujarat Cotton\n",
      "file to open folders/Cotton/Gujarat/mynewdata_1981_December.csv\n",
      "False\n",
      "After\n"
     ]
    },
    {
     "name": "stderr",
     "output_type": "stream",
     "text": [
      "/usr/local/lib/python3.6/dist-packages/ipykernel_launcher.py:33: DeprecationWarning: use options instead of chrome_options\n"
     ]
    },
    {
     "name": "stdout",
     "output_type": "stream",
     "text": [
      "inside try, t= 0\n",
      "driver.get\n",
      "YEAR Exception\n",
      "inside try, t= 1\n",
      "driver.get\n",
      "YEAR Exception\n",
      "inside try, t= 2\n",
      "driver.get\n",
      "YEAR Exception\n",
      "1982 January Gujarat Cotton\n",
      "file to open folders/Cotton/Gujarat/mynewdata_1982_January.csv\n",
      "False\n",
      "After\n"
     ]
    },
    {
     "name": "stderr",
     "output_type": "stream",
     "text": [
      "/usr/local/lib/python3.6/dist-packages/ipykernel_launcher.py:33: DeprecationWarning: use options instead of chrome_options\n"
     ]
    },
    {
     "name": "stdout",
     "output_type": "stream",
     "text": [
      "inside try, t= 0\n",
      "driver.get\n",
      "Timeout exveption\n",
      "driver.get\n",
      "Timeout exveption\n",
      "driver.get\n",
      "YEAR Exception\n",
      "inside try, t= 1\n",
      "driver.get\n",
      "YEAR Exception\n",
      "inside try, t= 2\n",
      "driver.get\n",
      "YEAR Exception\n",
      "1982 February Gujarat Cotton\n",
      "file to open folders/Cotton/Gujarat/mynewdata_1982_February.csv\n",
      "False\n",
      "After\n"
     ]
    },
    {
     "name": "stderr",
     "output_type": "stream",
     "text": [
      "/usr/local/lib/python3.6/dist-packages/ipykernel_launcher.py:33: DeprecationWarning: use options instead of chrome_options\n"
     ]
    },
    {
     "name": "stdout",
     "output_type": "stream",
     "text": [
      "inside try, t= 0\n",
      "driver.get\n",
      "YEAR Exception\n",
      "inside try, t= 1\n",
      "driver.get\n",
      "YEAR Exception\n",
      "inside try, t= 2\n",
      "driver.get\n",
      "YEAR Exception\n",
      "1982 March Gujarat Cotton\n",
      "file to open folders/Cotton/Gujarat/mynewdata_1982_March.csv\n",
      "False\n",
      "After\n"
     ]
    },
    {
     "name": "stderr",
     "output_type": "stream",
     "text": [
      "/usr/local/lib/python3.6/dist-packages/ipykernel_launcher.py:33: DeprecationWarning: use options instead of chrome_options\n"
     ]
    },
    {
     "name": "stdout",
     "output_type": "stream",
     "text": [
      "inside try, t= 0\n",
      "driver.get\n",
      "YEAR Exception\n",
      "inside try, t= 1\n",
      "driver.get\n",
      "YEAR Exception\n",
      "inside try, t= 2\n",
      "driver.get\n",
      "YEAR Exception\n",
      "1982 April Gujarat Cotton\n",
      "file to open folders/Cotton/Gujarat/mynewdata_1982_April.csv\n",
      "False\n",
      "After\n"
     ]
    },
    {
     "name": "stderr",
     "output_type": "stream",
     "text": [
      "/usr/local/lib/python3.6/dist-packages/ipykernel_launcher.py:33: DeprecationWarning: use options instead of chrome_options\n"
     ]
    },
    {
     "name": "stdout",
     "output_type": "stream",
     "text": [
      "inside try, t= 0\n",
      "driver.get\n",
      "YEAR Exception\n",
      "inside try, t= 1\n",
      "driver.get\n",
      "YEAR Exception\n",
      "inside try, t= 2\n",
      "driver.get\n",
      "YEAR Exception\n",
      "1982 May Gujarat Cotton\n",
      "file to open folders/Cotton/Gujarat/mynewdata_1982_May.csv\n",
      "False\n",
      "After\n"
     ]
    },
    {
     "name": "stderr",
     "output_type": "stream",
     "text": [
      "/usr/local/lib/python3.6/dist-packages/ipykernel_launcher.py:33: DeprecationWarning: use options instead of chrome_options\n"
     ]
    },
    {
     "name": "stdout",
     "output_type": "stream",
     "text": [
      "inside try, t= 0\n",
      "driver.get\n",
      "YEAR Exception\n",
      "inside try, t= 1\n",
      "driver.get\n",
      "YEAR Exception\n",
      "inside try, t= 2\n",
      "driver.get\n",
      "YEAR Exception\n",
      "1982 June Gujarat Cotton\n",
      "file to open folders/Cotton/Gujarat/mynewdata_1982_June.csv\n",
      "False\n",
      "After\n"
     ]
    },
    {
     "name": "stderr",
     "output_type": "stream",
     "text": [
      "/usr/local/lib/python3.6/dist-packages/ipykernel_launcher.py:33: DeprecationWarning: use options instead of chrome_options\n"
     ]
    },
    {
     "name": "stdout",
     "output_type": "stream",
     "text": [
      "inside try, t= 0\n",
      "driver.get\n",
      "YEAR Exception\n",
      "inside try, t= 1\n",
      "driver.get\n",
      "YEAR Exception\n",
      "inside try, t= 2\n",
      "driver.get\n",
      "YEAR Exception\n",
      "1982 July Gujarat Cotton\n",
      "file to open folders/Cotton/Gujarat/mynewdata_1982_July.csv\n",
      "False\n",
      "After\n"
     ]
    },
    {
     "name": "stderr",
     "output_type": "stream",
     "text": [
      "/usr/local/lib/python3.6/dist-packages/ipykernel_launcher.py:33: DeprecationWarning: use options instead of chrome_options\n"
     ]
    },
    {
     "name": "stdout",
     "output_type": "stream",
     "text": [
      "inside try, t= 0\n",
      "driver.get\n",
      "YEAR Exception\n",
      "inside try, t= 1\n",
      "driver.get\n",
      "YEAR Exception\n",
      "inside try, t= 2\n",
      "driver.get\n",
      "YEAR Exception\n",
      "1982 August Gujarat Cotton\n",
      "file to open folders/Cotton/Gujarat/mynewdata_1982_August.csv\n",
      "False\n",
      "After\n"
     ]
    },
    {
     "name": "stderr",
     "output_type": "stream",
     "text": [
      "/usr/local/lib/python3.6/dist-packages/ipykernel_launcher.py:33: DeprecationWarning: use options instead of chrome_options\n"
     ]
    },
    {
     "name": "stdout",
     "output_type": "stream",
     "text": [
      "inside try, t= 0\n",
      "driver.get\n",
      "YEAR Exception\n",
      "inside try, t= 1\n",
      "driver.get\n",
      "YEAR Exception\n",
      "inside try, t= 2\n",
      "driver.get\n",
      "YEAR Exception\n",
      "1982 September Gujarat Cotton\n",
      "file to open folders/Cotton/Gujarat/mynewdata_1982_September.csv\n",
      "False\n",
      "After\n"
     ]
    },
    {
     "name": "stderr",
     "output_type": "stream",
     "text": [
      "/usr/local/lib/python3.6/dist-packages/ipykernel_launcher.py:33: DeprecationWarning: use options instead of chrome_options\n"
     ]
    },
    {
     "name": "stdout",
     "output_type": "stream",
     "text": [
      "inside try, t= 0\n",
      "driver.get\n",
      "YEAR Exception\n",
      "inside try, t= 1\n",
      "driver.get\n",
      "YEAR Exception\n",
      "inside try, t= 2\n",
      "driver.get\n",
      "YEAR Exception\n",
      "1982 October Gujarat Cotton\n",
      "file to open folders/Cotton/Gujarat/mynewdata_1982_October.csv\n",
      "False\n",
      "After\n"
     ]
    },
    {
     "name": "stderr",
     "output_type": "stream",
     "text": [
      "/usr/local/lib/python3.6/dist-packages/ipykernel_launcher.py:33: DeprecationWarning: use options instead of chrome_options\n"
     ]
    },
    {
     "name": "stdout",
     "output_type": "stream",
     "text": [
      "inside try, t= 0\n",
      "driver.get\n",
      "YEAR Exception\n",
      "inside try, t= 1\n",
      "driver.get\n",
      "YEAR Exception\n",
      "inside try, t= 2\n",
      "driver.get\n",
      "YEAR Exception\n",
      "1982 November Gujarat Cotton\n",
      "file to open folders/Cotton/Gujarat/mynewdata_1982_November.csv\n",
      "False\n",
      "After\n"
     ]
    },
    {
     "name": "stderr",
     "output_type": "stream",
     "text": [
      "/usr/local/lib/python3.6/dist-packages/ipykernel_launcher.py:33: DeprecationWarning: use options instead of chrome_options\n"
     ]
    },
    {
     "name": "stdout",
     "output_type": "stream",
     "text": [
      "inside try, t= 0\n",
      "driver.get\n",
      "YEAR Exception\n",
      "inside try, t= 1\n",
      "driver.get\n",
      "YEAR Exception\n",
      "inside try, t= 2\n",
      "driver.get\n",
      "YEAR Exception\n",
      "1982 December Gujarat Cotton\n",
      "file to open folders/Cotton/Gujarat/mynewdata_1982_December.csv\n",
      "False\n",
      "After\n"
     ]
    },
    {
     "name": "stderr",
     "output_type": "stream",
     "text": [
      "/usr/local/lib/python3.6/dist-packages/ipykernel_launcher.py:33: DeprecationWarning: use options instead of chrome_options\n"
     ]
    },
    {
     "name": "stdout",
     "output_type": "stream",
     "text": [
      "inside try, t= 0\n",
      "driver.get\n",
      "YEAR Exception\n",
      "inside try, t= 1\n",
      "driver.get\n",
      "YEAR Exception\n",
      "inside try, t= 2\n",
      "driver.get\n",
      "YEAR Exception\n",
      "1983 January Gujarat Cotton\n",
      "file to open folders/Cotton/Gujarat/mynewdata_1983_January.csv\n",
      "False\n",
      "After\n"
     ]
    },
    {
     "name": "stderr",
     "output_type": "stream",
     "text": [
      "/usr/local/lib/python3.6/dist-packages/ipykernel_launcher.py:33: DeprecationWarning: use options instead of chrome_options\n"
     ]
    },
    {
     "name": "stdout",
     "output_type": "stream",
     "text": [
      "inside try, t= 0\n",
      "driver.get\n",
      "YEAR Exception\n",
      "inside try, t= 1\n",
      "driver.get\n",
      "YEAR Exception\n",
      "inside try, t= 2\n",
      "driver.get\n",
      "YEAR Exception\n",
      "1983 February Gujarat Cotton\n",
      "file to open folders/Cotton/Gujarat/mynewdata_1983_February.csv\n",
      "False\n",
      "After\n"
     ]
    },
    {
     "name": "stderr",
     "output_type": "stream",
     "text": [
      "/usr/local/lib/python3.6/dist-packages/ipykernel_launcher.py:33: DeprecationWarning: use options instead of chrome_options\n"
     ]
    },
    {
     "name": "stdout",
     "output_type": "stream",
     "text": [
      "inside try, t= 0\n",
      "driver.get\n",
      "YEAR Exception\n",
      "inside try, t= 1\n",
      "driver.get\n",
      "YEAR Exception\n",
      "inside try, t= 2\n",
      "driver.get\n",
      "YEAR Exception\n",
      "1983 March Gujarat Cotton\n",
      "file to open folders/Cotton/Gujarat/mynewdata_1983_March.csv\n",
      "False\n",
      "After\n"
     ]
    },
    {
     "name": "stderr",
     "output_type": "stream",
     "text": [
      "/usr/local/lib/python3.6/dist-packages/ipykernel_launcher.py:33: DeprecationWarning: use options instead of chrome_options\n"
     ]
    },
    {
     "name": "stdout",
     "output_type": "stream",
     "text": [
      "inside try, t= 0\n",
      "driver.get\n",
      "YEAR Exception\n",
      "inside try, t= 1\n",
      "driver.get\n",
      "YEAR Exception\n",
      "inside try, t= 2\n",
      "driver.get\n",
      "YEAR Exception\n",
      "1983 April Gujarat Cotton\n",
      "file to open folders/Cotton/Gujarat/mynewdata_1983_April.csv\n",
      "False\n",
      "After\n"
     ]
    },
    {
     "name": "stderr",
     "output_type": "stream",
     "text": [
      "/usr/local/lib/python3.6/dist-packages/ipykernel_launcher.py:33: DeprecationWarning: use options instead of chrome_options\n"
     ]
    },
    {
     "name": "stdout",
     "output_type": "stream",
     "text": [
      "inside try, t= 0\n",
      "driver.get\n",
      "YEAR Exception\n",
      "inside try, t= 1\n",
      "driver.get\n",
      "Timeout exveption\n",
      "driver.get\n",
      "YEAR Exception\n",
      "inside try, t= 2\n",
      "driver.get\n",
      "YEAR Exception\n",
      "1983 May Gujarat Cotton\n",
      "file to open folders/Cotton/Gujarat/mynewdata_1983_May.csv\n",
      "False\n",
      "After\n"
     ]
    },
    {
     "name": "stderr",
     "output_type": "stream",
     "text": [
      "/usr/local/lib/python3.6/dist-packages/ipykernel_launcher.py:33: DeprecationWarning: use options instead of chrome_options\n"
     ]
    },
    {
     "name": "stdout",
     "output_type": "stream",
     "text": [
      "inside try, t= 0\n",
      "driver.get\n",
      "YEAR Exception\n",
      "inside try, t= 1\n",
      "driver.get\n",
      "YEAR Exception\n",
      "inside try, t= 2\n",
      "driver.get\n",
      "YEAR Exception\n",
      "1983 June Gujarat Cotton\n",
      "file to open folders/Cotton/Gujarat/mynewdata_1983_June.csv\n",
      "False\n",
      "After\n"
     ]
    },
    {
     "name": "stderr",
     "output_type": "stream",
     "text": [
      "/usr/local/lib/python3.6/dist-packages/ipykernel_launcher.py:33: DeprecationWarning: use options instead of chrome_options\n"
     ]
    },
    {
     "name": "stdout",
     "output_type": "stream",
     "text": [
      "inside try, t= 0\n",
      "driver.get\n",
      "YEAR Exception\n",
      "inside try, t= 1\n",
      "driver.get\n",
      "YEAR Exception\n",
      "inside try, t= 2\n",
      "driver.get\n",
      "YEAR Exception\n",
      "1983 July Gujarat Cotton\n",
      "file to open folders/Cotton/Gujarat/mynewdata_1983_July.csv\n",
      "False\n",
      "After\n"
     ]
    },
    {
     "name": "stderr",
     "output_type": "stream",
     "text": [
      "/usr/local/lib/python3.6/dist-packages/ipykernel_launcher.py:33: DeprecationWarning: use options instead of chrome_options\n"
     ]
    },
    {
     "name": "stdout",
     "output_type": "stream",
     "text": [
      "inside try, t= 0\n",
      "driver.get\n",
      "YEAR Exception\n",
      "inside try, t= 1\n",
      "driver.get\n",
      "YEAR Exception\n",
      "inside try, t= 2\n",
      "driver.get\n",
      "YEAR Exception\n",
      "1983 August Gujarat Cotton\n",
      "file to open folders/Cotton/Gujarat/mynewdata_1983_August.csv\n",
      "False\n",
      "After\n"
     ]
    },
    {
     "name": "stderr",
     "output_type": "stream",
     "text": [
      "/usr/local/lib/python3.6/dist-packages/ipykernel_launcher.py:33: DeprecationWarning: use options instead of chrome_options\n"
     ]
    },
    {
     "name": "stdout",
     "output_type": "stream",
     "text": [
      "inside try, t= 0\n",
      "driver.get\n",
      "Timeout exveption\n",
      "driver.get\n",
      "YEAR Exception\n",
      "inside try, t= 1\n",
      "driver.get\n",
      "Timeout exveption\n",
      "driver.get\n",
      "YEAR Exception\n",
      "inside try, t= 2\n",
      "driver.get\n",
      "YEAR Exception\n",
      "1983 September Gujarat Cotton\n",
      "file to open folders/Cotton/Gujarat/mynewdata_1983_September.csv\n",
      "False\n",
      "After\n"
     ]
    },
    {
     "name": "stderr",
     "output_type": "stream",
     "text": [
      "/usr/local/lib/python3.6/dist-packages/ipykernel_launcher.py:33: DeprecationWarning: use options instead of chrome_options\n"
     ]
    },
    {
     "name": "stdout",
     "output_type": "stream",
     "text": [
      "inside try, t= 0\n",
      "driver.get\n",
      "YEAR Exception\n",
      "inside try, t= 1\n",
      "driver.get\n",
      "YEAR Exception\n",
      "inside try, t= 2\n",
      "driver.get\n",
      "YEAR Exception\n",
      "1983 October Gujarat Cotton\n",
      "file to open folders/Cotton/Gujarat/mynewdata_1983_October.csv\n",
      "False\n",
      "After\n"
     ]
    },
    {
     "name": "stderr",
     "output_type": "stream",
     "text": [
      "/usr/local/lib/python3.6/dist-packages/ipykernel_launcher.py:33: DeprecationWarning: use options instead of chrome_options\n"
     ]
    },
    {
     "name": "stdout",
     "output_type": "stream",
     "text": [
      "inside try, t= 0\n",
      "driver.get\n",
      "YEAR Exception\n",
      "inside try, t= 1\n",
      "driver.get\n",
      "YEAR Exception\n",
      "inside try, t= 2\n",
      "driver.get\n",
      "YEAR Exception\n",
      "1983 November Gujarat Cotton\n",
      "file to open folders/Cotton/Gujarat/mynewdata_1983_November.csv\n",
      "False\n",
      "After\n"
     ]
    },
    {
     "name": "stderr",
     "output_type": "stream",
     "text": [
      "/usr/local/lib/python3.6/dist-packages/ipykernel_launcher.py:33: DeprecationWarning: use options instead of chrome_options\n"
     ]
    },
    {
     "name": "stdout",
     "output_type": "stream",
     "text": [
      "inside try, t= 0\n",
      "driver.get\n",
      "YEAR Exception\n",
      "inside try, t= 1\n",
      "driver.get\n",
      "YEAR Exception\n",
      "inside try, t= 2\n",
      "driver.get\n",
      "YEAR Exception\n",
      "1983 December Gujarat Cotton\n",
      "file to open folders/Cotton/Gujarat/mynewdata_1983_December.csv\n",
      "False\n",
      "After\n"
     ]
    },
    {
     "name": "stderr",
     "output_type": "stream",
     "text": [
      "/usr/local/lib/python3.6/dist-packages/ipykernel_launcher.py:33: DeprecationWarning: use options instead of chrome_options\n"
     ]
    },
    {
     "name": "stdout",
     "output_type": "stream",
     "text": [
      "inside try, t= 0\n",
      "driver.get\n",
      "YEAR Exception\n",
      "inside try, t= 1\n",
      "driver.get\n",
      "YEAR Exception\n",
      "inside try, t= 2\n",
      "driver.get\n",
      "YEAR Exception\n",
      "1984 January Gujarat Cotton\n",
      "file to open folders/Cotton/Gujarat/mynewdata_1984_January.csv\n",
      "False\n",
      "After\n"
     ]
    },
    {
     "name": "stderr",
     "output_type": "stream",
     "text": [
      "/usr/local/lib/python3.6/dist-packages/ipykernel_launcher.py:33: DeprecationWarning: use options instead of chrome_options\n"
     ]
    },
    {
     "name": "stdout",
     "output_type": "stream",
     "text": [
      "inside try, t= 0\n",
      "driver.get\n",
      "YEAR Exception\n",
      "inside try, t= 1\n",
      "driver.get\n",
      "YEAR Exception\n",
      "inside try, t= 2\n",
      "driver.get\n",
      "YEAR Exception\n",
      "1984 February Gujarat Cotton\n",
      "file to open folders/Cotton/Gujarat/mynewdata_1984_February.csv\n",
      "False\n",
      "After\n"
     ]
    },
    {
     "name": "stderr",
     "output_type": "stream",
     "text": [
      "/usr/local/lib/python3.6/dist-packages/ipykernel_launcher.py:33: DeprecationWarning: use options instead of chrome_options\n"
     ]
    },
    {
     "name": "stdout",
     "output_type": "stream",
     "text": [
      "inside try, t= 0\n",
      "driver.get\n",
      "YEAR Exception\n",
      "inside try, t= 1\n",
      "driver.get\n",
      "YEAR Exception\n",
      "inside try, t= 2\n",
      "driver.get\n",
      "YEAR Exception\n",
      "1984 March Gujarat Cotton\n",
      "file to open folders/Cotton/Gujarat/mynewdata_1984_March.csv\n",
      "False\n",
      "After\n"
     ]
    },
    {
     "name": "stderr",
     "output_type": "stream",
     "text": [
      "/usr/local/lib/python3.6/dist-packages/ipykernel_launcher.py:33: DeprecationWarning: use options instead of chrome_options\n"
     ]
    },
    {
     "name": "stdout",
     "output_type": "stream",
     "text": [
      "inside try, t= 0\n",
      "driver.get\n",
      "YEAR Exception\n",
      "inside try, t= 1\n",
      "driver.get\n",
      "YEAR Exception\n",
      "inside try, t= 2\n",
      "driver.get\n",
      "YEAR Exception\n",
      "1984 April Gujarat Cotton\n",
      "file to open folders/Cotton/Gujarat/mynewdata_1984_April.csv\n",
      "False\n",
      "After\n"
     ]
    },
    {
     "name": "stderr",
     "output_type": "stream",
     "text": [
      "/usr/local/lib/python3.6/dist-packages/ipykernel_launcher.py:33: DeprecationWarning: use options instead of chrome_options\n"
     ]
    },
    {
     "name": "stdout",
     "output_type": "stream",
     "text": [
      "inside try, t= 0\n",
      "driver.get\n",
      "YEAR Exception\n",
      "inside try, t= 1\n",
      "driver.get\n",
      "YEAR Exception\n",
      "inside try, t= 2\n",
      "driver.get\n",
      "YEAR Exception\n",
      "1984 May Gujarat Cotton\n",
      "file to open folders/Cotton/Gujarat/mynewdata_1984_May.csv\n",
      "False\n",
      "After\n"
     ]
    },
    {
     "name": "stderr",
     "output_type": "stream",
     "text": [
      "/usr/local/lib/python3.6/dist-packages/ipykernel_launcher.py:33: DeprecationWarning: use options instead of chrome_options\n"
     ]
    },
    {
     "name": "stdout",
     "output_type": "stream",
     "text": [
      "inside try, t= 0\n",
      "driver.get\n",
      "YEAR Exception\n",
      "inside try, t= 1\n",
      "driver.get\n",
      "YEAR Exception\n",
      "inside try, t= 2\n",
      "driver.get\n",
      "YEAR Exception\n",
      "1984 June Gujarat Cotton\n",
      "file to open folders/Cotton/Gujarat/mynewdata_1984_June.csv\n",
      "False\n",
      "After\n"
     ]
    },
    {
     "name": "stderr",
     "output_type": "stream",
     "text": [
      "/usr/local/lib/python3.6/dist-packages/ipykernel_launcher.py:33: DeprecationWarning: use options instead of chrome_options\n"
     ]
    },
    {
     "name": "stdout",
     "output_type": "stream",
     "text": [
      "inside try, t= 0\n",
      "driver.get\n",
      "YEAR Exception\n",
      "inside try, t= 1\n",
      "driver.get\n",
      "YEAR Exception\n",
      "inside try, t= 2\n",
      "driver.get\n",
      "YEAR Exception\n",
      "1984 July Gujarat Cotton\n",
      "file to open folders/Cotton/Gujarat/mynewdata_1984_July.csv\n",
      "False\n",
      "After\n"
     ]
    },
    {
     "name": "stderr",
     "output_type": "stream",
     "text": [
      "/usr/local/lib/python3.6/dist-packages/ipykernel_launcher.py:33: DeprecationWarning: use options instead of chrome_options\n"
     ]
    },
    {
     "name": "stdout",
     "output_type": "stream",
     "text": [
      "inside try, t= 0\n",
      "driver.get\n",
      "YEAR Exception\n",
      "inside try, t= 1\n",
      "driver.get\n",
      "YEAR Exception\n",
      "inside try, t= 2\n",
      "driver.get\n",
      "YEAR Exception\n",
      "1984 August Gujarat Cotton\n",
      "file to open folders/Cotton/Gujarat/mynewdata_1984_August.csv\n",
      "False\n",
      "After\n"
     ]
    },
    {
     "name": "stderr",
     "output_type": "stream",
     "text": [
      "/usr/local/lib/python3.6/dist-packages/ipykernel_launcher.py:33: DeprecationWarning: use options instead of chrome_options\n"
     ]
    },
    {
     "name": "stdout",
     "output_type": "stream",
     "text": [
      "inside try, t= 0\n",
      "driver.get\n",
      "YEAR Exception\n",
      "inside try, t= 1\n",
      "driver.get\n",
      "YEAR Exception\n",
      "inside try, t= 2\n",
      "driver.get\n",
      "YEAR Exception\n",
      "1984 September Gujarat Cotton\n",
      "file to open folders/Cotton/Gujarat/mynewdata_1984_September.csv\n",
      "False\n",
      "After\n"
     ]
    },
    {
     "name": "stderr",
     "output_type": "stream",
     "text": [
      "/usr/local/lib/python3.6/dist-packages/ipykernel_launcher.py:33: DeprecationWarning: use options instead of chrome_options\n"
     ]
    },
    {
     "name": "stdout",
     "output_type": "stream",
     "text": [
      "inside try, t= 0\n",
      "driver.get\n",
      "YEAR Exception\n",
      "inside try, t= 1\n",
      "driver.get\n",
      "YEAR Exception\n",
      "inside try, t= 2\n",
      "driver.get\n",
      "YEAR Exception\n",
      "1984 October Gujarat Cotton\n",
      "file to open folders/Cotton/Gujarat/mynewdata_1984_October.csv\n",
      "False\n",
      "After\n"
     ]
    },
    {
     "name": "stderr",
     "output_type": "stream",
     "text": [
      "/usr/local/lib/python3.6/dist-packages/ipykernel_launcher.py:33: DeprecationWarning: use options instead of chrome_options\n"
     ]
    },
    {
     "name": "stdout",
     "output_type": "stream",
     "text": [
      "inside try, t= 0\n",
      "driver.get\n",
      "YEAR Exception\n",
      "inside try, t= 1\n",
      "driver.get\n",
      "YEAR Exception\n",
      "inside try, t= 2\n",
      "driver.get\n",
      "YEAR Exception\n",
      "1984 November Gujarat Cotton\n",
      "file to open folders/Cotton/Gujarat/mynewdata_1984_November.csv\n",
      "False\n",
      "After\n"
     ]
    },
    {
     "name": "stderr",
     "output_type": "stream",
     "text": [
      "/usr/local/lib/python3.6/dist-packages/ipykernel_launcher.py:33: DeprecationWarning: use options instead of chrome_options\n"
     ]
    },
    {
     "name": "stdout",
     "output_type": "stream",
     "text": [
      "inside try, t= 0\n",
      "driver.get\n",
      "YEAR Exception\n",
      "inside try, t= 1\n",
      "driver.get\n",
      "YEAR Exception\n",
      "inside try, t= 2\n",
      "driver.get\n",
      "YEAR Exception\n",
      "1984 December Gujarat Cotton\n",
      "file to open folders/Cotton/Gujarat/mynewdata_1984_December.csv\n",
      "False\n",
      "After\n"
     ]
    },
    {
     "name": "stderr",
     "output_type": "stream",
     "text": [
      "/usr/local/lib/python3.6/dist-packages/ipykernel_launcher.py:33: DeprecationWarning: use options instead of chrome_options\n"
     ]
    },
    {
     "name": "stdout",
     "output_type": "stream",
     "text": [
      "inside try, t= 0\n",
      "driver.get\n",
      "Timeout exveption\n",
      "driver.get\n",
      "YEAR Exception\n",
      "inside try, t= 1\n",
      "driver.get\n",
      "YEAR Exception\n",
      "inside try, t= 2\n",
      "driver.get\n",
      "YEAR Exception\n",
      "1985 January Gujarat Cotton\n",
      "file to open folders/Cotton/Gujarat/mynewdata_1985_January.csv\n",
      "False\n",
      "After\n"
     ]
    },
    {
     "name": "stderr",
     "output_type": "stream",
     "text": [
      "/usr/local/lib/python3.6/dist-packages/ipykernel_launcher.py:33: DeprecationWarning: use options instead of chrome_options\n"
     ]
    },
    {
     "name": "stdout",
     "output_type": "stream",
     "text": [
      "inside try, t= 0\n",
      "driver.get\n",
      "YEAR Exception\n",
      "inside try, t= 1\n",
      "driver.get\n",
      "YEAR Exception\n",
      "inside try, t= 2\n",
      "driver.get\n",
      "YEAR Exception\n",
      "1985 February Gujarat Cotton\n",
      "file to open folders/Cotton/Gujarat/mynewdata_1985_February.csv\n",
      "False\n",
      "After\n"
     ]
    },
    {
     "name": "stderr",
     "output_type": "stream",
     "text": [
      "/usr/local/lib/python3.6/dist-packages/ipykernel_launcher.py:33: DeprecationWarning: use options instead of chrome_options\n"
     ]
    },
    {
     "name": "stdout",
     "output_type": "stream",
     "text": [
      "inside try, t= 0\n",
      "driver.get\n",
      "YEAR Exception\n",
      "inside try, t= 1\n",
      "driver.get\n",
      "YEAR Exception\n",
      "inside try, t= 2\n",
      "driver.get\n",
      "YEAR Exception\n",
      "1985 March Gujarat Cotton\n",
      "file to open folders/Cotton/Gujarat/mynewdata_1985_March.csv\n",
      "False\n",
      "After\n"
     ]
    },
    {
     "name": "stderr",
     "output_type": "stream",
     "text": [
      "/usr/local/lib/python3.6/dist-packages/ipykernel_launcher.py:33: DeprecationWarning: use options instead of chrome_options\n"
     ]
    },
    {
     "name": "stdout",
     "output_type": "stream",
     "text": [
      "inside try, t= 0\n",
      "driver.get\n",
      "YEAR Exception\n",
      "inside try, t= 1\n",
      "driver.get\n",
      "Timeout exveption\n",
      "driver.get\n",
      "YEAR Exception\n",
      "inside try, t= 2\n",
      "driver.get\n",
      "YEAR Exception\n",
      "1985 April Gujarat Cotton\n",
      "file to open folders/Cotton/Gujarat/mynewdata_1985_April.csv\n",
      "False\n",
      "After\n"
     ]
    },
    {
     "name": "stderr",
     "output_type": "stream",
     "text": [
      "/usr/local/lib/python3.6/dist-packages/ipykernel_launcher.py:33: DeprecationWarning: use options instead of chrome_options\n"
     ]
    },
    {
     "name": "stdout",
     "output_type": "stream",
     "text": [
      "inside try, t= 0\n",
      "driver.get\n",
      "YEAR Exception\n",
      "inside try, t= 1\n",
      "driver.get\n",
      "YEAR Exception\n",
      "inside try, t= 2\n",
      "driver.get\n",
      "YEAR Exception\n",
      "1985 May Gujarat Cotton\n",
      "file to open folders/Cotton/Gujarat/mynewdata_1985_May.csv\n",
      "False\n",
      "After\n"
     ]
    },
    {
     "name": "stderr",
     "output_type": "stream",
     "text": [
      "/usr/local/lib/python3.6/dist-packages/ipykernel_launcher.py:33: DeprecationWarning: use options instead of chrome_options\n"
     ]
    },
    {
     "name": "stdout",
     "output_type": "stream",
     "text": [
      "inside try, t= 0\n",
      "driver.get\n",
      "YEAR Exception\n",
      "inside try, t= 1\n",
      "driver.get\n",
      "YEAR Exception\n",
      "inside try, t= 2\n",
      "driver.get\n",
      "YEAR Exception\n",
      "1985 June Gujarat Cotton\n",
      "file to open folders/Cotton/Gujarat/mynewdata_1985_June.csv\n",
      "False\n",
      "After\n"
     ]
    },
    {
     "name": "stderr",
     "output_type": "stream",
     "text": [
      "/usr/local/lib/python3.6/dist-packages/ipykernel_launcher.py:33: DeprecationWarning: use options instead of chrome_options\n"
     ]
    },
    {
     "name": "stdout",
     "output_type": "stream",
     "text": [
      "inside try, t= 0\n",
      "driver.get\n",
      "YEAR Exception\n",
      "inside try, t= 1\n",
      "driver.get\n",
      "YEAR Exception\n",
      "inside try, t= 2\n",
      "driver.get\n",
      "YEAR Exception\n",
      "1985 July Gujarat Cotton\n",
      "file to open folders/Cotton/Gujarat/mynewdata_1985_July.csv\n",
      "False\n",
      "After\n"
     ]
    },
    {
     "name": "stderr",
     "output_type": "stream",
     "text": [
      "/usr/local/lib/python3.6/dist-packages/ipykernel_launcher.py:33: DeprecationWarning: use options instead of chrome_options\n"
     ]
    },
    {
     "name": "stdout",
     "output_type": "stream",
     "text": [
      "inside try, t= 0\n",
      "driver.get\n",
      "YEAR Exception\n",
      "inside try, t= 1\n",
      "driver.get\n",
      "YEAR Exception\n",
      "inside try, t= 2\n",
      "driver.get\n",
      "YEAR Exception\n",
      "1985 August Gujarat Cotton\n",
      "file to open folders/Cotton/Gujarat/mynewdata_1985_August.csv\n",
      "False\n",
      "After\n"
     ]
    },
    {
     "name": "stderr",
     "output_type": "stream",
     "text": [
      "/usr/local/lib/python3.6/dist-packages/ipykernel_launcher.py:33: DeprecationWarning: use options instead of chrome_options\n"
     ]
    },
    {
     "name": "stdout",
     "output_type": "stream",
     "text": [
      "inside try, t= 0\n",
      "driver.get\n",
      "YEAR Exception\n",
      "inside try, t= 1\n",
      "driver.get\n",
      "YEAR Exception\n",
      "inside try, t= 2\n",
      "driver.get\n",
      "YEAR Exception\n",
      "1985 September Gujarat Cotton\n",
      "file to open folders/Cotton/Gujarat/mynewdata_1985_September.csv\n",
      "False\n",
      "After\n"
     ]
    },
    {
     "name": "stderr",
     "output_type": "stream",
     "text": [
      "/usr/local/lib/python3.6/dist-packages/ipykernel_launcher.py:33: DeprecationWarning: use options instead of chrome_options\n"
     ]
    },
    {
     "name": "stdout",
     "output_type": "stream",
     "text": [
      "inside try, t= 0\n",
      "driver.get\n",
      "Timeout exveption\n",
      "driver.get\n",
      "YEAR Exception\n",
      "inside try, t= 1\n",
      "driver.get\n",
      "YEAR Exception\n",
      "inside try, t= 2\n",
      "driver.get\n",
      "YEAR Exception\n",
      "1985 October Gujarat Cotton\n",
      "file to open folders/Cotton/Gujarat/mynewdata_1985_October.csv\n",
      "False\n",
      "After\n"
     ]
    },
    {
     "name": "stderr",
     "output_type": "stream",
     "text": [
      "/usr/local/lib/python3.6/dist-packages/ipykernel_launcher.py:33: DeprecationWarning: use options instead of chrome_options\n"
     ]
    },
    {
     "name": "stdout",
     "output_type": "stream",
     "text": [
      "inside try, t= 0\n",
      "driver.get\n",
      "YEAR Exception\n",
      "inside try, t= 1\n",
      "driver.get\n",
      "YEAR Exception\n",
      "inside try, t= 2\n",
      "driver.get\n",
      "YEAR Exception\n",
      "1985 November Gujarat Cotton\n",
      "file to open folders/Cotton/Gujarat/mynewdata_1985_November.csv\n",
      "False\n",
      "After\n"
     ]
    },
    {
     "name": "stderr",
     "output_type": "stream",
     "text": [
      "/usr/local/lib/python3.6/dist-packages/ipykernel_launcher.py:33: DeprecationWarning: use options instead of chrome_options\n"
     ]
    },
    {
     "name": "stdout",
     "output_type": "stream",
     "text": [
      "inside try, t= 0\n",
      "driver.get\n",
      "Timeout exveption\n",
      "driver.get\n",
      "YEAR Exception\n",
      "inside try, t= 1\n",
      "driver.get\n",
      "YEAR Exception\n",
      "inside try, t= 2\n",
      "driver.get\n",
      "YEAR Exception\n",
      "1985 December Gujarat Cotton\n",
      "file to open folders/Cotton/Gujarat/mynewdata_1985_December.csv\n",
      "False\n",
      "After\n"
     ]
    },
    {
     "name": "stderr",
     "output_type": "stream",
     "text": [
      "/usr/local/lib/python3.6/dist-packages/ipykernel_launcher.py:33: DeprecationWarning: use options instead of chrome_options\n"
     ]
    },
    {
     "name": "stdout",
     "output_type": "stream",
     "text": [
      "inside try, t= 0\n",
      "driver.get\n",
      "YEAR Exception\n",
      "inside try, t= 1\n",
      "driver.get\n",
      "YEAR Exception\n",
      "inside try, t= 2\n",
      "driver.get\n",
      "YEAR Exception\n",
      "1986 January Gujarat Cotton\n",
      "file to open folders/Cotton/Gujarat/mynewdata_1986_January.csv\n",
      "False\n",
      "After\n"
     ]
    },
    {
     "name": "stderr",
     "output_type": "stream",
     "text": [
      "/usr/local/lib/python3.6/dist-packages/ipykernel_launcher.py:33: DeprecationWarning: use options instead of chrome_options\n"
     ]
    },
    {
     "name": "stdout",
     "output_type": "stream",
     "text": [
      "inside try, t= 0\n",
      "driver.get\n",
      "YEAR Exception\n",
      "inside try, t= 1\n",
      "driver.get\n",
      "YEAR Exception\n",
      "inside try, t= 2\n",
      "driver.get\n",
      "YEAR Exception\n",
      "1986 February Gujarat Cotton\n",
      "file to open folders/Cotton/Gujarat/mynewdata_1986_February.csv\n",
      "False\n",
      "After\n"
     ]
    },
    {
     "name": "stderr",
     "output_type": "stream",
     "text": [
      "/usr/local/lib/python3.6/dist-packages/ipykernel_launcher.py:33: DeprecationWarning: use options instead of chrome_options\n"
     ]
    },
    {
     "name": "stdout",
     "output_type": "stream",
     "text": [
      "inside try, t= 0\n",
      "driver.get\n",
      "YEAR Exception\n",
      "inside try, t= 1\n",
      "driver.get\n",
      "YEAR Exception\n",
      "inside try, t= 2\n",
      "driver.get\n",
      "YEAR Exception\n",
      "1986 March Gujarat Cotton\n",
      "file to open folders/Cotton/Gujarat/mynewdata_1986_March.csv\n",
      "False\n",
      "After\n"
     ]
    },
    {
     "name": "stderr",
     "output_type": "stream",
     "text": [
      "/usr/local/lib/python3.6/dist-packages/ipykernel_launcher.py:33: DeprecationWarning: use options instead of chrome_options\n"
     ]
    },
    {
     "name": "stdout",
     "output_type": "stream",
     "text": [
      "inside try, t= 0\n",
      "driver.get\n",
      "YEAR Exception\n",
      "inside try, t= 1\n",
      "driver.get\n",
      "YEAR Exception\n",
      "inside try, t= 2\n",
      "driver.get\n",
      "YEAR Exception\n",
      "1986 April Gujarat Cotton\n",
      "file to open folders/Cotton/Gujarat/mynewdata_1986_April.csv\n",
      "False\n",
      "After\n"
     ]
    },
    {
     "name": "stderr",
     "output_type": "stream",
     "text": [
      "/usr/local/lib/python3.6/dist-packages/ipykernel_launcher.py:33: DeprecationWarning: use options instead of chrome_options\n"
     ]
    },
    {
     "name": "stdout",
     "output_type": "stream",
     "text": [
      "inside try, t= 0\n",
      "driver.get\n",
      "YEAR Exception\n",
      "inside try, t= 1\n",
      "driver.get\n",
      "YEAR Exception\n",
      "inside try, t= 2\n",
      "driver.get\n",
      "YEAR Exception\n",
      "1986 May Gujarat Cotton\n",
      "file to open folders/Cotton/Gujarat/mynewdata_1986_May.csv\n",
      "False\n",
      "After\n"
     ]
    },
    {
     "name": "stderr",
     "output_type": "stream",
     "text": [
      "/usr/local/lib/python3.6/dist-packages/ipykernel_launcher.py:33: DeprecationWarning: use options instead of chrome_options\n"
     ]
    },
    {
     "name": "stdout",
     "output_type": "stream",
     "text": [
      "inside try, t= 0\n",
      "driver.get\n",
      "YEAR Exception\n",
      "inside try, t= 1\n",
      "driver.get\n",
      "YEAR Exception\n",
      "inside try, t= 2\n",
      "driver.get\n",
      "YEAR Exception\n",
      "1986 June Gujarat Cotton\n",
      "file to open folders/Cotton/Gujarat/mynewdata_1986_June.csv\n",
      "False\n",
      "After\n"
     ]
    },
    {
     "name": "stderr",
     "output_type": "stream",
     "text": [
      "/usr/local/lib/python3.6/dist-packages/ipykernel_launcher.py:33: DeprecationWarning: use options instead of chrome_options\n"
     ]
    },
    {
     "name": "stdout",
     "output_type": "stream",
     "text": [
      "inside try, t= 0\n",
      "driver.get\n",
      "YEAR Exception\n",
      "inside try, t= 1\n",
      "driver.get\n",
      "YEAR Exception\n",
      "inside try, t= 2\n",
      "driver.get\n",
      "YEAR Exception\n",
      "1986 July Gujarat Cotton\n",
      "file to open folders/Cotton/Gujarat/mynewdata_1986_July.csv\n",
      "False\n",
      "After\n"
     ]
    },
    {
     "name": "stderr",
     "output_type": "stream",
     "text": [
      "/usr/local/lib/python3.6/dist-packages/ipykernel_launcher.py:33: DeprecationWarning: use options instead of chrome_options\n"
     ]
    },
    {
     "name": "stdout",
     "output_type": "stream",
     "text": [
      "inside try, t= 0\n",
      "driver.get\n",
      "YEAR Exception\n",
      "inside try, t= 1\n",
      "driver.get\n",
      "YEAR Exception\n",
      "inside try, t= 2\n",
      "driver.get\n",
      "YEAR Exception\n",
      "1986 August Gujarat Cotton\n",
      "file to open folders/Cotton/Gujarat/mynewdata_1986_August.csv\n",
      "False\n",
      "After\n"
     ]
    },
    {
     "name": "stderr",
     "output_type": "stream",
     "text": [
      "/usr/local/lib/python3.6/dist-packages/ipykernel_launcher.py:33: DeprecationWarning: use options instead of chrome_options\n"
     ]
    },
    {
     "name": "stdout",
     "output_type": "stream",
     "text": [
      "inside try, t= 0\n",
      "driver.get\n",
      "YEAR Exception\n",
      "inside try, t= 1\n",
      "driver.get\n",
      "YEAR Exception\n",
      "inside try, t= 2\n",
      "driver.get\n",
      "YEAR Exception\n",
      "1986 September Gujarat Cotton\n",
      "file to open folders/Cotton/Gujarat/mynewdata_1986_September.csv\n",
      "False\n",
      "After\n"
     ]
    },
    {
     "name": "stderr",
     "output_type": "stream",
     "text": [
      "/usr/local/lib/python3.6/dist-packages/ipykernel_launcher.py:33: DeprecationWarning: use options instead of chrome_options\n"
     ]
    },
    {
     "name": "stdout",
     "output_type": "stream",
     "text": [
      "inside try, t= 0\n",
      "driver.get\n",
      "YEAR Exception\n",
      "inside try, t= 1\n",
      "driver.get\n",
      "YEAR Exception\n",
      "inside try, t= 2\n",
      "driver.get\n",
      "YEAR Exception\n",
      "1986 October Gujarat Cotton\n",
      "file to open folders/Cotton/Gujarat/mynewdata_1986_October.csv\n",
      "False\n",
      "After\n"
     ]
    },
    {
     "name": "stderr",
     "output_type": "stream",
     "text": [
      "/usr/local/lib/python3.6/dist-packages/ipykernel_launcher.py:33: DeprecationWarning: use options instead of chrome_options\n"
     ]
    },
    {
     "name": "stdout",
     "output_type": "stream",
     "text": [
      "inside try, t= 0\n",
      "driver.get\n",
      "YEAR Exception\n",
      "inside try, t= 1\n",
      "driver.get\n",
      "YEAR Exception\n",
      "inside try, t= 2\n",
      "driver.get\n",
      "YEAR Exception\n",
      "1986 November Gujarat Cotton\n",
      "file to open folders/Cotton/Gujarat/mynewdata_1986_November.csv\n",
      "False\n",
      "After\n"
     ]
    },
    {
     "name": "stderr",
     "output_type": "stream",
     "text": [
      "/usr/local/lib/python3.6/dist-packages/ipykernel_launcher.py:33: DeprecationWarning: use options instead of chrome_options\n"
     ]
    },
    {
     "name": "stdout",
     "output_type": "stream",
     "text": [
      "inside try, t= 0\n",
      "driver.get\n",
      "YEAR Exception\n",
      "inside try, t= 1\n",
      "driver.get\n",
      "YEAR Exception\n",
      "inside try, t= 2\n",
      "driver.get\n",
      "YEAR Exception\n",
      "1986 December Gujarat Cotton\n",
      "file to open folders/Cotton/Gujarat/mynewdata_1986_December.csv\n",
      "False\n",
      "After\n"
     ]
    },
    {
     "name": "stderr",
     "output_type": "stream",
     "text": [
      "/usr/local/lib/python3.6/dist-packages/ipykernel_launcher.py:33: DeprecationWarning: use options instead of chrome_options\n"
     ]
    },
    {
     "name": "stdout",
     "output_type": "stream",
     "text": [
      "inside try, t= 0\n",
      "driver.get\n",
      "YEAR Exception\n",
      "inside try, t= 1\n",
      "driver.get\n",
      "YEAR Exception\n",
      "inside try, t= 2\n",
      "driver.get\n",
      "YEAR Exception\n",
      "1987 January Gujarat Cotton\n",
      "file to open folders/Cotton/Gujarat/mynewdata_1987_January.csv\n",
      "False\n",
      "After\n"
     ]
    },
    {
     "name": "stderr",
     "output_type": "stream",
     "text": [
      "/usr/local/lib/python3.6/dist-packages/ipykernel_launcher.py:33: DeprecationWarning: use options instead of chrome_options\n"
     ]
    },
    {
     "name": "stdout",
     "output_type": "stream",
     "text": [
      "inside try, t= 0\n",
      "driver.get\n",
      "YEAR Exception\n",
      "inside try, t= 1\n",
      "driver.get\n",
      "YEAR Exception\n",
      "inside try, t= 2\n",
      "driver.get\n",
      "YEAR Exception\n",
      "1987 February Gujarat Cotton\n",
      "file to open folders/Cotton/Gujarat/mynewdata_1987_February.csv\n",
      "False\n",
      "After\n"
     ]
    },
    {
     "name": "stderr",
     "output_type": "stream",
     "text": [
      "/usr/local/lib/python3.6/dist-packages/ipykernel_launcher.py:33: DeprecationWarning: use options instead of chrome_options\n"
     ]
    },
    {
     "name": "stdout",
     "output_type": "stream",
     "text": [
      "inside try, t= 0\n",
      "driver.get\n",
      "YEAR Exception\n",
      "inside try, t= 1\n",
      "driver.get\n",
      "YEAR Exception\n",
      "inside try, t= 2\n",
      "driver.get\n",
      "YEAR Exception\n",
      "1987 March Gujarat Cotton\n",
      "file to open folders/Cotton/Gujarat/mynewdata_1987_March.csv\n",
      "False\n",
      "After\n"
     ]
    },
    {
     "name": "stderr",
     "output_type": "stream",
     "text": [
      "/usr/local/lib/python3.6/dist-packages/ipykernel_launcher.py:33: DeprecationWarning: use options instead of chrome_options\n"
     ]
    },
    {
     "name": "stdout",
     "output_type": "stream",
     "text": [
      "inside try, t= 0\n",
      "driver.get\n",
      "YEAR Exception\n",
      "inside try, t= 1\n",
      "driver.get\n",
      "YEAR Exception\n",
      "inside try, t= 2\n",
      "driver.get\n",
      "YEAR Exception\n",
      "1987 April Gujarat Cotton\n",
      "file to open folders/Cotton/Gujarat/mynewdata_1987_April.csv\n",
      "False\n",
      "After\n"
     ]
    },
    {
     "name": "stderr",
     "output_type": "stream",
     "text": [
      "/usr/local/lib/python3.6/dist-packages/ipykernel_launcher.py:33: DeprecationWarning: use options instead of chrome_options\n"
     ]
    },
    {
     "name": "stdout",
     "output_type": "stream",
     "text": [
      "inside try, t= 0\n",
      "driver.get\n",
      "YEAR Exception\n",
      "inside try, t= 1\n",
      "driver.get\n",
      "YEAR Exception\n",
      "inside try, t= 2\n",
      "driver.get\n",
      "YEAR Exception\n",
      "1987 May Gujarat Cotton\n",
      "file to open folders/Cotton/Gujarat/mynewdata_1987_May.csv\n",
      "False\n",
      "After\n"
     ]
    },
    {
     "name": "stderr",
     "output_type": "stream",
     "text": [
      "/usr/local/lib/python3.6/dist-packages/ipykernel_launcher.py:33: DeprecationWarning: use options instead of chrome_options\n"
     ]
    },
    {
     "name": "stdout",
     "output_type": "stream",
     "text": [
      "inside try, t= 0\n",
      "driver.get\n",
      "YEAR Exception\n",
      "inside try, t= 1\n",
      "driver.get\n",
      "YEAR Exception\n",
      "inside try, t= 2\n",
      "driver.get\n",
      "YEAR Exception\n",
      "1987 June Gujarat Cotton\n",
      "file to open folders/Cotton/Gujarat/mynewdata_1987_June.csv\n",
      "False\n",
      "After\n"
     ]
    },
    {
     "name": "stderr",
     "output_type": "stream",
     "text": [
      "/usr/local/lib/python3.6/dist-packages/ipykernel_launcher.py:33: DeprecationWarning: use options instead of chrome_options\n"
     ]
    },
    {
     "name": "stdout",
     "output_type": "stream",
     "text": [
      "inside try, t= 0\n",
      "driver.get\n",
      "YEAR Exception\n",
      "inside try, t= 1\n",
      "driver.get\n",
      "YEAR Exception\n",
      "inside try, t= 2\n",
      "driver.get\n",
      "YEAR Exception\n",
      "1987 July Gujarat Cotton\n",
      "file to open folders/Cotton/Gujarat/mynewdata_1987_July.csv\n",
      "False\n",
      "After\n"
     ]
    },
    {
     "name": "stderr",
     "output_type": "stream",
     "text": [
      "/usr/local/lib/python3.6/dist-packages/ipykernel_launcher.py:33: DeprecationWarning: use options instead of chrome_options\n"
     ]
    },
    {
     "name": "stdout",
     "output_type": "stream",
     "text": [
      "inside try, t= 0\n",
      "driver.get\n",
      "Timeout exveption\n",
      "driver.get\n",
      "YEAR Exception\n",
      "inside try, t= 1\n",
      "driver.get\n",
      "YEAR Exception\n",
      "inside try, t= 2\n",
      "driver.get\n",
      "YEAR Exception\n",
      "1987 August Gujarat Cotton\n",
      "file to open folders/Cotton/Gujarat/mynewdata_1987_August.csv\n",
      "False\n",
      "After\n"
     ]
    },
    {
     "name": "stderr",
     "output_type": "stream",
     "text": [
      "/usr/local/lib/python3.6/dist-packages/ipykernel_launcher.py:33: DeprecationWarning: use options instead of chrome_options\n"
     ]
    },
    {
     "name": "stdout",
     "output_type": "stream",
     "text": [
      "inside try, t= 0\n",
      "driver.get\n",
      "YEAR Exception\n",
      "inside try, t= 1\n",
      "driver.get\n",
      "YEAR Exception\n",
      "inside try, t= 2\n",
      "driver.get\n",
      "YEAR Exception\n",
      "1987 September Gujarat Cotton\n",
      "file to open folders/Cotton/Gujarat/mynewdata_1987_September.csv\n",
      "False\n",
      "After\n"
     ]
    },
    {
     "name": "stderr",
     "output_type": "stream",
     "text": [
      "/usr/local/lib/python3.6/dist-packages/ipykernel_launcher.py:33: DeprecationWarning: use options instead of chrome_options\n"
     ]
    },
    {
     "name": "stdout",
     "output_type": "stream",
     "text": [
      "inside try, t= 0\n",
      "driver.get\n",
      "YEAR Exception\n",
      "inside try, t= 1\n",
      "driver.get\n",
      "YEAR Exception\n",
      "inside try, t= 2\n",
      "driver.get\n",
      "YEAR Exception\n",
      "1987 October Gujarat Cotton\n",
      "file to open folders/Cotton/Gujarat/mynewdata_1987_October.csv\n",
      "False\n",
      "After\n"
     ]
    },
    {
     "name": "stderr",
     "output_type": "stream",
     "text": [
      "/usr/local/lib/python3.6/dist-packages/ipykernel_launcher.py:33: DeprecationWarning: use options instead of chrome_options\n"
     ]
    },
    {
     "name": "stdout",
     "output_type": "stream",
     "text": [
      "inside try, t= 0\n",
      "driver.get\n",
      "YEAR Exception\n",
      "inside try, t= 1\n",
      "driver.get\n",
      "YEAR Exception\n",
      "inside try, t= 2\n",
      "driver.get\n",
      "YEAR Exception\n",
      "1987 November Gujarat Cotton\n",
      "file to open folders/Cotton/Gujarat/mynewdata_1987_November.csv\n",
      "False\n",
      "After\n"
     ]
    },
    {
     "name": "stderr",
     "output_type": "stream",
     "text": [
      "/usr/local/lib/python3.6/dist-packages/ipykernel_launcher.py:33: DeprecationWarning: use options instead of chrome_options\n"
     ]
    },
    {
     "name": "stdout",
     "output_type": "stream",
     "text": [
      "inside try, t= 0\n",
      "driver.get\n",
      "YEAR Exception\n",
      "inside try, t= 1\n",
      "driver.get\n",
      "YEAR Exception\n",
      "inside try, t= 2\n",
      "driver.get\n",
      "YEAR Exception\n",
      "1987 December Gujarat Cotton\n",
      "file to open folders/Cotton/Gujarat/mynewdata_1987_December.csv\n",
      "False\n",
      "After\n"
     ]
    },
    {
     "name": "stderr",
     "output_type": "stream",
     "text": [
      "/usr/local/lib/python3.6/dist-packages/ipykernel_launcher.py:33: DeprecationWarning: use options instead of chrome_options\n"
     ]
    },
    {
     "name": "stdout",
     "output_type": "stream",
     "text": [
      "inside try, t= 0\n",
      "driver.get\n",
      "YEAR Exception\n",
      "inside try, t= 1\n",
      "driver.get\n",
      "YEAR Exception\n",
      "inside try, t= 2\n",
      "driver.get\n",
      "YEAR Exception\n",
      "1988 January Gujarat Cotton\n",
      "file to open folders/Cotton/Gujarat/mynewdata_1988_January.csv\n",
      "False\n",
      "After\n"
     ]
    },
    {
     "name": "stderr",
     "output_type": "stream",
     "text": [
      "/usr/local/lib/python3.6/dist-packages/ipykernel_launcher.py:33: DeprecationWarning: use options instead of chrome_options\n"
     ]
    },
    {
     "name": "stdout",
     "output_type": "stream",
     "text": [
      "inside try, t= 0\n",
      "driver.get\n",
      "YEAR Exception\n",
      "inside try, t= 1\n",
      "driver.get\n",
      "YEAR Exception\n",
      "inside try, t= 2\n",
      "driver.get\n",
      "YEAR Exception\n",
      "1988 February Gujarat Cotton\n",
      "file to open folders/Cotton/Gujarat/mynewdata_1988_February.csv\n",
      "False\n",
      "After\n"
     ]
    },
    {
     "name": "stderr",
     "output_type": "stream",
     "text": [
      "/usr/local/lib/python3.6/dist-packages/ipykernel_launcher.py:33: DeprecationWarning: use options instead of chrome_options\n"
     ]
    },
    {
     "name": "stdout",
     "output_type": "stream",
     "text": [
      "inside try, t= 0\n",
      "driver.get\n",
      "YEAR Exception\n",
      "inside try, t= 1\n",
      "driver.get\n",
      "YEAR Exception\n",
      "inside try, t= 2\n",
      "driver.get\n",
      "YEAR Exception\n",
      "1988 March Gujarat Cotton\n",
      "file to open folders/Cotton/Gujarat/mynewdata_1988_March.csv\n",
      "False\n",
      "After\n"
     ]
    },
    {
     "name": "stderr",
     "output_type": "stream",
     "text": [
      "/usr/local/lib/python3.6/dist-packages/ipykernel_launcher.py:33: DeprecationWarning: use options instead of chrome_options\n"
     ]
    },
    {
     "name": "stdout",
     "output_type": "stream",
     "text": [
      "inside try, t= 0\n",
      "driver.get\n",
      "YEAR Exception\n",
      "inside try, t= 1\n",
      "driver.get\n",
      "YEAR Exception\n",
      "inside try, t= 2\n",
      "driver.get\n",
      "YEAR Exception\n",
      "1988 April Gujarat Cotton\n",
      "file to open folders/Cotton/Gujarat/mynewdata_1988_April.csv\n",
      "False\n",
      "After\n"
     ]
    },
    {
     "name": "stderr",
     "output_type": "stream",
     "text": [
      "/usr/local/lib/python3.6/dist-packages/ipykernel_launcher.py:33: DeprecationWarning: use options instead of chrome_options\n"
     ]
    },
    {
     "name": "stdout",
     "output_type": "stream",
     "text": [
      "inside try, t= 0\n",
      "driver.get\n",
      "YEAR Exception\n",
      "inside try, t= 1\n",
      "driver.get\n",
      "YEAR Exception\n",
      "inside try, t= 2\n",
      "driver.get\n",
      "YEAR Exception\n",
      "1988 May Gujarat Cotton\n",
      "file to open folders/Cotton/Gujarat/mynewdata_1988_May.csv\n",
      "False\n",
      "After\n"
     ]
    },
    {
     "name": "stderr",
     "output_type": "stream",
     "text": [
      "/usr/local/lib/python3.6/dist-packages/ipykernel_launcher.py:33: DeprecationWarning: use options instead of chrome_options\n"
     ]
    },
    {
     "name": "stdout",
     "output_type": "stream",
     "text": [
      "inside try, t= 0\n",
      "driver.get\n",
      "YEAR Exception\n",
      "inside try, t= 1\n",
      "driver.get\n",
      "YEAR Exception\n",
      "inside try, t= 2\n",
      "driver.get\n",
      "YEAR Exception\n",
      "1988 June Gujarat Cotton\n",
      "file to open folders/Cotton/Gujarat/mynewdata_1988_June.csv\n",
      "False\n",
      "After\n"
     ]
    },
    {
     "name": "stderr",
     "output_type": "stream",
     "text": [
      "/usr/local/lib/python3.6/dist-packages/ipykernel_launcher.py:33: DeprecationWarning: use options instead of chrome_options\n"
     ]
    },
    {
     "name": "stdout",
     "output_type": "stream",
     "text": [
      "inside try, t= 0\n",
      "driver.get\n",
      "YEAR Exception\n",
      "inside try, t= 1\n",
      "driver.get\n",
      "YEAR Exception\n",
      "inside try, t= 2\n",
      "driver.get\n",
      "YEAR Exception\n",
      "1988 July Gujarat Cotton\n",
      "file to open folders/Cotton/Gujarat/mynewdata_1988_July.csv\n",
      "False\n",
      "After\n"
     ]
    },
    {
     "name": "stderr",
     "output_type": "stream",
     "text": [
      "/usr/local/lib/python3.6/dist-packages/ipykernel_launcher.py:33: DeprecationWarning: use options instead of chrome_options\n"
     ]
    },
    {
     "name": "stdout",
     "output_type": "stream",
     "text": [
      "inside try, t= 0\n",
      "driver.get\n",
      "YEAR Exception\n",
      "inside try, t= 1\n",
      "driver.get\n",
      "YEAR Exception\n",
      "inside try, t= 2\n",
      "driver.get\n",
      "YEAR Exception\n",
      "1988 August Gujarat Cotton\n",
      "file to open folders/Cotton/Gujarat/mynewdata_1988_August.csv\n",
      "False\n",
      "After\n"
     ]
    },
    {
     "name": "stderr",
     "output_type": "stream",
     "text": [
      "/usr/local/lib/python3.6/dist-packages/ipykernel_launcher.py:33: DeprecationWarning: use options instead of chrome_options\n"
     ]
    },
    {
     "name": "stdout",
     "output_type": "stream",
     "text": [
      "inside try, t= 0\n",
      "driver.get\n",
      "YEAR Exception\n",
      "inside try, t= 1\n",
      "driver.get\n",
      "YEAR Exception\n",
      "inside try, t= 2\n",
      "driver.get\n",
      "YEAR Exception\n",
      "1988 September Gujarat Cotton\n",
      "file to open folders/Cotton/Gujarat/mynewdata_1988_September.csv\n",
      "False\n",
      "After\n"
     ]
    },
    {
     "name": "stderr",
     "output_type": "stream",
     "text": [
      "/usr/local/lib/python3.6/dist-packages/ipykernel_launcher.py:33: DeprecationWarning: use options instead of chrome_options\n"
     ]
    },
    {
     "name": "stdout",
     "output_type": "stream",
     "text": [
      "inside try, t= 0\n",
      "driver.get\n",
      "YEAR Exception\n",
      "inside try, t= 1\n",
      "driver.get\n",
      "YEAR Exception\n",
      "inside try, t= 2\n",
      "driver.get\n",
      "YEAR Exception\n",
      "1988 October Gujarat Cotton\n",
      "file to open folders/Cotton/Gujarat/mynewdata_1988_October.csv\n",
      "False\n",
      "After\n"
     ]
    },
    {
     "name": "stderr",
     "output_type": "stream",
     "text": [
      "/usr/local/lib/python3.6/dist-packages/ipykernel_launcher.py:33: DeprecationWarning: use options instead of chrome_options\n"
     ]
    },
    {
     "name": "stdout",
     "output_type": "stream",
     "text": [
      "inside try, t= 0\n",
      "driver.get\n",
      "YEAR Exception\n",
      "inside try, t= 1\n",
      "driver.get\n",
      "YEAR Exception\n",
      "inside try, t= 2\n",
      "driver.get\n",
      "YEAR Exception\n",
      "1988 November Gujarat Cotton\n",
      "file to open folders/Cotton/Gujarat/mynewdata_1988_November.csv\n",
      "False\n",
      "After\n"
     ]
    },
    {
     "name": "stderr",
     "output_type": "stream",
     "text": [
      "/usr/local/lib/python3.6/dist-packages/ipykernel_launcher.py:33: DeprecationWarning: use options instead of chrome_options\n"
     ]
    },
    {
     "name": "stdout",
     "output_type": "stream",
     "text": [
      "inside try, t= 0\n",
      "driver.get\n",
      "YEAR Exception\n",
      "inside try, t= 1\n",
      "driver.get\n",
      "YEAR Exception\n",
      "inside try, t= 2\n",
      "driver.get\n",
      "YEAR Exception\n",
      "1988 December Gujarat Cotton\n",
      "file to open folders/Cotton/Gujarat/mynewdata_1988_December.csv\n",
      "False\n",
      "After\n"
     ]
    },
    {
     "name": "stderr",
     "output_type": "stream",
     "text": [
      "/usr/local/lib/python3.6/dist-packages/ipykernel_launcher.py:33: DeprecationWarning: use options instead of chrome_options\n"
     ]
    },
    {
     "name": "stdout",
     "output_type": "stream",
     "text": [
      "inside try, t= 0\n",
      "driver.get\n",
      "YEAR Exception\n",
      "inside try, t= 1\n",
      "driver.get\n",
      "YEAR Exception\n",
      "inside try, t= 2\n",
      "driver.get\n",
      "YEAR Exception\n",
      "1989 January Gujarat Cotton\n",
      "file to open folders/Cotton/Gujarat/mynewdata_1989_January.csv\n",
      "False\n",
      "After\n"
     ]
    },
    {
     "name": "stderr",
     "output_type": "stream",
     "text": [
      "/usr/local/lib/python3.6/dist-packages/ipykernel_launcher.py:33: DeprecationWarning: use options instead of chrome_options\n"
     ]
    },
    {
     "name": "stdout",
     "output_type": "stream",
     "text": [
      "inside try, t= 0\n",
      "driver.get\n",
      "YEAR Exception\n",
      "inside try, t= 1\n",
      "driver.get\n",
      "YEAR Exception\n",
      "inside try, t= 2\n",
      "driver.get\n",
      "YEAR Exception\n",
      "1989 February Gujarat Cotton\n",
      "file to open folders/Cotton/Gujarat/mynewdata_1989_February.csv\n",
      "False\n",
      "After\n"
     ]
    },
    {
     "name": "stderr",
     "output_type": "stream",
     "text": [
      "/usr/local/lib/python3.6/dist-packages/ipykernel_launcher.py:33: DeprecationWarning: use options instead of chrome_options\n"
     ]
    },
    {
     "name": "stdout",
     "output_type": "stream",
     "text": [
      "inside try, t= 0\n",
      "driver.get\n",
      "YEAR Exception\n",
      "inside try, t= 1\n",
      "driver.get\n",
      "YEAR Exception\n",
      "inside try, t= 2\n",
      "driver.get\n",
      "YEAR Exception\n",
      "1989 March Gujarat Cotton\n",
      "file to open folders/Cotton/Gujarat/mynewdata_1989_March.csv\n",
      "False\n",
      "After\n"
     ]
    },
    {
     "name": "stderr",
     "output_type": "stream",
     "text": [
      "/usr/local/lib/python3.6/dist-packages/ipykernel_launcher.py:33: DeprecationWarning: use options instead of chrome_options\n"
     ]
    },
    {
     "name": "stdout",
     "output_type": "stream",
     "text": [
      "inside try, t= 0\n",
      "driver.get\n",
      "Timeout exveption\n",
      "driver.get\n",
      "Timeout exveption\n",
      "driver.get\n",
      "Timeout exveption\n",
      "Timeout loading url\n",
      "YEAR Exception\n",
      "inside try, t= 1\n",
      "driver.get\n",
      "YEAR Exception\n",
      "inside try, t= 2\n",
      "driver.get\n",
      "YEAR Exception\n",
      "1989 April Gujarat Cotton\n",
      "file to open folders/Cotton/Gujarat/mynewdata_1989_April.csv\n",
      "False\n",
      "After\n"
     ]
    },
    {
     "name": "stderr",
     "output_type": "stream",
     "text": [
      "/usr/local/lib/python3.6/dist-packages/ipykernel_launcher.py:33: DeprecationWarning: use options instead of chrome_options\n"
     ]
    },
    {
     "name": "stdout",
     "output_type": "stream",
     "text": [
      "inside try, t= 0\n",
      "driver.get\n",
      "YEAR Exception\n",
      "inside try, t= 1\n",
      "driver.get\n",
      "YEAR Exception\n",
      "inside try, t= 2\n",
      "driver.get\n",
      "YEAR Exception\n",
      "1989 May Gujarat Cotton\n",
      "file to open folders/Cotton/Gujarat/mynewdata_1989_May.csv\n",
      "False\n",
      "After\n"
     ]
    },
    {
     "name": "stderr",
     "output_type": "stream",
     "text": [
      "/usr/local/lib/python3.6/dist-packages/ipykernel_launcher.py:33: DeprecationWarning: use options instead of chrome_options\n"
     ]
    },
    {
     "name": "stdout",
     "output_type": "stream",
     "text": [
      "inside try, t= 0\n",
      "driver.get\n",
      "YEAR Exception\n",
      "inside try, t= 1\n",
      "driver.get\n",
      "YEAR Exception\n",
      "inside try, t= 2\n",
      "driver.get\n",
      "YEAR Exception\n",
      "1989 June Gujarat Cotton\n",
      "file to open folders/Cotton/Gujarat/mynewdata_1989_June.csv\n",
      "False\n",
      "After\n"
     ]
    },
    {
     "name": "stderr",
     "output_type": "stream",
     "text": [
      "/usr/local/lib/python3.6/dist-packages/ipykernel_launcher.py:33: DeprecationWarning: use options instead of chrome_options\n"
     ]
    },
    {
     "name": "stdout",
     "output_type": "stream",
     "text": [
      "inside try, t= 0\n",
      "driver.get\n",
      "YEAR Exception\n",
      "inside try, t= 1\n",
      "driver.get\n",
      "YEAR Exception\n",
      "inside try, t= 2\n",
      "driver.get\n",
      "YEAR Exception\n",
      "1989 July Gujarat Cotton\n",
      "file to open folders/Cotton/Gujarat/mynewdata_1989_July.csv\n",
      "False\n",
      "After\n"
     ]
    },
    {
     "name": "stderr",
     "output_type": "stream",
     "text": [
      "/usr/local/lib/python3.6/dist-packages/ipykernel_launcher.py:33: DeprecationWarning: use options instead of chrome_options\n"
     ]
    },
    {
     "name": "stdout",
     "output_type": "stream",
     "text": [
      "inside try, t= 0\n",
      "driver.get\n",
      "YEAR Exception\n",
      "inside try, t= 1\n",
      "driver.get\n",
      "YEAR Exception\n",
      "inside try, t= 2\n",
      "driver.get\n",
      "YEAR Exception\n",
      "1989 August Gujarat Cotton\n",
      "file to open folders/Cotton/Gujarat/mynewdata_1989_August.csv\n",
      "False\n",
      "After\n"
     ]
    },
    {
     "name": "stderr",
     "output_type": "stream",
     "text": [
      "/usr/local/lib/python3.6/dist-packages/ipykernel_launcher.py:33: DeprecationWarning: use options instead of chrome_options\n"
     ]
    },
    {
     "name": "stdout",
     "output_type": "stream",
     "text": [
      "inside try, t= 0\n",
      "driver.get\n",
      "YEAR Exception\n",
      "inside try, t= 1\n",
      "driver.get\n",
      "YEAR Exception\n",
      "inside try, t= 2\n",
      "driver.get\n",
      "YEAR Exception\n",
      "1989 September Gujarat Cotton\n",
      "file to open folders/Cotton/Gujarat/mynewdata_1989_September.csv\n",
      "False\n",
      "After\n"
     ]
    },
    {
     "name": "stderr",
     "output_type": "stream",
     "text": [
      "/usr/local/lib/python3.6/dist-packages/ipykernel_launcher.py:33: DeprecationWarning: use options instead of chrome_options\n"
     ]
    },
    {
     "name": "stdout",
     "output_type": "stream",
     "text": [
      "inside try, t= 0\n",
      "driver.get\n",
      "YEAR Exception\n",
      "inside try, t= 1\n",
      "driver.get\n",
      "YEAR Exception\n",
      "inside try, t= 2\n",
      "driver.get\n",
      "YEAR Exception\n",
      "1989 October Gujarat Cotton\n",
      "file to open folders/Cotton/Gujarat/mynewdata_1989_October.csv\n",
      "False\n",
      "After\n"
     ]
    },
    {
     "name": "stderr",
     "output_type": "stream",
     "text": [
      "/usr/local/lib/python3.6/dist-packages/ipykernel_launcher.py:33: DeprecationWarning: use options instead of chrome_options\n"
     ]
    },
    {
     "name": "stdout",
     "output_type": "stream",
     "text": [
      "inside try, t= 0\n",
      "driver.get\n",
      "YEAR Exception\n",
      "inside try, t= 1\n",
      "driver.get\n",
      "YEAR Exception\n",
      "inside try, t= 2\n",
      "driver.get\n",
      "YEAR Exception\n",
      "1989 November Gujarat Cotton\n",
      "file to open folders/Cotton/Gujarat/mynewdata_1989_November.csv\n",
      "False\n",
      "After\n"
     ]
    },
    {
     "name": "stderr",
     "output_type": "stream",
     "text": [
      "/usr/local/lib/python3.6/dist-packages/ipykernel_launcher.py:33: DeprecationWarning: use options instead of chrome_options\n"
     ]
    },
    {
     "name": "stdout",
     "output_type": "stream",
     "text": [
      "inside try, t= 0\n",
      "driver.get\n",
      "YEAR Exception\n",
      "inside try, t= 1\n",
      "driver.get\n",
      "YEAR Exception\n",
      "inside try, t= 2\n",
      "driver.get\n",
      "YEAR Exception\n",
      "1989 December Gujarat Cotton\n",
      "file to open folders/Cotton/Gujarat/mynewdata_1989_December.csv\n",
      "False\n",
      "After\n"
     ]
    },
    {
     "name": "stderr",
     "output_type": "stream",
     "text": [
      "/usr/local/lib/python3.6/dist-packages/ipykernel_launcher.py:33: DeprecationWarning: use options instead of chrome_options\n"
     ]
    },
    {
     "name": "stdout",
     "output_type": "stream",
     "text": [
      "inside try, t= 0\n",
      "driver.get\n",
      "YEAR Exception\n",
      "inside try, t= 1\n",
      "driver.get\n",
      "YEAR Exception\n",
      "inside try, t= 2\n",
      "driver.get\n",
      "YEAR Exception\n",
      "1990 January Gujarat Cotton\n",
      "file to open folders/Cotton/Gujarat/mynewdata_1990_January.csv\n",
      "False\n",
      "After\n"
     ]
    },
    {
     "name": "stderr",
     "output_type": "stream",
     "text": [
      "/usr/local/lib/python3.6/dist-packages/ipykernel_launcher.py:33: DeprecationWarning: use options instead of chrome_options\n"
     ]
    },
    {
     "name": "stdout",
     "output_type": "stream",
     "text": [
      "inside try, t= 0\n",
      "driver.get\n",
      "YEAR Exception\n",
      "inside try, t= 1\n",
      "driver.get\n",
      "YEAR Exception\n",
      "inside try, t= 2\n",
      "driver.get\n",
      "YEAR Exception\n",
      "1990 February Gujarat Cotton\n",
      "file to open folders/Cotton/Gujarat/mynewdata_1990_February.csv\n",
      "False\n",
      "After\n"
     ]
    },
    {
     "name": "stderr",
     "output_type": "stream",
     "text": [
      "/usr/local/lib/python3.6/dist-packages/ipykernel_launcher.py:33: DeprecationWarning: use options instead of chrome_options\n"
     ]
    },
    {
     "name": "stdout",
     "output_type": "stream",
     "text": [
      "inside try, t= 0\n",
      "driver.get\n",
      "YEAR Exception\n",
      "inside try, t= 1\n",
      "driver.get\n",
      "YEAR Exception\n",
      "inside try, t= 2\n",
      "driver.get\n",
      "YEAR Exception\n",
      "1990 March Gujarat Cotton\n",
      "file to open folders/Cotton/Gujarat/mynewdata_1990_March.csv\n",
      "False\n",
      "After\n"
     ]
    },
    {
     "name": "stderr",
     "output_type": "stream",
     "text": [
      "/usr/local/lib/python3.6/dist-packages/ipykernel_launcher.py:33: DeprecationWarning: use options instead of chrome_options\n"
     ]
    },
    {
     "name": "stdout",
     "output_type": "stream",
     "text": [
      "inside try, t= 0\n",
      "driver.get\n",
      "YEAR Exception\n",
      "inside try, t= 1\n",
      "driver.get\n",
      "YEAR Exception\n",
      "inside try, t= 2\n",
      "driver.get\n",
      "YEAR Exception\n",
      "1990 April Gujarat Cotton\n",
      "file to open folders/Cotton/Gujarat/mynewdata_1990_April.csv\n",
      "False\n",
      "After\n"
     ]
    },
    {
     "name": "stderr",
     "output_type": "stream",
     "text": [
      "/usr/local/lib/python3.6/dist-packages/ipykernel_launcher.py:33: DeprecationWarning: use options instead of chrome_options\n"
     ]
    },
    {
     "name": "stdout",
     "output_type": "stream",
     "text": [
      "inside try, t= 0\n",
      "driver.get\n",
      "YEAR Exception\n",
      "inside try, t= 1\n",
      "driver.get\n",
      "YEAR Exception\n",
      "inside try, t= 2\n",
      "driver.get\n",
      "YEAR Exception\n",
      "1990 May Gujarat Cotton\n",
      "file to open folders/Cotton/Gujarat/mynewdata_1990_May.csv\n",
      "False\n",
      "After\n"
     ]
    },
    {
     "name": "stderr",
     "output_type": "stream",
     "text": [
      "/usr/local/lib/python3.6/dist-packages/ipykernel_launcher.py:33: DeprecationWarning: use options instead of chrome_options\n"
     ]
    },
    {
     "name": "stdout",
     "output_type": "stream",
     "text": [
      "inside try, t= 0\n",
      "driver.get\n",
      "YEAR Exception\n",
      "inside try, t= 1\n",
      "driver.get\n",
      "YEAR Exception\n",
      "inside try, t= 2\n",
      "driver.get\n",
      "YEAR Exception\n",
      "1990 June Gujarat Cotton\n",
      "file to open folders/Cotton/Gujarat/mynewdata_1990_June.csv\n",
      "False\n",
      "After\n"
     ]
    },
    {
     "name": "stderr",
     "output_type": "stream",
     "text": [
      "/usr/local/lib/python3.6/dist-packages/ipykernel_launcher.py:33: DeprecationWarning: use options instead of chrome_options\n"
     ]
    },
    {
     "name": "stdout",
     "output_type": "stream",
     "text": [
      "inside try, t= 0\n",
      "driver.get\n",
      "YEAR Exception\n",
      "inside try, t= 1\n",
      "driver.get\n",
      "YEAR Exception\n",
      "inside try, t= 2\n",
      "driver.get\n",
      "YEAR Exception\n",
      "1990 July Gujarat Cotton\n",
      "file to open folders/Cotton/Gujarat/mynewdata_1990_July.csv\n",
      "False\n",
      "After\n"
     ]
    },
    {
     "name": "stderr",
     "output_type": "stream",
     "text": [
      "/usr/local/lib/python3.6/dist-packages/ipykernel_launcher.py:33: DeprecationWarning: use options instead of chrome_options\n"
     ]
    },
    {
     "name": "stdout",
     "output_type": "stream",
     "text": [
      "inside try, t= 0\n",
      "driver.get\n",
      "YEAR Exception\n",
      "inside try, t= 1\n",
      "driver.get\n",
      "YEAR Exception\n",
      "inside try, t= 2\n",
      "driver.get\n",
      "YEAR Exception\n",
      "1990 August Gujarat Cotton\n",
      "file to open folders/Cotton/Gujarat/mynewdata_1990_August.csv\n",
      "False\n",
      "After\n"
     ]
    },
    {
     "name": "stderr",
     "output_type": "stream",
     "text": [
      "/usr/local/lib/python3.6/dist-packages/ipykernel_launcher.py:33: DeprecationWarning: use options instead of chrome_options\n"
     ]
    },
    {
     "name": "stdout",
     "output_type": "stream",
     "text": [
      "inside try, t= 0\n",
      "driver.get\n",
      "YEAR Exception\n",
      "inside try, t= 1\n",
      "driver.get\n",
      "YEAR Exception\n",
      "inside try, t= 2\n",
      "driver.get\n",
      "YEAR Exception\n",
      "1990 September Gujarat Cotton\n",
      "file to open folders/Cotton/Gujarat/mynewdata_1990_September.csv\n",
      "False\n",
      "After\n"
     ]
    },
    {
     "name": "stderr",
     "output_type": "stream",
     "text": [
      "/usr/local/lib/python3.6/dist-packages/ipykernel_launcher.py:33: DeprecationWarning: use options instead of chrome_options\n"
     ]
    },
    {
     "name": "stdout",
     "output_type": "stream",
     "text": [
      "inside try, t= 0\n",
      "driver.get\n",
      "YEAR Exception\n",
      "inside try, t= 1\n",
      "driver.get\n",
      "YEAR Exception\n",
      "inside try, t= 2\n",
      "driver.get\n",
      "YEAR Exception\n",
      "1990 October Gujarat Cotton\n",
      "file to open folders/Cotton/Gujarat/mynewdata_1990_October.csv\n",
      "False\n",
      "After\n"
     ]
    },
    {
     "name": "stderr",
     "output_type": "stream",
     "text": [
      "/usr/local/lib/python3.6/dist-packages/ipykernel_launcher.py:33: DeprecationWarning: use options instead of chrome_options\n"
     ]
    },
    {
     "name": "stdout",
     "output_type": "stream",
     "text": [
      "inside try, t= 0\n",
      "driver.get\n",
      "YEAR Exception\n",
      "inside try, t= 1\n",
      "driver.get\n",
      "YEAR Exception\n",
      "inside try, t= 2\n",
      "driver.get\n",
      "YEAR Exception\n",
      "1990 November Gujarat Cotton\n",
      "file to open folders/Cotton/Gujarat/mynewdata_1990_November.csv\n",
      "False\n",
      "After\n"
     ]
    },
    {
     "name": "stderr",
     "output_type": "stream",
     "text": [
      "/usr/local/lib/python3.6/dist-packages/ipykernel_launcher.py:33: DeprecationWarning: use options instead of chrome_options\n"
     ]
    },
    {
     "name": "stdout",
     "output_type": "stream",
     "text": [
      "inside try, t= 0\n",
      "driver.get\n",
      "YEAR Exception\n",
      "inside try, t= 1\n",
      "driver.get\n",
      "YEAR Exception\n",
      "inside try, t= 2\n",
      "driver.get\n",
      "YEAR Exception\n",
      "1990 December Gujarat Cotton\n",
      "file to open folders/Cotton/Gujarat/mynewdata_1990_December.csv\n",
      "False\n",
      "After\n"
     ]
    },
    {
     "name": "stderr",
     "output_type": "stream",
     "text": [
      "/usr/local/lib/python3.6/dist-packages/ipykernel_launcher.py:33: DeprecationWarning: use options instead of chrome_options\n"
     ]
    },
    {
     "name": "stdout",
     "output_type": "stream",
     "text": [
      "inside try, t= 0\n",
      "driver.get\n",
      "YEAR Exception\n",
      "inside try, t= 1\n",
      "driver.get\n",
      "YEAR Exception\n",
      "inside try, t= 2\n",
      "driver.get\n",
      "YEAR Exception\n",
      "1991 January Gujarat Cotton\n",
      "file to open folders/Cotton/Gujarat/mynewdata_1991_January.csv\n",
      "False\n",
      "After\n"
     ]
    },
    {
     "name": "stderr",
     "output_type": "stream",
     "text": [
      "/usr/local/lib/python3.6/dist-packages/ipykernel_launcher.py:33: DeprecationWarning: use options instead of chrome_options\n"
     ]
    },
    {
     "name": "stdout",
     "output_type": "stream",
     "text": [
      "inside try, t= 0\n",
      "driver.get\n",
      "YEAR Exception\n",
      "inside try, t= 1\n",
      "driver.get\n",
      "YEAR Exception\n",
      "inside try, t= 2\n",
      "driver.get\n",
      "YEAR Exception\n",
      "1991 February Gujarat Cotton\n",
      "file to open folders/Cotton/Gujarat/mynewdata_1991_February.csv\n",
      "False\n",
      "After\n"
     ]
    },
    {
     "name": "stderr",
     "output_type": "stream",
     "text": [
      "/usr/local/lib/python3.6/dist-packages/ipykernel_launcher.py:33: DeprecationWarning: use options instead of chrome_options\n"
     ]
    },
    {
     "name": "stdout",
     "output_type": "stream",
     "text": [
      "inside try, t= 0\n",
      "driver.get\n",
      "YEAR Exception\n",
      "inside try, t= 1\n",
      "driver.get\n",
      "YEAR Exception\n",
      "inside try, t= 2\n",
      "driver.get\n",
      "YEAR Exception\n",
      "1991 March Gujarat Cotton\n",
      "file to open folders/Cotton/Gujarat/mynewdata_1991_March.csv\n",
      "False\n",
      "After\n"
     ]
    },
    {
     "name": "stderr",
     "output_type": "stream",
     "text": [
      "/usr/local/lib/python3.6/dist-packages/ipykernel_launcher.py:33: DeprecationWarning: use options instead of chrome_options\n"
     ]
    },
    {
     "name": "stdout",
     "output_type": "stream",
     "text": [
      "inside try, t= 0\n",
      "driver.get\n",
      "YEAR Exception\n",
      "inside try, t= 1\n",
      "driver.get\n",
      "YEAR Exception\n",
      "inside try, t= 2\n",
      "driver.get\n",
      "YEAR Exception\n",
      "1991 April Gujarat Cotton\n",
      "file to open folders/Cotton/Gujarat/mynewdata_1991_April.csv\n",
      "False\n",
      "After\n"
     ]
    },
    {
     "name": "stderr",
     "output_type": "stream",
     "text": [
      "/usr/local/lib/python3.6/dist-packages/ipykernel_launcher.py:33: DeprecationWarning: use options instead of chrome_options\n"
     ]
    },
    {
     "name": "stdout",
     "output_type": "stream",
     "text": [
      "inside try, t= 0\n",
      "driver.get\n",
      "YEAR Exception\n",
      "inside try, t= 1\n",
      "driver.get\n",
      "YEAR Exception\n",
      "inside try, t= 2\n",
      "driver.get\n",
      "YEAR Exception\n",
      "1991 May Gujarat Cotton\n",
      "file to open folders/Cotton/Gujarat/mynewdata_1991_May.csv\n",
      "False\n",
      "After\n"
     ]
    },
    {
     "name": "stderr",
     "output_type": "stream",
     "text": [
      "/usr/local/lib/python3.6/dist-packages/ipykernel_launcher.py:33: DeprecationWarning: use options instead of chrome_options\n"
     ]
    },
    {
     "name": "stdout",
     "output_type": "stream",
     "text": [
      "inside try, t= 0\n",
      "driver.get\n",
      "YEAR Exception\n",
      "inside try, t= 1\n",
      "driver.get\n",
      "YEAR Exception\n",
      "inside try, t= 2\n",
      "driver.get\n",
      "YEAR Exception\n",
      "1991 June Gujarat Cotton\n",
      "file to open folders/Cotton/Gujarat/mynewdata_1991_June.csv\n",
      "False\n",
      "After\n"
     ]
    },
    {
     "name": "stderr",
     "output_type": "stream",
     "text": [
      "/usr/local/lib/python3.6/dist-packages/ipykernel_launcher.py:33: DeprecationWarning: use options instead of chrome_options\n"
     ]
    },
    {
     "name": "stdout",
     "output_type": "stream",
     "text": [
      "inside try, t= 0\n",
      "driver.get\n",
      "YEAR Exception\n",
      "inside try, t= 1\n",
      "driver.get\n",
      "YEAR Exception\n",
      "inside try, t= 2\n",
      "driver.get\n",
      "YEAR Exception\n",
      "1991 July Gujarat Cotton\n",
      "file to open folders/Cotton/Gujarat/mynewdata_1991_July.csv\n",
      "False\n",
      "After\n"
     ]
    },
    {
     "name": "stderr",
     "output_type": "stream",
     "text": [
      "/usr/local/lib/python3.6/dist-packages/ipykernel_launcher.py:33: DeprecationWarning: use options instead of chrome_options\n"
     ]
    },
    {
     "name": "stdout",
     "output_type": "stream",
     "text": [
      "inside try, t= 0\n",
      "driver.get\n",
      "YEAR Exception\n",
      "inside try, t= 1\n",
      "driver.get\n",
      "YEAR Exception\n",
      "inside try, t= 2\n",
      "driver.get\n",
      "YEAR Exception\n",
      "1991 August Gujarat Cotton\n",
      "file to open folders/Cotton/Gujarat/mynewdata_1991_August.csv\n",
      "False\n",
      "After\n"
     ]
    },
    {
     "name": "stderr",
     "output_type": "stream",
     "text": [
      "/usr/local/lib/python3.6/dist-packages/ipykernel_launcher.py:33: DeprecationWarning: use options instead of chrome_options\n"
     ]
    },
    {
     "name": "stdout",
     "output_type": "stream",
     "text": [
      "inside try, t= 0\n",
      "driver.get\n",
      "YEAR Exception\n",
      "inside try, t= 1\n",
      "driver.get\n",
      "YEAR Exception\n",
      "inside try, t= 2\n",
      "driver.get\n",
      "YEAR Exception\n",
      "1991 September Gujarat Cotton\n",
      "file to open folders/Cotton/Gujarat/mynewdata_1991_September.csv\n",
      "False\n",
      "After\n"
     ]
    },
    {
     "name": "stderr",
     "output_type": "stream",
     "text": [
      "/usr/local/lib/python3.6/dist-packages/ipykernel_launcher.py:33: DeprecationWarning: use options instead of chrome_options\n"
     ]
    },
    {
     "name": "stdout",
     "output_type": "stream",
     "text": [
      "inside try, t= 0\n",
      "driver.get\n",
      "YEAR Exception\n",
      "inside try, t= 1\n",
      "driver.get\n",
      "YEAR Exception\n",
      "inside try, t= 2\n",
      "driver.get\n",
      "YEAR Exception\n",
      "1991 October Gujarat Cotton\n",
      "file to open folders/Cotton/Gujarat/mynewdata_1991_October.csv\n",
      "False\n",
      "After\n"
     ]
    },
    {
     "name": "stderr",
     "output_type": "stream",
     "text": [
      "/usr/local/lib/python3.6/dist-packages/ipykernel_launcher.py:33: DeprecationWarning: use options instead of chrome_options\n"
     ]
    },
    {
     "name": "stdout",
     "output_type": "stream",
     "text": [
      "inside try, t= 0\n",
      "driver.get\n",
      "YEAR Exception\n",
      "inside try, t= 1\n",
      "driver.get\n",
      "YEAR Exception\n",
      "inside try, t= 2\n",
      "driver.get\n",
      "YEAR Exception\n",
      "1991 November Gujarat Cotton\n",
      "file to open folders/Cotton/Gujarat/mynewdata_1991_November.csv\n",
      "False\n",
      "After\n"
     ]
    },
    {
     "name": "stderr",
     "output_type": "stream",
     "text": [
      "/usr/local/lib/python3.6/dist-packages/ipykernel_launcher.py:33: DeprecationWarning: use options instead of chrome_options\n"
     ]
    },
    {
     "name": "stdout",
     "output_type": "stream",
     "text": [
      "inside try, t= 0\n",
      "driver.get\n",
      "YEAR Exception\n",
      "inside try, t= 1\n",
      "driver.get\n",
      "YEAR Exception\n",
      "inside try, t= 2\n",
      "driver.get\n",
      "YEAR Exception\n",
      "1991 December Gujarat Cotton\n",
      "file to open folders/Cotton/Gujarat/mynewdata_1991_December.csv\n",
      "False\n",
      "After\n"
     ]
    },
    {
     "name": "stderr",
     "output_type": "stream",
     "text": [
      "/usr/local/lib/python3.6/dist-packages/ipykernel_launcher.py:33: DeprecationWarning: use options instead of chrome_options\n"
     ]
    },
    {
     "name": "stdout",
     "output_type": "stream",
     "text": [
      "inside try, t= 0\n",
      "driver.get\n",
      "YEAR Exception\n",
      "inside try, t= 1\n",
      "driver.get\n",
      "YEAR Exception\n",
      "inside try, t= 2\n",
      "driver.get\n",
      "YEAR Exception\n",
      "1992 January Gujarat Cotton\n",
      "file to open folders/Cotton/Gujarat/mynewdata_1992_January.csv\n",
      "False\n",
      "After\n"
     ]
    },
    {
     "name": "stderr",
     "output_type": "stream",
     "text": [
      "/usr/local/lib/python3.6/dist-packages/ipykernel_launcher.py:33: DeprecationWarning: use options instead of chrome_options\n"
     ]
    },
    {
     "name": "stdout",
     "output_type": "stream",
     "text": [
      "inside try, t= 0\n",
      "driver.get\n",
      "YEAR Exception\n",
      "inside try, t= 1\n",
      "driver.get\n",
      "YEAR Exception\n",
      "inside try, t= 2\n",
      "driver.get\n",
      "YEAR Exception\n",
      "1992 February Gujarat Cotton\n",
      "file to open folders/Cotton/Gujarat/mynewdata_1992_February.csv\n",
      "False\n",
      "After\n"
     ]
    },
    {
     "name": "stderr",
     "output_type": "stream",
     "text": [
      "/usr/local/lib/python3.6/dist-packages/ipykernel_launcher.py:33: DeprecationWarning: use options instead of chrome_options\n"
     ]
    },
    {
     "name": "stdout",
     "output_type": "stream",
     "text": [
      "inside try, t= 0\n",
      "driver.get\n",
      "YEAR Exception\n",
      "inside try, t= 1\n",
      "driver.get\n",
      "YEAR Exception\n",
      "inside try, t= 2\n",
      "driver.get\n",
      "YEAR Exception\n",
      "1992 March Gujarat Cotton\n",
      "file to open folders/Cotton/Gujarat/mynewdata_1992_March.csv\n",
      "False\n",
      "After\n"
     ]
    },
    {
     "name": "stderr",
     "output_type": "stream",
     "text": [
      "/usr/local/lib/python3.6/dist-packages/ipykernel_launcher.py:33: DeprecationWarning: use options instead of chrome_options\n"
     ]
    },
    {
     "name": "stdout",
     "output_type": "stream",
     "text": [
      "inside try, t= 0\n",
      "driver.get\n",
      "YEAR Exception\n",
      "inside try, t= 1\n",
      "driver.get\n",
      "YEAR Exception\n",
      "inside try, t= 2\n",
      "driver.get\n",
      "YEAR Exception\n",
      "1992 April Gujarat Cotton\n",
      "file to open folders/Cotton/Gujarat/mynewdata_1992_April.csv\n",
      "False\n",
      "After\n"
     ]
    },
    {
     "name": "stderr",
     "output_type": "stream",
     "text": [
      "/usr/local/lib/python3.6/dist-packages/ipykernel_launcher.py:33: DeprecationWarning: use options instead of chrome_options\n"
     ]
    },
    {
     "name": "stdout",
     "output_type": "stream",
     "text": [
      "inside try, t= 0\n",
      "driver.get\n",
      "YEAR Exception\n",
      "inside try, t= 1\n",
      "driver.get\n",
      "YEAR Exception\n",
      "inside try, t= 2\n",
      "driver.get\n",
      "YEAR Exception\n",
      "1992 May Gujarat Cotton\n",
      "file to open folders/Cotton/Gujarat/mynewdata_1992_May.csv\n",
      "False\n",
      "After\n"
     ]
    },
    {
     "name": "stderr",
     "output_type": "stream",
     "text": [
      "/usr/local/lib/python3.6/dist-packages/ipykernel_launcher.py:33: DeprecationWarning: use options instead of chrome_options\n"
     ]
    },
    {
     "name": "stdout",
     "output_type": "stream",
     "text": [
      "inside try, t= 0\n",
      "driver.get\n",
      "YEAR Exception\n",
      "inside try, t= 1\n",
      "driver.get\n",
      "YEAR Exception\n",
      "inside try, t= 2\n",
      "driver.get\n",
      "YEAR Exception\n",
      "1992 June Gujarat Cotton\n",
      "file to open folders/Cotton/Gujarat/mynewdata_1992_June.csv\n",
      "False\n",
      "After\n"
     ]
    },
    {
     "name": "stderr",
     "output_type": "stream",
     "text": [
      "/usr/local/lib/python3.6/dist-packages/ipykernel_launcher.py:33: DeprecationWarning: use options instead of chrome_options\n"
     ]
    },
    {
     "name": "stdout",
     "output_type": "stream",
     "text": [
      "inside try, t= 0\n",
      "driver.get\n",
      "YEAR Exception\n",
      "inside try, t= 1\n",
      "driver.get\n",
      "YEAR Exception\n",
      "inside try, t= 2\n",
      "driver.get\n",
      "YEAR Exception\n",
      "1992 July Gujarat Cotton\n",
      "file to open folders/Cotton/Gujarat/mynewdata_1992_July.csv\n",
      "False\n",
      "After\n"
     ]
    },
    {
     "name": "stderr",
     "output_type": "stream",
     "text": [
      "/usr/local/lib/python3.6/dist-packages/ipykernel_launcher.py:33: DeprecationWarning: use options instead of chrome_options\n"
     ]
    },
    {
     "name": "stdout",
     "output_type": "stream",
     "text": [
      "inside try, t= 0\n",
      "driver.get\n",
      "YEAR Exception\n",
      "inside try, t= 1\n",
      "driver.get\n",
      "YEAR Exception\n",
      "inside try, t= 2\n",
      "driver.get\n",
      "YEAR Exception\n",
      "1992 August Gujarat Cotton\n",
      "file to open folders/Cotton/Gujarat/mynewdata_1992_August.csv\n",
      "False\n",
      "After\n"
     ]
    },
    {
     "name": "stderr",
     "output_type": "stream",
     "text": [
      "/usr/local/lib/python3.6/dist-packages/ipykernel_launcher.py:33: DeprecationWarning: use options instead of chrome_options\n"
     ]
    },
    {
     "name": "stdout",
     "output_type": "stream",
     "text": [
      "inside try, t= 0\n",
      "driver.get\n",
      "YEAR Exception\n",
      "inside try, t= 1\n",
      "driver.get\n",
      "YEAR Exception\n",
      "inside try, t= 2\n",
      "driver.get\n",
      "YEAR Exception\n",
      "1992 September Gujarat Cotton\n",
      "file to open folders/Cotton/Gujarat/mynewdata_1992_September.csv\n",
      "False\n",
      "After\n"
     ]
    },
    {
     "name": "stderr",
     "output_type": "stream",
     "text": [
      "/usr/local/lib/python3.6/dist-packages/ipykernel_launcher.py:33: DeprecationWarning: use options instead of chrome_options\n"
     ]
    },
    {
     "name": "stdout",
     "output_type": "stream",
     "text": [
      "inside try, t= 0\n",
      "driver.get\n",
      "YEAR Exception\n",
      "inside try, t= 1\n",
      "driver.get\n",
      "YEAR Exception\n",
      "inside try, t= 2\n",
      "driver.get\n",
      "YEAR Exception\n",
      "1992 October Gujarat Cotton\n",
      "file to open folders/Cotton/Gujarat/mynewdata_1992_October.csv\n",
      "False\n",
      "After\n"
     ]
    },
    {
     "name": "stderr",
     "output_type": "stream",
     "text": [
      "/usr/local/lib/python3.6/dist-packages/ipykernel_launcher.py:33: DeprecationWarning: use options instead of chrome_options\n"
     ]
    },
    {
     "name": "stdout",
     "output_type": "stream",
     "text": [
      "inside try, t= 0\n",
      "driver.get\n",
      "YEAR Exception\n",
      "inside try, t= 1\n",
      "driver.get\n",
      "YEAR Exception\n",
      "inside try, t= 2\n",
      "driver.get\n",
      "YEAR Exception\n",
      "1992 November Gujarat Cotton\n",
      "file to open folders/Cotton/Gujarat/mynewdata_1992_November.csv\n",
      "False\n",
      "After\n"
     ]
    },
    {
     "name": "stderr",
     "output_type": "stream",
     "text": [
      "/usr/local/lib/python3.6/dist-packages/ipykernel_launcher.py:33: DeprecationWarning: use options instead of chrome_options\n"
     ]
    },
    {
     "name": "stdout",
     "output_type": "stream",
     "text": [
      "inside try, t= 0\n",
      "driver.get\n",
      "YEAR Exception\n",
      "inside try, t= 1\n",
      "driver.get\n",
      "YEAR Exception\n",
      "inside try, t= 2\n",
      "driver.get\n",
      "YEAR Exception\n",
      "1992 December Gujarat Cotton\n",
      "file to open folders/Cotton/Gujarat/mynewdata_1992_December.csv\n",
      "False\n",
      "After\n"
     ]
    },
    {
     "name": "stderr",
     "output_type": "stream",
     "text": [
      "/usr/local/lib/python3.6/dist-packages/ipykernel_launcher.py:33: DeprecationWarning: use options instead of chrome_options\n"
     ]
    },
    {
     "name": "stdout",
     "output_type": "stream",
     "text": [
      "inside try, t= 0\n",
      "driver.get\n",
      "YEAR Exception\n",
      "inside try, t= 1\n",
      "driver.get\n",
      "YEAR Exception\n",
      "inside try, t= 2\n",
      "driver.get\n",
      "YEAR Exception\n",
      "1993 January Gujarat Cotton\n",
      "file to open folders/Cotton/Gujarat/mynewdata_1993_January.csv\n",
      "False\n",
      "After\n"
     ]
    },
    {
     "name": "stderr",
     "output_type": "stream",
     "text": [
      "/usr/local/lib/python3.6/dist-packages/ipykernel_launcher.py:33: DeprecationWarning: use options instead of chrome_options\n"
     ]
    },
    {
     "name": "stdout",
     "output_type": "stream",
     "text": [
      "inside try, t= 0\n",
      "driver.get\n",
      "YEAR Exception\n",
      "inside try, t= 1\n",
      "driver.get\n",
      "YEAR Exception\n",
      "inside try, t= 2\n",
      "driver.get\n",
      "YEAR Exception\n",
      "1993 February Gujarat Cotton\n",
      "file to open folders/Cotton/Gujarat/mynewdata_1993_February.csv\n",
      "False\n",
      "After\n"
     ]
    },
    {
     "name": "stderr",
     "output_type": "stream",
     "text": [
      "/usr/local/lib/python3.6/dist-packages/ipykernel_launcher.py:33: DeprecationWarning: use options instead of chrome_options\n"
     ]
    },
    {
     "name": "stdout",
     "output_type": "stream",
     "text": [
      "inside try, t= 0\n",
      "driver.get\n",
      "YEAR Exception\n",
      "inside try, t= 1\n",
      "driver.get\n",
      "YEAR Exception\n",
      "inside try, t= 2\n",
      "driver.get\n",
      "YEAR Exception\n",
      "1993 March Gujarat Cotton\n",
      "file to open folders/Cotton/Gujarat/mynewdata_1993_March.csv\n",
      "False\n",
      "After\n"
     ]
    },
    {
     "name": "stderr",
     "output_type": "stream",
     "text": [
      "/usr/local/lib/python3.6/dist-packages/ipykernel_launcher.py:33: DeprecationWarning: use options instead of chrome_options\n"
     ]
    },
    {
     "name": "stdout",
     "output_type": "stream",
     "text": [
      "inside try, t= 0\n",
      "driver.get\n",
      "YEAR Exception\n",
      "inside try, t= 1\n",
      "driver.get\n",
      "YEAR Exception\n",
      "inside try, t= 2\n",
      "driver.get\n",
      "YEAR Exception\n",
      "1993 April Gujarat Cotton\n",
      "file to open folders/Cotton/Gujarat/mynewdata_1993_April.csv\n",
      "False\n",
      "After\n"
     ]
    },
    {
     "name": "stderr",
     "output_type": "stream",
     "text": [
      "/usr/local/lib/python3.6/dist-packages/ipykernel_launcher.py:33: DeprecationWarning: use options instead of chrome_options\n"
     ]
    },
    {
     "name": "stdout",
     "output_type": "stream",
     "text": [
      "inside try, t= 0\n",
      "driver.get\n",
      "YEAR Exception\n",
      "inside try, t= 1\n",
      "driver.get\n",
      "YEAR Exception\n",
      "inside try, t= 2\n",
      "driver.get\n",
      "YEAR Exception\n",
      "1993 May Gujarat Cotton\n",
      "file to open folders/Cotton/Gujarat/mynewdata_1993_May.csv\n",
      "False\n",
      "After\n"
     ]
    },
    {
     "name": "stderr",
     "output_type": "stream",
     "text": [
      "/usr/local/lib/python3.6/dist-packages/ipykernel_launcher.py:33: DeprecationWarning: use options instead of chrome_options\n"
     ]
    },
    {
     "name": "stdout",
     "output_type": "stream",
     "text": [
      "inside try, t= 0\n",
      "driver.get\n",
      "YEAR Exception\n",
      "inside try, t= 1\n",
      "driver.get\n",
      "YEAR Exception\n",
      "inside try, t= 2\n",
      "driver.get\n",
      "YEAR Exception\n",
      "1993 June Gujarat Cotton\n",
      "file to open folders/Cotton/Gujarat/mynewdata_1993_June.csv\n",
      "False\n",
      "After\n"
     ]
    },
    {
     "name": "stderr",
     "output_type": "stream",
     "text": [
      "/usr/local/lib/python3.6/dist-packages/ipykernel_launcher.py:33: DeprecationWarning: use options instead of chrome_options\n"
     ]
    },
    {
     "name": "stdout",
     "output_type": "stream",
     "text": [
      "inside try, t= 0\n",
      "driver.get\n",
      "YEAR Exception\n",
      "inside try, t= 1\n",
      "driver.get\n",
      "YEAR Exception\n",
      "inside try, t= 2\n",
      "driver.get\n",
      "YEAR Exception\n",
      "1993 July Gujarat Cotton\n",
      "file to open folders/Cotton/Gujarat/mynewdata_1993_July.csv\n",
      "False\n",
      "After\n"
     ]
    },
    {
     "name": "stderr",
     "output_type": "stream",
     "text": [
      "/usr/local/lib/python3.6/dist-packages/ipykernel_launcher.py:33: DeprecationWarning: use options instead of chrome_options\n"
     ]
    },
    {
     "name": "stdout",
     "output_type": "stream",
     "text": [
      "inside try, t= 0\n",
      "driver.get\n",
      "YEAR Exception\n",
      "inside try, t= 1\n",
      "driver.get\n",
      "YEAR Exception\n",
      "inside try, t= 2\n",
      "driver.get\n",
      "YEAR Exception\n",
      "1993 August Gujarat Cotton\n",
      "file to open folders/Cotton/Gujarat/mynewdata_1993_August.csv\n",
      "False\n",
      "After\n"
     ]
    },
    {
     "name": "stderr",
     "output_type": "stream",
     "text": [
      "/usr/local/lib/python3.6/dist-packages/ipykernel_launcher.py:33: DeprecationWarning: use options instead of chrome_options\n"
     ]
    },
    {
     "name": "stdout",
     "output_type": "stream",
     "text": [
      "inside try, t= 0\n",
      "driver.get\n",
      "YEAR Exception\n",
      "inside try, t= 1\n",
      "driver.get\n",
      "YEAR Exception\n",
      "inside try, t= 2\n",
      "driver.get\n",
      "YEAR Exception\n",
      "1993 September Gujarat Cotton\n",
      "file to open folders/Cotton/Gujarat/mynewdata_1993_September.csv\n",
      "False\n",
      "After\n"
     ]
    },
    {
     "name": "stderr",
     "output_type": "stream",
     "text": [
      "/usr/local/lib/python3.6/dist-packages/ipykernel_launcher.py:33: DeprecationWarning: use options instead of chrome_options\n"
     ]
    },
    {
     "name": "stdout",
     "output_type": "stream",
     "text": [
      "inside try, t= 0\n",
      "driver.get\n",
      "YEAR Exception\n",
      "inside try, t= 1\n",
      "driver.get\n",
      "YEAR Exception\n",
      "inside try, t= 2\n",
      "driver.get\n",
      "YEAR Exception\n",
      "1993 October Gujarat Cotton\n",
      "file to open folders/Cotton/Gujarat/mynewdata_1993_October.csv\n",
      "False\n",
      "After\n"
     ]
    },
    {
     "name": "stderr",
     "output_type": "stream",
     "text": [
      "/usr/local/lib/python3.6/dist-packages/ipykernel_launcher.py:33: DeprecationWarning: use options instead of chrome_options\n"
     ]
    },
    {
     "name": "stdout",
     "output_type": "stream",
     "text": [
      "inside try, t= 0\n",
      "driver.get\n",
      "YEAR Exception\n",
      "inside try, t= 1\n",
      "driver.get\n",
      "YEAR Exception\n",
      "inside try, t= 2\n",
      "driver.get\n",
      "YEAR Exception\n",
      "1993 November Gujarat Cotton\n",
      "file to open folders/Cotton/Gujarat/mynewdata_1993_November.csv\n",
      "False\n",
      "After\n"
     ]
    },
    {
     "name": "stderr",
     "output_type": "stream",
     "text": [
      "/usr/local/lib/python3.6/dist-packages/ipykernel_launcher.py:33: DeprecationWarning: use options instead of chrome_options\n"
     ]
    },
    {
     "name": "stdout",
     "output_type": "stream",
     "text": [
      "inside try, t= 0\n",
      "driver.get\n",
      "YEAR Exception\n",
      "inside try, t= 1\n",
      "driver.get\n",
      "YEAR Exception\n",
      "inside try, t= 2\n",
      "driver.get\n",
      "YEAR Exception\n",
      "1993 December Gujarat Cotton\n",
      "file to open folders/Cotton/Gujarat/mynewdata_1993_December.csv\n",
      "False\n",
      "After\n"
     ]
    },
    {
     "name": "stderr",
     "output_type": "stream",
     "text": [
      "/usr/local/lib/python3.6/dist-packages/ipykernel_launcher.py:33: DeprecationWarning: use options instead of chrome_options\n"
     ]
    },
    {
     "name": "stdout",
     "output_type": "stream",
     "text": [
      "inside try, t= 0\n",
      "driver.get\n",
      "YEAR Exception\n",
      "inside try, t= 1\n",
      "driver.get\n",
      "YEAR Exception\n",
      "inside try, t= 2\n",
      "driver.get\n",
      "YEAR Exception\n",
      "1994 January Gujarat Cotton\n",
      "file to open folders/Cotton/Gujarat/mynewdata_1994_January.csv\n",
      "False\n",
      "After\n"
     ]
    },
    {
     "name": "stderr",
     "output_type": "stream",
     "text": [
      "/usr/local/lib/python3.6/dist-packages/ipykernel_launcher.py:33: DeprecationWarning: use options instead of chrome_options\n"
     ]
    },
    {
     "name": "stdout",
     "output_type": "stream",
     "text": [
      "inside try, t= 0\n",
      "driver.get\n",
      "YEAR Exception\n",
      "inside try, t= 1\n",
      "driver.get\n",
      "YEAR Exception\n",
      "inside try, t= 2\n",
      "driver.get\n",
      "YEAR Exception\n",
      "1994 February Gujarat Cotton\n",
      "file to open folders/Cotton/Gujarat/mynewdata_1994_February.csv\n",
      "False\n",
      "After\n"
     ]
    },
    {
     "name": "stderr",
     "output_type": "stream",
     "text": [
      "/usr/local/lib/python3.6/dist-packages/ipykernel_launcher.py:33: DeprecationWarning: use options instead of chrome_options\n"
     ]
    },
    {
     "name": "stdout",
     "output_type": "stream",
     "text": [
      "inside try, t= 0\n",
      "driver.get\n",
      "YEAR Exception\n",
      "inside try, t= 1\n",
      "driver.get\n",
      "YEAR Exception\n",
      "inside try, t= 2\n",
      "driver.get\n",
      "YEAR Exception\n",
      "1994 March Gujarat Cotton\n",
      "file to open folders/Cotton/Gujarat/mynewdata_1994_March.csv\n",
      "False\n",
      "After\n"
     ]
    },
    {
     "name": "stderr",
     "output_type": "stream",
     "text": [
      "/usr/local/lib/python3.6/dist-packages/ipykernel_launcher.py:33: DeprecationWarning: use options instead of chrome_options\n"
     ]
    },
    {
     "name": "stdout",
     "output_type": "stream",
     "text": [
      "inside try, t= 0\n",
      "driver.get\n",
      "YEAR Exception\n",
      "inside try, t= 1\n",
      "driver.get\n",
      "YEAR Exception\n",
      "inside try, t= 2\n",
      "driver.get\n",
      "YEAR Exception\n",
      "1994 April Gujarat Cotton\n",
      "file to open folders/Cotton/Gujarat/mynewdata_1994_April.csv\n",
      "False\n",
      "After\n"
     ]
    },
    {
     "name": "stderr",
     "output_type": "stream",
     "text": [
      "/usr/local/lib/python3.6/dist-packages/ipykernel_launcher.py:33: DeprecationWarning: use options instead of chrome_options\n"
     ]
    },
    {
     "name": "stdout",
     "output_type": "stream",
     "text": [
      "inside try, t= 0\n",
      "driver.get\n",
      "YEAR Exception\n",
      "inside try, t= 1\n",
      "driver.get\n",
      "YEAR Exception\n",
      "inside try, t= 2\n",
      "driver.get\n",
      "YEAR Exception\n",
      "1994 May Gujarat Cotton\n",
      "file to open folders/Cotton/Gujarat/mynewdata_1994_May.csv\n",
      "False\n",
      "After\n"
     ]
    },
    {
     "name": "stderr",
     "output_type": "stream",
     "text": [
      "/usr/local/lib/python3.6/dist-packages/ipykernel_launcher.py:33: DeprecationWarning: use options instead of chrome_options\n"
     ]
    },
    {
     "name": "stdout",
     "output_type": "stream",
     "text": [
      "inside try, t= 0\n",
      "driver.get\n",
      "YEAR Exception\n",
      "inside try, t= 1\n",
      "driver.get\n",
      "YEAR Exception\n",
      "inside try, t= 2\n",
      "driver.get\n",
      "YEAR Exception\n",
      "1994 June Gujarat Cotton\n",
      "file to open folders/Cotton/Gujarat/mynewdata_1994_June.csv\n",
      "False\n",
      "After\n"
     ]
    },
    {
     "name": "stderr",
     "output_type": "stream",
     "text": [
      "/usr/local/lib/python3.6/dist-packages/ipykernel_launcher.py:33: DeprecationWarning: use options instead of chrome_options\n"
     ]
    },
    {
     "name": "stdout",
     "output_type": "stream",
     "text": [
      "inside try, t= 0\n",
      "driver.get\n",
      "YEAR Exception\n",
      "inside try, t= 1\n",
      "driver.get\n",
      "YEAR Exception\n",
      "inside try, t= 2\n",
      "driver.get\n",
      "YEAR Exception\n",
      "1994 July Gujarat Cotton\n",
      "file to open folders/Cotton/Gujarat/mynewdata_1994_July.csv\n",
      "False\n",
      "After\n"
     ]
    },
    {
     "name": "stderr",
     "output_type": "stream",
     "text": [
      "/usr/local/lib/python3.6/dist-packages/ipykernel_launcher.py:33: DeprecationWarning: use options instead of chrome_options\n"
     ]
    },
    {
     "name": "stdout",
     "output_type": "stream",
     "text": [
      "inside try, t= 0\n",
      "driver.get\n",
      "YEAR Exception\n",
      "inside try, t= 1\n",
      "driver.get\n",
      "YEAR Exception\n",
      "inside try, t= 2\n",
      "driver.get\n",
      "YEAR Exception\n",
      "1994 August Gujarat Cotton\n",
      "file to open folders/Cotton/Gujarat/mynewdata_1994_August.csv\n",
      "False\n",
      "After\n"
     ]
    },
    {
     "name": "stderr",
     "output_type": "stream",
     "text": [
      "/usr/local/lib/python3.6/dist-packages/ipykernel_launcher.py:33: DeprecationWarning: use options instead of chrome_options\n"
     ]
    },
    {
     "name": "stdout",
     "output_type": "stream",
     "text": [
      "inside try, t= 0\n",
      "driver.get\n",
      "YEAR Exception\n",
      "inside try, t= 1\n",
      "driver.get\n",
      "YEAR Exception\n",
      "inside try, t= 2\n",
      "driver.get\n",
      "YEAR Exception\n",
      "1994 September Gujarat Cotton\n",
      "file to open folders/Cotton/Gujarat/mynewdata_1994_September.csv\n",
      "False\n",
      "After\n"
     ]
    },
    {
     "name": "stderr",
     "output_type": "stream",
     "text": [
      "/usr/local/lib/python3.6/dist-packages/ipykernel_launcher.py:33: DeprecationWarning: use options instead of chrome_options\n"
     ]
    },
    {
     "name": "stdout",
     "output_type": "stream",
     "text": [
      "inside try, t= 0\n",
      "driver.get\n",
      "YEAR Exception\n",
      "inside try, t= 1\n",
      "driver.get\n",
      "YEAR Exception\n",
      "inside try, t= 2\n",
      "driver.get\n",
      "YEAR Exception\n",
      "1994 October Gujarat Cotton\n",
      "file to open folders/Cotton/Gujarat/mynewdata_1994_October.csv\n",
      "False\n",
      "After\n"
     ]
    },
    {
     "name": "stderr",
     "output_type": "stream",
     "text": [
      "/usr/local/lib/python3.6/dist-packages/ipykernel_launcher.py:33: DeprecationWarning: use options instead of chrome_options\n"
     ]
    },
    {
     "name": "stdout",
     "output_type": "stream",
     "text": [
      "inside try, t= 0\n",
      "driver.get\n",
      "YEAR Exception\n",
      "inside try, t= 1\n",
      "driver.get\n",
      "YEAR Exception\n",
      "inside try, t= 2\n",
      "driver.get\n",
      "YEAR Exception\n",
      "1994 November Gujarat Cotton\n",
      "file to open folders/Cotton/Gujarat/mynewdata_1994_November.csv\n",
      "False\n",
      "After\n"
     ]
    },
    {
     "name": "stderr",
     "output_type": "stream",
     "text": [
      "/usr/local/lib/python3.6/dist-packages/ipykernel_launcher.py:33: DeprecationWarning: use options instead of chrome_options\n"
     ]
    },
    {
     "name": "stdout",
     "output_type": "stream",
     "text": [
      "inside try, t= 0\n",
      "driver.get\n",
      "YEAR Exception\n",
      "inside try, t= 1\n",
      "driver.get\n",
      "YEAR Exception\n",
      "inside try, t= 2\n",
      "driver.get\n",
      "YEAR Exception\n",
      "1994 December Gujarat Cotton\n",
      "file to open folders/Cotton/Gujarat/mynewdata_1994_December.csv\n",
      "False\n",
      "After\n"
     ]
    },
    {
     "name": "stderr",
     "output_type": "stream",
     "text": [
      "/usr/local/lib/python3.6/dist-packages/ipykernel_launcher.py:33: DeprecationWarning: use options instead of chrome_options\n"
     ]
    },
    {
     "name": "stdout",
     "output_type": "stream",
     "text": [
      "inside try, t= 0\n",
      "driver.get\n",
      "YEAR Exception\n",
      "inside try, t= 1\n",
      "driver.get\n",
      "YEAR Exception\n",
      "inside try, t= 2\n",
      "driver.get\n",
      "YEAR Exception\n",
      "1995 January Gujarat Cotton\n",
      "file to open folders/Cotton/Gujarat/mynewdata_1995_January.csv\n",
      "False\n",
      "After\n"
     ]
    },
    {
     "name": "stderr",
     "output_type": "stream",
     "text": [
      "/usr/local/lib/python3.6/dist-packages/ipykernel_launcher.py:33: DeprecationWarning: use options instead of chrome_options\n"
     ]
    },
    {
     "name": "stdout",
     "output_type": "stream",
     "text": [
      "inside try, t= 0\n",
      "driver.get\n",
      "YEAR Exception\n",
      "inside try, t= 1\n",
      "driver.get\n",
      "YEAR Exception\n",
      "inside try, t= 2\n",
      "driver.get\n",
      "YEAR Exception\n",
      "1995 February Gujarat Cotton\n",
      "file to open folders/Cotton/Gujarat/mynewdata_1995_February.csv\n",
      "False\n",
      "After\n"
     ]
    },
    {
     "name": "stderr",
     "output_type": "stream",
     "text": [
      "/usr/local/lib/python3.6/dist-packages/ipykernel_launcher.py:33: DeprecationWarning: use options instead of chrome_options\n"
     ]
    },
    {
     "name": "stdout",
     "output_type": "stream",
     "text": [
      "inside try, t= 0\n",
      "driver.get\n",
      "YEAR Exception\n",
      "inside try, t= 1\n",
      "driver.get\n",
      "YEAR Exception\n",
      "inside try, t= 2\n",
      "driver.get\n",
      "YEAR Exception\n",
      "1995 March Gujarat Cotton\n",
      "file to open folders/Cotton/Gujarat/mynewdata_1995_March.csv\n",
      "False\n",
      "After\n"
     ]
    },
    {
     "name": "stderr",
     "output_type": "stream",
     "text": [
      "/usr/local/lib/python3.6/dist-packages/ipykernel_launcher.py:33: DeprecationWarning: use options instead of chrome_options\n"
     ]
    },
    {
     "name": "stdout",
     "output_type": "stream",
     "text": [
      "inside try, t= 0\n",
      "driver.get\n",
      "YEAR Exception\n",
      "inside try, t= 1\n",
      "driver.get\n",
      "YEAR Exception\n",
      "inside try, t= 2\n",
      "driver.get\n",
      "YEAR Exception\n",
      "1995 April Gujarat Cotton\n",
      "file to open folders/Cotton/Gujarat/mynewdata_1995_April.csv\n",
      "False\n",
      "After\n"
     ]
    },
    {
     "name": "stderr",
     "output_type": "stream",
     "text": [
      "/usr/local/lib/python3.6/dist-packages/ipykernel_launcher.py:33: DeprecationWarning: use options instead of chrome_options\n"
     ]
    },
    {
     "name": "stdout",
     "output_type": "stream",
     "text": [
      "inside try, t= 0\n",
      "driver.get\n",
      "YEAR Exception\n",
      "inside try, t= 1\n",
      "driver.get\n",
      "YEAR Exception\n",
      "inside try, t= 2\n",
      "driver.get\n",
      "YEAR Exception\n",
      "1995 May Gujarat Cotton\n",
      "file to open folders/Cotton/Gujarat/mynewdata_1995_May.csv\n",
      "False\n",
      "After\n"
     ]
    },
    {
     "name": "stderr",
     "output_type": "stream",
     "text": [
      "/usr/local/lib/python3.6/dist-packages/ipykernel_launcher.py:33: DeprecationWarning: use options instead of chrome_options\n"
     ]
    },
    {
     "name": "stdout",
     "output_type": "stream",
     "text": [
      "inside try, t= 0\n",
      "driver.get\n",
      "YEAR Exception\n",
      "inside try, t= 1\n",
      "driver.get\n",
      "YEAR Exception\n",
      "inside try, t= 2\n",
      "driver.get\n",
      "YEAR Exception\n",
      "1995 June Gujarat Cotton\n",
      "file to open folders/Cotton/Gujarat/mynewdata_1995_June.csv\n",
      "False\n",
      "After\n"
     ]
    },
    {
     "name": "stderr",
     "output_type": "stream",
     "text": [
      "/usr/local/lib/python3.6/dist-packages/ipykernel_launcher.py:33: DeprecationWarning: use options instead of chrome_options\n"
     ]
    },
    {
     "name": "stdout",
     "output_type": "stream",
     "text": [
      "inside try, t= 0\n",
      "driver.get\n",
      "YEAR Exception\n",
      "inside try, t= 1\n",
      "driver.get\n",
      "YEAR Exception\n",
      "inside try, t= 2\n",
      "driver.get\n",
      "YEAR Exception\n",
      "1995 July Gujarat Cotton\n",
      "file to open folders/Cotton/Gujarat/mynewdata_1995_July.csv\n",
      "False\n",
      "After\n"
     ]
    },
    {
     "name": "stderr",
     "output_type": "stream",
     "text": [
      "/usr/local/lib/python3.6/dist-packages/ipykernel_launcher.py:33: DeprecationWarning: use options instead of chrome_options\n"
     ]
    },
    {
     "name": "stdout",
     "output_type": "stream",
     "text": [
      "inside try, t= 0\n",
      "driver.get\n",
      "YEAR Exception\n",
      "inside try, t= 1\n",
      "driver.get\n",
      "YEAR Exception\n",
      "inside try, t= 2\n",
      "driver.get\n",
      "YEAR Exception\n",
      "1995 August Gujarat Cotton\n",
      "file to open folders/Cotton/Gujarat/mynewdata_1995_August.csv\n",
      "False\n",
      "After\n"
     ]
    },
    {
     "name": "stderr",
     "output_type": "stream",
     "text": [
      "/usr/local/lib/python3.6/dist-packages/ipykernel_launcher.py:33: DeprecationWarning: use options instead of chrome_options\n"
     ]
    },
    {
     "name": "stdout",
     "output_type": "stream",
     "text": [
      "inside try, t= 0\n",
      "driver.get\n",
      "YEAR Exception\n",
      "inside try, t= 1\n",
      "driver.get\n",
      "YEAR Exception\n",
      "inside try, t= 2\n",
      "driver.get\n",
      "YEAR Exception\n",
      "1995 September Gujarat Cotton\n",
      "file to open folders/Cotton/Gujarat/mynewdata_1995_September.csv\n",
      "False\n",
      "After\n"
     ]
    },
    {
     "name": "stderr",
     "output_type": "stream",
     "text": [
      "/usr/local/lib/python3.6/dist-packages/ipykernel_launcher.py:33: DeprecationWarning: use options instead of chrome_options\n"
     ]
    },
    {
     "name": "stdout",
     "output_type": "stream",
     "text": [
      "inside try, t= 0\n",
      "driver.get\n",
      "YEAR Exception\n",
      "inside try, t= 1\n",
      "driver.get\n",
      "YEAR Exception\n",
      "inside try, t= 2\n",
      "driver.get\n",
      "YEAR Exception\n",
      "1995 October Gujarat Cotton\n",
      "file to open folders/Cotton/Gujarat/mynewdata_1995_October.csv\n",
      "False\n",
      "After\n"
     ]
    },
    {
     "name": "stderr",
     "output_type": "stream",
     "text": [
      "/usr/local/lib/python3.6/dist-packages/ipykernel_launcher.py:33: DeprecationWarning: use options instead of chrome_options\n"
     ]
    },
    {
     "name": "stdout",
     "output_type": "stream",
     "text": [
      "inside try, t= 0\n",
      "driver.get\n",
      "YEAR Exception\n",
      "inside try, t= 1\n",
      "driver.get\n",
      "YEAR Exception\n",
      "inside try, t= 2\n",
      "driver.get\n",
      "YEAR Exception\n",
      "1995 November Gujarat Cotton\n",
      "file to open folders/Cotton/Gujarat/mynewdata_1995_November.csv\n",
      "False\n",
      "After\n"
     ]
    },
    {
     "name": "stderr",
     "output_type": "stream",
     "text": [
      "/usr/local/lib/python3.6/dist-packages/ipykernel_launcher.py:33: DeprecationWarning: use options instead of chrome_options\n"
     ]
    },
    {
     "name": "stdout",
     "output_type": "stream",
     "text": [
      "inside try, t= 0\n",
      "driver.get\n",
      "YEAR Exception\n",
      "inside try, t= 1\n",
      "driver.get\n",
      "YEAR Exception\n",
      "inside try, t= 2\n",
      "driver.get\n",
      "YEAR Exception\n",
      "1995 December Gujarat Cotton\n",
      "file to open folders/Cotton/Gujarat/mynewdata_1995_December.csv\n",
      "False\n",
      "After\n"
     ]
    },
    {
     "name": "stderr",
     "output_type": "stream",
     "text": [
      "/usr/local/lib/python3.6/dist-packages/ipykernel_launcher.py:33: DeprecationWarning: use options instead of chrome_options\n"
     ]
    },
    {
     "name": "stdout",
     "output_type": "stream",
     "text": [
      "inside try, t= 0\n",
      "driver.get\n",
      "YEAR Exception\n",
      "inside try, t= 1\n",
      "driver.get\n",
      "YEAR Exception\n",
      "inside try, t= 2\n",
      "driver.get\n",
      "YEAR Exception\n",
      "1996 January Gujarat Cotton\n",
      "file to open folders/Cotton/Gujarat/mynewdata_1996_January.csv\n",
      "False\n",
      "After\n"
     ]
    },
    {
     "name": "stderr",
     "output_type": "stream",
     "text": [
      "/usr/local/lib/python3.6/dist-packages/ipykernel_launcher.py:33: DeprecationWarning: use options instead of chrome_options\n"
     ]
    },
    {
     "name": "stdout",
     "output_type": "stream",
     "text": [
      "inside try, t= 0\n",
      "driver.get\n",
      "YEAR Exception\n",
      "inside try, t= 1\n",
      "driver.get\n",
      "YEAR Exception\n",
      "inside try, t= 2\n",
      "driver.get\n",
      "YEAR Exception\n",
      "1996 February Gujarat Cotton\n",
      "file to open folders/Cotton/Gujarat/mynewdata_1996_February.csv\n",
      "False\n",
      "After\n"
     ]
    },
    {
     "name": "stderr",
     "output_type": "stream",
     "text": [
      "/usr/local/lib/python3.6/dist-packages/ipykernel_launcher.py:33: DeprecationWarning: use options instead of chrome_options\n"
     ]
    },
    {
     "name": "stdout",
     "output_type": "stream",
     "text": [
      "inside try, t= 0\n",
      "driver.get\n",
      "YEAR Exception\n",
      "inside try, t= 1\n",
      "driver.get\n",
      "YEAR Exception\n",
      "inside try, t= 2\n",
      "driver.get\n",
      "YEAR Exception\n",
      "1996 March Gujarat Cotton\n",
      "file to open folders/Cotton/Gujarat/mynewdata_1996_March.csv\n",
      "False\n",
      "After\n"
     ]
    },
    {
     "name": "stderr",
     "output_type": "stream",
     "text": [
      "/usr/local/lib/python3.6/dist-packages/ipykernel_launcher.py:33: DeprecationWarning: use options instead of chrome_options\n"
     ]
    },
    {
     "name": "stdout",
     "output_type": "stream",
     "text": [
      "inside try, t= 0\n",
      "driver.get\n",
      "YEAR Exception\n",
      "inside try, t= 1\n",
      "driver.get\n",
      "YEAR Exception\n",
      "inside try, t= 2\n",
      "driver.get\n",
      "YEAR Exception\n",
      "1996 April Gujarat Cotton\n",
      "file to open folders/Cotton/Gujarat/mynewdata_1996_April.csv\n",
      "False\n",
      "After\n"
     ]
    },
    {
     "name": "stderr",
     "output_type": "stream",
     "text": [
      "/usr/local/lib/python3.6/dist-packages/ipykernel_launcher.py:33: DeprecationWarning: use options instead of chrome_options\n"
     ]
    },
    {
     "name": "stdout",
     "output_type": "stream",
     "text": [
      "inside try, t= 0\n",
      "driver.get\n",
      "YEAR Exception\n",
      "inside try, t= 1\n",
      "driver.get\n",
      "YEAR Exception\n",
      "inside try, t= 2\n",
      "driver.get\n",
      "YEAR Exception\n",
      "1996 May Gujarat Cotton\n",
      "file to open folders/Cotton/Gujarat/mynewdata_1996_May.csv\n",
      "False\n",
      "After\n"
     ]
    },
    {
     "name": "stderr",
     "output_type": "stream",
     "text": [
      "/usr/local/lib/python3.6/dist-packages/ipykernel_launcher.py:33: DeprecationWarning: use options instead of chrome_options\n"
     ]
    },
    {
     "name": "stdout",
     "output_type": "stream",
     "text": [
      "inside try, t= 0\n",
      "driver.get\n",
      "YEAR Exception\n",
      "inside try, t= 1\n",
      "driver.get\n",
      "YEAR Exception\n",
      "inside try, t= 2\n",
      "driver.get\n",
      "YEAR Exception\n",
      "1996 June Gujarat Cotton\n",
      "file to open folders/Cotton/Gujarat/mynewdata_1996_June.csv\n",
      "False\n",
      "After\n"
     ]
    },
    {
     "name": "stderr",
     "output_type": "stream",
     "text": [
      "/usr/local/lib/python3.6/dist-packages/ipykernel_launcher.py:33: DeprecationWarning: use options instead of chrome_options\n"
     ]
    },
    {
     "name": "stdout",
     "output_type": "stream",
     "text": [
      "inside try, t= 0\n",
      "driver.get\n",
      "YEAR Exception\n",
      "inside try, t= 1\n",
      "driver.get\n",
      "YEAR Exception\n",
      "inside try, t= 2\n",
      "driver.get\n",
      "YEAR Exception\n",
      "1996 July Gujarat Cotton\n",
      "file to open folders/Cotton/Gujarat/mynewdata_1996_July.csv\n",
      "False\n",
      "After\n"
     ]
    },
    {
     "name": "stderr",
     "output_type": "stream",
     "text": [
      "/usr/local/lib/python3.6/dist-packages/ipykernel_launcher.py:33: DeprecationWarning: use options instead of chrome_options\n"
     ]
    },
    {
     "name": "stdout",
     "output_type": "stream",
     "text": [
      "inside try, t= 0\n",
      "driver.get\n",
      "YEAR Exception\n",
      "inside try, t= 1\n",
      "driver.get\n",
      "YEAR Exception\n",
      "inside try, t= 2\n",
      "driver.get\n",
      "YEAR Exception\n",
      "1996 August Gujarat Cotton\n",
      "file to open folders/Cotton/Gujarat/mynewdata_1996_August.csv\n",
      "False\n",
      "After\n"
     ]
    },
    {
     "name": "stderr",
     "output_type": "stream",
     "text": [
      "/usr/local/lib/python3.6/dist-packages/ipykernel_launcher.py:33: DeprecationWarning: use options instead of chrome_options\n"
     ]
    },
    {
     "name": "stdout",
     "output_type": "stream",
     "text": [
      "inside try, t= 0\n",
      "driver.get\n",
      "YEAR Exception\n",
      "inside try, t= 1\n",
      "driver.get\n",
      "YEAR Exception\n",
      "inside try, t= 2\n",
      "driver.get\n",
      "YEAR Exception\n",
      "1996 September Gujarat Cotton\n",
      "file to open folders/Cotton/Gujarat/mynewdata_1996_September.csv\n",
      "False\n",
      "After\n"
     ]
    },
    {
     "name": "stderr",
     "output_type": "stream",
     "text": [
      "/usr/local/lib/python3.6/dist-packages/ipykernel_launcher.py:33: DeprecationWarning: use options instead of chrome_options\n"
     ]
    },
    {
     "name": "stdout",
     "output_type": "stream",
     "text": [
      "inside try, t= 0\n",
      "driver.get\n",
      "YEAR Exception\n",
      "inside try, t= 1\n",
      "driver.get\n",
      "YEAR Exception\n",
      "inside try, t= 2\n",
      "driver.get\n",
      "YEAR Exception\n",
      "1996 October Gujarat Cotton\n",
      "file to open folders/Cotton/Gujarat/mynewdata_1996_October.csv\n",
      "False\n",
      "After\n"
     ]
    },
    {
     "name": "stderr",
     "output_type": "stream",
     "text": [
      "/usr/local/lib/python3.6/dist-packages/ipykernel_launcher.py:33: DeprecationWarning: use options instead of chrome_options\n"
     ]
    },
    {
     "name": "stdout",
     "output_type": "stream",
     "text": [
      "inside try, t= 0\n",
      "driver.get\n",
      "YEAR Exception\n",
      "inside try, t= 1\n",
      "driver.get\n",
      "YEAR Exception\n",
      "inside try, t= 2\n",
      "driver.get\n",
      "YEAR Exception\n",
      "1996 November Gujarat Cotton\n",
      "file to open folders/Cotton/Gujarat/mynewdata_1996_November.csv\n",
      "False\n",
      "After\n"
     ]
    },
    {
     "name": "stderr",
     "output_type": "stream",
     "text": [
      "/usr/local/lib/python3.6/dist-packages/ipykernel_launcher.py:33: DeprecationWarning: use options instead of chrome_options\n"
     ]
    },
    {
     "name": "stdout",
     "output_type": "stream",
     "text": [
      "inside try, t= 0\n",
      "driver.get\n",
      "YEAR Exception\n",
      "inside try, t= 1\n",
      "driver.get\n",
      "YEAR Exception\n",
      "inside try, t= 2\n",
      "driver.get\n",
      "YEAR Exception\n",
      "1996 December Gujarat Cotton\n",
      "file to open folders/Cotton/Gujarat/mynewdata_1996_December.csv\n",
      "False\n",
      "After\n"
     ]
    },
    {
     "name": "stderr",
     "output_type": "stream",
     "text": [
      "/usr/local/lib/python3.6/dist-packages/ipykernel_launcher.py:33: DeprecationWarning: use options instead of chrome_options\n"
     ]
    },
    {
     "name": "stdout",
     "output_type": "stream",
     "text": [
      "inside try, t= 0\n",
      "driver.get\n",
      "YEAR Exception\n",
      "inside try, t= 1\n",
      "driver.get\n",
      "YEAR Exception\n",
      "inside try, t= 2\n",
      "driver.get\n",
      "YEAR Exception\n",
      "1997 January Gujarat Cotton\n",
      "file to open folders/Cotton/Gujarat/mynewdata_1997_January.csv\n",
      "False\n",
      "After\n"
     ]
    },
    {
     "name": "stderr",
     "output_type": "stream",
     "text": [
      "/usr/local/lib/python3.6/dist-packages/ipykernel_launcher.py:33: DeprecationWarning: use options instead of chrome_options\n"
     ]
    },
    {
     "name": "stdout",
     "output_type": "stream",
     "text": [
      "inside try, t= 0\n",
      "driver.get\n",
      "YEAR Exception\n",
      "inside try, t= 1\n",
      "driver.get\n",
      "YEAR Exception\n",
      "inside try, t= 2\n",
      "driver.get\n",
      "YEAR Exception\n",
      "1997 February Gujarat Cotton\n",
      "file to open folders/Cotton/Gujarat/mynewdata_1997_February.csv\n",
      "False\n",
      "After\n"
     ]
    },
    {
     "name": "stderr",
     "output_type": "stream",
     "text": [
      "/usr/local/lib/python3.6/dist-packages/ipykernel_launcher.py:33: DeprecationWarning: use options instead of chrome_options\n"
     ]
    },
    {
     "name": "stdout",
     "output_type": "stream",
     "text": [
      "inside try, t= 0\n",
      "driver.get\n",
      "YEAR Exception\n",
      "inside try, t= 1\n",
      "driver.get\n",
      "YEAR Exception\n",
      "inside try, t= 2\n",
      "driver.get\n",
      "YEAR Exception\n",
      "1997 March Gujarat Cotton\n",
      "file to open folders/Cotton/Gujarat/mynewdata_1997_March.csv\n",
      "False\n",
      "After\n"
     ]
    },
    {
     "name": "stderr",
     "output_type": "stream",
     "text": [
      "/usr/local/lib/python3.6/dist-packages/ipykernel_launcher.py:33: DeprecationWarning: use options instead of chrome_options\n"
     ]
    },
    {
     "name": "stdout",
     "output_type": "stream",
     "text": [
      "inside try, t= 0\n",
      "driver.get\n",
      "YEAR Exception\n",
      "inside try, t= 1\n",
      "driver.get\n",
      "YEAR Exception\n",
      "inside try, t= 2\n",
      "driver.get\n",
      "YEAR Exception\n",
      "1997 April Gujarat Cotton\n",
      "file to open folders/Cotton/Gujarat/mynewdata_1997_April.csv\n",
      "False\n",
      "After\n"
     ]
    },
    {
     "name": "stderr",
     "output_type": "stream",
     "text": [
      "/usr/local/lib/python3.6/dist-packages/ipykernel_launcher.py:33: DeprecationWarning: use options instead of chrome_options\n"
     ]
    },
    {
     "name": "stdout",
     "output_type": "stream",
     "text": [
      "inside try, t= 0\n",
      "driver.get\n",
      "YEAR Exception\n",
      "inside try, t= 1\n",
      "driver.get\n",
      "YEAR Exception\n",
      "inside try, t= 2\n",
      "driver.get\n",
      "YEAR Exception\n",
      "1997 May Gujarat Cotton\n",
      "file to open folders/Cotton/Gujarat/mynewdata_1997_May.csv\n",
      "False\n",
      "After\n"
     ]
    },
    {
     "name": "stderr",
     "output_type": "stream",
     "text": [
      "/usr/local/lib/python3.6/dist-packages/ipykernel_launcher.py:33: DeprecationWarning: use options instead of chrome_options\n"
     ]
    },
    {
     "name": "stdout",
     "output_type": "stream",
     "text": [
      "inside try, t= 0\n",
      "driver.get\n",
      "YEAR Exception\n",
      "inside try, t= 1\n",
      "driver.get\n",
      "YEAR Exception\n",
      "inside try, t= 2\n",
      "driver.get\n",
      "YEAR Exception\n",
      "1997 June Gujarat Cotton\n",
      "file to open folders/Cotton/Gujarat/mynewdata_1997_June.csv\n",
      "False\n",
      "After\n"
     ]
    },
    {
     "name": "stderr",
     "output_type": "stream",
     "text": [
      "/usr/local/lib/python3.6/dist-packages/ipykernel_launcher.py:33: DeprecationWarning: use options instead of chrome_options\n"
     ]
    },
    {
     "name": "stdout",
     "output_type": "stream",
     "text": [
      "inside try, t= 0\n",
      "driver.get\n",
      "YEAR Exception\n",
      "inside try, t= 1\n",
      "driver.get\n",
      "YEAR Exception\n",
      "inside try, t= 2\n",
      "driver.get\n",
      "YEAR Exception\n",
      "1997 July Gujarat Cotton\n",
      "file to open folders/Cotton/Gujarat/mynewdata_1997_July.csv\n",
      "False\n",
      "After\n"
     ]
    },
    {
     "name": "stderr",
     "output_type": "stream",
     "text": [
      "/usr/local/lib/python3.6/dist-packages/ipykernel_launcher.py:33: DeprecationWarning: use options instead of chrome_options\n"
     ]
    },
    {
     "name": "stdout",
     "output_type": "stream",
     "text": [
      "inside try, t= 0\n",
      "driver.get\n",
      "YEAR Exception\n",
      "inside try, t= 1\n",
      "driver.get\n",
      "YEAR Exception\n",
      "inside try, t= 2\n",
      "driver.get\n",
      "YEAR Exception\n",
      "1997 August Gujarat Cotton\n",
      "file to open folders/Cotton/Gujarat/mynewdata_1997_August.csv\n",
      "False\n",
      "After\n"
     ]
    },
    {
     "name": "stderr",
     "output_type": "stream",
     "text": [
      "/usr/local/lib/python3.6/dist-packages/ipykernel_launcher.py:33: DeprecationWarning: use options instead of chrome_options\n"
     ]
    },
    {
     "name": "stdout",
     "output_type": "stream",
     "text": [
      "inside try, t= 0\n",
      "driver.get\n",
      "YEAR Exception\n",
      "inside try, t= 1\n",
      "driver.get\n",
      "YEAR Exception\n",
      "inside try, t= 2\n",
      "driver.get\n",
      "YEAR Exception\n",
      "1997 September Gujarat Cotton\n",
      "file to open folders/Cotton/Gujarat/mynewdata_1997_September.csv\n",
      "False\n",
      "After\n"
     ]
    },
    {
     "name": "stderr",
     "output_type": "stream",
     "text": [
      "/usr/local/lib/python3.6/dist-packages/ipykernel_launcher.py:33: DeprecationWarning: use options instead of chrome_options\n"
     ]
    },
    {
     "name": "stdout",
     "output_type": "stream",
     "text": [
      "inside try, t= 0\n",
      "driver.get\n",
      "YEAR Exception\n",
      "inside try, t= 1\n",
      "driver.get\n",
      "YEAR Exception\n",
      "inside try, t= 2\n",
      "driver.get\n",
      "YEAR Exception\n",
      "1997 October Gujarat Cotton\n",
      "file to open folders/Cotton/Gujarat/mynewdata_1997_October.csv\n",
      "False\n",
      "After\n"
     ]
    },
    {
     "name": "stderr",
     "output_type": "stream",
     "text": [
      "/usr/local/lib/python3.6/dist-packages/ipykernel_launcher.py:33: DeprecationWarning: use options instead of chrome_options\n"
     ]
    },
    {
     "name": "stdout",
     "output_type": "stream",
     "text": [
      "inside try, t= 0\n",
      "driver.get\n",
      "YEAR Exception\n",
      "inside try, t= 1\n",
      "driver.get\n",
      "YEAR Exception\n",
      "inside try, t= 2\n",
      "driver.get\n",
      "YEAR Exception\n",
      "1997 November Gujarat Cotton\n",
      "file to open folders/Cotton/Gujarat/mynewdata_1997_November.csv\n",
      "False\n",
      "After\n"
     ]
    },
    {
     "name": "stderr",
     "output_type": "stream",
     "text": [
      "/usr/local/lib/python3.6/dist-packages/ipykernel_launcher.py:33: DeprecationWarning: use options instead of chrome_options\n"
     ]
    },
    {
     "name": "stdout",
     "output_type": "stream",
     "text": [
      "inside try, t= 0\n",
      "driver.get\n",
      "YEAR Exception\n",
      "inside try, t= 1\n",
      "driver.get\n",
      "YEAR Exception\n",
      "inside try, t= 2\n",
      "driver.get\n",
      "YEAR Exception\n",
      "1997 December Gujarat Cotton\n",
      "file to open folders/Cotton/Gujarat/mynewdata_1997_December.csv\n",
      "False\n",
      "After\n"
     ]
    },
    {
     "name": "stderr",
     "output_type": "stream",
     "text": [
      "/usr/local/lib/python3.6/dist-packages/ipykernel_launcher.py:33: DeprecationWarning: use options instead of chrome_options\n"
     ]
    },
    {
     "name": "stdout",
     "output_type": "stream",
     "text": [
      "inside try, t= 0\n",
      "driver.get\n",
      "YEAR Exception\n",
      "inside try, t= 1\n",
      "driver.get\n",
      "YEAR Exception\n",
      "inside try, t= 2\n",
      "driver.get\n",
      "YEAR Exception\n",
      "1998 January Gujarat Cotton\n",
      "file to open folders/Cotton/Gujarat/mynewdata_1998_January.csv\n",
      "False\n",
      "After\n"
     ]
    },
    {
     "name": "stderr",
     "output_type": "stream",
     "text": [
      "/usr/local/lib/python3.6/dist-packages/ipykernel_launcher.py:33: DeprecationWarning: use options instead of chrome_options\n"
     ]
    },
    {
     "name": "stdout",
     "output_type": "stream",
     "text": [
      "inside try, t= 0\n",
      "driver.get\n",
      "YEAR Exception\n",
      "inside try, t= 1\n",
      "driver.get\n",
      "YEAR Exception\n",
      "inside try, t= 2\n",
      "driver.get\n",
      "YEAR Exception\n",
      "1998 February Gujarat Cotton\n",
      "file to open folders/Cotton/Gujarat/mynewdata_1998_February.csv\n",
      "False\n",
      "After\n"
     ]
    },
    {
     "name": "stderr",
     "output_type": "stream",
     "text": [
      "/usr/local/lib/python3.6/dist-packages/ipykernel_launcher.py:33: DeprecationWarning: use options instead of chrome_options\n"
     ]
    },
    {
     "name": "stdout",
     "output_type": "stream",
     "text": [
      "inside try, t= 0\n",
      "driver.get\n",
      "YEAR Exception\n",
      "inside try, t= 1\n",
      "driver.get\n",
      "YEAR Exception\n",
      "inside try, t= 2\n",
      "driver.get\n",
      "YEAR Exception\n",
      "1998 March Gujarat Cotton\n",
      "file to open folders/Cotton/Gujarat/mynewdata_1998_March.csv\n",
      "False\n",
      "After\n"
     ]
    },
    {
     "name": "stderr",
     "output_type": "stream",
     "text": [
      "/usr/local/lib/python3.6/dist-packages/ipykernel_launcher.py:33: DeprecationWarning: use options instead of chrome_options\n"
     ]
    },
    {
     "name": "stdout",
     "output_type": "stream",
     "text": [
      "inside try, t= 0\n",
      "driver.get\n",
      "YEAR Exception\n",
      "inside try, t= 1\n",
      "driver.get\n",
      "YEAR Exception\n",
      "inside try, t= 2\n",
      "driver.get\n",
      "YEAR Exception\n",
      "1998 April Gujarat Cotton\n",
      "file to open folders/Cotton/Gujarat/mynewdata_1998_April.csv\n",
      "False\n",
      "After\n"
     ]
    },
    {
     "name": "stderr",
     "output_type": "stream",
     "text": [
      "/usr/local/lib/python3.6/dist-packages/ipykernel_launcher.py:33: DeprecationWarning: use options instead of chrome_options\n"
     ]
    },
    {
     "name": "stdout",
     "output_type": "stream",
     "text": [
      "inside try, t= 0\n",
      "driver.get\n",
      "YEAR Exception\n",
      "inside try, t= 1\n",
      "driver.get\n",
      "YEAR Exception\n",
      "inside try, t= 2\n",
      "driver.get\n",
      "YEAR Exception\n",
      "1998 May Gujarat Cotton\n",
      "file to open folders/Cotton/Gujarat/mynewdata_1998_May.csv\n",
      "False\n",
      "After\n"
     ]
    },
    {
     "name": "stderr",
     "output_type": "stream",
     "text": [
      "/usr/local/lib/python3.6/dist-packages/ipykernel_launcher.py:33: DeprecationWarning: use options instead of chrome_options\n"
     ]
    },
    {
     "name": "stdout",
     "output_type": "stream",
     "text": [
      "inside try, t= 0\n",
      "driver.get\n",
      "YEAR Exception\n",
      "inside try, t= 1\n",
      "driver.get\n",
      "YEAR Exception\n",
      "inside try, t= 2\n",
      "driver.get\n",
      "YEAR Exception\n",
      "1998 June Gujarat Cotton\n",
      "file to open folders/Cotton/Gujarat/mynewdata_1998_June.csv\n",
      "False\n",
      "After\n"
     ]
    },
    {
     "name": "stderr",
     "output_type": "stream",
     "text": [
      "/usr/local/lib/python3.6/dist-packages/ipykernel_launcher.py:33: DeprecationWarning: use options instead of chrome_options\n"
     ]
    },
    {
     "name": "stdout",
     "output_type": "stream",
     "text": [
      "inside try, t= 0\n",
      "driver.get\n",
      "YEAR Exception\n",
      "inside try, t= 1\n",
      "driver.get\n",
      "YEAR Exception\n",
      "inside try, t= 2\n",
      "driver.get\n",
      "YEAR Exception\n",
      "1998 July Gujarat Cotton\n",
      "file to open folders/Cotton/Gujarat/mynewdata_1998_July.csv\n",
      "False\n",
      "After\n"
     ]
    },
    {
     "name": "stderr",
     "output_type": "stream",
     "text": [
      "/usr/local/lib/python3.6/dist-packages/ipykernel_launcher.py:33: DeprecationWarning: use options instead of chrome_options\n"
     ]
    },
    {
     "name": "stdout",
     "output_type": "stream",
     "text": [
      "inside try, t= 0\n",
      "driver.get\n",
      "YEAR Exception\n",
      "inside try, t= 1\n",
      "driver.get\n",
      "YEAR Exception\n",
      "inside try, t= 2\n",
      "driver.get\n",
      "YEAR Exception\n",
      "1998 August Gujarat Cotton\n",
      "file to open folders/Cotton/Gujarat/mynewdata_1998_August.csv\n",
      "False\n",
      "After\n"
     ]
    },
    {
     "name": "stderr",
     "output_type": "stream",
     "text": [
      "/usr/local/lib/python3.6/dist-packages/ipykernel_launcher.py:33: DeprecationWarning: use options instead of chrome_options\n"
     ]
    },
    {
     "name": "stdout",
     "output_type": "stream",
     "text": [
      "inside try, t= 0\n",
      "driver.get\n",
      "YEAR Exception\n",
      "inside try, t= 1\n",
      "driver.get\n",
      "YEAR Exception\n",
      "inside try, t= 2\n",
      "driver.get\n",
      "YEAR Exception\n",
      "1998 September Gujarat Cotton\n",
      "file to open folders/Cotton/Gujarat/mynewdata_1998_September.csv\n",
      "False\n",
      "After\n"
     ]
    },
    {
     "name": "stderr",
     "output_type": "stream",
     "text": [
      "/usr/local/lib/python3.6/dist-packages/ipykernel_launcher.py:33: DeprecationWarning: use options instead of chrome_options\n"
     ]
    },
    {
     "name": "stdout",
     "output_type": "stream",
     "text": [
      "inside try, t= 0\n",
      "driver.get\n",
      "YEAR Exception\n",
      "inside try, t= 1\n",
      "driver.get\n",
      "YEAR Exception\n",
      "inside try, t= 2\n",
      "driver.get\n",
      "YEAR Exception\n",
      "1998 October Gujarat Cotton\n",
      "file to open folders/Cotton/Gujarat/mynewdata_1998_October.csv\n",
      "False\n",
      "After\n"
     ]
    },
    {
     "name": "stderr",
     "output_type": "stream",
     "text": [
      "/usr/local/lib/python3.6/dist-packages/ipykernel_launcher.py:33: DeprecationWarning: use options instead of chrome_options\n"
     ]
    },
    {
     "name": "stdout",
     "output_type": "stream",
     "text": [
      "inside try, t= 0\n",
      "driver.get\n",
      "YEAR Exception\n",
      "inside try, t= 1\n",
      "driver.get\n",
      "YEAR Exception\n",
      "inside try, t= 2\n",
      "driver.get\n",
      "YEAR Exception\n",
      "1998 November Gujarat Cotton\n",
      "file to open folders/Cotton/Gujarat/mynewdata_1998_November.csv\n",
      "False\n",
      "After\n"
     ]
    },
    {
     "name": "stderr",
     "output_type": "stream",
     "text": [
      "/usr/local/lib/python3.6/dist-packages/ipykernel_launcher.py:33: DeprecationWarning: use options instead of chrome_options\n"
     ]
    },
    {
     "name": "stdout",
     "output_type": "stream",
     "text": [
      "inside try, t= 0\n",
      "driver.get\n",
      "YEAR Exception\n",
      "inside try, t= 1\n",
      "driver.get\n",
      "YEAR Exception\n",
      "inside try, t= 2\n",
      "driver.get\n",
      "YEAR Exception\n",
      "1998 December Gujarat Cotton\n",
      "file to open folders/Cotton/Gujarat/mynewdata_1998_December.csv\n",
      "False\n",
      "After\n"
     ]
    },
    {
     "name": "stderr",
     "output_type": "stream",
     "text": [
      "/usr/local/lib/python3.6/dist-packages/ipykernel_launcher.py:33: DeprecationWarning: use options instead of chrome_options\n"
     ]
    },
    {
     "name": "stdout",
     "output_type": "stream",
     "text": [
      "inside try, t= 0\n",
      "driver.get\n",
      "YEAR Exception\n",
      "inside try, t= 1\n",
      "driver.get\n",
      "YEAR Exception\n",
      "inside try, t= 2\n",
      "driver.get\n",
      "YEAR Exception\n",
      "1999 January Gujarat Cotton\n",
      "file to open folders/Cotton/Gujarat/mynewdata_1999_January.csv\n",
      "False\n",
      "After\n"
     ]
    },
    {
     "name": "stderr",
     "output_type": "stream",
     "text": [
      "/usr/local/lib/python3.6/dist-packages/ipykernel_launcher.py:33: DeprecationWarning: use options instead of chrome_options\n"
     ]
    },
    {
     "name": "stdout",
     "output_type": "stream",
     "text": [
      "inside try, t= 0\n",
      "driver.get\n",
      "YEAR Exception\n",
      "inside try, t= 1\n",
      "driver.get\n",
      "YEAR Exception\n",
      "inside try, t= 2\n",
      "driver.get\n",
      "YEAR Exception\n",
      "1999 February Gujarat Cotton\n",
      "file to open folders/Cotton/Gujarat/mynewdata_1999_February.csv\n",
      "False\n",
      "After\n"
     ]
    },
    {
     "name": "stderr",
     "output_type": "stream",
     "text": [
      "/usr/local/lib/python3.6/dist-packages/ipykernel_launcher.py:33: DeprecationWarning: use options instead of chrome_options\n"
     ]
    },
    {
     "name": "stdout",
     "output_type": "stream",
     "text": [
      "inside try, t= 0\n",
      "driver.get\n",
      "YEAR Exception\n",
      "inside try, t= 1\n",
      "driver.get\n",
      "YEAR Exception\n",
      "inside try, t= 2\n",
      "driver.get\n",
      "YEAR Exception\n",
      "1999 March Gujarat Cotton\n",
      "file to open folders/Cotton/Gujarat/mynewdata_1999_March.csv\n",
      "False\n",
      "After\n"
     ]
    },
    {
     "name": "stderr",
     "output_type": "stream",
     "text": [
      "/usr/local/lib/python3.6/dist-packages/ipykernel_launcher.py:33: DeprecationWarning: use options instead of chrome_options\n"
     ]
    },
    {
     "name": "stdout",
     "output_type": "stream",
     "text": [
      "inside try, t= 0\n",
      "driver.get\n",
      "YEAR Exception\n",
      "inside try, t= 1\n",
      "driver.get\n",
      "YEAR Exception\n",
      "inside try, t= 2\n",
      "driver.get\n",
      "YEAR Exception\n",
      "1999 April Gujarat Cotton\n",
      "file to open folders/Cotton/Gujarat/mynewdata_1999_April.csv\n",
      "False\n",
      "After\n"
     ]
    },
    {
     "name": "stderr",
     "output_type": "stream",
     "text": [
      "/usr/local/lib/python3.6/dist-packages/ipykernel_launcher.py:33: DeprecationWarning: use options instead of chrome_options\n"
     ]
    },
    {
     "name": "stdout",
     "output_type": "stream",
     "text": [
      "inside try, t= 0\n",
      "driver.get\n",
      "YEAR Exception\n",
      "inside try, t= 1\n",
      "driver.get\n",
      "YEAR Exception\n",
      "inside try, t= 2\n",
      "driver.get\n",
      "YEAR Exception\n",
      "1999 May Gujarat Cotton\n",
      "file to open folders/Cotton/Gujarat/mynewdata_1999_May.csv\n",
      "False\n",
      "After\n"
     ]
    },
    {
     "name": "stderr",
     "output_type": "stream",
     "text": [
      "/usr/local/lib/python3.6/dist-packages/ipykernel_launcher.py:33: DeprecationWarning: use options instead of chrome_options\n"
     ]
    },
    {
     "name": "stdout",
     "output_type": "stream",
     "text": [
      "inside try, t= 0\n",
      "driver.get\n",
      "YEAR Exception\n",
      "inside try, t= 1\n",
      "driver.get\n",
      "YEAR Exception\n",
      "inside try, t= 2\n",
      "driver.get\n",
      "YEAR Exception\n",
      "1999 June Gujarat Cotton\n",
      "file to open folders/Cotton/Gujarat/mynewdata_1999_June.csv\n",
      "False\n",
      "After\n"
     ]
    },
    {
     "name": "stderr",
     "output_type": "stream",
     "text": [
      "/usr/local/lib/python3.6/dist-packages/ipykernel_launcher.py:33: DeprecationWarning: use options instead of chrome_options\n"
     ]
    },
    {
     "name": "stdout",
     "output_type": "stream",
     "text": [
      "inside try, t= 0\n",
      "driver.get\n",
      "YEAR Exception\n",
      "inside try, t= 1\n",
      "driver.get\n",
      "YEAR Exception\n",
      "inside try, t= 2\n",
      "driver.get\n",
      "YEAR Exception\n",
      "1999 July Gujarat Cotton\n",
      "file to open folders/Cotton/Gujarat/mynewdata_1999_July.csv\n",
      "False\n",
      "After\n"
     ]
    },
    {
     "name": "stderr",
     "output_type": "stream",
     "text": [
      "/usr/local/lib/python3.6/dist-packages/ipykernel_launcher.py:33: DeprecationWarning: use options instead of chrome_options\n"
     ]
    },
    {
     "name": "stdout",
     "output_type": "stream",
     "text": [
      "inside try, t= 0\n",
      "driver.get\n",
      "YEAR Exception\n",
      "inside try, t= 1\n",
      "driver.get\n",
      "YEAR Exception\n",
      "inside try, t= 2\n",
      "driver.get\n",
      "YEAR Exception\n",
      "1999 August Gujarat Cotton\n",
      "file to open folders/Cotton/Gujarat/mynewdata_1999_August.csv\n",
      "False\n",
      "After\n"
     ]
    },
    {
     "name": "stderr",
     "output_type": "stream",
     "text": [
      "/usr/local/lib/python3.6/dist-packages/ipykernel_launcher.py:33: DeprecationWarning: use options instead of chrome_options\n"
     ]
    },
    {
     "name": "stdout",
     "output_type": "stream",
     "text": [
      "inside try, t= 0\n",
      "driver.get\n",
      "YEAR Exception\n",
      "inside try, t= 1\n",
      "driver.get\n",
      "YEAR Exception\n",
      "inside try, t= 2\n",
      "driver.get\n",
      "YEAR Exception\n",
      "1999 September Gujarat Cotton\n",
      "file to open folders/Cotton/Gujarat/mynewdata_1999_September.csv\n",
      "False\n",
      "After\n"
     ]
    },
    {
     "name": "stderr",
     "output_type": "stream",
     "text": [
      "/usr/local/lib/python3.6/dist-packages/ipykernel_launcher.py:33: DeprecationWarning: use options instead of chrome_options\n"
     ]
    },
    {
     "name": "stdout",
     "output_type": "stream",
     "text": [
      "inside try, t= 0\n",
      "driver.get\n",
      "YEAR Exception\n",
      "inside try, t= 1\n",
      "driver.get\n",
      "YEAR Exception\n",
      "inside try, t= 2\n",
      "driver.get\n",
      "YEAR Exception\n",
      "1999 October Gujarat Cotton\n",
      "file to open folders/Cotton/Gujarat/mynewdata_1999_October.csv\n",
      "False\n",
      "After\n"
     ]
    },
    {
     "name": "stderr",
     "output_type": "stream",
     "text": [
      "/usr/local/lib/python3.6/dist-packages/ipykernel_launcher.py:33: DeprecationWarning: use options instead of chrome_options\n"
     ]
    },
    {
     "name": "stdout",
     "output_type": "stream",
     "text": [
      "inside try, t= 0\n",
      "driver.get\n",
      "YEAR Exception\n",
      "inside try, t= 1\n",
      "driver.get\n",
      "YEAR Exception\n",
      "inside try, t= 2\n",
      "driver.get\n",
      "YEAR Exception\n",
      "1999 November Gujarat Cotton\n",
      "file to open folders/Cotton/Gujarat/mynewdata_1999_November.csv\n",
      "False\n",
      "After\n"
     ]
    },
    {
     "name": "stderr",
     "output_type": "stream",
     "text": [
      "/usr/local/lib/python3.6/dist-packages/ipykernel_launcher.py:33: DeprecationWarning: use options instead of chrome_options\n"
     ]
    },
    {
     "name": "stdout",
     "output_type": "stream",
     "text": [
      "inside try, t= 0\n",
      "driver.get\n",
      "YEAR Exception\n",
      "inside try, t= 1\n",
      "driver.get\n",
      "YEAR Exception\n",
      "inside try, t= 2\n",
      "driver.get\n",
      "YEAR Exception\n",
      "1999 December Gujarat Cotton\n",
      "file to open folders/Cotton/Gujarat/mynewdata_1999_December.csv\n",
      "False\n",
      "After\n"
     ]
    },
    {
     "name": "stderr",
     "output_type": "stream",
     "text": [
      "/usr/local/lib/python3.6/dist-packages/ipykernel_launcher.py:33: DeprecationWarning: use options instead of chrome_options\n"
     ]
    },
    {
     "name": "stdout",
     "output_type": "stream",
     "text": [
      "inside try, t= 0\n",
      "driver.get\n",
      "YEAR Exception\n",
      "inside try, t= 1\n",
      "driver.get\n",
      "YEAR Exception\n",
      "inside try, t= 2\n",
      "driver.get\n",
      "YEAR Exception\n",
      "2000 January Gujarat Cotton\n",
      "file to open folders/Cotton/Gujarat/mynewdata_2000_January.csv\n",
      "False\n",
      "After\n"
     ]
    },
    {
     "name": "stderr",
     "output_type": "stream",
     "text": [
      "/usr/local/lib/python3.6/dist-packages/ipykernel_launcher.py:33: DeprecationWarning: use options instead of chrome_options\n"
     ]
    },
    {
     "name": "stdout",
     "output_type": "stream",
     "text": [
      "inside try, t= 0\n",
      "driver.get\n",
      "YEAR MONTH STATE Exception\n",
      "inside try, t= 1\n",
      "driver.get\n",
      "YEAR MONTH STATE Exception\n",
      "inside try, t= 2\n",
      "driver.get\n",
      "YEAR MONTH STATE Exception\n",
      "2000 February Gujarat Cotton\n",
      "file to open folders/Cotton/Gujarat/mynewdata_2000_February.csv\n",
      "False\n",
      "After\n"
     ]
    },
    {
     "name": "stderr",
     "output_type": "stream",
     "text": [
      "/usr/local/lib/python3.6/dist-packages/ipykernel_launcher.py:33: DeprecationWarning: use options instead of chrome_options\n"
     ]
    },
    {
     "name": "stdout",
     "output_type": "stream",
     "text": [
      "inside try, t= 0\n",
      "driver.get\n",
      "YEAR MONTH STATE Exception\n",
      "inside try, t= 1\n",
      "driver.get\n",
      "YEAR MONTH STATE Exception\n",
      "inside try, t= 2\n",
      "driver.get\n",
      "YEAR MONTH STATE Exception\n",
      "2000 March Gujarat Cotton\n",
      "file to open folders/Cotton/Gujarat/mynewdata_2000_March.csv\n",
      "False\n",
      "After\n"
     ]
    },
    {
     "name": "stderr",
     "output_type": "stream",
     "text": [
      "/usr/local/lib/python3.6/dist-packages/ipykernel_launcher.py:33: DeprecationWarning: use options instead of chrome_options\n"
     ]
    },
    {
     "name": "stdout",
     "output_type": "stream",
     "text": [
      "inside try, t= 0\n",
      "driver.get\n",
      "YEAR MONTH STATE Exception\n",
      "inside try, t= 1\n",
      "driver.get\n",
      "YEAR MONTH STATE Exception\n",
      "inside try, t= 2\n",
      "driver.get\n",
      "YEAR MONTH STATE Exception\n",
      "2000 April Gujarat Cotton\n",
      "file to open folders/Cotton/Gujarat/mynewdata_2000_April.csv\n",
      "False\n",
      "After\n"
     ]
    },
    {
     "name": "stderr",
     "output_type": "stream",
     "text": [
      "/usr/local/lib/python3.6/dist-packages/ipykernel_launcher.py:33: DeprecationWarning: use options instead of chrome_options\n"
     ]
    },
    {
     "name": "stdout",
     "output_type": "stream",
     "text": [
      "inside try, t= 0\n",
      "driver.get\n",
      "YEAR MONTH STATE Exception\n",
      "inside try, t= 1\n",
      "driver.get\n",
      "YEAR MONTH STATE Exception\n",
      "inside try, t= 2\n",
      "driver.get\n",
      "YEAR MONTH STATE Exception\n",
      "2000 May Gujarat Cotton\n",
      "file to open folders/Cotton/Gujarat/mynewdata_2000_May.csv\n",
      "False\n",
      "After\n"
     ]
    },
    {
     "name": "stderr",
     "output_type": "stream",
     "text": [
      "/usr/local/lib/python3.6/dist-packages/ipykernel_launcher.py:33: DeprecationWarning: use options instead of chrome_options\n"
     ]
    },
    {
     "name": "stdout",
     "output_type": "stream",
     "text": [
      "inside try, t= 0\n",
      "driver.get\n",
      "YEAR MONTH STATE Exception\n",
      "inside try, t= 1\n",
      "driver.get\n",
      "YEAR MONTH STATE Exception\n",
      "inside try, t= 2\n",
      "driver.get\n",
      "YEAR MONTH STATE "
     ]
    }
   ],
   "source": [
    "downloadWholesaleData(commodity,centres,start_year,end_year,months)"
   ]
  },
  {
   "cell_type": "markdown",
   "metadata": {
    "colab_type": "text",
    "id": "zKJqFTqIe1f8"
   },
   "source": [
    "### Concatenating all the created files"
   ]
  },
  {
   "cell_type": "code",
   "execution_count": null,
   "metadata": {
    "colab": {
     "base_uri": "https://localhost:8080/",
     "height": 51
    },
    "colab_type": "code",
    "id": "ntS9WmAQBWj5",
    "outputId": "d364f8be-c40a-4e2f-ed05-a72d17082237"
   },
   "outputs": [
    {
     "name": "stderr",
     "output_type": "stream",
     "text": [
      "b'Skipping line 1122: expected 8 fields, saw 9\\n'\n",
      "b'Skipping line 1110: expected 8 fields, saw 9\\n'\n"
     ]
    }
   ],
   "source": [
    "import os\n",
    "import glob \n",
    "import pandas as pd \n",
    "\n",
    "final_df = pd.DataFrame()\n",
    "not_loaded = []\n",
    "\n",
    "for k in centres:\n",
    "  my_dir = \"/content/folders/Cotton/\"+k\n",
    "  filelist = []\n",
    "  filesList = []\n",
    "  os.chdir( my_dir )\n",
    "\n",
    "  # Step 2: Build up list of files:\n",
    "  for files in glob.glob(\"*.csv\"):\n",
    "      fileName, fileExtension = os.path.splitext(files)\n",
    "      filesList.append(files) #filename with extension\n",
    "\n",
    "  # Step 3: Build up DataFrame:\n",
    "  df = pd.DataFrame()\n",
    "  for i in filesList:\n",
    "    # print (i)\n",
    "    try:\n",
    "      frame = pd.read_csv(i,error_bad_lines=False)\n",
    "      frame = frame.iloc[:,0:7]\n",
    "      df = df.append(frame)\n",
    "    except:\n",
    "      not_loaded+=[str(i)]\n",
    "      continue\n",
    "  final_df = pd.concat([df, final_df])"
   ]
  },
  {
   "cell_type": "code",
   "execution_count": null,
   "metadata": {
    "colab": {},
    "colab_type": "code",
    "id": "K82Hp-kEdF5M"
   },
   "outputs": [],
   "source": [
    "final_df.to_csv('/content/GJ_2016_2020_COTTON.csv', index = False)"
   ]
  },
  {
   "cell_type": "markdown",
   "metadata": {
    "colab_type": "text",
    "id": "ksnjatu74X-L"
   },
   "source": [
    "Saving all the individual files to drive"
   ]
  },
  {
   "cell_type": "code",
   "execution_count": null,
   "metadata": {
    "colab": {
     "base_uri": "https://localhost:8080/",
     "height": 51
    },
    "colab_type": "code",
    "id": "76twEHZ7ebb5",
    "outputId": "974e28b7-1826-4c17-8641-e7d482109292"
   },
   "outputs": [
    {
     "name": "stderr",
     "output_type": "stream",
     "text": [
      "b'Skipping line 1122: expected 8 fields, saw 9\\n'\n",
      "b'Skipping line 1110: expected 8 fields, saw 9\\n'\n"
     ]
    }
   ],
   "source": [
    "# final_save_df = pd.DataFrame()\n",
    "# not_saved = []\n",
    "\n",
    "# for k in centres:\n",
    "#   my_dir = \"/content/folders/Cotton/\"+k\n",
    "#   filelist = []\n",
    "#   filesList = []\n",
    "#   os.chdir( my_dir )\n",
    "\n",
    "#   # Step 2: Build up list of files:\n",
    "#   for files in glob.glob(\"*.csv\"):\n",
    "#       fileName, fileExtension = os.path.splitext(files)\n",
    "#       filesList.append(files) #filename with extension\n",
    "\n",
    "#   # Step 3: Build up DataFrame:\n",
    "#   save_df = pd.DataFrame()\n",
    "#   for i in filesList:\n",
    "#     # print (i)\n",
    "#     try:\n",
    "#       save_df = pd.read_csv(i,error_bad_lines=False)\n",
    "#       save_df = save_df.iloc[:,0:7]\n",
    "#       save_df.to_csv('/content/drive/My Drive/AGMARKNET/GUJARAT/'+str(i), index = False)\n",
    "#     except:\n",
    "#       not_saved+=[str(i)]\n",
    "#       continue"
   ]
  }
 ],
 "metadata": {
  "colab": {
   "collapsed_sections": [],
   "name": "AGMARKNET_data_pull.ipynb",
   "provenance": [],
   "toc_visible": true
  },
  "kernelspec": {
   "display_name": "Python 3",
   "language": "python",
   "name": "python3"
  },
  "language_info": {
   "codemirror_mode": {
    "name": "ipython",
    "version": 3
   },
   "file_extension": ".py",
   "mimetype": "text/x-python",
   "name": "python",
   "nbconvert_exporter": "python",
   "pygments_lexer": "ipython3",
   "version": "3.7.7"
  }
 },
 "nbformat": 4,
 "nbformat_minor": 1
}

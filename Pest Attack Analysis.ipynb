{
 "cells": [
  {
   "cell_type": "code",
   "execution_count": 20,
   "metadata": {},
   "outputs": [],
   "source": [
    "import pandas as pd\n",
    "import numpy as np\n",
    "import matplotlib.pyplot as plt\n",
    "import seaborn as sns\n",
    "sns.set(rc={'figure.figsize':(11, 4)})\n",
    "from collections import Counter\n",
    "import glob\n",
    "import statsmodels.api as sm\n",
    "from statsmodels.api import OLS"
   ]
  },
  {
   "cell_type": "code",
   "execution_count": 2,
   "metadata": {
    "scrolled": true
   },
   "outputs": [
    {
     "name": "stdout",
     "output_type": "stream",
     "text": [
      " media-db.articles_2010.csv   media-db.articles_2018.csv\r\n",
      " media-db.articles_2011.csv   media-db.articles_2019.csv\r\n",
      " media-db.articles_2012.csv  'News Articles-20200928T062930Z-001.zip'\r\n",
      " media-db.articles_2013.csv  'News Articles-20200928T062930Z-002.zip'\r\n",
      " media-db.articles_2014.csv  'News Articles-20200928T062930Z-003.zip'\r\n",
      " media-db.articles_2015.csv\r\n"
     ]
    }
   ],
   "source": [
    "!ls data/news"
   ]
  },
  {
   "cell_type": "code",
   "execution_count": null,
   "metadata": {},
   "outputs": [],
   "source": [
    "# Use for 2018.csv\n",
    "# usecols=['articleTitle',  'articleUrl', 'publishedDate','sourceName','text']\n",
    "\n",
    "# Use for 2019.csv\n",
    "# usecols=['articleId',  'articleUrl', 'publishedYear', 'publishedMonth', 'publishedDate', 'sourceName','text']"
   ]
  },
  {
   "cell_type": "code",
   "execution_count": 3,
   "metadata": {},
   "outputs": [],
   "source": [
    "filename_2018 = 'data/news/media-db.articles_2018.csv'\n",
    "filename_2019 = 'data/news/media-db.articles_2019.csv'"
   ]
  },
  {
   "cell_type": "code",
   "execution_count": 4,
   "metadata": {},
   "outputs": [],
   "source": [
    "with open(filename_2019) as f:\n",
    "    content = f.readlines()\n",
    "# you may also want to remove whitespace characters like `\\n` at the end of each line\n",
    "content = [x.strip() for x in content]\n",
    "temp_list = [ x.split(\",\", 4) for x in content ]\n",
    "df_2019 = pd.DataFrame(temp_list, columns=['articleId', 'publishedYear', 'publishedMonth', 'publishedDate','text'])\n",
    "content = 0\n",
    "df_2019['publishedOn'] = df_2019['publishedYear'] + \"-\" + df_2019[\"publishedMonth\"] + \"-\" + df_2019[\"publishedDate\"]\n",
    "df_2019.drop(['publishedYear', 'publishedMonth', 'publishedDate'], axis=1, inplace=True)\n",
    "df_2019.rename(columns={\"publishedOn\": \"publishedDate\"}, inplace=True)"
   ]
  },
  {
   "cell_type": "code",
   "execution_count": 5,
   "metadata": {},
   "outputs": [
    {
     "data": {
      "text/html": [
       "<div>\n",
       "<style scoped>\n",
       "    .dataframe tbody tr th:only-of-type {\n",
       "        vertical-align: middle;\n",
       "    }\n",
       "\n",
       "    .dataframe tbody tr th {\n",
       "        vertical-align: top;\n",
       "    }\n",
       "\n",
       "    .dataframe thead th {\n",
       "        text-align: right;\n",
       "    }\n",
       "</style>\n",
       "<table border=\"1\" class=\"dataframe\">\n",
       "  <thead>\n",
       "    <tr style=\"text-align: right;\">\n",
       "      <th></th>\n",
       "      <th>articleId</th>\n",
       "      <th>text</th>\n",
       "      <th>publishedDate</th>\n",
       "    </tr>\n",
       "  </thead>\n",
       "  <tbody>\n",
       "    <tr>\n",
       "      <th>0</th>\n",
       "      <td>5ce49e0fe8e3fc471b678cd9</td>\n",
       "      <td>By PTIAHMEDABAD: A political row broke out on ...</td>\n",
       "      <td>2019-01-01</td>\n",
       "    </tr>\n",
       "    <tr>\n",
       "      <th>1</th>\n",
       "      <td>5ce49e12e8e3fc471b678cdd</td>\n",
       "      <td>By PTINEW DELHI: The armies of India and China...</td>\n",
       "      <td>2019-01-01</td>\n",
       "    </tr>\n",
       "    <tr>\n",
       "      <th>2</th>\n",
       "      <td>5ce49e15e8e3fc471b678ce1</td>\n",
       "      <td>By PTIJAMNAGAR: Five members of a family, incl...</td>\n",
       "      <td>2019-01-01</td>\n",
       "    </tr>\n",
       "    <tr>\n",
       "      <th>3</th>\n",
       "      <td>5ce49e18e8e3fc471b678ce5</td>\n",
       "      <td>Harpreet Bajwa ByExpress News ServiceCHANDIGAR...</td>\n",
       "      <td>2019-01-01</td>\n",
       "    </tr>\n",
       "    <tr>\n",
       "      <th>4</th>\n",
       "      <td>5ce49e1ae8e3fc471b678ce9</td>\n",
       "      <td>By IANSNEW DELHI: Making resolutions and sched...</td>\n",
       "      <td>2019-01-01</td>\n",
       "    </tr>\n",
       "  </tbody>\n",
       "</table>\n",
       "</div>"
      ],
      "text/plain": [
       "                  articleId  \\\n",
       "0  5ce49e0fe8e3fc471b678cd9   \n",
       "1  5ce49e12e8e3fc471b678cdd   \n",
       "2  5ce49e15e8e3fc471b678ce1   \n",
       "3  5ce49e18e8e3fc471b678ce5   \n",
       "4  5ce49e1ae8e3fc471b678ce9   \n",
       "\n",
       "                                                text publishedDate  \n",
       "0  By PTIAHMEDABAD: A political row broke out on ...    2019-01-01  \n",
       "1  By PTINEW DELHI: The armies of India and China...    2019-01-01  \n",
       "2  By PTIJAMNAGAR: Five members of a family, incl...    2019-01-01  \n",
       "3  Harpreet Bajwa ByExpress News ServiceCHANDIGAR...    2019-01-01  \n",
       "4  By IANSNEW DELHI: Making resolutions and sched...    2019-01-01  "
      ]
     },
     "execution_count": 5,
     "metadata": {},
     "output_type": "execute_result"
    }
   ],
   "source": [
    "df_2019.head()"
   ]
  },
  {
   "cell_type": "code",
   "execution_count": 6,
   "metadata": {
    "scrolled": false
   },
   "outputs": [],
   "source": [
    "df_2018 = pd.read_csv(filename_2018, usecols=['articleTitle',  'articleUrl', 'publishedDate','sourceName','text'])"
   ]
  },
  {
   "cell_type": "code",
   "execution_count": 7,
   "metadata": {},
   "outputs": [],
   "source": [
    "keywords = [\"pest attack\", \"pest\", \"Maharashtra\"]#, \"Haryana\"]"
   ]
  },
  {
   "cell_type": "code",
   "execution_count": 8,
   "metadata": {},
   "outputs": [],
   "source": [
    "def get_cotton_data(df):\n",
    "    mask = np.column_stack([df[col].str.contains(\"cotton\", na=False) for col in df])\n",
    "    commodity_data = df.loc[mask.any(axis=1)]\n",
    "    mask = np.column_stack([commodity_data[col].str.contains(\"|\".join(keywords), na=False) for col in commodity_data])\n",
    "    specific_news_cotton_data = commodity_data.loc[mask.any(axis=1)]\n",
    "    return specific_news_cotton_data"
   ]
  },
  {
   "cell_type": "code",
   "execution_count": 9,
   "metadata": {},
   "outputs": [],
   "source": [
    "df_2019 = get_cotton_data(df_2019)\n",
    "df_2018 = get_cotton_data(df_2018)"
   ]
  },
  {
   "cell_type": "code",
   "execution_count": 10,
   "metadata": {},
   "outputs": [],
   "source": [
    "df_2019[\"publishedDate\"] = pd.to_datetime(df_2019[\"publishedDate\"])\n",
    "df_2018[\"publishedDate\"] = pd.to_datetime(df_2018[\"publishedDate\"])"
   ]
  },
  {
   "cell_type": "code",
   "execution_count": null,
   "metadata": {
    "scrolled": true
   },
   "outputs": [],
   "source": [
    "specific_news_cotton_data.dtypes"
   ]
  },
  {
   "cell_type": "code",
   "execution_count": 11,
   "metadata": {},
   "outputs": [
    {
     "ename": "NameError",
     "evalue": "name 'specific_news_cotton_data' is not defined",
     "output_type": "error",
     "traceback": [
      "\u001b[0;31m---------------------------------------------------------------------------\u001b[0m",
      "\u001b[0;31mNameError\u001b[0m                                 Traceback (most recent call last)",
      "\u001b[0;32m<ipython-input-11-2ae4958698ba>\u001b[0m in \u001b[0;36m<module>\u001b[0;34m\u001b[0m\n\u001b[0;32m----> 1\u001b[0;31m \u001b[0mspecific_news_cotton_data\u001b[0m\u001b[0;34m[\u001b[0m\u001b[0;34m\"publishedOn\"\u001b[0m\u001b[0;34m]\u001b[0m \u001b[0;34m=\u001b[0m \u001b[0mpd\u001b[0m\u001b[0;34m.\u001b[0m\u001b[0mto_datetime\u001b[0m\u001b[0;34m(\u001b[0m\u001b[0mspecific_news_cotton_data\u001b[0m\u001b[0;34m[\u001b[0m\u001b[0;34m\"publishedOn\"\u001b[0m\u001b[0;34m]\u001b[0m\u001b[0;34m)\u001b[0m\u001b[0;34m\u001b[0m\u001b[0;34m\u001b[0m\u001b[0m\n\u001b[0m",
      "\u001b[0;31mNameError\u001b[0m: name 'specific_news_cotton_data' is not defined"
     ]
    }
   ],
   "source": [
    "specific_news_cotton_data[\"publishedOn\"] = pd.to_datetime(specific_news_cotton_data[\"publishedOn\"])"
   ]
  },
  {
   "cell_type": "code",
   "execution_count": null,
   "metadata": {
    "scrolled": true
   },
   "outputs": [],
   "source": [
    "specific_news_cotton_data.dtypes"
   ]
  },
  {
   "cell_type": "code",
   "execution_count": null,
   "metadata": {},
   "outputs": [],
   "source": [
    "specific_news_cotton_data.head()"
   ]
  },
  {
   "cell_type": "code",
   "execution_count": 12,
   "metadata": {},
   "outputs": [],
   "source": [
    "temp_df_2019 = df_2019.set_index(\"publishedDate\")\n",
    "temp_df_2018 = df_2018.set_index(\"publishedDate\")"
   ]
  },
  {
   "cell_type": "code",
   "execution_count": 13,
   "metadata": {},
   "outputs": [],
   "source": [
    "temp_list_2019 = temp_df_2019.index.month.tolist()\n",
    "temp_list_2018 = temp_df_2018.index.month.tolist()"
   ]
  },
  {
   "cell_type": "code",
   "execution_count": 14,
   "metadata": {},
   "outputs": [
    {
     "data": {
      "text/plain": [
       "{1: 16, 2: 18, 3: 7, 4: 20, 5: 31, 6: 48, 7: 42, 8: 39, 9: 27, 10: 32, 11: 28}"
      ]
     },
     "execution_count": 14,
     "metadata": {},
     "output_type": "execute_result"
    }
   ],
   "source": [
    "frequency_dict_2019 = dict(Counter(temp_df_2019.index.month.tolist()))\n",
    "frequency_dict_2019"
   ]
  },
  {
   "cell_type": "code",
   "execution_count": 15,
   "metadata": {},
   "outputs": [
    {
     "name": "stdout",
     "output_type": "stream",
     "text": [
      "4\n",
      "5\n",
      "6\n",
      "7\n",
      "8\n",
      "9\n",
      "10\n",
      "11\n"
     ]
    },
    {
     "data": {
      "text/plain": [
       "267"
      ]
     },
     "execution_count": 15,
     "metadata": {},
     "output_type": "execute_result"
    }
   ],
   "source": [
    "news_articles_2019 = 0\n",
    "for key,value in frequency_dict_2019.items():\n",
    "    if key >=4:\n",
    "        print(key)\n",
    "        news_articles_2019 += value\n",
    "news_articles_2019"
   ]
  },
  {
   "cell_type": "code",
   "execution_count": 16,
   "metadata": {
    "scrolled": true
   },
   "outputs": [
    {
     "data": {
      "image/png": "[encoded data removed]",
      "text/plain": [
       "<Figure size 792x288 with 1 Axes>"
      ]
     },
     "metadata": {},
     "output_type": "display_data"
    }
   ],
   "source": [
    "df = pd.DataFrame({'freq_2019': temp_list_2019})\n",
    "df.groupby('freq_2019', as_index=False).size().plot(kind='bar')\n",
    "plt.show()"
   ]
  },
  {
   "cell_type": "code",
   "execution_count": 17,
   "metadata": {},
   "outputs": [
    {
     "data": {
      "text/plain": [
       "{1: 44, 4: 33, 3: 38, 2: 44, 5: 30, 6: 9, 7: 5, 12: 14, 11: 17, 10: 7}"
      ]
     },
     "execution_count": 17,
     "metadata": {},
     "output_type": "execute_result"
    }
   ],
   "source": [
    "frequency_dict_2018 = dict(Counter(temp_df_2018.index.month.tolist()))\n",
    "frequency_dict_2018"
   ]
  },
  {
   "cell_type": "code",
   "execution_count": 18,
   "metadata": {},
   "outputs": [
    {
     "name": "stdout",
     "output_type": "stream",
     "text": [
      "4\n",
      "5\n",
      "6\n",
      "7\n",
      "12\n",
      "11\n",
      "10\n"
     ]
    },
    {
     "data": {
      "text/plain": [
       "115"
      ]
     },
     "execution_count": 18,
     "metadata": {},
     "output_type": "execute_result"
    }
   ],
   "source": [
    "news_articles_2018 = 0\n",
    "for key,value in frequency_dict_2018.items():\n",
    "    if key >=4:\n",
    "        print(key)\n",
    "        news_articles_2018 += value\n",
    "news_articles_2018"
   ]
  },
  {
   "cell_type": "code",
   "execution_count": 19,
   "metadata": {},
   "outputs": [
    {
     "data": {
      "image/png": "[encoded data removed]",
      "text/plain": [
       "<Figure size 792x288 with 1 Axes>"
      ]
     },
     "metadata": {},
     "output_type": "display_data"
    }
   ],
   "source": [
    "df = pd.DataFrame({'freq_2018': temp_list_2018})\n",
    "df.groupby('freq_2018', as_index=False).size().plot(kind='bar')\n",
    "plt.show()"
   ]
  },
  {
   "cell_type": "code",
   "execution_count": null,
   "metadata": {},
   "outputs": [],
   "source": [
    "price_2019 = pd.read_csv(\"data/cotton-price/Cotton/Maharashtra/mynewdata_2019_January.csv\")\n",
    "price_2020 = pd.read_csv(\"data/cotton-price/Cotton/Maharashtra/mynewdata_2020_January.csv\")"
   ]
  },
  {
   "cell_type": "code",
   "execution_count": null,
   "metadata": {},
   "outputs": [],
   "source": [
    "price_2019.replace(\"NR\", 0)\n",
    "price_2019.head()"
   ]
  },
  {
   "cell_type": "code",
   "execution_count": null,
   "metadata": {},
   "outputs": [],
   "source": [
    "price_2019['Variety'].unique()"
   ]
  },
  {
   "cell_type": "code",
   "execution_count": null,
   "metadata": {},
   "outputs": [],
   "source": [
    "price_2020['Minimum Price(Rs./Quintal)'] = pd.to_numeric(price_2020['Minimum Price(Rs./Quintal)'], errors=\"coerce\")\n",
    "price_2020['Maximum Price(Rs./Quintal)'] = pd.to_numeric(price_2020['Maximum Price(Rs./Quintal)'], errors=\"coerce\")\n",
    "\n",
    "price_2019['Minimum Price(Rs./Quintal)'] = pd.to_numeric(price_2019['Minimum Price(Rs./Quintal)'], errors=\"coerce\")\n",
    "price_2019['Maximum Price(Rs./Quintal)'] = pd.to_numeric(price_2019['Maximum Price(Rs./Quintal)'], errors=\"coerce\")"
   ]
  },
  {
   "cell_type": "code",
   "execution_count": null,
   "metadata": {
    "scrolled": false
   },
   "outputs": [],
   "source": [
    "price_2019.dtypes"
   ]
  },
  {
   "cell_type": "code",
   "execution_count": null,
   "metadata": {},
   "outputs": [],
   "source": [
    "price_2020.dtypes"
   ]
  },
  {
   "cell_type": "code",
   "execution_count": null,
   "metadata": {},
   "outputs": [],
   "source": [
    "price_2019.describe()"
   ]
  },
  {
   "cell_type": "code",
   "execution_count": null,
   "metadata": {
    "scrolled": true
   },
   "outputs": [],
   "source": [
    "price_2020.describe()"
   ]
  },
  {
   "cell_type": "code",
   "execution_count": null,
   "metadata": {},
   "outputs": [],
   "source": [
    "price_feb_2019 = pd.read_csv(\"data/cotton-price/Cotton/Maharashtra/mynewdata_2019_February.csv\")\n",
    "price_feb_2020 = pd.read_csv(\"data/cotton-price/Cotton/Maharashtra/mynewdata_2020_February.csv\")"
   ]
  },
  {
   "cell_type": "code",
   "execution_count": null,
   "metadata": {},
   "outputs": [],
   "source": [
    "price_feb_2020['Minimum Price(Rs./Quintal)'] = pd.to_numeric(price_feb_2020['Minimum Price(Rs./Quintal)'], errors=\"coerce\")\n",
    "price_feb_2020['Maximum Price(Rs./Quintal)'] = pd.to_numeric(price_feb_2020['Maximum Price(Rs./Quintal)'], errors=\"coerce\")\n",
    "\n",
    "price_feb_2019['Minimum Price(Rs./Quintal)'] = pd.to_numeric(price_feb_2019['Minimum Price(Rs./Quintal)'], errors=\"coerce\")\n",
    "price_feb_2019['Maximum Price(Rs./Quintal)'] = pd.to_numeric(price_feb_2019['Maximum Price(Rs./Quintal)'], errors=\"coerce\")"
   ]
  },
  {
   "cell_type": "code",
   "execution_count": null,
   "metadata": {},
   "outputs": [],
   "source": [
    "price_feb_2020.describe()"
   ]
  },
  {
   "cell_type": "code",
   "execution_count": null,
   "metadata": {},
   "outputs": [],
   "source": [
    "price_feb_2019.describe()"
   ]
  },
  {
   "cell_type": "code",
   "execution_count": null,
   "metadata": {},
   "outputs": [],
   "source": [
    "price_july_2019 = pd.read_csv(\"data/cotton-price/Cotton/Maharashtra/mynewdata_2019_July.csv\")\n",
    "price_aug_2019 = pd.read_csv(\"data/cotton-price/Cotton/Maharashtra/mynewdata_2019_August.csv\")\n",
    "price_sept_2019 = pd.read_csv(\"data/cotton-price/Cotton/Maharashtra/mynewdata_2019_September.csv\")"
   ]
  },
  {
   "cell_type": "code",
   "execution_count": null,
   "metadata": {},
   "outputs": [],
   "source": [
    "price_july_2019['Minimum Price(Rs./Quintal)'] = pd.to_numeric(price_july_2019['Minimum Price(Rs./Quintal)'], errors=\"coerce\")\n",
    "price_july_2019['Maximum Price(Rs./Quintal)'] = pd.to_numeric(price_july_2019['Maximum Price(Rs./Quintal)'], errors=\"coerce\")\n",
    "\n",
    "price_aug_2019['Minimum Price(Rs./Quintal)'] = pd.to_numeric(price_aug_2019['Minimum Price(Rs./Quintal)'], errors=\"coerce\")\n",
    "price_aug_2019['Maximum Price(Rs./Quintal)'] = pd.to_numeric(price_aug_2019['Maximum Price(Rs./Quintal)'], errors=\"coerce\")\n",
    "\n",
    "price_sept_2019['Minimum Price(Rs./Quintal)'] = pd.to_numeric(price_sept_2019['Minimum Price(Rs./Quintal)'], errors=\"coerce\")\n",
    "price_sept_2019['Maximum Price(Rs./Quintal)'] = pd.to_numeric(price_sept_2019['Maximum Price(Rs./Quintal)'], errors=\"coerce\")"
   ]
  },
  {
   "cell_type": "code",
   "execution_count": null,
   "metadata": {},
   "outputs": [],
   "source": [
    "price_aug_2019.describe()"
   ]
  },
  {
   "cell_type": "code",
   "execution_count": null,
   "metadata": {},
   "outputs": [],
   "source": [
    "price_sept_2019.describe()"
   ]
  },
  {
   "cell_type": "code",
   "execution_count": null,
   "metadata": {},
   "outputs": [],
   "source": [
    "price_july_2019.describe()"
   ]
  },
  {
   "cell_type": "code",
   "execution_count": null,
   "metadata": {},
   "outputs": [],
   "source": [
    "price_july_2019['Minimum Price(Rs./Quintal)'].mean()"
   ]
  },
  {
   "cell_type": "code",
   "execution_count": null,
   "metadata": {},
   "outputs": [],
   "source": [
    "months = ['January','February','March','April','May','June','July','August','September','October','November','December']"
   ]
  },
  {
   "cell_type": "code",
   "execution_count": null,
   "metadata": {},
   "outputs": [],
   "source": [
    "def get_avg_price(state, month, year):\n",
    "    min_price = 0\n",
    "    max_price = 0\n",
    "    arrival_volumes = 0\n",
    "    try:\n",
    "        df = pd.read_csv(\"data/cotton-price/Cotton/{0}/mynewdata_{2}_{1}.csv\".format(state, month, year))\n",
    "        print(\"Number of data points for {0} in {1}, {2} is: {3}\".format(state, month, year,df.shape))\n",
    "        df['Minimum Price(Rs./Quintal)'] = pd.to_numeric(df['Minimum Price(Rs./Quintal)'], errors=\"coerce\")\n",
    "        df['Maximum Price(Rs./Quintal)'] = pd.to_numeric(df['Maximum Price(Rs./Quintal)'], errors=\"coerce\")\n",
    "        print(\"Average Minimum Price for {0} in {1}, {2} is: {3}\".format(state, month, year, df['Minimum Price(Rs./Quintal)'].mean()))\n",
    "        print(\"Average Maximum Price for {0} in {1}, {2} is: {3}\".format(state, month, year, df['Maximum Price(Rs./Quintal)'].mean()))\n",
    "#         return df['Minimum Price(Rs./Quintal)'].mean(), df['Maximum Price(Rs./Quintal)'].mean()\n",
    "        print(\"Average Arrival Volumes for {0} in {1}, {2} is: {3}\".format(state, month, year, df['Arrivals (Tonnes)'].mean()))\n",
    "        min_price = df['Minimum Price(Rs./Quintal)'].mean()\n",
    "        max_price = df['Maximum Price(Rs./Quintal)'].mean()\n",
    "        arrival_volumes = df['Arrivals (Tonnes)'].mean()\n",
    "    except:\n",
    "        print(\"Error for {0}, {1}, {2}\".format(state, month, year))\n",
    "    return min_price, max_price, arrival_volumes"
   ]
  },
  {
   "cell_type": "code",
   "execution_count": null,
   "metadata": {},
   "outputs": [],
   "source": [
    "min_price = [] \n",
    "max_price = []\n",
    "arrival_volumes = []"
   ]
  },
  {
   "cell_type": "code",
   "execution_count": null,
   "metadata": {},
   "outputs": [],
   "source": [
    "for month in months:\n",
    "    temp_min_price, temp_max_price, temp_arrival_volume = get_avg_price(\"Maharashtra\", month, \"2019\")\n",
    "    min_price.append(temp_min_price)\n",
    "    max_price.append(temp_max_price)\n",
    "    arrival_volumes.append(temp_arrival_volume)"
   ]
  },
  {
   "cell_type": "code",
   "execution_count": null,
   "metadata": {
    "scrolled": true
   },
   "outputs": [],
   "source": [
    "plt.plot(months, min_price)\n",
    "plt.title('Average Min Price Vs Month(2019)')\n",
    "plt.xlabel('Month')\n",
    "plt.ylabel('Average Min Price')\n",
    "plt.show()"
   ]
  },
  {
   "cell_type": "code",
   "execution_count": null,
   "metadata": {},
   "outputs": [],
   "source": [
    "plt.plot(months, max_price)\n",
    "plt.title('Average Max Price Vs Month(2019)')\n",
    "plt.xlabel('Month')\n",
    "plt.ylabel('Average Min Price')\n",
    "plt.show()"
   ]
  },
  {
   "cell_type": "code",
   "execution_count": null,
   "metadata": {},
   "outputs": [],
   "source": [
    "plt.plot(months, arrival_volumes)\n",
    "plt.title('Average Arrival Volumes Vs Month(2019)')\n",
    "plt.xlabel('Month')\n",
    "plt.ylabel('Average Arrival Volumes')\n",
    "plt.show()"
   ]
  },
  {
   "cell_type": "code",
   "execution_count": null,
   "metadata": {},
   "outputs": [],
   "source": [
    "min_price = [] \n",
    "max_price = []\n",
    "arrival_volumes = []\n",
    "for month in months:\n",
    "    temp_min_price, temp_max_price, temp_arrival_volume = get_avg_price(\"Maharashtra\", month, \"2018\")\n",
    "    min_price.append(temp_min_price)\n",
    "    max_price.append(temp_max_price)\n",
    "    arrival_volumes.append(temp_arrival_volume)\n",
    "plt.plot(months, min_price)\n",
    "plt.title('Average Min Price Vs Month(2018)')\n",
    "plt.xlabel('Month')\n",
    "plt.ylabel('Average Min Price')\n",
    "plt.show()\n",
    "plt.plot(months, max_price)\n",
    "plt.title('Average Max Price Vs Month(2018)')\n",
    "plt.xlabel('Month')\n",
    "plt.ylabel('Average Min Price')\n",
    "plt.show()\n",
    "plt.plot(months, arrival_volumes)\n",
    "plt.title('Average Arrival Volumes Vs Month(2018)')\n",
    "plt.xlabel('Month')\n",
    "plt.ylabel('Average Arrival Volumes')\n",
    "plt.show()"
   ]
  },
  {
   "cell_type": "code",
   "execution_count": 2,
   "metadata": {},
   "outputs": [],
   "source": [
    "base_data_path = \"data/cotton-price/Cotton/\""
   ]
  },
  {
   "cell_type": "code",
   "execution_count": 3,
   "metadata": {},
   "outputs": [],
   "source": [
    "cotton_data_punjab = base_data_path + \"Punjab/\""
   ]
  },
  {
   "cell_type": "code",
   "execution_count": 87,
   "metadata": {},
   "outputs": [],
   "source": [
    "files = glob.glob(cotton_data_punjab + '*.csv')\n",
    "df = pd.concat([pd.read_csv(fp) for fp in files], ignore_index=True)"
   ]
  },
  {
   "cell_type": "code",
   "execution_count": 88,
   "metadata": {},
   "outputs": [
    {
     "data": {
      "text/plain": [
       "4246"
      ]
     },
     "execution_count": 88,
     "metadata": {},
     "output_type": "execute_result"
    }
   ],
   "source": [
    "len(df)"
   ]
  },
  {
   "cell_type": "code",
   "execution_count": 89,
   "metadata": {},
   "outputs": [
    {
     "data": {
      "text/html": [
       "<div>\n",
       "<style scoped>\n",
       "    .dataframe tbody tr th:only-of-type {\n",
       "        vertical-align: middle;\n",
       "    }\n",
       "\n",
       "    .dataframe tbody tr th {\n",
       "        vertical-align: top;\n",
       "    }\n",
       "\n",
       "    .dataframe thead th {\n",
       "        text-align: right;\n",
       "    }\n",
       "</style>\n",
       "<table border=\"1\" class=\"dataframe\">\n",
       "  <thead>\n",
       "    <tr style=\"text-align: right;\">\n",
       "      <th></th>\n",
       "      <th>Market</th>\n",
       "      <th>Arrival Date</th>\n",
       "      <th>Arrivals (Tonnes)</th>\n",
       "      <th>Variety</th>\n",
       "      <th>Minimum Price(Rs./Quintal)</th>\n",
       "      <th>Maximum Price(Rs./Quintal)</th>\n",
       "      <th>Modal Price(Rs./Quintal)</th>\n",
       "      <th>Unnamed: 7</th>\n",
       "    </tr>\n",
       "  </thead>\n",
       "  <tbody>\n",
       "    <tr>\n",
       "      <th>170</th>\n",
       "      <td>NaN</td>\n",
       "      <td>NaN</td>\n",
       "      <td>NaN</td>\n",
       "      <td>Narma BT Cotton</td>\n",
       "      <td>5040</td>\n",
       "      <td>5300</td>\n",
       "      <td>5235</td>\n",
       "      <td>NaN</td>\n",
       "    </tr>\n",
       "    <tr>\n",
       "      <th>172</th>\n",
       "      <td>NaN</td>\n",
       "      <td>NaN</td>\n",
       "      <td>NaN</td>\n",
       "      <td>Narma BT Cotton</td>\n",
       "      <td>5155</td>\n",
       "      <td>5350</td>\n",
       "      <td>5270</td>\n",
       "      <td>NaN</td>\n",
       "    </tr>\n",
       "    <tr>\n",
       "      <th>174</th>\n",
       "      <td>NaN</td>\n",
       "      <td>NaN</td>\n",
       "      <td>NaN</td>\n",
       "      <td>Narma BT Cotton</td>\n",
       "      <td>5220</td>\n",
       "      <td>5305</td>\n",
       "      <td>5285</td>\n",
       "      <td>NaN</td>\n",
       "    </tr>\n",
       "    <tr>\n",
       "      <th>176</th>\n",
       "      <td>NaN</td>\n",
       "      <td>NaN</td>\n",
       "      <td>NaN</td>\n",
       "      <td>Narma BT Cotton</td>\n",
       "      <td>5200</td>\n",
       "      <td>5300</td>\n",
       "      <td>5265</td>\n",
       "      <td>NaN</td>\n",
       "    </tr>\n",
       "    <tr>\n",
       "      <th>178</th>\n",
       "      <td>NaN</td>\n",
       "      <td>NaN</td>\n",
       "      <td>NaN</td>\n",
       "      <td>Narma BT Cotton</td>\n",
       "      <td>5250</td>\n",
       "      <td>5325</td>\n",
       "      <td>5290</td>\n",
       "      <td>NaN</td>\n",
       "    </tr>\n",
       "    <tr>\n",
       "      <th>...</th>\n",
       "      <td>...</td>\n",
       "      <td>...</td>\n",
       "      <td>...</td>\n",
       "      <td>...</td>\n",
       "      <td>...</td>\n",
       "      <td>...</td>\n",
       "      <td>...</td>\n",
       "      <td>...</td>\n",
       "    </tr>\n",
       "    <tr>\n",
       "      <th>4002</th>\n",
       "      <td>NaN</td>\n",
       "      <td>NaN</td>\n",
       "      <td>NaN</td>\n",
       "      <td>Narma BT Cotton</td>\n",
       "      <td>5256</td>\n",
       "      <td>5371</td>\n",
       "      <td>5356</td>\n",
       "      <td>NaN</td>\n",
       "    </tr>\n",
       "    <tr>\n",
       "      <th>4004</th>\n",
       "      <td>NaN</td>\n",
       "      <td>NaN</td>\n",
       "      <td>NaN</td>\n",
       "      <td>Narma BT Cotton</td>\n",
       "      <td>5250</td>\n",
       "      <td>5307</td>\n",
       "      <td>5299</td>\n",
       "      <td>NaN</td>\n",
       "    </tr>\n",
       "    <tr>\n",
       "      <th>4006</th>\n",
       "      <td>NaN</td>\n",
       "      <td>NaN</td>\n",
       "      <td>NaN</td>\n",
       "      <td>Narma BT Cotton</td>\n",
       "      <td>5230</td>\n",
       "      <td>5330</td>\n",
       "      <td>5300</td>\n",
       "      <td>NaN</td>\n",
       "    </tr>\n",
       "    <tr>\n",
       "      <th>4204</th>\n",
       "      <td>NaN</td>\n",
       "      <td>NaN</td>\n",
       "      <td>NaN</td>\n",
       "      <td>Cotton (Unginned)</td>\n",
       "      <td>5200</td>\n",
       "      <td>5200</td>\n",
       "      <td>5200</td>\n",
       "      <td>NaN</td>\n",
       "    </tr>\n",
       "    <tr>\n",
       "      <th>4206</th>\n",
       "      <td>NaN</td>\n",
       "      <td>NaN</td>\n",
       "      <td>NaN</td>\n",
       "      <td>Cotton (Unginned)</td>\n",
       "      <td>5200</td>\n",
       "      <td>5200</td>\n",
       "      <td>5200</td>\n",
       "      <td>NaN</td>\n",
       "    </tr>\n",
       "  </tbody>\n",
       "</table>\n",
       "<p>197 rows × 8 columns</p>\n",
       "</div>"
      ],
      "text/plain": [
       "     Market Arrival Date  Arrivals (Tonnes)            Variety  \\\n",
       "170     NaN          NaN                NaN    Narma BT Cotton   \n",
       "172     NaN          NaN                NaN    Narma BT Cotton   \n",
       "174     NaN          NaN                NaN    Narma BT Cotton   \n",
       "176     NaN          NaN                NaN    Narma BT Cotton   \n",
       "178     NaN          NaN                NaN    Narma BT Cotton   \n",
       "...     ...          ...                ...                ...   \n",
       "4002    NaN          NaN                NaN    Narma BT Cotton   \n",
       "4004    NaN          NaN                NaN    Narma BT Cotton   \n",
       "4006    NaN          NaN                NaN    Narma BT Cotton   \n",
       "4204    NaN          NaN                NaN  Cotton (Unginned)   \n",
       "4206    NaN          NaN                NaN  Cotton (Unginned)   \n",
       "\n",
       "     Minimum Price(Rs./Quintal) Maximum Price(Rs./Quintal)  \\\n",
       "170                        5040                       5300   \n",
       "172                        5155                       5350   \n",
       "174                        5220                       5305   \n",
       "176                        5200                       5300   \n",
       "178                        5250                       5325   \n",
       "...                         ...                        ...   \n",
       "4002                       5256                       5371   \n",
       "4004                       5250                       5307   \n",
       "4006                       5230                       5330   \n",
       "4204                       5200                       5200   \n",
       "4206                       5200                       5200   \n",
       "\n",
       "     Modal Price(Rs./Quintal)  Unnamed: 7  \n",
       "170                      5235         NaN  \n",
       "172                      5270         NaN  \n",
       "174                      5285         NaN  \n",
       "176                      5265         NaN  \n",
       "178                      5290         NaN  \n",
       "...                       ...         ...  \n",
       "4002                     5356         NaN  \n",
       "4004                     5299         NaN  \n",
       "4006                     5300         NaN  \n",
       "4204                     5200         NaN  \n",
       "4206                     5200         NaN  \n",
       "\n",
       "[197 rows x 8 columns]"
      ]
     },
     "execution_count": 89,
     "metadata": {},
     "output_type": "execute_result"
    }
   ],
   "source": [
    "df[df['Arrival Date'].isnull()]"
   ]
  },
  {
   "cell_type": "code",
   "execution_count": 67,
   "metadata": {
    "scrolled": true
   },
   "outputs": [
    {
     "data": {
      "text/plain": [
       "Market                         object\n",
       "Arrival Date                   object\n",
       "Arrivals (Tonnes)             float64\n",
       "Variety                        object\n",
       "Minimum Price(Rs./Quintal)     object\n",
       "Maximum Price(Rs./Quintal)     object\n",
       "Modal Price(Rs./Quintal)       object\n",
       "Unnamed: 7                    float64\n",
       "dtype: object"
      ]
     },
     "execution_count": 67,
     "metadata": {},
     "output_type": "execute_result"
    }
   ],
   "source": [
    "df.dtypes"
   ]
  },
  {
   "cell_type": "code",
   "execution_count": 68,
   "metadata": {},
   "outputs": [
    {
     "data": {
      "text/html": [
       "<div>\n",
       "<style scoped>\n",
       "    .dataframe tbody tr th:only-of-type {\n",
       "        vertical-align: middle;\n",
       "    }\n",
       "\n",
       "    .dataframe tbody tr th {\n",
       "        vertical-align: top;\n",
       "    }\n",
       "\n",
       "    .dataframe thead th {\n",
       "        text-align: right;\n",
       "    }\n",
       "</style>\n",
       "<table border=\"1\" class=\"dataframe\">\n",
       "  <thead>\n",
       "    <tr style=\"text-align: right;\">\n",
       "      <th></th>\n",
       "      <th>Market</th>\n",
       "      <th>Arrival Date</th>\n",
       "      <th>Arrivals (Tonnes)</th>\n",
       "      <th>Variety</th>\n",
       "      <th>Minimum Price(Rs./Quintal)</th>\n",
       "      <th>Maximum Price(Rs./Quintal)</th>\n",
       "      <th>Modal Price(Rs./Quintal)</th>\n",
       "      <th>Unnamed: 7</th>\n",
       "    </tr>\n",
       "  </thead>\n",
       "  <tbody>\n",
       "    <tr>\n",
       "      <th>0</th>\n",
       "      <td>Bareta</td>\n",
       "      <td>01/02/2020</td>\n",
       "      <td>15.9</td>\n",
       "      <td></td>\n",
       "      <td>NR</td>\n",
       "      <td>NR</td>\n",
       "      <td>NR</td>\n",
       "      <td>NaN</td>\n",
       "    </tr>\n",
       "    <tr>\n",
       "      <th>1</th>\n",
       "      <td>NaN</td>\n",
       "      <td>03/02/2020</td>\n",
       "      <td>12.5</td>\n",
       "      <td></td>\n",
       "      <td>NR</td>\n",
       "      <td>NR</td>\n",
       "      <td>NR</td>\n",
       "      <td>NaN</td>\n",
       "    </tr>\n",
       "    <tr>\n",
       "      <th>2</th>\n",
       "      <td>NaN</td>\n",
       "      <td>04/02/2020</td>\n",
       "      <td>13.5</td>\n",
       "      <td></td>\n",
       "      <td>NR</td>\n",
       "      <td>NR</td>\n",
       "      <td>NR</td>\n",
       "      <td>NaN</td>\n",
       "    </tr>\n",
       "    <tr>\n",
       "      <th>3</th>\n",
       "      <td>NaN</td>\n",
       "      <td>06/02/2020</td>\n",
       "      <td>8.5</td>\n",
       "      <td></td>\n",
       "      <td>NR</td>\n",
       "      <td>NR</td>\n",
       "      <td>NR</td>\n",
       "      <td>NaN</td>\n",
       "    </tr>\n",
       "    <tr>\n",
       "      <th>4</th>\n",
       "      <td>NaN</td>\n",
       "      <td>07/02/2020</td>\n",
       "      <td>6.6</td>\n",
       "      <td></td>\n",
       "      <td>NR</td>\n",
       "      <td>NR</td>\n",
       "      <td>NR</td>\n",
       "      <td>NaN</td>\n",
       "    </tr>\n",
       "  </tbody>\n",
       "</table>\n",
       "</div>"
      ],
      "text/plain": [
       "   Market Arrival Date  Arrivals (Tonnes) Variety Minimum Price(Rs./Quintal)  \\\n",
       "0  Bareta   01/02/2020               15.9                                 NR   \n",
       "1     NaN   03/02/2020               12.5                                 NR   \n",
       "2     NaN   04/02/2020               13.5                                 NR   \n",
       "3     NaN   06/02/2020                8.5                                 NR   \n",
       "4     NaN   07/02/2020                6.6                                 NR   \n",
       "\n",
       "  Maximum Price(Rs./Quintal) Modal Price(Rs./Quintal)  Unnamed: 7  \n",
       "0                         NR                       NR         NaN  \n",
       "1                         NR                       NR         NaN  \n",
       "2                         NR                       NR         NaN  \n",
       "3                         NR                       NR         NaN  \n",
       "4                         NR                       NR         NaN  "
      ]
     },
     "execution_count": 68,
     "metadata": {},
     "output_type": "execute_result"
    }
   ],
   "source": [
    "df.head()"
   ]
  },
  {
   "cell_type": "code",
   "execution_count": 69,
   "metadata": {},
   "outputs": [],
   "source": [
    "df = df.set_index(df['Arrival Date'])"
   ]
  },
  {
   "cell_type": "code",
   "execution_count": 70,
   "metadata": {},
   "outputs": [
    {
     "data": {
      "text/html": [
       "<div>\n",
       "<style scoped>\n",
       "    .dataframe tbody tr th:only-of-type {\n",
       "        vertical-align: middle;\n",
       "    }\n",
       "\n",
       "    .dataframe tbody tr th {\n",
       "        vertical-align: top;\n",
       "    }\n",
       "\n",
       "    .dataframe thead th {\n",
       "        text-align: right;\n",
       "    }\n",
       "</style>\n",
       "<table border=\"1\" class=\"dataframe\">\n",
       "  <thead>\n",
       "    <tr style=\"text-align: right;\">\n",
       "      <th></th>\n",
       "      <th>Market</th>\n",
       "      <th>Arrival Date</th>\n",
       "      <th>Arrivals (Tonnes)</th>\n",
       "      <th>Variety</th>\n",
       "      <th>Minimum Price(Rs./Quintal)</th>\n",
       "      <th>Maximum Price(Rs./Quintal)</th>\n",
       "      <th>Modal Price(Rs./Quintal)</th>\n",
       "      <th>Unnamed: 7</th>\n",
       "    </tr>\n",
       "    <tr>\n",
       "      <th>Arrival Date</th>\n",
       "      <th></th>\n",
       "      <th></th>\n",
       "      <th></th>\n",
       "      <th></th>\n",
       "      <th></th>\n",
       "      <th></th>\n",
       "      <th></th>\n",
       "      <th></th>\n",
       "    </tr>\n",
       "  </thead>\n",
       "  <tbody>\n",
       "    <tr>\n",
       "      <th>01/02/2020</th>\n",
       "      <td>Bareta</td>\n",
       "      <td>01/02/2020</td>\n",
       "      <td>15.9</td>\n",
       "      <td></td>\n",
       "      <td>NR</td>\n",
       "      <td>NR</td>\n",
       "      <td>NR</td>\n",
       "      <td>NaN</td>\n",
       "    </tr>\n",
       "    <tr>\n",
       "      <th>03/02/2020</th>\n",
       "      <td>NaN</td>\n",
       "      <td>03/02/2020</td>\n",
       "      <td>12.5</td>\n",
       "      <td></td>\n",
       "      <td>NR</td>\n",
       "      <td>NR</td>\n",
       "      <td>NR</td>\n",
       "      <td>NaN</td>\n",
       "    </tr>\n",
       "    <tr>\n",
       "      <th>04/02/2020</th>\n",
       "      <td>NaN</td>\n",
       "      <td>04/02/2020</td>\n",
       "      <td>13.5</td>\n",
       "      <td></td>\n",
       "      <td>NR</td>\n",
       "      <td>NR</td>\n",
       "      <td>NR</td>\n",
       "      <td>NaN</td>\n",
       "    </tr>\n",
       "    <tr>\n",
       "      <th>06/02/2020</th>\n",
       "      <td>NaN</td>\n",
       "      <td>06/02/2020</td>\n",
       "      <td>8.5</td>\n",
       "      <td></td>\n",
       "      <td>NR</td>\n",
       "      <td>NR</td>\n",
       "      <td>NR</td>\n",
       "      <td>NaN</td>\n",
       "    </tr>\n",
       "    <tr>\n",
       "      <th>07/02/2020</th>\n",
       "      <td>NaN</td>\n",
       "      <td>07/02/2020</td>\n",
       "      <td>6.6</td>\n",
       "      <td></td>\n",
       "      <td>NR</td>\n",
       "      <td>NR</td>\n",
       "      <td>NR</td>\n",
       "      <td>NaN</td>\n",
       "    </tr>\n",
       "  </tbody>\n",
       "</table>\n",
       "</div>"
      ],
      "text/plain": [
       "              Market Arrival Date  Arrivals (Tonnes) Variety  \\\n",
       "Arrival Date                                                   \n",
       "01/02/2020    Bareta   01/02/2020               15.9           \n",
       "03/02/2020       NaN   03/02/2020               12.5           \n",
       "04/02/2020       NaN   04/02/2020               13.5           \n",
       "06/02/2020       NaN   06/02/2020                8.5           \n",
       "07/02/2020       NaN   07/02/2020                6.6           \n",
       "\n",
       "             Minimum Price(Rs./Quintal) Maximum Price(Rs./Quintal)  \\\n",
       "Arrival Date                                                         \n",
       "01/02/2020                           NR                         NR   \n",
       "03/02/2020                           NR                         NR   \n",
       "04/02/2020                           NR                         NR   \n",
       "06/02/2020                           NR                         NR   \n",
       "07/02/2020                           NR                         NR   \n",
       "\n",
       "             Modal Price(Rs./Quintal)  Unnamed: 7  \n",
       "Arrival Date                                       \n",
       "01/02/2020                         NR         NaN  \n",
       "03/02/2020                         NR         NaN  \n",
       "04/02/2020                         NR         NaN  \n",
       "06/02/2020                         NR         NaN  \n",
       "07/02/2020                         NR         NaN  "
      ]
     },
     "execution_count": 70,
     "metadata": {},
     "output_type": "execute_result"
    }
   ],
   "source": [
    "df.head()"
   ]
  },
  {
   "cell_type": "code",
   "execution_count": 71,
   "metadata": {},
   "outputs": [],
   "source": [
    "df.index = pd.to_datetime(df.index)"
   ]
  },
  {
   "cell_type": "code",
   "execution_count": 72,
   "metadata": {},
   "outputs": [
    {
     "data": {
      "text/plain": [
       "Market                         object\n",
       "Arrival Date                   object\n",
       "Arrivals (Tonnes)             float64\n",
       "Variety                        object\n",
       "Minimum Price(Rs./Quintal)     object\n",
       "Maximum Price(Rs./Quintal)     object\n",
       "Modal Price(Rs./Quintal)       object\n",
       "Unnamed: 7                    float64\n",
       "dtype: object"
      ]
     },
     "execution_count": 72,
     "metadata": {},
     "output_type": "execute_result"
    }
   ],
   "source": [
    "df.dtypes"
   ]
  },
  {
   "cell_type": "code",
   "execution_count": 73,
   "metadata": {},
   "outputs": [
    {
     "data": {
      "text/html": [
       "<div>\n",
       "<style scoped>\n",
       "    .dataframe tbody tr th:only-of-type {\n",
       "        vertical-align: middle;\n",
       "    }\n",
       "\n",
       "    .dataframe tbody tr th {\n",
       "        vertical-align: top;\n",
       "    }\n",
       "\n",
       "    .dataframe thead th {\n",
       "        text-align: right;\n",
       "    }\n",
       "</style>\n",
       "<table border=\"1\" class=\"dataframe\">\n",
       "  <thead>\n",
       "    <tr style=\"text-align: right;\">\n",
       "      <th></th>\n",
       "      <th>Market</th>\n",
       "      <th>Arrival Date</th>\n",
       "      <th>Arrivals (Tonnes)</th>\n",
       "      <th>Variety</th>\n",
       "      <th>Minimum Price(Rs./Quintal)</th>\n",
       "      <th>Maximum Price(Rs./Quintal)</th>\n",
       "      <th>Modal Price(Rs./Quintal)</th>\n",
       "      <th>Unnamed: 7</th>\n",
       "    </tr>\n",
       "    <tr>\n",
       "      <th>Arrival Date</th>\n",
       "      <th></th>\n",
       "      <th></th>\n",
       "      <th></th>\n",
       "      <th></th>\n",
       "      <th></th>\n",
       "      <th></th>\n",
       "      <th></th>\n",
       "      <th></th>\n",
       "    </tr>\n",
       "  </thead>\n",
       "  <tbody>\n",
       "    <tr>\n",
       "      <th>2020-01-02</th>\n",
       "      <td>Bareta</td>\n",
       "      <td>01/02/2020</td>\n",
       "      <td>15.9</td>\n",
       "      <td></td>\n",
       "      <td>NR</td>\n",
       "      <td>NR</td>\n",
       "      <td>NR</td>\n",
       "      <td>NaN</td>\n",
       "    </tr>\n",
       "    <tr>\n",
       "      <th>2020-03-02</th>\n",
       "      <td>NaN</td>\n",
       "      <td>03/02/2020</td>\n",
       "      <td>12.5</td>\n",
       "      <td></td>\n",
       "      <td>NR</td>\n",
       "      <td>NR</td>\n",
       "      <td>NR</td>\n",
       "      <td>NaN</td>\n",
       "    </tr>\n",
       "    <tr>\n",
       "      <th>2020-04-02</th>\n",
       "      <td>NaN</td>\n",
       "      <td>04/02/2020</td>\n",
       "      <td>13.5</td>\n",
       "      <td></td>\n",
       "      <td>NR</td>\n",
       "      <td>NR</td>\n",
       "      <td>NR</td>\n",
       "      <td>NaN</td>\n",
       "    </tr>\n",
       "    <tr>\n",
       "      <th>2020-06-02</th>\n",
       "      <td>NaN</td>\n",
       "      <td>06/02/2020</td>\n",
       "      <td>8.5</td>\n",
       "      <td></td>\n",
       "      <td>NR</td>\n",
       "      <td>NR</td>\n",
       "      <td>NR</td>\n",
       "      <td>NaN</td>\n",
       "    </tr>\n",
       "    <tr>\n",
       "      <th>2020-07-02</th>\n",
       "      <td>NaN</td>\n",
       "      <td>07/02/2020</td>\n",
       "      <td>6.6</td>\n",
       "      <td></td>\n",
       "      <td>NR</td>\n",
       "      <td>NR</td>\n",
       "      <td>NR</td>\n",
       "      <td>NaN</td>\n",
       "    </tr>\n",
       "  </tbody>\n",
       "</table>\n",
       "</div>"
      ],
      "text/plain": [
       "              Market Arrival Date  Arrivals (Tonnes) Variety  \\\n",
       "Arrival Date                                                   \n",
       "2020-01-02    Bareta   01/02/2020               15.9           \n",
       "2020-03-02       NaN   03/02/2020               12.5           \n",
       "2020-04-02       NaN   04/02/2020               13.5           \n",
       "2020-06-02       NaN   06/02/2020                8.5           \n",
       "2020-07-02       NaN   07/02/2020                6.6           \n",
       "\n",
       "             Minimum Price(Rs./Quintal) Maximum Price(Rs./Quintal)  \\\n",
       "Arrival Date                                                         \n",
       "2020-01-02                           NR                         NR   \n",
       "2020-03-02                           NR                         NR   \n",
       "2020-04-02                           NR                         NR   \n",
       "2020-06-02                           NR                         NR   \n",
       "2020-07-02                           NR                         NR   \n",
       "\n",
       "             Modal Price(Rs./Quintal)  Unnamed: 7  \n",
       "Arrival Date                                       \n",
       "2020-01-02                         NR         NaN  \n",
       "2020-03-02                         NR         NaN  \n",
       "2020-04-02                         NR         NaN  \n",
       "2020-06-02                         NR         NaN  \n",
       "2020-07-02                         NR         NaN  "
      ]
     },
     "execution_count": 73,
     "metadata": {},
     "output_type": "execute_result"
    }
   ],
   "source": [
    "df.head()"
   ]
  },
  {
   "cell_type": "code",
   "execution_count": 82,
   "metadata": {},
   "outputs": [
    {
     "data": {
      "text/plain": [
       "197"
      ]
     },
     "execution_count": 82,
     "metadata": {},
     "output_type": "execute_result"
    }
   ],
   "source": [
    "df['Arrival Date'].isna().sum()"
   ]
  },
  {
   "cell_type": "code",
   "execution_count": 86,
   "metadata": {},
   "outputs": [
    {
     "data": {
      "text/html": [
       "<div>\n",
       "<style scoped>\n",
       "    .dataframe tbody tr th:only-of-type {\n",
       "        vertical-align: middle;\n",
       "    }\n",
       "\n",
       "    .dataframe tbody tr th {\n",
       "        vertical-align: top;\n",
       "    }\n",
       "\n",
       "    .dataframe thead th {\n",
       "        text-align: right;\n",
       "    }\n",
       "</style>\n",
       "<table border=\"1\" class=\"dataframe\">\n",
       "  <thead>\n",
       "    <tr style=\"text-align: right;\">\n",
       "      <th></th>\n",
       "      <th>Market</th>\n",
       "      <th>Arrival Date</th>\n",
       "      <th>Arrivals (Tonnes)</th>\n",
       "      <th>Variety</th>\n",
       "      <th>Minimum Price(Rs./Quintal)</th>\n",
       "      <th>Maximum Price(Rs./Quintal)</th>\n",
       "      <th>Modal Price(Rs./Quintal)</th>\n",
       "      <th>Unnamed: 7</th>\n",
       "    </tr>\n",
       "    <tr>\n",
       "      <th>Arrival Date</th>\n",
       "      <th></th>\n",
       "      <th></th>\n",
       "      <th></th>\n",
       "      <th></th>\n",
       "      <th></th>\n",
       "      <th></th>\n",
       "      <th></th>\n",
       "      <th></th>\n",
       "    </tr>\n",
       "  </thead>\n",
       "  <tbody>\n",
       "    <tr>\n",
       "      <th>NaT</th>\n",
       "      <td>NaN</td>\n",
       "      <td>NaN</td>\n",
       "      <td>NaN</td>\n",
       "      <td>Narma BT Cotton</td>\n",
       "      <td>5040</td>\n",
       "      <td>5300</td>\n",
       "      <td>5235</td>\n",
       "      <td>NaN</td>\n",
       "    </tr>\n",
       "    <tr>\n",
       "      <th>NaT</th>\n",
       "      <td>NaN</td>\n",
       "      <td>NaN</td>\n",
       "      <td>NaN</td>\n",
       "      <td>Narma BT Cotton</td>\n",
       "      <td>5155</td>\n",
       "      <td>5350</td>\n",
       "      <td>5270</td>\n",
       "      <td>NaN</td>\n",
       "    </tr>\n",
       "    <tr>\n",
       "      <th>NaT</th>\n",
       "      <td>NaN</td>\n",
       "      <td>NaN</td>\n",
       "      <td>NaN</td>\n",
       "      <td>Narma BT Cotton</td>\n",
       "      <td>5220</td>\n",
       "      <td>5305</td>\n",
       "      <td>5285</td>\n",
       "      <td>NaN</td>\n",
       "    </tr>\n",
       "    <tr>\n",
       "      <th>NaT</th>\n",
       "      <td>NaN</td>\n",
       "      <td>NaN</td>\n",
       "      <td>NaN</td>\n",
       "      <td>Narma BT Cotton</td>\n",
       "      <td>5200</td>\n",
       "      <td>5300</td>\n",
       "      <td>5265</td>\n",
       "      <td>NaN</td>\n",
       "    </tr>\n",
       "    <tr>\n",
       "      <th>NaT</th>\n",
       "      <td>NaN</td>\n",
       "      <td>NaN</td>\n",
       "      <td>NaN</td>\n",
       "      <td>Narma BT Cotton</td>\n",
       "      <td>5250</td>\n",
       "      <td>5325</td>\n",
       "      <td>5290</td>\n",
       "      <td>NaN</td>\n",
       "    </tr>\n",
       "    <tr>\n",
       "      <th>...</th>\n",
       "      <td>...</td>\n",
       "      <td>...</td>\n",
       "      <td>...</td>\n",
       "      <td>...</td>\n",
       "      <td>...</td>\n",
       "      <td>...</td>\n",
       "      <td>...</td>\n",
       "      <td>...</td>\n",
       "    </tr>\n",
       "    <tr>\n",
       "      <th>NaT</th>\n",
       "      <td>NaN</td>\n",
       "      <td>NaN</td>\n",
       "      <td>NaN</td>\n",
       "      <td>Narma BT Cotton</td>\n",
       "      <td>5256</td>\n",
       "      <td>5371</td>\n",
       "      <td>5356</td>\n",
       "      <td>NaN</td>\n",
       "    </tr>\n",
       "    <tr>\n",
       "      <th>NaT</th>\n",
       "      <td>NaN</td>\n",
       "      <td>NaN</td>\n",
       "      <td>NaN</td>\n",
       "      <td>Narma BT Cotton</td>\n",
       "      <td>5250</td>\n",
       "      <td>5307</td>\n",
       "      <td>5299</td>\n",
       "      <td>NaN</td>\n",
       "    </tr>\n",
       "    <tr>\n",
       "      <th>NaT</th>\n",
       "      <td>NaN</td>\n",
       "      <td>NaN</td>\n",
       "      <td>NaN</td>\n",
       "      <td>Narma BT Cotton</td>\n",
       "      <td>5230</td>\n",
       "      <td>5330</td>\n",
       "      <td>5300</td>\n",
       "      <td>NaN</td>\n",
       "    </tr>\n",
       "    <tr>\n",
       "      <th>NaT</th>\n",
       "      <td>NaN</td>\n",
       "      <td>NaN</td>\n",
       "      <td>NaN</td>\n",
       "      <td>Cotton (Unginned)</td>\n",
       "      <td>5200</td>\n",
       "      <td>5200</td>\n",
       "      <td>5200</td>\n",
       "      <td>NaN</td>\n",
       "    </tr>\n",
       "    <tr>\n",
       "      <th>NaT</th>\n",
       "      <td>NaN</td>\n",
       "      <td>NaN</td>\n",
       "      <td>NaN</td>\n",
       "      <td>Cotton (Unginned)</td>\n",
       "      <td>5200</td>\n",
       "      <td>5200</td>\n",
       "      <td>5200</td>\n",
       "      <td>NaN</td>\n",
       "    </tr>\n",
       "  </tbody>\n",
       "</table>\n",
       "<p>197 rows × 8 columns</p>\n",
       "</div>"
      ],
      "text/plain": [
       "             Market Arrival Date  Arrivals (Tonnes)            Variety  \\\n",
       "Arrival Date                                                             \n",
       "NaT             NaN          NaN                NaN    Narma BT Cotton   \n",
       "NaT             NaN          NaN                NaN    Narma BT Cotton   \n",
       "NaT             NaN          NaN                NaN    Narma BT Cotton   \n",
       "NaT             NaN          NaN                NaN    Narma BT Cotton   \n",
       "NaT             NaN          NaN                NaN    Narma BT Cotton   \n",
       "...             ...          ...                ...                ...   \n",
       "NaT             NaN          NaN                NaN    Narma BT Cotton   \n",
       "NaT             NaN          NaN                NaN    Narma BT Cotton   \n",
       "NaT             NaN          NaN                NaN    Narma BT Cotton   \n",
       "NaT             NaN          NaN                NaN  Cotton (Unginned)   \n",
       "NaT             NaN          NaN                NaN  Cotton (Unginned)   \n",
       "\n",
       "             Minimum Price(Rs./Quintal) Maximum Price(Rs./Quintal)  \\\n",
       "Arrival Date                                                         \n",
       "NaT                                5040                       5300   \n",
       "NaT                                5155                       5350   \n",
       "NaT                                5220                       5305   \n",
       "NaT                                5200                       5300   \n",
       "NaT                                5250                       5325   \n",
       "...                                 ...                        ...   \n",
       "NaT                                5256                       5371   \n",
       "NaT                                5250                       5307   \n",
       "NaT                                5230                       5330   \n",
       "NaT                                5200                       5200   \n",
       "NaT                                5200                       5200   \n",
       "\n",
       "             Modal Price(Rs./Quintal)  Unnamed: 7  \n",
       "Arrival Date                                       \n",
       "NaT                              5235         NaN  \n",
       "NaT                              5270         NaN  \n",
       "NaT                              5285         NaN  \n",
       "NaT                              5265         NaN  \n",
       "NaT                              5290         NaN  \n",
       "...                               ...         ...  \n",
       "NaT                              5356         NaN  \n",
       "NaT                              5299         NaN  \n",
       "NaT                              5300         NaN  \n",
       "NaT                              5200         NaN  \n",
       "NaT                              5200         NaN  \n",
       "\n",
       "[197 rows x 8 columns]"
      ]
     },
     "execution_count": 86,
     "metadata": {},
     "output_type": "execute_result"
    }
   ],
   "source": [
    "df[df['Arrival Date'].isnull()]"
   ]
  },
  {
   "cell_type": "code",
   "execution_count": 74,
   "metadata": {},
   "outputs": [
    {
     "data": {
      "text/plain": [
       "292.0"
      ]
     },
     "execution_count": 74,
     "metadata": {},
     "output_type": "execute_result"
    }
   ],
   "source": [
    "df['Minimum Price(Rs./Quintal)'].str.count(\"NR\").sum()"
   ]
  },
  {
   "cell_type": "code",
   "execution_count": 75,
   "metadata": {},
   "outputs": [],
   "source": [
    "temp_df = df.copy()"
   ]
  },
  {
   "cell_type": "code",
   "execution_count": 76,
   "metadata": {},
   "outputs": [],
   "source": [
    " temp_df.drop(temp_df.columns.difference(['Minimum Price(Rs./Quintal)']), 1, inplace=True)"
   ]
  },
  {
   "cell_type": "code",
   "execution_count": 77,
   "metadata": {},
   "outputs": [],
   "source": [
    "temp_df.sort_index(inplace=True)"
   ]
  },
  {
   "cell_type": "code",
   "execution_count": 78,
   "metadata": {
    "scrolled": true
   },
   "outputs": [
    {
     "data": {
      "text/html": [
       "<div>\n",
       "<style scoped>\n",
       "    .dataframe tbody tr th:only-of-type {\n",
       "        vertical-align: middle;\n",
       "    }\n",
       "\n",
       "    .dataframe tbody tr th {\n",
       "        vertical-align: top;\n",
       "    }\n",
       "\n",
       "    .dataframe thead th {\n",
       "        text-align: right;\n",
       "    }\n",
       "</style>\n",
       "<table border=\"1\" class=\"dataframe\">\n",
       "  <thead>\n",
       "    <tr style=\"text-align: right;\">\n",
       "      <th></th>\n",
       "      <th>Minimum Price(Rs./Quintal)</th>\n",
       "    </tr>\n",
       "    <tr>\n",
       "      <th>Arrival Date</th>\n",
       "      <th></th>\n",
       "    </tr>\n",
       "  </thead>\n",
       "  <tbody>\n",
       "    <tr>\n",
       "      <th>2018-01-01</th>\n",
       "      <td>4400</td>\n",
       "    </tr>\n",
       "    <tr>\n",
       "      <th>2018-01-01</th>\n",
       "      <td>4600</td>\n",
       "    </tr>\n",
       "    <tr>\n",
       "      <th>2018-01-01</th>\n",
       "      <td>4175</td>\n",
       "    </tr>\n",
       "    <tr>\n",
       "      <th>2018-01-01</th>\n",
       "      <td>4000</td>\n",
       "    </tr>\n",
       "    <tr>\n",
       "      <th>2018-01-01</th>\n",
       "      <td>4800</td>\n",
       "    </tr>\n",
       "  </tbody>\n",
       "</table>\n",
       "</div>"
      ],
      "text/plain": [
       "             Minimum Price(Rs./Quintal)\n",
       "Arrival Date                           \n",
       "2018-01-01                         4400\n",
       "2018-01-01                         4600\n",
       "2018-01-01                         4175\n",
       "2018-01-01                         4000\n",
       "2018-01-01                         4800"
      ]
     },
     "execution_count": 78,
     "metadata": {},
     "output_type": "execute_result"
    }
   ],
   "source": [
    "temp_df.head()"
   ]
  },
  {
   "cell_type": "code",
   "execution_count": 80,
   "metadata": {},
   "outputs": [
    {
     "data": {
      "text/plain": [
       "197"
      ]
     },
     "execution_count": 80,
     "metadata": {},
     "output_type": "execute_result"
    }
   ],
   "source": [
    "temp_df.index.isna().sum()"
   ]
  },
  {
   "cell_type": "code",
   "execution_count": 40,
   "metadata": {},
   "outputs": [
    {
     "data": {
      "text/plain": [
       "dtype('<M8[ns]')"
      ]
     },
     "execution_count": 40,
     "metadata": {},
     "output_type": "execute_result"
    }
   ],
   "source": [
    "temp_df.index.dtype"
   ]
  },
  {
   "cell_type": "code",
   "execution_count": 37,
   "metadata": {},
   "outputs": [],
   "source": [
    "temp_df = temp_df.replace('NR', 0)"
   ]
  },
  {
   "cell_type": "code",
   "execution_count": 50,
   "metadata": {},
   "outputs": [
    {
     "data": {
      "text/plain": [
       "Float64Index([ 1.0,  3.0,  4.0,  6.0,  7.0,  8.0, 10.0, 11.0, 12.0,  2.0,\n",
       "              ...\n",
       "               4.0,  3.0,  3.0,  4.0,  5.0,  6.0,  7.0,  9.0, 12.0,  4.0],\n",
       "             dtype='float64', name='Arrival Date', length=4246)"
      ]
     },
     "execution_count": 50,
     "metadata": {},
     "output_type": "execute_result"
    }
   ],
   "source": [
    "temp_df.index.month"
   ]
  },
  {
   "cell_type": "code",
   "execution_count": 61,
   "metadata": {
    "scrolled": true
   },
   "outputs": [],
   "source": [
    "temp_df = temp_df.groupby(temp_df.index.month)"
   ]
  },
  {
   "cell_type": "code",
   "execution_count": 62,
   "metadata": {},
   "outputs": [
    {
     "data": {
      "text/html": [
       "<div>\n",
       "<style scoped>\n",
       "    .dataframe tbody tr th:only-of-type {\n",
       "        vertical-align: middle;\n",
       "    }\n",
       "\n",
       "    .dataframe tbody tr th {\n",
       "        vertical-align: top;\n",
       "    }\n",
       "\n",
       "    .dataframe thead th {\n",
       "        text-align: right;\n",
       "    }\n",
       "</style>\n",
       "<table border=\"1\" class=\"dataframe\">\n",
       "  <thead>\n",
       "    <tr style=\"text-align: right;\">\n",
       "      <th></th>\n",
       "      <th>Minimum Price(Rs./Quintal)</th>\n",
       "    </tr>\n",
       "    <tr>\n",
       "      <th>Arrival Date</th>\n",
       "      <th></th>\n",
       "    </tr>\n",
       "  </thead>\n",
       "  <tbody>\n",
       "    <tr>\n",
       "      <th>2018-01-01</th>\n",
       "      <td>4400</td>\n",
       "    </tr>\n",
       "    <tr>\n",
       "      <th>2018-01-01</th>\n",
       "      <td>4600</td>\n",
       "    </tr>\n",
       "    <tr>\n",
       "      <th>2018-01-01</th>\n",
       "      <td>4175</td>\n",
       "    </tr>\n",
       "    <tr>\n",
       "      <th>2018-01-01</th>\n",
       "      <td>4000</td>\n",
       "    </tr>\n",
       "    <tr>\n",
       "      <th>2018-01-01</th>\n",
       "      <td>4800</td>\n",
       "    </tr>\n",
       "    <tr>\n",
       "      <th>...</th>\n",
       "      <td>...</td>\n",
       "    </tr>\n",
       "    <tr>\n",
       "      <th>NaT</th>\n",
       "      <td>5040</td>\n",
       "    </tr>\n",
       "    <tr>\n",
       "      <th>NaT</th>\n",
       "      <td>5155</td>\n",
       "    </tr>\n",
       "    <tr>\n",
       "      <th>NaT</th>\n",
       "      <td>5220</td>\n",
       "    </tr>\n",
       "    <tr>\n",
       "      <th>NaT</th>\n",
       "      <td>5200</td>\n",
       "    </tr>\n",
       "    <tr>\n",
       "      <th>NaT</th>\n",
       "      <td>5250</td>\n",
       "    </tr>\n",
       "  </tbody>\n",
       "</table>\n",
       "<p>65 rows × 1 columns</p>\n",
       "</div>"
      ],
      "text/plain": [
       "             Minimum Price(Rs./Quintal)\n",
       "Arrival Date                           \n",
       "2018-01-01                         4400\n",
       "2018-01-01                         4600\n",
       "2018-01-01                         4175\n",
       "2018-01-01                         4000\n",
       "2018-01-01                         4800\n",
       "...                                 ...\n",
       "NaT                                5040\n",
       "NaT                                5155\n",
       "NaT                                5220\n",
       "NaT                                5200\n",
       "NaT                                5250\n",
       "\n",
       "[65 rows x 1 columns]"
      ]
     },
     "execution_count": 62,
     "metadata": {},
     "output_type": "execute_result"
    }
   ],
   "source": [
    "temp_df.head()"
   ]
  },
  {
   "cell_type": "code",
   "execution_count": 48,
   "metadata": {},
   "outputs": [
    {
     "data": {
      "image/png": "[encoded data removed]",
      "text/plain": [
       "<Figure size 792x288 with 4 Axes>"
      ]
     },
     "metadata": {},
     "output_type": "display_data"
    }
   ],
   "source": [
    "from matplotlib import pyplot\n",
    "from statsmodels.tsa.seasonal import seasonal_decompose\n",
    "# series = read_csv('airline-passengers.csv', header=0, index_col=0)\n",
    "result = seasonal_decompose(temp_df, model='additive', period=365)\n",
    "result.plot()\n",
    "pyplot.show()\n"
   ]
  }
 ],
 "metadata": {
  "kernelspec": {
   "display_name": "Python 3",
   "language": "python",
   "name": "python3"
  },
  "language_info": {
   "codemirror_mode": {
    "name": "ipython",
    "version": 3
   },
   "file_extension": ".py",
   "mimetype": "text/x-python",
   "name": "python",
   "nbconvert_exporter": "python",
   "pygments_lexer": "ipython3",
   "version": "3.7.7"
  }
 },
 "nbformat": 4,
 "nbformat_minor": 2
}

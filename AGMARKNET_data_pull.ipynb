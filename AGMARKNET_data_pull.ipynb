{
 "cells": [
  {
   "cell_type": "markdown",
   "metadata": {
    "colab_type": "text",
    "id": "FNXFMipb2YMb"
   },
   "source": [
    "## Selenium needed for web crawling"
   ]
  },
  {
   "cell_type": "code",
   "execution_count": 1,
   "metadata": {
    "colab": {},
    "colab_type": "code",
    "id": "SsJ0mF_r2Wmo"
   },
   "outputs": [
    {
     "name": "stdout",
     "output_type": "stream",
     "text": [
      "Collecting selenium\n",
      "  Downloading selenium-3.141.0-py2.py3-none-any.whl (904 kB)\n",
      "\u001b[K     |████████████████████████████████| 904 kB 4.2 MB/s eta 0:00:01\n",
      "\u001b[?25hRequirement already satisfied: urllib3 in /home/mathuryash5/toolkits/anaconda3/envs/tf_gpu/lib/python3.7/site-packages (from selenium) (1.25.8)\n",
      "Installing collected packages: selenium\n",
      "Successfully installed selenium-3.141.0\n",
      "Note: you may need to restart the kernel to use updated packages.\n"
     ]
    }
   ],
   "source": [
    "pip install selenium"
   ]
  },
  {
   "cell_type": "markdown",
   "metadata": {
    "colab_type": "text",
    "id": "i0g93n6o2iqC"
   },
   "source": [
    "### Installing drivers for using Selenium"
   ]
  },
  {
   "cell_type": "code",
   "execution_count": 2,
   "metadata": {
    "colab": {
     "base_uri": "https://localhost:8080/",
     "height": 1000
    },
    "colab_type": "code",
    "id": "qxH-14jQDCXT",
    "outputId": "9098f46f-1098-4237-c228-c1e32b00a15f",
    "scrolled": false
   },
   "outputs": [
    {
     "name": "stdout",
     "output_type": "stream",
     "text": [
      "Reading package lists... Done\n",
      "E: Could not open lock file /var/lib/apt/lists/lock - open (13: Permission denied)\n",
      "E: Unable to lock directory /var/lib/apt/lists/\n",
      "W: Problem unlinking the file /var/cache/apt/pkgcache.bin - RemoveCaches (13: Permission denied)\n",
      "W: Problem unlinking the file /var/cache/apt/srcpkgcache.bin - RemoveCaches (13: Permission denied)\n",
      "\u001b[1;31mE: \u001b[0mCould not open lock file /var/lib/dpkg/lock-frontend - open (13: Permission denied)\u001b[0m\n",
      "\u001b[1;31mE: \u001b[0mUnable to acquire the dpkg frontend lock (/var/lib/dpkg/lock-frontend), are you root?\u001b[0m\n"
     ]
    }
   ],
   "source": [
    "!apt-get update \n",
    "!apt install chromium-chromedriver"
   ]
  },
  {
   "cell_type": "markdown",
   "metadata": {
    "colab_type": "text",
    "id": "-CV0NF6T2qD0"
   },
   "source": [
    "## Exception handling classes "
   ]
  },
  {
   "cell_type": "code",
   "execution_count": 1,
   "metadata": {
    "colab": {},
    "colab_type": "code",
    "id": "ZrkxKU3B2aIe"
   },
   "outputs": [],
   "source": [
    "from selenium import webdriver\n",
    "from selenium.common.exceptions import NoSuchElementException\n",
    "from selenium.common.exceptions import StaleElementReferenceException\n",
    "import os\n",
    "# from state_map import state_map\n",
    "from os import path\n",
    "from selenium.common.exceptions import TimeoutException"
   ]
  },
  {
   "cell_type": "markdown",
   "metadata": {
    "colab_type": "text",
    "id": "q1kVUTbJ20Ys"
   },
   "source": [
    "### Mandatory for pulling data on server"
   ]
  },
  {
   "cell_type": "code",
   "execution_count": 2,
   "metadata": {
    "colab": {},
    "colab_type": "code",
    "id": "WPZdkcnL3pCq"
   },
   "outputs": [],
   "source": [
    "chrome_options = webdriver.ChromeOptions()\n",
    "chrome_options.add_argument('--no-sandbox')\n",
    "chrome_options.add_argument('--window-size=1420,1080')\n",
    "chrome_options.add_argument('--headless')\n",
    "chrome_options.add_argument('--disable-gpu')"
   ]
  },
  {
   "cell_type": "markdown",
   "metadata": {
    "colab_type": "text",
    "id": "Gf9G5cZE3BWJ"
   },
   "source": [
    "### Master Function for pulling data from AGMARKNET website and saving it to a location folder/Var(Commodity)/Var(State)/mynewdata_Var(year)_Var(month).csv"
   ]
  },
  {
   "cell_type": "markdown",
   "metadata": {
    "colab_type": "text",
    "id": "Md1RVvTi4foN"
   },
   "source": [
    "#### If a file already exists, it will not be downloaded again to all dynamic stopping"
   ]
  },
  {
   "cell_type": "code",
   "execution_count": 3,
   "metadata": {
    "colab": {},
    "colab_type": "code",
    "id": "rHqDHN3D2AHp"
   },
   "outputs": [],
   "source": [
    "chrome_location = '/content/chromedriver'\n",
    "\n",
    "def downloadWholesaleData(commodity,centres,start_year,end_year,months):\n",
    "        rootfolder = 'folders/'+str(commodity)\n",
    "        if not os.path.exists(rootfolder):\n",
    "                print(rootfolder,' does not exist')\n",
    "                os.makedirs(rootfolder)\n",
    "        else:\n",
    "                print(rootfolder,' exists')\n",
    "        for centre in centres:\n",
    "                folderPath = rootfolder+'/'+str(centre)\n",
    "                if not os.path.exists(folderPath):\n",
    "                        print(folderPath,' not exists')\n",
    "                        os.makedirs(folderPath)\n",
    "                else:\n",
    "                        print(folderPath,' exists')\n",
    "                print(centre, commodity)\n",
    "                for year in range(start_year,end_year+1):\n",
    "                        for month in months:\n",
    "                                print(year,month,centre,commodity)\n",
    "                                fileName = \"mynewdata\"+\"_\"+str(year)+\"_\"+str(month)+\".csv\"\n",
    "                                filePath = folderPath + \"/\" + fileName\n",
    "                                print('file to open',filePath)\n",
    "                                print(path.exists(filePath))\n",
    "                                if path.exists(filePath):\n",
    "                                    print(filePath, \" Exist\")\n",
    "                                    continue\n",
    "                                print(\"After\")\n",
    "                                #print(\"TRYING TO DOWNLOAD THIS FILE\",fileName, end =\" \")                                \n",
    "                                driver = webdriver.Chrome(chrome_options=chrome_options)\n",
    "  \n",
    "                                for t in range(3):\n",
    "                                        try:\n",
    "                                                print(\"inside try, t=\", t)\n",
    "                                                try_left = 3\n",
    "                                                driver.set_page_load_timeout(10)\n",
    "                                                while True:\n",
    "                                                        try:\n",
    "                                                            print(\"driver.get\")\n",
    "                                                            driver.get(\"https://agmarknet.gov.in/PriceAndArrivals/DatewiseCommodityReport.aspx\")\n",
    "                                                            break\n",
    "                                                        except TimeoutException:\n",
    "                                                            print(\"Timeout exveption\")\n",
    "                                                            try_left-=1\n",
    "                                                            driver.execute_script(\"window.stop();\")\n",
    "                                                            if try_left<=0:\n",
    "                                                                print(\"Timeout loading url\")\n",
    "                                                                break\n",
    "\n",
    "                                                driver.set_page_load_timeout(600)\n",
    "                                                #driver.get('http://agmarknet.gov.in/PriceAndArrivals/DatewiseCommodityReport.aspx')\n",
    "                                                print('YEAR', end=\" \")\n",
    "                                                driver.find_element_by_xpath(\"//*[@id=\\\"cphBody_cboYear\\\"]/option[contains(text(),\\\"\"+str(year)+\"\\\")]\").click()\n",
    "                                                driver.implicitly_wait(400)\n",
    "                                                print('MONTH', end=\" \")\n",
    "                                                flag = False\n",
    "                                                for k in range(5):\n",
    "                                                        try:\n",
    "                                                            driver.find_element_by_xpath(\"//*[@id=\\\"cphBody_cboMonth\\\"]/option[contains(text(),\\\"\"+str(month)+\"\\\")]\").click()\n",
    "                                                            driver.implicitly_wait(400)\n",
    "                                                            flag = True\n",
    "                                                            break\n",
    "                                                        except (StaleElementReferenceException) as x:\n",
    "                                                            k+=1\n",
    "                                                if(not flag):\n",
    "                                                        continue\n",
    "                                                print('STATE', end=\" \")\n",
    "                                                flag = False\n",
    "                                                for k in range(5):\n",
    "                                                        try:\n",
    "                                                                driver.find_element_by_xpath(\"//*[@id=\\\"cphBody_cboState\\\"]/option[contains(text(),\\\"\"+str(centre)+\"\\\")]\").click()\n",
    "                                                                driver.implicitly_wait(400)\n",
    "                                                                flag = True\n",
    "                                                                break\n",
    "                                                        except (StaleElementReferenceException) as x:\n",
    "                                                                k+=1\n",
    "                                                if(not flag):\n",
    "                                                        continue\n",
    "                                                print('COMMODITY', end=\" \")\n",
    "                                                flag = False\n",
    "                                                for k in range(5):\n",
    "                                                        try:\n",
    "                                                            driver.find_element_by_xpath(\"//*[@id=\\\"cphBody_cboCommodity\\\"]/option[contains(text(),\\\"\"+str(commodity)+\"\\\")]\").click()\n",
    "                                                            driver.implicitly_wait(400)\n",
    "                                                            flag = True\n",
    "                                                            break\n",
    "                                                        except (StaleElementReferenceException) as x:\n",
    "                                                            k+=1\n",
    "                                                if(not flag):\n",
    "                                                        continue\n",
    "                                                print('downloading data', end =' ')\n",
    "                                                driver.find_element_by_xpath(\"//*[@id=\\\"cphBody_btnSubmit\\\"]\").click()\n",
    "                                                table = driver.find_element_by_xpath(\"//*[@id=\\\"cphBody_gridRecords\\\"]\")\n",
    "                                                rows = table.find_elements_by_tag_name(\"tr\")\n",
    "                                                st = ''\n",
    "                                                count=0\n",
    "                                                for row in rows:\n",
    "                                                        cells = row.find_elements_by_xpath(\".//*[local-name(.)='th' or local-name(.)='td']\")\n",
    "                                                        for cell in cells:\n",
    "                                                            st += cell.text+','\n",
    "                                                        st+='\\n'\n",
    "                                                myfile= open(filePath,'a')\n",
    "                                                myfile.write(st)\n",
    "                                                myfile.close()\n",
    "                                                print(\"saved\")\n",
    "                                                print(month+ \"completed\", end=\" \")\n",
    "                                                driver.close()\n",
    "                                                break\n",
    "                                        except(NoSuchElementException,StaleElementReferenceException) as e:\n",
    "                                                print(\"Exception\")\n",
    "                                                continue\n",
    "                                try:\n",
    "                                        driver.close()\n",
    "                                except:\n",
    "                                        print('BROWSER ALREADY CLOSED')"
   ]
  },
  {
   "cell_type": "markdown",
   "metadata": {
    "colab_type": "text",
    "id": "UKMBrFTw32BC"
   },
   "source": [
    "## Function call, all variable instances picked from AGMARKNET website e.g. Gujarat, January, etc."
   ]
  },
  {
   "cell_type": "code",
   "execution_count": 25,
   "metadata": {
    "colab": {},
    "colab_type": "code",
    "id": "YKd4AvWm2Uhm"
   },
   "outputs": [],
   "source": [
    "commodity = \"Cotton\"\n",
    "start_year = 2010\n",
    "end_year = 2020\n",
    "# centres = state_map[commodity]\n",
    "centres = ['Tamil Nadu']\n",
    "months = ['January','February','March','April','May','June','July','August','September','October','November','December']"
   ]
  },
  {
   "cell_type": "code",
   "execution_count": 26,
   "metadata": {
    "colab": {
     "base_uri": "https://localhost:8080/",
     "height": 1000
    },
    "colab_type": "code",
    "id": "cWnz6VXyA21W",
    "outputId": "d4d3bea6-79b6-4e3f-b546-936e6e1ded4a",
    "scrolled": true
   },
   "outputs": [
    {
     "name": "stdout",
     "output_type": "stream",
     "text": [
      "folders/Cotton  exists\n",
      "folders/Cotton/Tamil Nadu  not exists\n",
      "Tamil Nadu Cotton\n",
      "2010 January Tamil Nadu Cotton\n",
      "file to open folders/Cotton/Tamil Nadu/mynewdata_2010_January.csv\n",
      "False\n",
      "After\n"
     ]
    },
    {
     "name": "stderr",
     "output_type": "stream",
     "text": [
      "/home/mathuryash5/toolkits/anaconda3/envs/tf_gpu/lib/python3.7/site-packages/ipykernel_launcher.py:30: DeprecationWarning: use options instead of chrome_options\n"
     ]
    },
    {
     "name": "stdout",
     "output_type": "stream",
     "text": [
      "inside try, t= 0\n",
      "driver.get\n",
      "YEAR MONTH STATE COMMODITY downloading data saved\n",
      "Januarycompleted BROWSER ALREADY CLOSED\n",
      "2010 February Tamil Nadu Cotton\n",
      "file to open folders/Cotton/Tamil Nadu/mynewdata_2010_February.csv\n",
      "False\n",
      "After\n"
     ]
    },
    {
     "name": "stderr",
     "output_type": "stream",
     "text": [
      "/home/mathuryash5/toolkits/anaconda3/envs/tf_gpu/lib/python3.7/site-packages/ipykernel_launcher.py:30: DeprecationWarning: use options instead of chrome_options\n"
     ]
    },
    {
     "name": "stdout",
     "output_type": "stream",
     "text": [
      "inside try, t= 0\n",
      "driver.get\n",
      "YEAR MONTH STATE COMMODITY downloading data saved\n",
      "Februarycompleted BROWSER ALREADY CLOSED\n",
      "2010 March Tamil Nadu Cotton\n",
      "file to open folders/Cotton/Tamil Nadu/mynewdata_2010_March.csv\n",
      "False\n",
      "After\n"
     ]
    },
    {
     "name": "stderr",
     "output_type": "stream",
     "text": [
      "/home/mathuryash5/toolkits/anaconda3/envs/tf_gpu/lib/python3.7/site-packages/ipykernel_launcher.py:30: DeprecationWarning: use options instead of chrome_options\n"
     ]
    },
    {
     "name": "stdout",
     "output_type": "stream",
     "text": [
      "inside try, t= 0\n",
      "driver.get\n",
      "YEAR MONTH STATE COMMODITY downloading data saved\n",
      "Marchcompleted BROWSER ALREADY CLOSED\n",
      "2010 April Tamil Nadu Cotton\n",
      "file to open folders/Cotton/Tamil Nadu/mynewdata_2010_April.csv\n",
      "False\n",
      "After\n"
     ]
    },
    {
     "name": "stderr",
     "output_type": "stream",
     "text": [
      "/home/mathuryash5/toolkits/anaconda3/envs/tf_gpu/lib/python3.7/site-packages/ipykernel_launcher.py:30: DeprecationWarning: use options instead of chrome_options\n"
     ]
    },
    {
     "name": "stdout",
     "output_type": "stream",
     "text": [
      "inside try, t= 0\n",
      "driver.get\n",
      "YEAR MONTH STATE COMMODITY downloading data saved\n",
      "Aprilcompleted BROWSER ALREADY CLOSED\n",
      "2010 May Tamil Nadu Cotton\n",
      "file to open folders/Cotton/Tamil Nadu/mynewdata_2010_May.csv\n",
      "False\n",
      "After\n"
     ]
    },
    {
     "name": "stderr",
     "output_type": "stream",
     "text": [
      "/home/mathuryash5/toolkits/anaconda3/envs/tf_gpu/lib/python3.7/site-packages/ipykernel_launcher.py:30: DeprecationWarning: use options instead of chrome_options\n"
     ]
    },
    {
     "name": "stdout",
     "output_type": "stream",
     "text": [
      "inside try, t= 0\n",
      "driver.get\n",
      "YEAR MONTH STATE COMMODITY downloading data saved\n",
      "Maycompleted BROWSER ALREADY CLOSED\n",
      "2010 June Tamil Nadu Cotton\n",
      "file to open folders/Cotton/Tamil Nadu/mynewdata_2010_June.csv\n",
      "False\n",
      "After\n"
     ]
    },
    {
     "name": "stderr",
     "output_type": "stream",
     "text": [
      "/home/mathuryash5/toolkits/anaconda3/envs/tf_gpu/lib/python3.7/site-packages/ipykernel_launcher.py:30: DeprecationWarning: use options instead of chrome_options\n"
     ]
    },
    {
     "name": "stdout",
     "output_type": "stream",
     "text": [
      "inside try, t= 0\n",
      "driver.get\n",
      "YEAR MONTH STATE COMMODITY downloading data saved\n",
      "Junecompleted BROWSER ALREADY CLOSED\n",
      "2010 July Tamil Nadu Cotton\n",
      "file to open folders/Cotton/Tamil Nadu/mynewdata_2010_July.csv\n",
      "False\n",
      "After\n"
     ]
    },
    {
     "name": "stderr",
     "output_type": "stream",
     "text": [
      "/home/mathuryash5/toolkits/anaconda3/envs/tf_gpu/lib/python3.7/site-packages/ipykernel_launcher.py:30: DeprecationWarning: use options instead of chrome_options\n"
     ]
    },
    {
     "name": "stdout",
     "output_type": "stream",
     "text": [
      "inside try, t= 0\n",
      "driver.get\n",
      "YEAR MONTH STATE COMMODITY downloading data saved\n",
      "Julycompleted BROWSER ALREADY CLOSED\n",
      "2010 August Tamil Nadu Cotton\n",
      "file to open folders/Cotton/Tamil Nadu/mynewdata_2010_August.csv\n",
      "False\n",
      "After\n"
     ]
    },
    {
     "name": "stderr",
     "output_type": "stream",
     "text": [
      "/home/mathuryash5/toolkits/anaconda3/envs/tf_gpu/lib/python3.7/site-packages/ipykernel_launcher.py:30: DeprecationWarning: use options instead of chrome_options\n"
     ]
    },
    {
     "name": "stdout",
     "output_type": "stream",
     "text": [
      "inside try, t= 0\n",
      "driver.get\n",
      "YEAR MONTH STATE COMMODITY downloading data saved\n",
      "Augustcompleted BROWSER ALREADY CLOSED\n",
      "2010 September Tamil Nadu Cotton\n",
      "file to open folders/Cotton/Tamil Nadu/mynewdata_2010_September.csv\n",
      "False\n",
      "After\n"
     ]
    },
    {
     "name": "stderr",
     "output_type": "stream",
     "text": [
      "/home/mathuryash5/toolkits/anaconda3/envs/tf_gpu/lib/python3.7/site-packages/ipykernel_launcher.py:30: DeprecationWarning: use options instead of chrome_options\n"
     ]
    },
    {
     "name": "stdout",
     "output_type": "stream",
     "text": [
      "inside try, t= 0\n",
      "driver.get\n",
      "YEAR MONTH STATE COMMODITY downloading data saved\n",
      "Septembercompleted BROWSER ALREADY CLOSED\n",
      "2010 October Tamil Nadu Cotton\n",
      "file to open folders/Cotton/Tamil Nadu/mynewdata_2010_October.csv\n",
      "False\n",
      "After\n"
     ]
    },
    {
     "name": "stderr",
     "output_type": "stream",
     "text": [
      "/home/mathuryash5/toolkits/anaconda3/envs/tf_gpu/lib/python3.7/site-packages/ipykernel_launcher.py:30: DeprecationWarning: use options instead of chrome_options\n"
     ]
    },
    {
     "name": "stdout",
     "output_type": "stream",
     "text": [
      "inside try, t= 0\n",
      "driver.get\n",
      "YEAR MONTH STATE COMMODITY downloading data saved\n",
      "Octobercompleted BROWSER ALREADY CLOSED\n",
      "2010 November Tamil Nadu Cotton\n",
      "file to open folders/Cotton/Tamil Nadu/mynewdata_2010_November.csv\n",
      "False\n",
      "After\n"
     ]
    },
    {
     "name": "stderr",
     "output_type": "stream",
     "text": [
      "/home/mathuryash5/toolkits/anaconda3/envs/tf_gpu/lib/python3.7/site-packages/ipykernel_launcher.py:30: DeprecationWarning: use options instead of chrome_options\n"
     ]
    },
    {
     "name": "stdout",
     "output_type": "stream",
     "text": [
      "inside try, t= 0\n",
      "driver.get\n",
      "YEAR MONTH STATE COMMODITY downloading data saved\n",
      "Novembercompleted BROWSER ALREADY CLOSED\n",
      "2010 December Tamil Nadu Cotton\n",
      "file to open folders/Cotton/Tamil Nadu/mynewdata_2010_December.csv\n",
      "False\n",
      "After\n"
     ]
    },
    {
     "name": "stderr",
     "output_type": "stream",
     "text": [
      "/home/mathuryash5/toolkits/anaconda3/envs/tf_gpu/lib/python3.7/site-packages/ipykernel_launcher.py:30: DeprecationWarning: use options instead of chrome_options\n"
     ]
    },
    {
     "name": "stdout",
     "output_type": "stream",
     "text": [
      "inside try, t= 0\n",
      "driver.get\n",
      "YEAR MONTH STATE COMMODITY downloading data saved\n",
      "Decembercompleted BROWSER ALREADY CLOSED\n",
      "2011 January Tamil Nadu Cotton\n",
      "file to open folders/Cotton/Tamil Nadu/mynewdata_2011_January.csv\n",
      "False\n",
      "After\n"
     ]
    },
    {
     "name": "stderr",
     "output_type": "stream",
     "text": [
      "/home/mathuryash5/toolkits/anaconda3/envs/tf_gpu/lib/python3.7/site-packages/ipykernel_launcher.py:30: DeprecationWarning: use options instead of chrome_options\n"
     ]
    },
    {
     "name": "stdout",
     "output_type": "stream",
     "text": [
      "inside try, t= 0\n",
      "driver.get\n",
      "YEAR MONTH STATE COMMODITY downloading data saved\n",
      "Januarycompleted BROWSER ALREADY CLOSED\n",
      "2011 February Tamil Nadu Cotton\n",
      "file to open folders/Cotton/Tamil Nadu/mynewdata_2011_February.csv\n",
      "False\n",
      "After\n"
     ]
    },
    {
     "name": "stderr",
     "output_type": "stream",
     "text": [
      "/home/mathuryash5/toolkits/anaconda3/envs/tf_gpu/lib/python3.7/site-packages/ipykernel_launcher.py:30: DeprecationWarning: use options instead of chrome_options\n"
     ]
    },
    {
     "name": "stdout",
     "output_type": "stream",
     "text": [
      "inside try, t= 0\n",
      "driver.get\n",
      "YEAR MONTH STATE COMMODITY downloading data saved\n",
      "Februarycompleted BROWSER ALREADY CLOSED\n",
      "2011 March Tamil Nadu Cotton\n",
      "file to open folders/Cotton/Tamil Nadu/mynewdata_2011_March.csv\n",
      "False\n",
      "After\n"
     ]
    },
    {
     "name": "stderr",
     "output_type": "stream",
     "text": [
      "/home/mathuryash5/toolkits/anaconda3/envs/tf_gpu/lib/python3.7/site-packages/ipykernel_launcher.py:30: DeprecationWarning: use options instead of chrome_options\n"
     ]
    },
    {
     "name": "stdout",
     "output_type": "stream",
     "text": [
      "inside try, t= 0\n",
      "driver.get\n",
      "YEAR MONTH STATE COMMODITY downloading data saved\n",
      "Marchcompleted BROWSER ALREADY CLOSED\n",
      "2011 April Tamil Nadu Cotton\n",
      "file to open folders/Cotton/Tamil Nadu/mynewdata_2011_April.csv\n",
      "False\n",
      "After\n"
     ]
    },
    {
     "name": "stderr",
     "output_type": "stream",
     "text": [
      "/home/mathuryash5/toolkits/anaconda3/envs/tf_gpu/lib/python3.7/site-packages/ipykernel_launcher.py:30: DeprecationWarning: use options instead of chrome_options\n"
     ]
    },
    {
     "name": "stdout",
     "output_type": "stream",
     "text": [
      "inside try, t= 0\n",
      "driver.get\n",
      "YEAR MONTH STATE COMMODITY downloading data saved\n",
      "Aprilcompleted BROWSER ALREADY CLOSED\n",
      "2011 May Tamil Nadu Cotton\n",
      "file to open folders/Cotton/Tamil Nadu/mynewdata_2011_May.csv\n",
      "False\n",
      "After\n"
     ]
    },
    {
     "name": "stderr",
     "output_type": "stream",
     "text": [
      "/home/mathuryash5/toolkits/anaconda3/envs/tf_gpu/lib/python3.7/site-packages/ipykernel_launcher.py:30: DeprecationWarning: use options instead of chrome_options\n"
     ]
    },
    {
     "name": "stdout",
     "output_type": "stream",
     "text": [
      "inside try, t= 0\n",
      "driver.get\n",
      "YEAR MONTH STATE COMMODITY downloading data saved\n",
      "Maycompleted BROWSER ALREADY CLOSED\n",
      "2011 June Tamil Nadu Cotton\n",
      "file to open folders/Cotton/Tamil Nadu/mynewdata_2011_June.csv\n",
      "False\n",
      "After\n"
     ]
    },
    {
     "name": "stderr",
     "output_type": "stream",
     "text": [
      "/home/mathuryash5/toolkits/anaconda3/envs/tf_gpu/lib/python3.7/site-packages/ipykernel_launcher.py:30: DeprecationWarning: use options instead of chrome_options\n"
     ]
    },
    {
     "name": "stdout",
     "output_type": "stream",
     "text": [
      "inside try, t= 0\n",
      "driver.get\n",
      "YEAR MONTH STATE COMMODITY downloading data saved\n",
      "Junecompleted BROWSER ALREADY CLOSED\n",
      "2011 July Tamil Nadu Cotton\n",
      "file to open folders/Cotton/Tamil Nadu/mynewdata_2011_July.csv\n",
      "False\n",
      "After\n"
     ]
    },
    {
     "name": "stderr",
     "output_type": "stream",
     "text": [
      "/home/mathuryash5/toolkits/anaconda3/envs/tf_gpu/lib/python3.7/site-packages/ipykernel_launcher.py:30: DeprecationWarning: use options instead of chrome_options\n"
     ]
    },
    {
     "name": "stdout",
     "output_type": "stream",
     "text": [
      "inside try, t= 0\n",
      "driver.get\n",
      "YEAR MONTH STATE COMMODITY downloading data saved\n",
      "Julycompleted BROWSER ALREADY CLOSED\n",
      "2011 August Tamil Nadu Cotton\n",
      "file to open folders/Cotton/Tamil Nadu/mynewdata_2011_August.csv\n",
      "False\n",
      "After\n"
     ]
    },
    {
     "name": "stderr",
     "output_type": "stream",
     "text": [
      "/home/mathuryash5/toolkits/anaconda3/envs/tf_gpu/lib/python3.7/site-packages/ipykernel_launcher.py:30: DeprecationWarning: use options instead of chrome_options\n"
     ]
    },
    {
     "name": "stdout",
     "output_type": "stream",
     "text": [
      "inside try, t= 0\n",
      "driver.get\n",
      "YEAR MONTH STATE COMMODITY downloading data saved\n",
      "Augustcompleted BROWSER ALREADY CLOSED\n",
      "2011 September Tamil Nadu Cotton\n",
      "file to open folders/Cotton/Tamil Nadu/mynewdata_2011_September.csv\n",
      "False\n",
      "After\n"
     ]
    },
    {
     "name": "stderr",
     "output_type": "stream",
     "text": [
      "/home/mathuryash5/toolkits/anaconda3/envs/tf_gpu/lib/python3.7/site-packages/ipykernel_launcher.py:30: DeprecationWarning: use options instead of chrome_options\n"
     ]
    },
    {
     "name": "stdout",
     "output_type": "stream",
     "text": [
      "inside try, t= 0\n",
      "driver.get\n",
      "YEAR MONTH STATE COMMODITY downloading data saved\n",
      "Septembercompleted BROWSER ALREADY CLOSED\n",
      "2011 October Tamil Nadu Cotton\n",
      "file to open folders/Cotton/Tamil Nadu/mynewdata_2011_October.csv\n",
      "False\n",
      "After\n"
     ]
    },
    {
     "name": "stderr",
     "output_type": "stream",
     "text": [
      "/home/mathuryash5/toolkits/anaconda3/envs/tf_gpu/lib/python3.7/site-packages/ipykernel_launcher.py:30: DeprecationWarning: use options instead of chrome_options\n"
     ]
    },
    {
     "name": "stdout",
     "output_type": "stream",
     "text": [
      "inside try, t= 0\n",
      "driver.get\n",
      "YEAR MONTH STATE COMMODITY downloading data saved\n",
      "Octobercompleted BROWSER ALREADY CLOSED\n",
      "2011 November Tamil Nadu Cotton\n",
      "file to open folders/Cotton/Tamil Nadu/mynewdata_2011_November.csv\n",
      "False\n",
      "After\n"
     ]
    },
    {
     "name": "stderr",
     "output_type": "stream",
     "text": [
      "/home/mathuryash5/toolkits/anaconda3/envs/tf_gpu/lib/python3.7/site-packages/ipykernel_launcher.py:30: DeprecationWarning: use options instead of chrome_options\n"
     ]
    },
    {
     "name": "stdout",
     "output_type": "stream",
     "text": [
      "inside try, t= 0\n",
      "driver.get\n",
      "YEAR MONTH STATE COMMODITY downloading data saved\n",
      "Novembercompleted BROWSER ALREADY CLOSED\n",
      "2011 December Tamil Nadu Cotton\n",
      "file to open folders/Cotton/Tamil Nadu/mynewdata_2011_December.csv\n",
      "False\n",
      "After\n"
     ]
    },
    {
     "name": "stderr",
     "output_type": "stream",
     "text": [
      "/home/mathuryash5/toolkits/anaconda3/envs/tf_gpu/lib/python3.7/site-packages/ipykernel_launcher.py:30: DeprecationWarning: use options instead of chrome_options\n"
     ]
    },
    {
     "name": "stdout",
     "output_type": "stream",
     "text": [
      "inside try, t= 0\n",
      "driver.get\n",
      "YEAR MONTH STATE COMMODITY downloading data saved\n",
      "Decembercompleted BROWSER ALREADY CLOSED\n",
      "2012 January Tamil Nadu Cotton\n",
      "file to open folders/Cotton/Tamil Nadu/mynewdata_2012_January.csv\n",
      "False\n",
      "After\n"
     ]
    },
    {
     "name": "stderr",
     "output_type": "stream",
     "text": [
      "/home/mathuryash5/toolkits/anaconda3/envs/tf_gpu/lib/python3.7/site-packages/ipykernel_launcher.py:30: DeprecationWarning: use options instead of chrome_options\n"
     ]
    },
    {
     "name": "stdout",
     "output_type": "stream",
     "text": [
      "inside try, t= 0\n",
      "driver.get\n",
      "YEAR MONTH STATE COMMODITY downloading data saved\n",
      "Januarycompleted BROWSER ALREADY CLOSED\n",
      "2012 February Tamil Nadu Cotton\n",
      "file to open folders/Cotton/Tamil Nadu/mynewdata_2012_February.csv\n",
      "False\n",
      "After\n"
     ]
    },
    {
     "name": "stderr",
     "output_type": "stream",
     "text": [
      "/home/mathuryash5/toolkits/anaconda3/envs/tf_gpu/lib/python3.7/site-packages/ipykernel_launcher.py:30: DeprecationWarning: use options instead of chrome_options\n"
     ]
    },
    {
     "name": "stdout",
     "output_type": "stream",
     "text": [
      "inside try, t= 0\n",
      "driver.get\n",
      "YEAR MONTH STATE COMMODITY downloading data saved\n",
      "Februarycompleted BROWSER ALREADY CLOSED\n",
      "2012 March Tamil Nadu Cotton\n",
      "file to open folders/Cotton/Tamil Nadu/mynewdata_2012_March.csv\n",
      "False\n",
      "After\n"
     ]
    },
    {
     "name": "stderr",
     "output_type": "stream",
     "text": [
      "/home/mathuryash5/toolkits/anaconda3/envs/tf_gpu/lib/python3.7/site-packages/ipykernel_launcher.py:30: DeprecationWarning: use options instead of chrome_options\n"
     ]
    },
    {
     "name": "stdout",
     "output_type": "stream",
     "text": [
      "inside try, t= 0\n",
      "driver.get\n",
      "YEAR MONTH STATE COMMODITY downloading data saved\n",
      "Marchcompleted BROWSER ALREADY CLOSED\n",
      "2012 April Tamil Nadu Cotton\n",
      "file to open folders/Cotton/Tamil Nadu/mynewdata_2012_April.csv\n",
      "False\n",
      "After\n"
     ]
    },
    {
     "name": "stderr",
     "output_type": "stream",
     "text": [
      "/home/mathuryash5/toolkits/anaconda3/envs/tf_gpu/lib/python3.7/site-packages/ipykernel_launcher.py:30: DeprecationWarning: use options instead of chrome_options\n"
     ]
    },
    {
     "name": "stdout",
     "output_type": "stream",
     "text": [
      "inside try, t= 0\n",
      "driver.get\n",
      "YEAR MONTH STATE COMMODITY downloading data saved\n",
      "Aprilcompleted BROWSER ALREADY CLOSED\n",
      "2012 May Tamil Nadu Cotton\n",
      "file to open folders/Cotton/Tamil Nadu/mynewdata_2012_May.csv\n",
      "False\n",
      "After\n"
     ]
    },
    {
     "name": "stderr",
     "output_type": "stream",
     "text": [
      "/home/mathuryash5/toolkits/anaconda3/envs/tf_gpu/lib/python3.7/site-packages/ipykernel_launcher.py:30: DeprecationWarning: use options instead of chrome_options\n"
     ]
    },
    {
     "name": "stdout",
     "output_type": "stream",
     "text": [
      "inside try, t= 0\n",
      "driver.get\n",
      "YEAR MONTH STATE COMMODITY downloading data saved\n",
      "Maycompleted BROWSER ALREADY CLOSED\n",
      "2012 June Tamil Nadu Cotton\n",
      "file to open folders/Cotton/Tamil Nadu/mynewdata_2012_June.csv\n",
      "False\n",
      "After\n"
     ]
    },
    {
     "name": "stderr",
     "output_type": "stream",
     "text": [
      "/home/mathuryash5/toolkits/anaconda3/envs/tf_gpu/lib/python3.7/site-packages/ipykernel_launcher.py:30: DeprecationWarning: use options instead of chrome_options\n"
     ]
    },
    {
     "name": "stdout",
     "output_type": "stream",
     "text": [
      "inside try, t= 0\n",
      "driver.get\n",
      "YEAR MONTH STATE COMMODITY downloading data saved\n",
      "Junecompleted BROWSER ALREADY CLOSED\n",
      "2012 July Tamil Nadu Cotton\n",
      "file to open folders/Cotton/Tamil Nadu/mynewdata_2012_July.csv\n",
      "False\n",
      "After\n"
     ]
    },
    {
     "name": "stderr",
     "output_type": "stream",
     "text": [
      "/home/mathuryash5/toolkits/anaconda3/envs/tf_gpu/lib/python3.7/site-packages/ipykernel_launcher.py:30: DeprecationWarning: use options instead of chrome_options\n"
     ]
    },
    {
     "name": "stdout",
     "output_type": "stream",
     "text": [
      "inside try, t= 0\n",
      "driver.get\n",
      "YEAR MONTH STATE COMMODITY downloading data saved\n",
      "Julycompleted BROWSER ALREADY CLOSED\n",
      "2012 August Tamil Nadu Cotton\n",
      "file to open folders/Cotton/Tamil Nadu/mynewdata_2012_August.csv\n",
      "False\n",
      "After\n"
     ]
    },
    {
     "name": "stderr",
     "output_type": "stream",
     "text": [
      "/home/mathuryash5/toolkits/anaconda3/envs/tf_gpu/lib/python3.7/site-packages/ipykernel_launcher.py:30: DeprecationWarning: use options instead of chrome_options\n"
     ]
    },
    {
     "name": "stdout",
     "output_type": "stream",
     "text": [
      "inside try, t= 0\n",
      "driver.get\n",
      "YEAR MONTH STATE COMMODITY downloading data saved\n",
      "Augustcompleted BROWSER ALREADY CLOSED\n",
      "2012 September Tamil Nadu Cotton\n",
      "file to open folders/Cotton/Tamil Nadu/mynewdata_2012_September.csv\n",
      "False\n",
      "After\n"
     ]
    },
    {
     "name": "stderr",
     "output_type": "stream",
     "text": [
      "/home/mathuryash5/toolkits/anaconda3/envs/tf_gpu/lib/python3.7/site-packages/ipykernel_launcher.py:30: DeprecationWarning: use options instead of chrome_options\n"
     ]
    },
    {
     "name": "stdout",
     "output_type": "stream",
     "text": [
      "inside try, t= 0\n",
      "driver.get\n",
      "YEAR MONTH STATE COMMODITY downloading data saved\n",
      "Septembercompleted BROWSER ALREADY CLOSED\n",
      "2012 October Tamil Nadu Cotton\n",
      "file to open folders/Cotton/Tamil Nadu/mynewdata_2012_October.csv\n",
      "False\n",
      "After\n"
     ]
    },
    {
     "name": "stderr",
     "output_type": "stream",
     "text": [
      "/home/mathuryash5/toolkits/anaconda3/envs/tf_gpu/lib/python3.7/site-packages/ipykernel_launcher.py:30: DeprecationWarning: use options instead of chrome_options\n"
     ]
    },
    {
     "name": "stdout",
     "output_type": "stream",
     "text": [
      "inside try, t= 0\n",
      "driver.get\n",
      "YEAR MONTH STATE COMMODITY downloading data saved\n",
      "Octobercompleted BROWSER ALREADY CLOSED\n",
      "2012 November Tamil Nadu Cotton\n",
      "file to open folders/Cotton/Tamil Nadu/mynewdata_2012_November.csv\n",
      "False\n",
      "After\n"
     ]
    },
    {
     "name": "stderr",
     "output_type": "stream",
     "text": [
      "/home/mathuryash5/toolkits/anaconda3/envs/tf_gpu/lib/python3.7/site-packages/ipykernel_launcher.py:30: DeprecationWarning: use options instead of chrome_options\n"
     ]
    },
    {
     "name": "stdout",
     "output_type": "stream",
     "text": [
      "inside try, t= 0\n",
      "driver.get\n",
      "YEAR MONTH STATE COMMODITY downloading data saved\n",
      "Novembercompleted BROWSER ALREADY CLOSED\n",
      "2012 December Tamil Nadu Cotton\n",
      "file to open folders/Cotton/Tamil Nadu/mynewdata_2012_December.csv\n",
      "False\n",
      "After\n"
     ]
    },
    {
     "name": "stderr",
     "output_type": "stream",
     "text": [
      "/home/mathuryash5/toolkits/anaconda3/envs/tf_gpu/lib/python3.7/site-packages/ipykernel_launcher.py:30: DeprecationWarning: use options instead of chrome_options\n"
     ]
    },
    {
     "name": "stdout",
     "output_type": "stream",
     "text": [
      "inside try, t= 0\n",
      "driver.get\n",
      "YEAR MONTH STATE COMMODITY downloading data saved\n",
      "Decembercompleted BROWSER ALREADY CLOSED\n",
      "2013 January Tamil Nadu Cotton\n",
      "file to open folders/Cotton/Tamil Nadu/mynewdata_2013_January.csv\n",
      "False\n",
      "After\n"
     ]
    },
    {
     "name": "stderr",
     "output_type": "stream",
     "text": [
      "/home/mathuryash5/toolkits/anaconda3/envs/tf_gpu/lib/python3.7/site-packages/ipykernel_launcher.py:30: DeprecationWarning: use options instead of chrome_options\n"
     ]
    },
    {
     "name": "stdout",
     "output_type": "stream",
     "text": [
      "inside try, t= 0\n",
      "driver.get\n",
      "YEAR MONTH STATE COMMODITY downloading data saved\n",
      "Januarycompleted BROWSER ALREADY CLOSED\n",
      "2013 February Tamil Nadu Cotton\n",
      "file to open folders/Cotton/Tamil Nadu/mynewdata_2013_February.csv\n",
      "False\n",
      "After\n"
     ]
    },
    {
     "name": "stderr",
     "output_type": "stream",
     "text": [
      "/home/mathuryash5/toolkits/anaconda3/envs/tf_gpu/lib/python3.7/site-packages/ipykernel_launcher.py:30: DeprecationWarning: use options instead of chrome_options\n"
     ]
    },
    {
     "name": "stdout",
     "output_type": "stream",
     "text": [
      "inside try, t= 0\n",
      "driver.get\n",
      "YEAR MONTH STATE COMMODITY downloading data saved\n",
      "Februarycompleted BROWSER ALREADY CLOSED\n",
      "2013 March Tamil Nadu Cotton\n",
      "file to open folders/Cotton/Tamil Nadu/mynewdata_2013_March.csv\n",
      "False\n",
      "After\n"
     ]
    },
    {
     "name": "stderr",
     "output_type": "stream",
     "text": [
      "/home/mathuryash5/toolkits/anaconda3/envs/tf_gpu/lib/python3.7/site-packages/ipykernel_launcher.py:30: DeprecationWarning: use options instead of chrome_options\n"
     ]
    },
    {
     "name": "stdout",
     "output_type": "stream",
     "text": [
      "inside try, t= 0\n",
      "driver.get\n",
      "YEAR MONTH STATE COMMODITY downloading data saved\n",
      "Marchcompleted BROWSER ALREADY CLOSED\n",
      "2013 April Tamil Nadu Cotton\n",
      "file to open folders/Cotton/Tamil Nadu/mynewdata_2013_April.csv\n",
      "False\n",
      "After\n"
     ]
    },
    {
     "name": "stderr",
     "output_type": "stream",
     "text": [
      "/home/mathuryash5/toolkits/anaconda3/envs/tf_gpu/lib/python3.7/site-packages/ipykernel_launcher.py:30: DeprecationWarning: use options instead of chrome_options\n"
     ]
    },
    {
     "name": "stdout",
     "output_type": "stream",
     "text": [
      "inside try, t= 0\n",
      "driver.get\n",
      "YEAR MONTH STATE COMMODITY downloading data saved\n",
      "Aprilcompleted BROWSER ALREADY CLOSED\n",
      "2013 May Tamil Nadu Cotton\n",
      "file to open folders/Cotton/Tamil Nadu/mynewdata_2013_May.csv\n",
      "False\n",
      "After\n"
     ]
    },
    {
     "name": "stderr",
     "output_type": "stream",
     "text": [
      "/home/mathuryash5/toolkits/anaconda3/envs/tf_gpu/lib/python3.7/site-packages/ipykernel_launcher.py:30: DeprecationWarning: use options instead of chrome_options\n"
     ]
    },
    {
     "name": "stdout",
     "output_type": "stream",
     "text": [
      "inside try, t= 0\n",
      "driver.get\n",
      "YEAR MONTH STATE COMMODITY downloading data saved\n",
      "Maycompleted BROWSER ALREADY CLOSED\n",
      "2013 June Tamil Nadu Cotton\n",
      "file to open folders/Cotton/Tamil Nadu/mynewdata_2013_June.csv\n",
      "False\n",
      "After\n"
     ]
    },
    {
     "name": "stderr",
     "output_type": "stream",
     "text": [
      "/home/mathuryash5/toolkits/anaconda3/envs/tf_gpu/lib/python3.7/site-packages/ipykernel_launcher.py:30: DeprecationWarning: use options instead of chrome_options\n"
     ]
    },
    {
     "name": "stdout",
     "output_type": "stream",
     "text": [
      "inside try, t= 0\n",
      "driver.get\n",
      "YEAR MONTH STATE COMMODITY downloading data saved\n",
      "Junecompleted BROWSER ALREADY CLOSED\n",
      "2013 July Tamil Nadu Cotton\n",
      "file to open folders/Cotton/Tamil Nadu/mynewdata_2013_July.csv\n",
      "False\n",
      "After\n"
     ]
    },
    {
     "name": "stderr",
     "output_type": "stream",
     "text": [
      "/home/mathuryash5/toolkits/anaconda3/envs/tf_gpu/lib/python3.7/site-packages/ipykernel_launcher.py:30: DeprecationWarning: use options instead of chrome_options\n"
     ]
    },
    {
     "name": "stdout",
     "output_type": "stream",
     "text": [
      "inside try, t= 0\n",
      "driver.get\n",
      "YEAR MONTH STATE COMMODITY downloading data saved\n",
      "Julycompleted BROWSER ALREADY CLOSED\n",
      "2013 August Tamil Nadu Cotton\n",
      "file to open folders/Cotton/Tamil Nadu/mynewdata_2013_August.csv\n",
      "False\n",
      "After\n"
     ]
    },
    {
     "name": "stderr",
     "output_type": "stream",
     "text": [
      "/home/mathuryash5/toolkits/anaconda3/envs/tf_gpu/lib/python3.7/site-packages/ipykernel_launcher.py:30: DeprecationWarning: use options instead of chrome_options\n"
     ]
    },
    {
     "name": "stdout",
     "output_type": "stream",
     "text": [
      "inside try, t= 0\n",
      "driver.get\n",
      "YEAR MONTH STATE COMMODITY downloading data saved\n",
      "Augustcompleted BROWSER ALREADY CLOSED\n",
      "2013 September Tamil Nadu Cotton\n",
      "file to open folders/Cotton/Tamil Nadu/mynewdata_2013_September.csv\n",
      "False\n",
      "After\n"
     ]
    },
    {
     "name": "stderr",
     "output_type": "stream",
     "text": [
      "/home/mathuryash5/toolkits/anaconda3/envs/tf_gpu/lib/python3.7/site-packages/ipykernel_launcher.py:30: DeprecationWarning: use options instead of chrome_options\n"
     ]
    },
    {
     "name": "stdout",
     "output_type": "stream",
     "text": [
      "inside try, t= 0\n",
      "driver.get\n",
      "YEAR MONTH STATE COMMODITY downloading data saved\n",
      "Septembercompleted BROWSER ALREADY CLOSED\n",
      "2013 October Tamil Nadu Cotton\n",
      "file to open folders/Cotton/Tamil Nadu/mynewdata_2013_October.csv\n",
      "False\n",
      "After\n"
     ]
    },
    {
     "name": "stderr",
     "output_type": "stream",
     "text": [
      "/home/mathuryash5/toolkits/anaconda3/envs/tf_gpu/lib/python3.7/site-packages/ipykernel_launcher.py:30: DeprecationWarning: use options instead of chrome_options\n"
     ]
    },
    {
     "name": "stdout",
     "output_type": "stream",
     "text": [
      "inside try, t= 0\n",
      "driver.get\n",
      "YEAR MONTH STATE COMMODITY downloading data saved\n",
      "Octobercompleted BROWSER ALREADY CLOSED\n",
      "2013 November Tamil Nadu Cotton\n",
      "file to open folders/Cotton/Tamil Nadu/mynewdata_2013_November.csv\n",
      "False\n",
      "After\n"
     ]
    },
    {
     "name": "stderr",
     "output_type": "stream",
     "text": [
      "/home/mathuryash5/toolkits/anaconda3/envs/tf_gpu/lib/python3.7/site-packages/ipykernel_launcher.py:30: DeprecationWarning: use options instead of chrome_options\n"
     ]
    },
    {
     "name": "stdout",
     "output_type": "stream",
     "text": [
      "inside try, t= 0\n",
      "driver.get\n",
      "YEAR MONTH STATE COMMODITY downloading data saved\n",
      "Novembercompleted BROWSER ALREADY CLOSED\n",
      "2013 December Tamil Nadu Cotton\n",
      "file to open folders/Cotton/Tamil Nadu/mynewdata_2013_December.csv\n",
      "False\n",
      "After\n"
     ]
    },
    {
     "name": "stderr",
     "output_type": "stream",
     "text": [
      "/home/mathuryash5/toolkits/anaconda3/envs/tf_gpu/lib/python3.7/site-packages/ipykernel_launcher.py:30: DeprecationWarning: use options instead of chrome_options\n"
     ]
    },
    {
     "name": "stdout",
     "output_type": "stream",
     "text": [
      "inside try, t= 0\n",
      "driver.get\n",
      "YEAR MONTH STATE COMMODITY downloading data saved\n",
      "Decembercompleted BROWSER ALREADY CLOSED\n",
      "2014 January Tamil Nadu Cotton\n",
      "file to open folders/Cotton/Tamil Nadu/mynewdata_2014_January.csv\n",
      "False\n",
      "After\n"
     ]
    },
    {
     "name": "stderr",
     "output_type": "stream",
     "text": [
      "/home/mathuryash5/toolkits/anaconda3/envs/tf_gpu/lib/python3.7/site-packages/ipykernel_launcher.py:30: DeprecationWarning: use options instead of chrome_options\n"
     ]
    },
    {
     "name": "stdout",
     "output_type": "stream",
     "text": [
      "inside try, t= 0\n",
      "driver.get\n",
      "YEAR MONTH STATE COMMODITY downloading data saved\n",
      "Januarycompleted BROWSER ALREADY CLOSED\n",
      "2014 February Tamil Nadu Cotton\n",
      "file to open folders/Cotton/Tamil Nadu/mynewdata_2014_February.csv\n",
      "False\n",
      "After\n"
     ]
    },
    {
     "name": "stderr",
     "output_type": "stream",
     "text": [
      "/home/mathuryash5/toolkits/anaconda3/envs/tf_gpu/lib/python3.7/site-packages/ipykernel_launcher.py:30: DeprecationWarning: use options instead of chrome_options\n"
     ]
    },
    {
     "name": "stdout",
     "output_type": "stream",
     "text": [
      "inside try, t= 0\n",
      "driver.get\n",
      "YEAR MONTH STATE COMMODITY downloading data saved\n",
      "Februarycompleted BROWSER ALREADY CLOSED\n",
      "2014 March Tamil Nadu Cotton\n",
      "file to open folders/Cotton/Tamil Nadu/mynewdata_2014_March.csv\n",
      "False\n",
      "After\n"
     ]
    },
    {
     "name": "stderr",
     "output_type": "stream",
     "text": [
      "/home/mathuryash5/toolkits/anaconda3/envs/tf_gpu/lib/python3.7/site-packages/ipykernel_launcher.py:30: DeprecationWarning: use options instead of chrome_options\n"
     ]
    },
    {
     "name": "stdout",
     "output_type": "stream",
     "text": [
      "inside try, t= 0\n",
      "driver.get\n",
      "YEAR MONTH STATE COMMODITY downloading data saved\n",
      "Marchcompleted BROWSER ALREADY CLOSED\n",
      "2014 April Tamil Nadu Cotton\n",
      "file to open folders/Cotton/Tamil Nadu/mynewdata_2014_April.csv\n",
      "False\n",
      "After\n"
     ]
    },
    {
     "name": "stderr",
     "output_type": "stream",
     "text": [
      "/home/mathuryash5/toolkits/anaconda3/envs/tf_gpu/lib/python3.7/site-packages/ipykernel_launcher.py:30: DeprecationWarning: use options instead of chrome_options\n"
     ]
    },
    {
     "name": "stdout",
     "output_type": "stream",
     "text": [
      "inside try, t= 0\n",
      "driver.get\n",
      "YEAR MONTH STATE COMMODITY downloading data saved\n",
      "Aprilcompleted BROWSER ALREADY CLOSED\n",
      "2014 May Tamil Nadu Cotton\n",
      "file to open folders/Cotton/Tamil Nadu/mynewdata_2014_May.csv\n",
      "False\n",
      "After\n"
     ]
    },
    {
     "name": "stderr",
     "output_type": "stream",
     "text": [
      "/home/mathuryash5/toolkits/anaconda3/envs/tf_gpu/lib/python3.7/site-packages/ipykernel_launcher.py:30: DeprecationWarning: use options instead of chrome_options\n"
     ]
    },
    {
     "name": "stdout",
     "output_type": "stream",
     "text": [
      "inside try, t= 0\n",
      "driver.get\n",
      "YEAR MONTH STATE COMMODITY downloading data saved\n",
      "Maycompleted BROWSER ALREADY CLOSED\n",
      "2014 June Tamil Nadu Cotton\n",
      "file to open folders/Cotton/Tamil Nadu/mynewdata_2014_June.csv\n",
      "False\n",
      "After\n"
     ]
    },
    {
     "name": "stderr",
     "output_type": "stream",
     "text": [
      "/home/mathuryash5/toolkits/anaconda3/envs/tf_gpu/lib/python3.7/site-packages/ipykernel_launcher.py:30: DeprecationWarning: use options instead of chrome_options\n"
     ]
    },
    {
     "name": "stdout",
     "output_type": "stream",
     "text": [
      "inside try, t= 0\n",
      "driver.get\n",
      "YEAR MONTH STATE COMMODITY downloading data saved\n",
      "Junecompleted BROWSER ALREADY CLOSED\n",
      "2014 July Tamil Nadu Cotton\n",
      "file to open folders/Cotton/Tamil Nadu/mynewdata_2014_July.csv\n",
      "False\n",
      "After\n"
     ]
    },
    {
     "name": "stderr",
     "output_type": "stream",
     "text": [
      "/home/mathuryash5/toolkits/anaconda3/envs/tf_gpu/lib/python3.7/site-packages/ipykernel_launcher.py:30: DeprecationWarning: use options instead of chrome_options\n"
     ]
    },
    {
     "name": "stdout",
     "output_type": "stream",
     "text": [
      "inside try, t= 0\n",
      "driver.get\n",
      "YEAR MONTH STATE COMMODITY downloading data saved\n",
      "Julycompleted BROWSER ALREADY CLOSED\n",
      "2014 August Tamil Nadu Cotton\n",
      "file to open folders/Cotton/Tamil Nadu/mynewdata_2014_August.csv\n",
      "False\n",
      "After\n"
     ]
    },
    {
     "name": "stderr",
     "output_type": "stream",
     "text": [
      "/home/mathuryash5/toolkits/anaconda3/envs/tf_gpu/lib/python3.7/site-packages/ipykernel_launcher.py:30: DeprecationWarning: use options instead of chrome_options\n"
     ]
    },
    {
     "name": "stdout",
     "output_type": "stream",
     "text": [
      "inside try, t= 0\n",
      "driver.get\n",
      "YEAR MONTH STATE COMMODITY downloading data saved\n",
      "Augustcompleted BROWSER ALREADY CLOSED\n",
      "2014 September Tamil Nadu Cotton\n",
      "file to open folders/Cotton/Tamil Nadu/mynewdata_2014_September.csv\n",
      "False\n",
      "After\n"
     ]
    },
    {
     "name": "stderr",
     "output_type": "stream",
     "text": [
      "/home/mathuryash5/toolkits/anaconda3/envs/tf_gpu/lib/python3.7/site-packages/ipykernel_launcher.py:30: DeprecationWarning: use options instead of chrome_options\n"
     ]
    },
    {
     "name": "stdout",
     "output_type": "stream",
     "text": [
      "inside try, t= 0\n",
      "driver.get\n",
      "YEAR MONTH STATE COMMODITY downloading data saved\n",
      "Septembercompleted BROWSER ALREADY CLOSED\n",
      "2014 October Tamil Nadu Cotton\n",
      "file to open folders/Cotton/Tamil Nadu/mynewdata_2014_October.csv\n",
      "False\n",
      "After\n"
     ]
    },
    {
     "name": "stderr",
     "output_type": "stream",
     "text": [
      "/home/mathuryash5/toolkits/anaconda3/envs/tf_gpu/lib/python3.7/site-packages/ipykernel_launcher.py:30: DeprecationWarning: use options instead of chrome_options\n"
     ]
    },
    {
     "name": "stdout",
     "output_type": "stream",
     "text": [
      "inside try, t= 0\n",
      "driver.get\n",
      "YEAR MONTH STATE COMMODITY downloading data saved\n",
      "Octobercompleted BROWSER ALREADY CLOSED\n",
      "2014 November Tamil Nadu Cotton\n",
      "file to open folders/Cotton/Tamil Nadu/mynewdata_2014_November.csv\n",
      "False\n",
      "After\n"
     ]
    },
    {
     "name": "stderr",
     "output_type": "stream",
     "text": [
      "/home/mathuryash5/toolkits/anaconda3/envs/tf_gpu/lib/python3.7/site-packages/ipykernel_launcher.py:30: DeprecationWarning: use options instead of chrome_options\n"
     ]
    },
    {
     "name": "stdout",
     "output_type": "stream",
     "text": [
      "inside try, t= 0\n",
      "driver.get\n",
      "YEAR MONTH STATE COMMODITY downloading data saved\n",
      "Novembercompleted BROWSER ALREADY CLOSED\n",
      "2014 December Tamil Nadu Cotton\n",
      "file to open folders/Cotton/Tamil Nadu/mynewdata_2014_December.csv\n",
      "False\n",
      "After\n"
     ]
    },
    {
     "name": "stderr",
     "output_type": "stream",
     "text": [
      "/home/mathuryash5/toolkits/anaconda3/envs/tf_gpu/lib/python3.7/site-packages/ipykernel_launcher.py:30: DeprecationWarning: use options instead of chrome_options\n"
     ]
    },
    {
     "name": "stdout",
     "output_type": "stream",
     "text": [
      "inside try, t= 0\n",
      "driver.get\n",
      "YEAR MONTH STATE COMMODITY downloading data saved\n",
      "Decembercompleted BROWSER ALREADY CLOSED\n",
      "2015 January Tamil Nadu Cotton\n",
      "file to open folders/Cotton/Tamil Nadu/mynewdata_2015_January.csv\n",
      "False\n",
      "After\n"
     ]
    },
    {
     "name": "stderr",
     "output_type": "stream",
     "text": [
      "/home/mathuryash5/toolkits/anaconda3/envs/tf_gpu/lib/python3.7/site-packages/ipykernel_launcher.py:30: DeprecationWarning: use options instead of chrome_options\n"
     ]
    },
    {
     "name": "stdout",
     "output_type": "stream",
     "text": [
      "inside try, t= 0\n",
      "driver.get\n",
      "YEAR MONTH STATE COMMODITY downloading data saved\n",
      "Januarycompleted BROWSER ALREADY CLOSED\n",
      "2015 February Tamil Nadu Cotton\n",
      "file to open folders/Cotton/Tamil Nadu/mynewdata_2015_February.csv\n",
      "False\n",
      "After\n"
     ]
    },
    {
     "name": "stderr",
     "output_type": "stream",
     "text": [
      "/home/mathuryash5/toolkits/anaconda3/envs/tf_gpu/lib/python3.7/site-packages/ipykernel_launcher.py:30: DeprecationWarning: use options instead of chrome_options\n"
     ]
    },
    {
     "name": "stdout",
     "output_type": "stream",
     "text": [
      "inside try, t= 0\n",
      "driver.get\n",
      "YEAR MONTH STATE COMMODITY downloading data saved\n",
      "Februarycompleted BROWSER ALREADY CLOSED\n",
      "2015 March Tamil Nadu Cotton\n",
      "file to open folders/Cotton/Tamil Nadu/mynewdata_2015_March.csv\n",
      "False\n",
      "After\n"
     ]
    },
    {
     "name": "stderr",
     "output_type": "stream",
     "text": [
      "/home/mathuryash5/toolkits/anaconda3/envs/tf_gpu/lib/python3.7/site-packages/ipykernel_launcher.py:30: DeprecationWarning: use options instead of chrome_options\n"
     ]
    },
    {
     "name": "stdout",
     "output_type": "stream",
     "text": [
      "inside try, t= 0\n",
      "driver.get\n",
      "YEAR MONTH STATE COMMODITY downloading data saved\n",
      "Marchcompleted BROWSER ALREADY CLOSED\n",
      "2015 April Tamil Nadu Cotton\n",
      "file to open folders/Cotton/Tamil Nadu/mynewdata_2015_April.csv\n",
      "False\n",
      "After\n"
     ]
    },
    {
     "name": "stderr",
     "output_type": "stream",
     "text": [
      "/home/mathuryash5/toolkits/anaconda3/envs/tf_gpu/lib/python3.7/site-packages/ipykernel_launcher.py:30: DeprecationWarning: use options instead of chrome_options\n"
     ]
    },
    {
     "name": "stdout",
     "output_type": "stream",
     "text": [
      "inside try, t= 0\n",
      "driver.get\n",
      "YEAR MONTH STATE COMMODITY downloading data saved\n",
      "Aprilcompleted BROWSER ALREADY CLOSED\n",
      "2015 May Tamil Nadu Cotton\n",
      "file to open folders/Cotton/Tamil Nadu/mynewdata_2015_May.csv\n",
      "False\n",
      "After\n"
     ]
    },
    {
     "name": "stderr",
     "output_type": "stream",
     "text": [
      "/home/mathuryash5/toolkits/anaconda3/envs/tf_gpu/lib/python3.7/site-packages/ipykernel_launcher.py:30: DeprecationWarning: use options instead of chrome_options\n"
     ]
    },
    {
     "name": "stdout",
     "output_type": "stream",
     "text": [
      "inside try, t= 0\n",
      "driver.get\n",
      "YEAR MONTH STATE COMMODITY downloading data saved\n",
      "Maycompleted BROWSER ALREADY CLOSED\n",
      "2015 June Tamil Nadu Cotton\n",
      "file to open folders/Cotton/Tamil Nadu/mynewdata_2015_June.csv\n",
      "False\n",
      "After\n"
     ]
    },
    {
     "name": "stderr",
     "output_type": "stream",
     "text": [
      "/home/mathuryash5/toolkits/anaconda3/envs/tf_gpu/lib/python3.7/site-packages/ipykernel_launcher.py:30: DeprecationWarning: use options instead of chrome_options\n"
     ]
    },
    {
     "name": "stdout",
     "output_type": "stream",
     "text": [
      "inside try, t= 0\n",
      "driver.get\n",
      "YEAR MONTH STATE COMMODITY downloading data saved\n",
      "Junecompleted BROWSER ALREADY CLOSED\n",
      "2015 July Tamil Nadu Cotton\n",
      "file to open folders/Cotton/Tamil Nadu/mynewdata_2015_July.csv\n",
      "False\n",
      "After\n"
     ]
    },
    {
     "name": "stderr",
     "output_type": "stream",
     "text": [
      "/home/mathuryash5/toolkits/anaconda3/envs/tf_gpu/lib/python3.7/site-packages/ipykernel_launcher.py:30: DeprecationWarning: use options instead of chrome_options\n"
     ]
    },
    {
     "name": "stdout",
     "output_type": "stream",
     "text": [
      "inside try, t= 0\n",
      "driver.get\n",
      "YEAR MONTH STATE COMMODITY downloading data saved\n",
      "Julycompleted BROWSER ALREADY CLOSED\n",
      "2015 August Tamil Nadu Cotton\n",
      "file to open folders/Cotton/Tamil Nadu/mynewdata_2015_August.csv\n",
      "False\n",
      "After\n"
     ]
    },
    {
     "name": "stderr",
     "output_type": "stream",
     "text": [
      "/home/mathuryash5/toolkits/anaconda3/envs/tf_gpu/lib/python3.7/site-packages/ipykernel_launcher.py:30: DeprecationWarning: use options instead of chrome_options\n"
     ]
    },
    {
     "name": "stdout",
     "output_type": "stream",
     "text": [
      "inside try, t= 0\n",
      "driver.get\n",
      "YEAR MONTH STATE COMMODITY downloading data saved\n",
      "Augustcompleted BROWSER ALREADY CLOSED\n",
      "2015 September Tamil Nadu Cotton\n",
      "file to open folders/Cotton/Tamil Nadu/mynewdata_2015_September.csv\n",
      "False\n",
      "After\n"
     ]
    },
    {
     "name": "stderr",
     "output_type": "stream",
     "text": [
      "/home/mathuryash5/toolkits/anaconda3/envs/tf_gpu/lib/python3.7/site-packages/ipykernel_launcher.py:30: DeprecationWarning: use options instead of chrome_options\n"
     ]
    },
    {
     "name": "stdout",
     "output_type": "stream",
     "text": [
      "inside try, t= 0\n",
      "driver.get\n",
      "YEAR MONTH STATE COMMODITY downloading data saved\n",
      "Septembercompleted BROWSER ALREADY CLOSED\n",
      "2015 October Tamil Nadu Cotton\n",
      "file to open folders/Cotton/Tamil Nadu/mynewdata_2015_October.csv\n",
      "False\n",
      "After\n"
     ]
    },
    {
     "name": "stderr",
     "output_type": "stream",
     "text": [
      "/home/mathuryash5/toolkits/anaconda3/envs/tf_gpu/lib/python3.7/site-packages/ipykernel_launcher.py:30: DeprecationWarning: use options instead of chrome_options\n"
     ]
    },
    {
     "name": "stdout",
     "output_type": "stream",
     "text": [
      "inside try, t= 0\n",
      "driver.get\n",
      "YEAR MONTH STATE COMMODITY downloading data saved\n",
      "Octobercompleted BROWSER ALREADY CLOSED\n",
      "2015 November Tamil Nadu Cotton\n",
      "file to open folders/Cotton/Tamil Nadu/mynewdata_2015_November.csv\n",
      "False\n",
      "After\n"
     ]
    },
    {
     "name": "stderr",
     "output_type": "stream",
     "text": [
      "/home/mathuryash5/toolkits/anaconda3/envs/tf_gpu/lib/python3.7/site-packages/ipykernel_launcher.py:30: DeprecationWarning: use options instead of chrome_options\n"
     ]
    },
    {
     "name": "stdout",
     "output_type": "stream",
     "text": [
      "inside try, t= 0\n",
      "driver.get\n",
      "YEAR MONTH STATE COMMODITY downloading data saved\n",
      "Novembercompleted BROWSER ALREADY CLOSED\n",
      "2015 December Tamil Nadu Cotton\n",
      "file to open folders/Cotton/Tamil Nadu/mynewdata_2015_December.csv\n",
      "False\n",
      "After\n"
     ]
    },
    {
     "name": "stderr",
     "output_type": "stream",
     "text": [
      "/home/mathuryash5/toolkits/anaconda3/envs/tf_gpu/lib/python3.7/site-packages/ipykernel_launcher.py:30: DeprecationWarning: use options instead of chrome_options\n"
     ]
    },
    {
     "name": "stdout",
     "output_type": "stream",
     "text": [
      "inside try, t= 0\n",
      "driver.get\n",
      "YEAR MONTH STATE COMMODITY downloading data saved\n",
      "Decembercompleted BROWSER ALREADY CLOSED\n",
      "2016 January Tamil Nadu Cotton\n",
      "file to open folders/Cotton/Tamil Nadu/mynewdata_2016_January.csv\n",
      "False\n",
      "After\n"
     ]
    },
    {
     "name": "stderr",
     "output_type": "stream",
     "text": [
      "/home/mathuryash5/toolkits/anaconda3/envs/tf_gpu/lib/python3.7/site-packages/ipykernel_launcher.py:30: DeprecationWarning: use options instead of chrome_options\n"
     ]
    },
    {
     "name": "stdout",
     "output_type": "stream",
     "text": [
      "inside try, t= 0\n",
      "driver.get\n",
      "YEAR MONTH STATE COMMODITY downloading data saved\n",
      "Januarycompleted BROWSER ALREADY CLOSED\n",
      "2016 February Tamil Nadu Cotton\n",
      "file to open folders/Cotton/Tamil Nadu/mynewdata_2016_February.csv\n",
      "False\n",
      "After\n"
     ]
    },
    {
     "name": "stderr",
     "output_type": "stream",
     "text": [
      "/home/mathuryash5/toolkits/anaconda3/envs/tf_gpu/lib/python3.7/site-packages/ipykernel_launcher.py:30: DeprecationWarning: use options instead of chrome_options\n"
     ]
    },
    {
     "name": "stdout",
     "output_type": "stream",
     "text": [
      "inside try, t= 0\n",
      "driver.get\n",
      "YEAR MONTH STATE COMMODITY downloading data saved\n",
      "Februarycompleted BROWSER ALREADY CLOSED\n",
      "2016 March Tamil Nadu Cotton\n",
      "file to open folders/Cotton/Tamil Nadu/mynewdata_2016_March.csv\n",
      "False\n",
      "After\n"
     ]
    },
    {
     "name": "stderr",
     "output_type": "stream",
     "text": [
      "/home/mathuryash5/toolkits/anaconda3/envs/tf_gpu/lib/python3.7/site-packages/ipykernel_launcher.py:30: DeprecationWarning: use options instead of chrome_options\n"
     ]
    },
    {
     "name": "stdout",
     "output_type": "stream",
     "text": [
      "inside try, t= 0\n",
      "driver.get\n",
      "YEAR MONTH STATE COMMODITY downloading data saved\n",
      "Marchcompleted BROWSER ALREADY CLOSED\n",
      "2016 April Tamil Nadu Cotton\n",
      "file to open folders/Cotton/Tamil Nadu/mynewdata_2016_April.csv\n",
      "False\n",
      "After\n"
     ]
    },
    {
     "name": "stderr",
     "output_type": "stream",
     "text": [
      "/home/mathuryash5/toolkits/anaconda3/envs/tf_gpu/lib/python3.7/site-packages/ipykernel_launcher.py:30: DeprecationWarning: use options instead of chrome_options\n"
     ]
    },
    {
     "name": "stdout",
     "output_type": "stream",
     "text": [
      "inside try, t= 0\n",
      "driver.get\n",
      "YEAR MONTH STATE COMMODITY downloading data saved\n",
      "Aprilcompleted BROWSER ALREADY CLOSED\n",
      "2016 May Tamil Nadu Cotton\n",
      "file to open folders/Cotton/Tamil Nadu/mynewdata_2016_May.csv\n",
      "False\n",
      "After\n"
     ]
    },
    {
     "name": "stderr",
     "output_type": "stream",
     "text": [
      "/home/mathuryash5/toolkits/anaconda3/envs/tf_gpu/lib/python3.7/site-packages/ipykernel_launcher.py:30: DeprecationWarning: use options instead of chrome_options\n"
     ]
    },
    {
     "name": "stdout",
     "output_type": "stream",
     "text": [
      "inside try, t= 0\n",
      "driver.get\n",
      "YEAR MONTH STATE COMMODITY downloading data saved\n",
      "Maycompleted BROWSER ALREADY CLOSED\n",
      "2016 June Tamil Nadu Cotton\n",
      "file to open folders/Cotton/Tamil Nadu/mynewdata_2016_June.csv\n",
      "False\n",
      "After\n"
     ]
    },
    {
     "name": "stderr",
     "output_type": "stream",
     "text": [
      "/home/mathuryash5/toolkits/anaconda3/envs/tf_gpu/lib/python3.7/site-packages/ipykernel_launcher.py:30: DeprecationWarning: use options instead of chrome_options\n"
     ]
    },
    {
     "name": "stdout",
     "output_type": "stream",
     "text": [
      "inside try, t= 0\n",
      "driver.get\n",
      "YEAR MONTH STATE COMMODITY downloading data saved\n",
      "Junecompleted BROWSER ALREADY CLOSED\n",
      "2016 July Tamil Nadu Cotton\n",
      "file to open folders/Cotton/Tamil Nadu/mynewdata_2016_July.csv\n",
      "False\n",
      "After\n"
     ]
    },
    {
     "name": "stderr",
     "output_type": "stream",
     "text": [
      "/home/mathuryash5/toolkits/anaconda3/envs/tf_gpu/lib/python3.7/site-packages/ipykernel_launcher.py:30: DeprecationWarning: use options instead of chrome_options\n"
     ]
    },
    {
     "name": "stdout",
     "output_type": "stream",
     "text": [
      "inside try, t= 0\n",
      "driver.get\n",
      "YEAR MONTH STATE COMMODITY downloading data saved\n",
      "Julycompleted BROWSER ALREADY CLOSED\n",
      "2016 August Tamil Nadu Cotton\n",
      "file to open folders/Cotton/Tamil Nadu/mynewdata_2016_August.csv\n",
      "False\n",
      "After\n"
     ]
    },
    {
     "name": "stderr",
     "output_type": "stream",
     "text": [
      "/home/mathuryash5/toolkits/anaconda3/envs/tf_gpu/lib/python3.7/site-packages/ipykernel_launcher.py:30: DeprecationWarning: use options instead of chrome_options\n"
     ]
    },
    {
     "name": "stdout",
     "output_type": "stream",
     "text": [
      "inside try, t= 0\n",
      "driver.get\n",
      "YEAR MONTH STATE COMMODITY downloading data saved\n",
      "Augustcompleted BROWSER ALREADY CLOSED\n",
      "2016 September Tamil Nadu Cotton\n",
      "file to open folders/Cotton/Tamil Nadu/mynewdata_2016_September.csv\n",
      "False\n",
      "After\n"
     ]
    },
    {
     "name": "stderr",
     "output_type": "stream",
     "text": [
      "/home/mathuryash5/toolkits/anaconda3/envs/tf_gpu/lib/python3.7/site-packages/ipykernel_launcher.py:30: DeprecationWarning: use options instead of chrome_options\n"
     ]
    },
    {
     "name": "stdout",
     "output_type": "stream",
     "text": [
      "inside try, t= 0\n",
      "driver.get\n",
      "YEAR MONTH STATE COMMODITY downloading data saved\n",
      "Septembercompleted BROWSER ALREADY CLOSED\n",
      "2016 October Tamil Nadu Cotton\n",
      "file to open folders/Cotton/Tamil Nadu/mynewdata_2016_October.csv\n",
      "False\n",
      "After\n"
     ]
    },
    {
     "name": "stderr",
     "output_type": "stream",
     "text": [
      "/home/mathuryash5/toolkits/anaconda3/envs/tf_gpu/lib/python3.7/site-packages/ipykernel_launcher.py:30: DeprecationWarning: use options instead of chrome_options\n"
     ]
    },
    {
     "name": "stdout",
     "output_type": "stream",
     "text": [
      "inside try, t= 0\n",
      "driver.get\n",
      "YEAR MONTH STATE COMMODITY downloading data saved\n",
      "Octobercompleted BROWSER ALREADY CLOSED\n",
      "2016 November Tamil Nadu Cotton\n",
      "file to open folders/Cotton/Tamil Nadu/mynewdata_2016_November.csv\n",
      "False\n",
      "After\n"
     ]
    },
    {
     "name": "stderr",
     "output_type": "stream",
     "text": [
      "/home/mathuryash5/toolkits/anaconda3/envs/tf_gpu/lib/python3.7/site-packages/ipykernel_launcher.py:30: DeprecationWarning: use options instead of chrome_options\n"
     ]
    },
    {
     "name": "stdout",
     "output_type": "stream",
     "text": [
      "inside try, t= 0\n",
      "driver.get\n",
      "YEAR MONTH STATE COMMODITY downloading data saved\n",
      "Novembercompleted BROWSER ALREADY CLOSED\n",
      "2016 December Tamil Nadu Cotton\n",
      "file to open folders/Cotton/Tamil Nadu/mynewdata_2016_December.csv\n",
      "False\n",
      "After\n"
     ]
    },
    {
     "name": "stderr",
     "output_type": "stream",
     "text": [
      "/home/mathuryash5/toolkits/anaconda3/envs/tf_gpu/lib/python3.7/site-packages/ipykernel_launcher.py:30: DeprecationWarning: use options instead of chrome_options\n"
     ]
    },
    {
     "name": "stdout",
     "output_type": "stream",
     "text": [
      "inside try, t= 0\n",
      "driver.get\n",
      "YEAR MONTH STATE COMMODITY downloading data saved\n",
      "Decembercompleted BROWSER ALREADY CLOSED\n",
      "2017 January Tamil Nadu Cotton\n",
      "file to open folders/Cotton/Tamil Nadu/mynewdata_2017_January.csv\n",
      "False\n",
      "After\n"
     ]
    },
    {
     "name": "stderr",
     "output_type": "stream",
     "text": [
      "/home/mathuryash5/toolkits/anaconda3/envs/tf_gpu/lib/python3.7/site-packages/ipykernel_launcher.py:30: DeprecationWarning: use options instead of chrome_options\n"
     ]
    },
    {
     "name": "stdout",
     "output_type": "stream",
     "text": [
      "inside try, t= 0\n",
      "driver.get\n",
      "YEAR MONTH STATE COMMODITY downloading data saved\n",
      "Januarycompleted BROWSER ALREADY CLOSED\n",
      "2017 February Tamil Nadu Cotton\n",
      "file to open folders/Cotton/Tamil Nadu/mynewdata_2017_February.csv\n",
      "False\n",
      "After\n"
     ]
    },
    {
     "name": "stderr",
     "output_type": "stream",
     "text": [
      "/home/mathuryash5/toolkits/anaconda3/envs/tf_gpu/lib/python3.7/site-packages/ipykernel_launcher.py:30: DeprecationWarning: use options instead of chrome_options\n"
     ]
    },
    {
     "name": "stdout",
     "output_type": "stream",
     "text": [
      "inside try, t= 0\n",
      "driver.get\n",
      "YEAR MONTH STATE COMMODITY downloading data saved\n",
      "Februarycompleted BROWSER ALREADY CLOSED\n",
      "2017 March Tamil Nadu Cotton\n",
      "file to open folders/Cotton/Tamil Nadu/mynewdata_2017_March.csv\n",
      "False\n",
      "After\n"
     ]
    },
    {
     "name": "stderr",
     "output_type": "stream",
     "text": [
      "/home/mathuryash5/toolkits/anaconda3/envs/tf_gpu/lib/python3.7/site-packages/ipykernel_launcher.py:30: DeprecationWarning: use options instead of chrome_options\n"
     ]
    },
    {
     "name": "stdout",
     "output_type": "stream",
     "text": [
      "inside try, t= 0\n",
      "driver.get\n",
      "YEAR MONTH STATE COMMODITY downloading data saved\n",
      "Marchcompleted BROWSER ALREADY CLOSED\n",
      "2017 April Tamil Nadu Cotton\n",
      "file to open folders/Cotton/Tamil Nadu/mynewdata_2017_April.csv\n",
      "False\n",
      "After\n"
     ]
    },
    {
     "name": "stderr",
     "output_type": "stream",
     "text": [
      "/home/mathuryash5/toolkits/anaconda3/envs/tf_gpu/lib/python3.7/site-packages/ipykernel_launcher.py:30: DeprecationWarning: use options instead of chrome_options\n"
     ]
    },
    {
     "name": "stdout",
     "output_type": "stream",
     "text": [
      "inside try, t= 0\n",
      "driver.get\n",
      "YEAR MONTH STATE COMMODITY downloading data saved\n",
      "Aprilcompleted BROWSER ALREADY CLOSED\n",
      "2017 May Tamil Nadu Cotton\n",
      "file to open folders/Cotton/Tamil Nadu/mynewdata_2017_May.csv\n",
      "False\n",
      "After\n"
     ]
    },
    {
     "name": "stderr",
     "output_type": "stream",
     "text": [
      "/home/mathuryash5/toolkits/anaconda3/envs/tf_gpu/lib/python3.7/site-packages/ipykernel_launcher.py:30: DeprecationWarning: use options instead of chrome_options\n"
     ]
    },
    {
     "name": "stdout",
     "output_type": "stream",
     "text": [
      "inside try, t= 0\n",
      "driver.get\n",
      "YEAR MONTH STATE COMMODITY downloading data saved\n",
      "Maycompleted BROWSER ALREADY CLOSED\n",
      "2017 June Tamil Nadu Cotton\n",
      "file to open folders/Cotton/Tamil Nadu/mynewdata_2017_June.csv\n",
      "False\n",
      "After\n"
     ]
    },
    {
     "name": "stderr",
     "output_type": "stream",
     "text": [
      "/home/mathuryash5/toolkits/anaconda3/envs/tf_gpu/lib/python3.7/site-packages/ipykernel_launcher.py:30: DeprecationWarning: use options instead of chrome_options\n"
     ]
    },
    {
     "name": "stdout",
     "output_type": "stream",
     "text": [
      "inside try, t= 0\n",
      "driver.get\n",
      "YEAR MONTH STATE COMMODITY downloading data saved\n",
      "Junecompleted BROWSER ALREADY CLOSED\n",
      "2017 July Tamil Nadu Cotton\n",
      "file to open folders/Cotton/Tamil Nadu/mynewdata_2017_July.csv\n",
      "False\n",
      "After\n"
     ]
    },
    {
     "name": "stderr",
     "output_type": "stream",
     "text": [
      "/home/mathuryash5/toolkits/anaconda3/envs/tf_gpu/lib/python3.7/site-packages/ipykernel_launcher.py:30: DeprecationWarning: use options instead of chrome_options\n"
     ]
    },
    {
     "name": "stdout",
     "output_type": "stream",
     "text": [
      "inside try, t= 0\n",
      "driver.get\n",
      "YEAR MONTH STATE COMMODITY downloading data saved\n",
      "Julycompleted BROWSER ALREADY CLOSED\n",
      "2017 August Tamil Nadu Cotton\n",
      "file to open folders/Cotton/Tamil Nadu/mynewdata_2017_August.csv\n",
      "False\n",
      "After\n"
     ]
    },
    {
     "name": "stderr",
     "output_type": "stream",
     "text": [
      "/home/mathuryash5/toolkits/anaconda3/envs/tf_gpu/lib/python3.7/site-packages/ipykernel_launcher.py:30: DeprecationWarning: use options instead of chrome_options\n"
     ]
    },
    {
     "name": "stdout",
     "output_type": "stream",
     "text": [
      "inside try, t= 0\n",
      "driver.get\n",
      "YEAR MONTH STATE COMMODITY downloading data saved\n",
      "Augustcompleted BROWSER ALREADY CLOSED\n",
      "2017 September Tamil Nadu Cotton\n",
      "file to open folders/Cotton/Tamil Nadu/mynewdata_2017_September.csv\n",
      "False\n",
      "After\n"
     ]
    },
    {
     "name": "stderr",
     "output_type": "stream",
     "text": [
      "/home/mathuryash5/toolkits/anaconda3/envs/tf_gpu/lib/python3.7/site-packages/ipykernel_launcher.py:30: DeprecationWarning: use options instead of chrome_options\n"
     ]
    },
    {
     "name": "stdout",
     "output_type": "stream",
     "text": [
      "inside try, t= 0\n",
      "driver.get\n",
      "YEAR MONTH STATE COMMODITY downloading data saved\n",
      "Septembercompleted BROWSER ALREADY CLOSED\n",
      "2017 October Tamil Nadu Cotton\n",
      "file to open folders/Cotton/Tamil Nadu/mynewdata_2017_October.csv\n",
      "False\n",
      "After\n"
     ]
    },
    {
     "name": "stderr",
     "output_type": "stream",
     "text": [
      "/home/mathuryash5/toolkits/anaconda3/envs/tf_gpu/lib/python3.7/site-packages/ipykernel_launcher.py:30: DeprecationWarning: use options instead of chrome_options\n"
     ]
    },
    {
     "name": "stdout",
     "output_type": "stream",
     "text": [
      "inside try, t= 0\n",
      "driver.get\n",
      "YEAR MONTH STATE COMMODITY downloading data saved\n",
      "Octobercompleted BROWSER ALREADY CLOSED\n",
      "2017 November Tamil Nadu Cotton\n",
      "file to open folders/Cotton/Tamil Nadu/mynewdata_2017_November.csv\n",
      "False\n",
      "After\n"
     ]
    },
    {
     "name": "stderr",
     "output_type": "stream",
     "text": [
      "/home/mathuryash5/toolkits/anaconda3/envs/tf_gpu/lib/python3.7/site-packages/ipykernel_launcher.py:30: DeprecationWarning: use options instead of chrome_options\n"
     ]
    },
    {
     "name": "stdout",
     "output_type": "stream",
     "text": [
      "inside try, t= 0\n",
      "driver.get\n",
      "YEAR MONTH STATE COMMODITY downloading data saved\n",
      "Novembercompleted BROWSER ALREADY CLOSED\n",
      "2017 December Tamil Nadu Cotton\n",
      "file to open folders/Cotton/Tamil Nadu/mynewdata_2017_December.csv\n",
      "False\n",
      "After\n"
     ]
    },
    {
     "name": "stderr",
     "output_type": "stream",
     "text": [
      "/home/mathuryash5/toolkits/anaconda3/envs/tf_gpu/lib/python3.7/site-packages/ipykernel_launcher.py:30: DeprecationWarning: use options instead of chrome_options\n"
     ]
    },
    {
     "name": "stdout",
     "output_type": "stream",
     "text": [
      "inside try, t= 0\n",
      "driver.get\n",
      "YEAR MONTH STATE COMMODITY downloading data saved\n",
      "Decembercompleted BROWSER ALREADY CLOSED\n",
      "2018 January Tamil Nadu Cotton\n",
      "file to open folders/Cotton/Tamil Nadu/mynewdata_2018_January.csv\n",
      "False\n",
      "After\n"
     ]
    },
    {
     "name": "stderr",
     "output_type": "stream",
     "text": [
      "/home/mathuryash5/toolkits/anaconda3/envs/tf_gpu/lib/python3.7/site-packages/ipykernel_launcher.py:30: DeprecationWarning: use options instead of chrome_options\n"
     ]
    },
    {
     "name": "stdout",
     "output_type": "stream",
     "text": [
      "inside try, t= 0\n",
      "driver.get\n",
      "YEAR MONTH STATE COMMODITY downloading data saved\n",
      "Januarycompleted BROWSER ALREADY CLOSED\n",
      "2018 February Tamil Nadu Cotton\n",
      "file to open folders/Cotton/Tamil Nadu/mynewdata_2018_February.csv\n",
      "False\n",
      "After\n"
     ]
    },
    {
     "name": "stderr",
     "output_type": "stream",
     "text": [
      "/home/mathuryash5/toolkits/anaconda3/envs/tf_gpu/lib/python3.7/site-packages/ipykernel_launcher.py:30: DeprecationWarning: use options instead of chrome_options\n"
     ]
    },
    {
     "name": "stdout",
     "output_type": "stream",
     "text": [
      "inside try, t= 0\n",
      "driver.get\n",
      "YEAR MONTH STATE COMMODITY downloading data saved\n",
      "Februarycompleted BROWSER ALREADY CLOSED\n",
      "2018 March Tamil Nadu Cotton\n",
      "file to open folders/Cotton/Tamil Nadu/mynewdata_2018_March.csv\n",
      "False\n",
      "After\n"
     ]
    },
    {
     "name": "stderr",
     "output_type": "stream",
     "text": [
      "/home/mathuryash5/toolkits/anaconda3/envs/tf_gpu/lib/python3.7/site-packages/ipykernel_launcher.py:30: DeprecationWarning: use options instead of chrome_options\n"
     ]
    },
    {
     "name": "stdout",
     "output_type": "stream",
     "text": [
      "inside try, t= 0\n",
      "driver.get\n",
      "YEAR MONTH STATE COMMODITY downloading data saved\n",
      "Marchcompleted BROWSER ALREADY CLOSED\n",
      "2018 April Tamil Nadu Cotton\n",
      "file to open folders/Cotton/Tamil Nadu/mynewdata_2018_April.csv\n",
      "False\n",
      "After\n"
     ]
    },
    {
     "name": "stderr",
     "output_type": "stream",
     "text": [
      "/home/mathuryash5/toolkits/anaconda3/envs/tf_gpu/lib/python3.7/site-packages/ipykernel_launcher.py:30: DeprecationWarning: use options instead of chrome_options\n"
     ]
    },
    {
     "name": "stdout",
     "output_type": "stream",
     "text": [
      "inside try, t= 0\n",
      "driver.get\n",
      "YEAR MONTH STATE COMMODITY downloading data saved\n",
      "Aprilcompleted BROWSER ALREADY CLOSED\n",
      "2018 May Tamil Nadu Cotton\n",
      "file to open folders/Cotton/Tamil Nadu/mynewdata_2018_May.csv\n",
      "False\n",
      "After\n"
     ]
    },
    {
     "name": "stderr",
     "output_type": "stream",
     "text": [
      "/home/mathuryash5/toolkits/anaconda3/envs/tf_gpu/lib/python3.7/site-packages/ipykernel_launcher.py:30: DeprecationWarning: use options instead of chrome_options\n"
     ]
    },
    {
     "name": "stdout",
     "output_type": "stream",
     "text": [
      "inside try, t= 0\n",
      "driver.get\n",
      "YEAR MONTH STATE COMMODITY downloading data saved\n",
      "Maycompleted BROWSER ALREADY CLOSED\n",
      "2018 June Tamil Nadu Cotton\n",
      "file to open folders/Cotton/Tamil Nadu/mynewdata_2018_June.csv\n",
      "False\n",
      "After\n"
     ]
    },
    {
     "name": "stderr",
     "output_type": "stream",
     "text": [
      "/home/mathuryash5/toolkits/anaconda3/envs/tf_gpu/lib/python3.7/site-packages/ipykernel_launcher.py:30: DeprecationWarning: use options instead of chrome_options\n"
     ]
    },
    {
     "name": "stdout",
     "output_type": "stream",
     "text": [
      "inside try, t= 0\n",
      "driver.get\n",
      "YEAR MONTH STATE COMMODITY downloading data saved\n",
      "Junecompleted BROWSER ALREADY CLOSED\n",
      "2018 July Tamil Nadu Cotton\n",
      "file to open folders/Cotton/Tamil Nadu/mynewdata_2018_July.csv\n",
      "False\n",
      "After\n"
     ]
    },
    {
     "name": "stderr",
     "output_type": "stream",
     "text": [
      "/home/mathuryash5/toolkits/anaconda3/envs/tf_gpu/lib/python3.7/site-packages/ipykernel_launcher.py:30: DeprecationWarning: use options instead of chrome_options\n"
     ]
    },
    {
     "name": "stdout",
     "output_type": "stream",
     "text": [
      "inside try, t= 0\n",
      "driver.get\n",
      "YEAR MONTH STATE COMMODITY downloading data saved\n",
      "Julycompleted BROWSER ALREADY CLOSED\n",
      "2018 August Tamil Nadu Cotton\n",
      "file to open folders/Cotton/Tamil Nadu/mynewdata_2018_August.csv\n",
      "False\n",
      "After\n"
     ]
    },
    {
     "name": "stderr",
     "output_type": "stream",
     "text": [
      "/home/mathuryash5/toolkits/anaconda3/envs/tf_gpu/lib/python3.7/site-packages/ipykernel_launcher.py:30: DeprecationWarning: use options instead of chrome_options\n"
     ]
    },
    {
     "name": "stdout",
     "output_type": "stream",
     "text": [
      "inside try, t= 0\n",
      "driver.get\n",
      "YEAR MONTH STATE COMMODITY downloading data saved\n",
      "Augustcompleted BROWSER ALREADY CLOSED\n",
      "2018 September Tamil Nadu Cotton\n",
      "file to open folders/Cotton/Tamil Nadu/mynewdata_2018_September.csv\n",
      "False\n",
      "After\n"
     ]
    },
    {
     "name": "stderr",
     "output_type": "stream",
     "text": [
      "/home/mathuryash5/toolkits/anaconda3/envs/tf_gpu/lib/python3.7/site-packages/ipykernel_launcher.py:30: DeprecationWarning: use options instead of chrome_options\n"
     ]
    },
    {
     "name": "stdout",
     "output_type": "stream",
     "text": [
      "inside try, t= 0\n",
      "driver.get\n",
      "YEAR MONTH STATE COMMODITY downloading data saved\n",
      "Septembercompleted BROWSER ALREADY CLOSED\n",
      "2018 October Tamil Nadu Cotton\n",
      "file to open folders/Cotton/Tamil Nadu/mynewdata_2018_October.csv\n",
      "False\n",
      "After\n"
     ]
    },
    {
     "name": "stderr",
     "output_type": "stream",
     "text": [
      "/home/mathuryash5/toolkits/anaconda3/envs/tf_gpu/lib/python3.7/site-packages/ipykernel_launcher.py:30: DeprecationWarning: use options instead of chrome_options\n"
     ]
    },
    {
     "name": "stdout",
     "output_type": "stream",
     "text": [
      "inside try, t= 0\n",
      "driver.get\n",
      "YEAR MONTH STATE COMMODITY downloading data saved\n",
      "Octobercompleted BROWSER ALREADY CLOSED\n",
      "2018 November Tamil Nadu Cotton\n",
      "file to open folders/Cotton/Tamil Nadu/mynewdata_2018_November.csv\n",
      "False\n",
      "After\n"
     ]
    },
    {
     "name": "stderr",
     "output_type": "stream",
     "text": [
      "/home/mathuryash5/toolkits/anaconda3/envs/tf_gpu/lib/python3.7/site-packages/ipykernel_launcher.py:30: DeprecationWarning: use options instead of chrome_options\n"
     ]
    },
    {
     "name": "stdout",
     "output_type": "stream",
     "text": [
      "inside try, t= 0\n",
      "driver.get\n",
      "YEAR MONTH STATE COMMODITY downloading data saved\n",
      "Novembercompleted BROWSER ALREADY CLOSED\n",
      "2018 December Tamil Nadu Cotton\n",
      "file to open folders/Cotton/Tamil Nadu/mynewdata_2018_December.csv\n",
      "False\n",
      "After\n"
     ]
    },
    {
     "name": "stderr",
     "output_type": "stream",
     "text": [
      "/home/mathuryash5/toolkits/anaconda3/envs/tf_gpu/lib/python3.7/site-packages/ipykernel_launcher.py:30: DeprecationWarning: use options instead of chrome_options\n"
     ]
    },
    {
     "name": "stdout",
     "output_type": "stream",
     "text": [
      "inside try, t= 0\n",
      "driver.get\n",
      "YEAR MONTH STATE COMMODITY downloading data saved\n",
      "Decembercompleted BROWSER ALREADY CLOSED\n",
      "2019 January Tamil Nadu Cotton\n",
      "file to open folders/Cotton/Tamil Nadu/mynewdata_2019_January.csv\n",
      "False\n",
      "After\n"
     ]
    },
    {
     "name": "stderr",
     "output_type": "stream",
     "text": [
      "/home/mathuryash5/toolkits/anaconda3/envs/tf_gpu/lib/python3.7/site-packages/ipykernel_launcher.py:30: DeprecationWarning: use options instead of chrome_options\n"
     ]
    },
    {
     "name": "stdout",
     "output_type": "stream",
     "text": [
      "inside try, t= 0\n",
      "driver.get\n",
      "YEAR MONTH STATE COMMODITY downloading data saved\n",
      "Januarycompleted BROWSER ALREADY CLOSED\n",
      "2019 February Tamil Nadu Cotton\n",
      "file to open folders/Cotton/Tamil Nadu/mynewdata_2019_February.csv\n",
      "False\n",
      "After\n"
     ]
    },
    {
     "name": "stderr",
     "output_type": "stream",
     "text": [
      "/home/mathuryash5/toolkits/anaconda3/envs/tf_gpu/lib/python3.7/site-packages/ipykernel_launcher.py:30: DeprecationWarning: use options instead of chrome_options\n"
     ]
    },
    {
     "name": "stdout",
     "output_type": "stream",
     "text": [
      "inside try, t= 0\n",
      "driver.get\n",
      "YEAR MONTH STATE COMMODITY downloading data saved\n",
      "Februarycompleted BROWSER ALREADY CLOSED\n",
      "2019 March Tamil Nadu Cotton\n",
      "file to open folders/Cotton/Tamil Nadu/mynewdata_2019_March.csv\n",
      "False\n",
      "After\n"
     ]
    },
    {
     "name": "stderr",
     "output_type": "stream",
     "text": [
      "/home/mathuryash5/toolkits/anaconda3/envs/tf_gpu/lib/python3.7/site-packages/ipykernel_launcher.py:30: DeprecationWarning: use options instead of chrome_options\n"
     ]
    },
    {
     "name": "stdout",
     "output_type": "stream",
     "text": [
      "inside try, t= 0\n",
      "driver.get\n",
      "YEAR MONTH STATE COMMODITY downloading data saved\n",
      "Marchcompleted BROWSER ALREADY CLOSED\n",
      "2019 April Tamil Nadu Cotton\n",
      "file to open folders/Cotton/Tamil Nadu/mynewdata_2019_April.csv\n",
      "False\n",
      "After\n"
     ]
    },
    {
     "name": "stderr",
     "output_type": "stream",
     "text": [
      "/home/mathuryash5/toolkits/anaconda3/envs/tf_gpu/lib/python3.7/site-packages/ipykernel_launcher.py:30: DeprecationWarning: use options instead of chrome_options\n"
     ]
    },
    {
     "name": "stdout",
     "output_type": "stream",
     "text": [
      "inside try, t= 0\n",
      "driver.get\n",
      "YEAR MONTH STATE COMMODITY downloading data saved\n",
      "Aprilcompleted BROWSER ALREADY CLOSED\n",
      "2019 May Tamil Nadu Cotton\n",
      "file to open folders/Cotton/Tamil Nadu/mynewdata_2019_May.csv\n",
      "False\n",
      "After\n"
     ]
    },
    {
     "name": "stderr",
     "output_type": "stream",
     "text": [
      "/home/mathuryash5/toolkits/anaconda3/envs/tf_gpu/lib/python3.7/site-packages/ipykernel_launcher.py:30: DeprecationWarning: use options instead of chrome_options\n"
     ]
    },
    {
     "name": "stdout",
     "output_type": "stream",
     "text": [
      "inside try, t= 0\n",
      "driver.get\n",
      "YEAR MONTH STATE COMMODITY downloading data saved\n",
      "Maycompleted BROWSER ALREADY CLOSED\n",
      "2019 June Tamil Nadu Cotton\n",
      "file to open folders/Cotton/Tamil Nadu/mynewdata_2019_June.csv\n",
      "False\n",
      "After\n"
     ]
    },
    {
     "name": "stderr",
     "output_type": "stream",
     "text": [
      "/home/mathuryash5/toolkits/anaconda3/envs/tf_gpu/lib/python3.7/site-packages/ipykernel_launcher.py:30: DeprecationWarning: use options instead of chrome_options\n"
     ]
    },
    {
     "name": "stdout",
     "output_type": "stream",
     "text": [
      "inside try, t= 0\n",
      "driver.get\n",
      "YEAR MONTH STATE COMMODITY downloading data saved\n",
      "Junecompleted BROWSER ALREADY CLOSED\n",
      "2019 July Tamil Nadu Cotton\n",
      "file to open folders/Cotton/Tamil Nadu/mynewdata_2019_July.csv\n",
      "False\n",
      "After\n"
     ]
    },
    {
     "name": "stderr",
     "output_type": "stream",
     "text": [
      "/home/mathuryash5/toolkits/anaconda3/envs/tf_gpu/lib/python3.7/site-packages/ipykernel_launcher.py:30: DeprecationWarning: use options instead of chrome_options\n"
     ]
    },
    {
     "name": "stdout",
     "output_type": "stream",
     "text": [
      "inside try, t= 0\n",
      "driver.get\n",
      "YEAR MONTH STATE COMMODITY downloading data saved\n",
      "Julycompleted BROWSER ALREADY CLOSED\n",
      "2019 August Tamil Nadu Cotton\n",
      "file to open folders/Cotton/Tamil Nadu/mynewdata_2019_August.csv\n",
      "False\n",
      "After\n"
     ]
    },
    {
     "name": "stderr",
     "output_type": "stream",
     "text": [
      "/home/mathuryash5/toolkits/anaconda3/envs/tf_gpu/lib/python3.7/site-packages/ipykernel_launcher.py:30: DeprecationWarning: use options instead of chrome_options\n"
     ]
    },
    {
     "name": "stdout",
     "output_type": "stream",
     "text": [
      "inside try, t= 0\n",
      "driver.get\n",
      "YEAR MONTH STATE COMMODITY downloading data saved\n",
      "Augustcompleted BROWSER ALREADY CLOSED\n",
      "2019 September Tamil Nadu Cotton\n",
      "file to open folders/Cotton/Tamil Nadu/mynewdata_2019_September.csv\n",
      "False\n",
      "After\n"
     ]
    },
    {
     "name": "stderr",
     "output_type": "stream",
     "text": [
      "/home/mathuryash5/toolkits/anaconda3/envs/tf_gpu/lib/python3.7/site-packages/ipykernel_launcher.py:30: DeprecationWarning: use options instead of chrome_options\n"
     ]
    },
    {
     "name": "stdout",
     "output_type": "stream",
     "text": [
      "inside try, t= 0\n",
      "driver.get\n",
      "YEAR MONTH STATE COMMODITY downloading data saved\n",
      "Septembercompleted BROWSER ALREADY CLOSED\n",
      "2019 October Tamil Nadu Cotton\n",
      "file to open folders/Cotton/Tamil Nadu/mynewdata_2019_October.csv\n",
      "False\n",
      "After\n"
     ]
    },
    {
     "name": "stderr",
     "output_type": "stream",
     "text": [
      "/home/mathuryash5/toolkits/anaconda3/envs/tf_gpu/lib/python3.7/site-packages/ipykernel_launcher.py:30: DeprecationWarning: use options instead of chrome_options\n"
     ]
    },
    {
     "name": "stdout",
     "output_type": "stream",
     "text": [
      "inside try, t= 0\n",
      "driver.get\n",
      "YEAR MONTH STATE COMMODITY downloading data saved\n",
      "Octobercompleted BROWSER ALREADY CLOSED\n",
      "2019 November Tamil Nadu Cotton\n",
      "file to open folders/Cotton/Tamil Nadu/mynewdata_2019_November.csv\n",
      "False\n",
      "After\n"
     ]
    },
    {
     "name": "stderr",
     "output_type": "stream",
     "text": [
      "/home/mathuryash5/toolkits/anaconda3/envs/tf_gpu/lib/python3.7/site-packages/ipykernel_launcher.py:30: DeprecationWarning: use options instead of chrome_options\n"
     ]
    },
    {
     "name": "stdout",
     "output_type": "stream",
     "text": [
      "inside try, t= 0\n",
      "driver.get\n",
      "YEAR MONTH STATE COMMODITY downloading data saved\n",
      "Novembercompleted BROWSER ALREADY CLOSED\n",
      "2019 December Tamil Nadu Cotton\n",
      "file to open folders/Cotton/Tamil Nadu/mynewdata_2019_December.csv\n",
      "False\n",
      "After\n"
     ]
    },
    {
     "name": "stderr",
     "output_type": "stream",
     "text": [
      "/home/mathuryash5/toolkits/anaconda3/envs/tf_gpu/lib/python3.7/site-packages/ipykernel_launcher.py:30: DeprecationWarning: use options instead of chrome_options\n"
     ]
    },
    {
     "name": "stdout",
     "output_type": "stream",
     "text": [
      "inside try, t= 0\n",
      "driver.get\n",
      "YEAR MONTH STATE COMMODITY downloading data saved\n",
      "Decembercompleted BROWSER ALREADY CLOSED\n",
      "2020 January Tamil Nadu Cotton\n",
      "file to open folders/Cotton/Tamil Nadu/mynewdata_2020_January.csv\n",
      "False\n",
      "After\n"
     ]
    },
    {
     "name": "stderr",
     "output_type": "stream",
     "text": [
      "/home/mathuryash5/toolkits/anaconda3/envs/tf_gpu/lib/python3.7/site-packages/ipykernel_launcher.py:30: DeprecationWarning: use options instead of chrome_options\n"
     ]
    },
    {
     "name": "stdout",
     "output_type": "stream",
     "text": [
      "inside try, t= 0\n",
      "driver.get\n",
      "YEAR MONTH STATE COMMODITY downloading data saved\n",
      "Januarycompleted BROWSER ALREADY CLOSED\n",
      "2020 February Tamil Nadu Cotton\n",
      "file to open folders/Cotton/Tamil Nadu/mynewdata_2020_February.csv\n",
      "False\n",
      "After\n"
     ]
    },
    {
     "name": "stderr",
     "output_type": "stream",
     "text": [
      "/home/mathuryash5/toolkits/anaconda3/envs/tf_gpu/lib/python3.7/site-packages/ipykernel_launcher.py:30: DeprecationWarning: use options instead of chrome_options\n"
     ]
    },
    {
     "name": "stdout",
     "output_type": "stream",
     "text": [
      "inside try, t= 0\n",
      "driver.get\n",
      "YEAR MONTH STATE COMMODITY downloading data saved\n",
      "Februarycompleted BROWSER ALREADY CLOSED\n",
      "2020 March Tamil Nadu Cotton\n",
      "file to open folders/Cotton/Tamil Nadu/mynewdata_2020_March.csv\n",
      "False\n",
      "After\n"
     ]
    },
    {
     "name": "stderr",
     "output_type": "stream",
     "text": [
      "/home/mathuryash5/toolkits/anaconda3/envs/tf_gpu/lib/python3.7/site-packages/ipykernel_launcher.py:30: DeprecationWarning: use options instead of chrome_options\n"
     ]
    },
    {
     "name": "stdout",
     "output_type": "stream",
     "text": [
      "inside try, t= 0\n",
      "driver.get\n",
      "YEAR MONTH STATE COMMODITY downloading data saved\n",
      "Marchcompleted BROWSER ALREADY CLOSED\n",
      "2020 April Tamil Nadu Cotton\n",
      "file to open folders/Cotton/Tamil Nadu/mynewdata_2020_April.csv\n",
      "False\n",
      "After\n"
     ]
    },
    {
     "name": "stderr",
     "output_type": "stream",
     "text": [
      "/home/mathuryash5/toolkits/anaconda3/envs/tf_gpu/lib/python3.7/site-packages/ipykernel_launcher.py:30: DeprecationWarning: use options instead of chrome_options\n"
     ]
    },
    {
     "name": "stdout",
     "output_type": "stream",
     "text": [
      "inside try, t= 0\n",
      "driver.get\n",
      "YEAR MONTH STATE COMMODITY downloading data saved\n",
      "Aprilcompleted BROWSER ALREADY CLOSED\n",
      "2020 May Tamil Nadu Cotton\n",
      "file to open folders/Cotton/Tamil Nadu/mynewdata_2020_May.csv\n",
      "False\n",
      "After\n"
     ]
    },
    {
     "name": "stderr",
     "output_type": "stream",
     "text": [
      "/home/mathuryash5/toolkits/anaconda3/envs/tf_gpu/lib/python3.7/site-packages/ipykernel_launcher.py:30: DeprecationWarning: use options instead of chrome_options\n"
     ]
    },
    {
     "name": "stdout",
     "output_type": "stream",
     "text": [
      "inside try, t= 0\n",
      "driver.get\n",
      "YEAR MONTH STATE COMMODITY downloading data saved\n",
      "Maycompleted BROWSER ALREADY CLOSED\n",
      "2020 June Tamil Nadu Cotton\n",
      "file to open folders/Cotton/Tamil Nadu/mynewdata_2020_June.csv\n",
      "False\n",
      "After\n"
     ]
    },
    {
     "name": "stderr",
     "output_type": "stream",
     "text": [
      "/home/mathuryash5/toolkits/anaconda3/envs/tf_gpu/lib/python3.7/site-packages/ipykernel_launcher.py:30: DeprecationWarning: use options instead of chrome_options\n"
     ]
    },
    {
     "name": "stdout",
     "output_type": "stream",
     "text": [
      "inside try, t= 0\n",
      "driver.get\n",
      "YEAR MONTH STATE COMMODITY downloading data saved\n",
      "Junecompleted BROWSER ALREADY CLOSED\n",
      "2020 July Tamil Nadu Cotton\n",
      "file to open folders/Cotton/Tamil Nadu/mynewdata_2020_July.csv\n",
      "False\n",
      "After\n"
     ]
    },
    {
     "name": "stderr",
     "output_type": "stream",
     "text": [
      "/home/mathuryash5/toolkits/anaconda3/envs/tf_gpu/lib/python3.7/site-packages/ipykernel_launcher.py:30: DeprecationWarning: use options instead of chrome_options\n"
     ]
    },
    {
     "name": "stdout",
     "output_type": "stream",
     "text": [
      "inside try, t= 0\n",
      "driver.get\n",
      "YEAR MONTH STATE COMMODITY downloading data saved\n",
      "Julycompleted BROWSER ALREADY CLOSED\n",
      "2020 August Tamil Nadu Cotton\n",
      "file to open folders/Cotton/Tamil Nadu/mynewdata_2020_August.csv\n",
      "False\n",
      "After\n"
     ]
    },
    {
     "name": "stderr",
     "output_type": "stream",
     "text": [
      "/home/mathuryash5/toolkits/anaconda3/envs/tf_gpu/lib/python3.7/site-packages/ipykernel_launcher.py:30: DeprecationWarning: use options instead of chrome_options\n"
     ]
    },
    {
     "name": "stdout",
     "output_type": "stream",
     "text": [
      "inside try, t= 0\n",
      "driver.get\n",
      "YEAR MONTH STATE COMMODITY downloading data saved\n",
      "Augustcompleted BROWSER ALREADY CLOSED\n",
      "2020 September Tamil Nadu Cotton\n",
      "file to open folders/Cotton/Tamil Nadu/mynewdata_2020_September.csv\n",
      "False\n",
      "After\n"
     ]
    },
    {
     "name": "stderr",
     "output_type": "stream",
     "text": [
      "/home/mathuryash5/toolkits/anaconda3/envs/tf_gpu/lib/python3.7/site-packages/ipykernel_launcher.py:30: DeprecationWarning: use options instead of chrome_options\n"
     ]
    },
    {
     "name": "stdout",
     "output_type": "stream",
     "text": [
      "inside try, t= 0\n",
      "driver.get\n",
      "YEAR MONTH STATE COMMODITY downloading data saved\n",
      "Septembercompleted BROWSER ALREADY CLOSED\n",
      "2020 October Tamil Nadu Cotton\n",
      "file to open folders/Cotton/Tamil Nadu/mynewdata_2020_October.csv\n",
      "False\n",
      "After\n"
     ]
    },
    {
     "name": "stderr",
     "output_type": "stream",
     "text": [
      "/home/mathuryash5/toolkits/anaconda3/envs/tf_gpu/lib/python3.7/site-packages/ipykernel_launcher.py:30: DeprecationWarning: use options instead of chrome_options\n"
     ]
    },
    {
     "name": "stdout",
     "output_type": "stream",
     "text": [
      "inside try, t= 0\n",
      "driver.get\n",
      "YEAR MONTH STATE COMMODITY downloading data saved\n",
      "Octobercompleted BROWSER ALREADY CLOSED\n",
      "2020 November Tamil Nadu Cotton\n",
      "file to open folders/Cotton/Tamil Nadu/mynewdata_2020_November.csv\n",
      "False\n",
      "After\n"
     ]
    },
    {
     "name": "stderr",
     "output_type": "stream",
     "text": [
      "/home/mathuryash5/toolkits/anaconda3/envs/tf_gpu/lib/python3.7/site-packages/ipykernel_launcher.py:30: DeprecationWarning: use options instead of chrome_options\n"
     ]
    },
    {
     "name": "stdout",
     "output_type": "stream",
     "text": [
      "inside try, t= 0\n",
      "driver.get\n",
      "YEAR MONTH STATE Exception\n",
      "inside try, t= 1\n",
      "driver.get\n",
      "YEAR MONTH STATE Exception\n",
      "inside try, t= 2\n",
      "driver.get\n",
      "YEAR MONTH STATE Exception\n",
      "2020 December Tamil Nadu Cotton\n",
      "file to open folders/Cotton/Tamil Nadu/mynewdata_2020_December.csv\n",
      "False\n",
      "After\n"
     ]
    },
    {
     "name": "stderr",
     "output_type": "stream",
     "text": [
      "/home/mathuryash5/toolkits/anaconda3/envs/tf_gpu/lib/python3.7/site-packages/ipykernel_launcher.py:30: DeprecationWarning: use options instead of chrome_options\n"
     ]
    },
    {
     "name": "stdout",
     "output_type": "stream",
     "text": [
      "inside try, t= 0\n",
      "driver.get\n",
      "YEAR MONTH STATE Exception\n",
      "inside try, t= 1\n",
      "driver.get\n",
      "YEAR MONTH STATE Exception\n",
      "inside try, t= 2\n",
      "driver.get\n",
      "YEAR MONTH STATE Exception\n"
     ]
    }
   ],
   "source": [
    "downloadWholesaleData(commodity,centres,start_year,end_year,months)"
   ]
  },
  {
   "cell_type": "markdown",
   "metadata": {
    "colab_type": "text",
    "id": "zKJqFTqIe1f8"
   },
   "source": [
    "### Concatenating all the created files"
   ]
  },
  {
   "cell_type": "code",
   "execution_count": null,
   "metadata": {
    "colab": {
     "base_uri": "https://localhost:8080/",
     "height": 51
    },
    "colab_type": "code",
    "id": "ntS9WmAQBWj5",
    "outputId": "d364f8be-c40a-4e2f-ed05-a72d17082237"
   },
   "outputs": [
    {
     "name": "stderr",
     "output_type": "stream",
     "text": [
      "b'Skipping line 1122: expected 8 fields, saw 9\\n'\n",
      "b'Skipping line 1110: expected 8 fields, saw 9\\n'\n"
     ]
    }
   ],
   "source": [
    "import os\n",
    "import glob \n",
    "import pandas as pd \n",
    "\n",
    "final_df = pd.DataFrame()\n",
    "not_loaded = []\n",
    "\n",
    "for k in centres:\n",
    "  my_dir = \"/content/folders/Cotton/\"+k\n",
    "  filelist = []\n",
    "  filesList = []\n",
    "  os.chdir( my_dir )\n",
    "\n",
    "  # Step 2: Build up list of files:\n",
    "  for files in glob.glob(\"*.csv\"):\n",
    "      fileName, fileExtension = os.path.splitext(files)\n",
    "      filesList.append(files) #filename with extension\n",
    "\n",
    "  # Step 3: Build up DataFrame:\n",
    "  df = pd.DataFrame()\n",
    "  for i in filesList:\n",
    "    # print (i)\n",
    "    try:\n",
    "      frame = pd.read_csv(i,error_bad_lines=False)\n",
    "      frame = frame.iloc[:,0:7]\n",
    "      df = df.append(frame)\n",
    "    except:\n",
    "      not_loaded+=[str(i)]\n",
    "      continue\n",
    "  final_df = pd.concat([df, final_df])"
   ]
  },
  {
   "cell_type": "code",
   "execution_count": null,
   "metadata": {
    "colab": {},
    "colab_type": "code",
    "id": "K82Hp-kEdF5M"
   },
   "outputs": [],
   "source": [
    "final_df.to_csv('/content/GJ_2016_2020_COTTON.csv', index = False)"
   ]
  },
  {
   "cell_type": "markdown",
   "metadata": {
    "colab_type": "text",
    "id": "ksnjatu74X-L"
   },
   "source": [
    "Saving all the individual files to drive"
   ]
  },
  {
   "cell_type": "code",
   "execution_count": null,
   "metadata": {
    "colab": {
     "base_uri": "https://localhost:8080/",
     "height": 51
    },
    "colab_type": "code",
    "id": "76twEHZ7ebb5",
    "outputId": "974e28b7-1826-4c17-8641-e7d482109292"
   },
   "outputs": [
    {
     "name": "stderr",
     "output_type": "stream",
     "text": [
      "b'Skipping line 1122: expected 8 fields, saw 9\\n'\n",
      "b'Skipping line 1110: expected 8 fields, saw 9\\n'\n"
     ]
    }
   ],
   "source": [
    "# final_save_df = pd.DataFrame()\n",
    "# not_saved = []\n",
    "\n",
    "# for k in centres:\n",
    "#   my_dir = \"/content/folders/Cotton/\"+k\n",
    "#   filelist = []\n",
    "#   filesList = []\n",
    "#   os.chdir( my_dir )\n",
    "\n",
    "#   # Step 2: Build up list of files:\n",
    "#   for files in glob.glob(\"*.csv\"):\n",
    "#       fileName, fileExtension = os.path.splitext(files)\n",
    "#       filesList.append(files) #filename with extension\n",
    "\n",
    "#   # Step 3: Build up DataFrame:\n",
    "#   save_df = pd.DataFrame()\n",
    "#   for i in filesList:\n",
    "#     # print (i)\n",
    "#     try:\n",
    "#       save_df = pd.read_csv(i,error_bad_lines=False)\n",
    "#       save_df = save_df.iloc[:,0:7]\n",
    "#       save_df.to_csv('/content/drive/My Drive/AGMARKNET/GUJARAT/'+str(i), index = False)\n",
    "#     except:\n",
    "#       not_saved+=[str(i)]\n",
    "#       continue"
   ]
  }
 ],
 "metadata": {
  "colab": {
   "collapsed_sections": [],
   "name": "AGMARKNET_data_pull.ipynb",
   "provenance": [],
   "toc_visible": true
  },
  "kernelspec": {
   "display_name": "Python 3",
   "language": "python",
   "name": "python3"
  },
  "language_info": {
   "codemirror_mode": {
    "name": "ipython",
    "version": 3
   },
   "file_extension": ".py",
   "mimetype": "text/x-python",
   "name": "python",
   "nbconvert_exporter": "python",
   "pygments_lexer": "ipython3",
   "version": "3.7.7"
  }
 },
 "nbformat": 4,
 "nbformat_minor": 1
}
